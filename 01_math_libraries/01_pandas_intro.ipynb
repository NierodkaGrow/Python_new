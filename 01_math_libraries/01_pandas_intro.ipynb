{
  "nbformat": 4,
  "nbformat_minor": 0,
  "metadata": {
    "colab": {
      "name": "01_pandas_intro.ipynb",
      "provenance": [],
      "collapsed_sections": [],
      "authorship_tag": "ABX9TyMj3VCe1F4DOZpbBefeOilt",
      "include_colab_link": true
    },
    "kernelspec": {
      "name": "python3",
      "display_name": "Python 3"
    },
    "language_info": {
      "name": "python"
    }
  },
  "cells": [
    {
      "cell_type": "markdown",
      "metadata": {
        "id": "view-in-github",
        "colab_type": "text"
      },
      "source": [
        "<a href=\"https://colab.research.google.com/github/NierodkaGrow/Python_new/blob/main/01_math_libraries/01_pandas_intro.ipynb\" target=\"_parent\"><img src=\"https://colab.research.google.com/assets/colab-badge.svg\" alt=\"Open In Colab\"/></a>"
      ]
    },
    {
      "cell_type": "code",
      "metadata": {
        "colab": {
          "base_uri": "https://localhost:8080/",
          "height": 35
        },
        "id": "9ylSxVQX9aLd",
        "outputId": "55557976-8af5-4753-cfee-9862a8ff8b55"
      },
      "source": [
        "import pandas as pd\n",
        "pd.__version__"
      ],
      "execution_count": null,
      "outputs": [
        {
          "output_type": "execute_result",
          "data": {
            "application/vnd.google.colaboratory.intrinsic+json": {
              "type": "string"
            },
            "text/plain": [
              "'1.1.5'"
            ]
          },
          "metadata": {
            "tags": []
          },
          "execution_count": 162
        }
      ]
    },
    {
      "cell_type": "markdown",
      "metadata": {
        "id": "WIXOfwq9_Cr7"
      },
      "source": [
        "### I. OBIEKTY TYPU SERIES: Tworzenie obiektów cz. 1"
      ]
    },
    {
      "cell_type": "code",
      "metadata": {
        "colab": {
          "base_uri": "https://localhost:8080/"
        },
        "id": "HbSpcYfr9jS5",
        "outputId": "c64fc1ad-bb6a-4944-812b-4a3f375c8756"
      },
      "source": [
        "s = pd.Series(data=[3, 2, 4, 6])\n",
        "s"
      ],
      "execution_count": null,
      "outputs": [
        {
          "output_type": "execute_result",
          "data": {
            "text/plain": [
              "0    3\n",
              "1    2\n",
              "2    4\n",
              "3    6\n",
              "dtype: int64"
            ]
          },
          "metadata": {
            "tags": []
          },
          "execution_count": 163
        }
      ]
    },
    {
      "cell_type": "code",
      "metadata": {
        "colab": {
          "base_uri": "https://localhost:8080/"
        },
        "id": "Rkt01ayfAMfs",
        "outputId": "d554e960-d171-4a4d-f144-39eeb0def0fa"
      },
      "source": [
        "s = pd.Series(data=[3, 2, 4, 6], index=['a', 'b', 'c', 'd'] )\n",
        "s"
      ],
      "execution_count": null,
      "outputs": [
        {
          "output_type": "execute_result",
          "data": {
            "text/plain": [
              "a    3\n",
              "b    2\n",
              "c    4\n",
              "d    6\n",
              "dtype: int64"
            ]
          },
          "metadata": {
            "tags": []
          },
          "execution_count": 164
        }
      ]
    },
    {
      "cell_type": "code",
      "metadata": {
        "colab": {
          "base_uri": "https://localhost:8080/"
        },
        "id": "MOt5QtrtCdeC",
        "outputId": "2ba5d27f-d324-49f6-e628-63c134844bd1"
      },
      "source": [
        "s = pd.Series(data=[3, 2, 4, 6], index=['a', 'b', 'c', 'd'], name='sample')\n",
        "s"
      ],
      "execution_count": null,
      "outputs": [
        {
          "output_type": "execute_result",
          "data": {
            "text/plain": [
              "a    3\n",
              "b    2\n",
              "c    4\n",
              "d    6\n",
              "Name: sample, dtype: int64"
            ]
          },
          "metadata": {
            "tags": []
          },
          "execution_count": 165
        }
      ]
    },
    {
      "cell_type": "code",
      "metadata": {
        "colab": {
          "base_uri": "https://localhost:8080/"
        },
        "id": "Rb1pkImbDQ0h",
        "outputId": "05627c28-a340-45f4-ceb6-0801ef1c4476"
      },
      "source": [
        "s = pd.Series(data=[3.1, 2, 4, 6], index=['a', 'b', 'c', 'd'], name='sample')\n",
        "s"
      ],
      "execution_count": null,
      "outputs": [
        {
          "output_type": "execute_result",
          "data": {
            "text/plain": [
              "a    3.1\n",
              "b    2.0\n",
              "c    4.0\n",
              "d    6.0\n",
              "Name: sample, dtype: float64"
            ]
          },
          "metadata": {
            "tags": []
          },
          "execution_count": 166
        }
      ]
    },
    {
      "cell_type": "markdown",
      "metadata": {
        "id": "t9gAvyYCIatC"
      },
      "source": [
        "Wstawianei braków danych - odwołanei do NumPy"
      ]
    },
    {
      "cell_type": "code",
      "metadata": {
        "colab": {
          "base_uri": "https://localhost:8080/"
        },
        "id": "NabAJqaAD0yy",
        "outputId": "725731bb-b334-4b40-97d2-77d7d39011b5"
      },
      "source": [
        "import numpy as np\n",
        "s = pd.Series(data=[3.1, np.nan, 4, 6], index=['a', 'b', 'c', 'd'], name='sample')\n",
        "s"
      ],
      "execution_count": null,
      "outputs": [
        {
          "output_type": "execute_result",
          "data": {
            "text/plain": [
              "a    3.1\n",
              "b    NaN\n",
              "c    4.0\n",
              "d    6.0\n",
              "Name: sample, dtype: float64"
            ]
          },
          "metadata": {
            "tags": []
          },
          "execution_count": 167
        }
      ]
    },
    {
      "cell_type": "markdown",
      "metadata": {
        "id": "RC8ToYbHLOBA"
      },
      "source": [
        "Tworzenie obiektu typu bool"
      ]
    },
    {
      "cell_type": "code",
      "metadata": {
        "colab": {
          "base_uri": "https://localhost:8080/"
        },
        "id": "uayAUL3nKA66",
        "outputId": "e1fc86da-7856-4405-d6fd-7eb7c4b478c1"
      },
      "source": [
        "s = pd.Series(data=[True, False, False])\n",
        "s"
      ],
      "execution_count": null,
      "outputs": [
        {
          "output_type": "execute_result",
          "data": {
            "text/plain": [
              "0     True\n",
              "1    False\n",
              "2    False\n",
              "dtype: bool"
            ]
          },
          "metadata": {
            "tags": []
          },
          "execution_count": 168
        }
      ]
    },
    {
      "cell_type": "markdown",
      "metadata": {
        "id": "HlqZhs8LMlnB"
      },
      "source": [
        "SEGREGACJA DANYCH po szeregach czasowych"
      ]
    },
    {
      "cell_type": "code",
      "metadata": {
        "colab": {
          "base_uri": "https://localhost:8080/"
        },
        "id": "AyR0m2dKLf4V",
        "outputId": "5e92c819-94aa-495f-95ed-4a93199d1084"
      },
      "source": [
        "s = pd.Series(data=np.arange(10, 20))\n",
        "s"
      ],
      "execution_count": null,
      "outputs": [
        {
          "output_type": "execute_result",
          "data": {
            "text/plain": [
              "0    10\n",
              "1    11\n",
              "2    12\n",
              "3    13\n",
              "4    14\n",
              "5    15\n",
              "6    16\n",
              "7    17\n",
              "8    18\n",
              "9    19\n",
              "dtype: int64"
            ]
          },
          "metadata": {
            "tags": []
          },
          "execution_count": 169
        }
      ]
    },
    {
      "cell_type": "code",
      "metadata": {
        "colab": {
          "base_uri": "https://localhost:8080/"
        },
        "id": "q-Ln4J-UM-v9",
        "outputId": "65ad9b00-bbef-4e22-e828-3a47f8c4dc14"
      },
      "source": [
        "s = pd.Series(data=np.arange(10, 20), index=pd.date_range(start='20210322', periods=10))\n",
        "s"
      ],
      "execution_count": null,
      "outputs": [
        {
          "output_type": "execute_result",
          "data": {
            "text/plain": [
              "2021-03-22    10\n",
              "2021-03-23    11\n",
              "2021-03-24    12\n",
              "2021-03-25    13\n",
              "2021-03-26    14\n",
              "2021-03-27    15\n",
              "2021-03-28    16\n",
              "2021-03-29    17\n",
              "2021-03-30    18\n",
              "2021-03-31    19\n",
              "Freq: D, dtype: int64"
            ]
          },
          "metadata": {
            "tags": []
          },
          "execution_count": 170
        }
      ]
    },
    {
      "cell_type": "markdown",
      "metadata": {
        "id": "76zS68MoQOEQ"
      },
      "source": [
        "### OBIEKTY TYPU SERIES: Tworzenie obiektów cz. 2"
      ]
    },
    {
      "cell_type": "code",
      "metadata": {
        "colab": {
          "base_uri": "https://localhost:8080/"
        },
        "id": "uMjirE79QaIH",
        "outputId": "535a6c5f-83e2-4d5a-f33b-a38ef82597fd"
      },
      "source": [
        "s = pd.Series(data=['JavaScript','python', 'java'], name='languages')\n",
        "s"
      ],
      "execution_count": null,
      "outputs": [
        {
          "output_type": "execute_result",
          "data": {
            "text/plain": [
              "0    JavaScript\n",
              "1        python\n",
              "2          java\n",
              "Name: languages, dtype: object"
            ]
          },
          "metadata": {
            "tags": []
          },
          "execution_count": 171
        }
      ]
    },
    {
      "cell_type": "code",
      "metadata": {
        "colab": {
          "base_uri": "https://localhost:8080/"
        },
        "id": "GRWOBauqYAOE",
        "outputId": "9b63e144-ecb9-4e0a-a80c-13568bac9670"
      },
      "source": [
        "type(s)"
      ],
      "execution_count": null,
      "outputs": [
        {
          "output_type": "execute_result",
          "data": {
            "text/plain": [
              "pandas.core.series.Series"
            ]
          },
          "metadata": {
            "tags": []
          },
          "execution_count": 172
        }
      ]
    },
    {
      "cell_type": "code",
      "metadata": {
        "colab": {
          "base_uri": "https://localhost:8080/"
        },
        "id": "eoo6T0uhY8IR",
        "outputId": "b5c80608-ba32-48d3-e017-a4427bdad6e7"
      },
      "source": [
        "s.index"
      ],
      "execution_count": null,
      "outputs": [
        {
          "output_type": "execute_result",
          "data": {
            "text/plain": [
              "RangeIndex(start=0, stop=3, step=1)"
            ]
          },
          "metadata": {
            "tags": []
          },
          "execution_count": 173
        }
      ]
    },
    {
      "cell_type": "code",
      "metadata": {
        "colab": {
          "base_uri": "https://localhost:8080/"
        },
        "id": "uxC8tg6hZznC",
        "outputId": "26cb2b23-74db-4854-a601-04b1b252f512"
      },
      "source": [
        "s = pd.Series(data=np.arange(10, 20), index=pd.date_range(start='20210322', periods=10))\n",
        "s"
      ],
      "execution_count": null,
      "outputs": [
        {
          "output_type": "execute_result",
          "data": {
            "text/plain": [
              "2021-03-22    10\n",
              "2021-03-23    11\n",
              "2021-03-24    12\n",
              "2021-03-25    13\n",
              "2021-03-26    14\n",
              "2021-03-27    15\n",
              "2021-03-28    16\n",
              "2021-03-29    17\n",
              "2021-03-30    18\n",
              "2021-03-31    19\n",
              "Freq: D, dtype: int64"
            ]
          },
          "metadata": {
            "tags": []
          },
          "execution_count": 174
        }
      ]
    },
    {
      "cell_type": "code",
      "metadata": {
        "colab": {
          "base_uri": "https://localhost:8080/"
        },
        "id": "9TbaZP0tarRi",
        "outputId": "9968e275-814c-4fcf-80f9-9a2b118e0b27"
      },
      "source": [
        "s.index"
      ],
      "execution_count": null,
      "outputs": [
        {
          "output_type": "execute_result",
          "data": {
            "text/plain": [
              "DatetimeIndex(['2021-03-22', '2021-03-23', '2021-03-24', '2021-03-25',\n",
              "               '2021-03-26', '2021-03-27', '2021-03-28', '2021-03-29',\n",
              "               '2021-03-30', '2021-03-31'],\n",
              "              dtype='datetime64[ns]', freq='D')"
            ]
          },
          "metadata": {
            "tags": []
          },
          "execution_count": 175
        }
      ]
    },
    {
      "cell_type": "code",
      "metadata": {
        "colab": {
          "base_uri": "https://localhost:8080/"
        },
        "id": "9GgkRl4datla",
        "outputId": "b58fc694-0cae-47ca-ce2e-eac77a9e003d"
      },
      "source": [
        "list(s.index)"
      ],
      "execution_count": null,
      "outputs": [
        {
          "output_type": "execute_result",
          "data": {
            "text/plain": [
              "[Timestamp('2021-03-22 00:00:00', freq='D'),\n",
              " Timestamp('2021-03-23 00:00:00', freq='D'),\n",
              " Timestamp('2021-03-24 00:00:00', freq='D'),\n",
              " Timestamp('2021-03-25 00:00:00', freq='D'),\n",
              " Timestamp('2021-03-26 00:00:00', freq='D'),\n",
              " Timestamp('2021-03-27 00:00:00', freq='D'),\n",
              " Timestamp('2021-03-28 00:00:00', freq='D'),\n",
              " Timestamp('2021-03-29 00:00:00', freq='D'),\n",
              " Timestamp('2021-03-30 00:00:00', freq='D'),\n",
              " Timestamp('2021-03-31 00:00:00', freq='D')]"
            ]
          },
          "metadata": {
            "tags": []
          },
          "execution_count": 176
        }
      ]
    },
    {
      "cell_type": "code",
      "metadata": {
        "colab": {
          "base_uri": "https://localhost:8080/"
        },
        "id": "0kEmO5MncNmi",
        "outputId": "8a4cc99a-478f-481c-9c3d-5e7d063b2120"
      },
      "source": [
        "s.values"
      ],
      "execution_count": null,
      "outputs": [
        {
          "output_type": "execute_result",
          "data": {
            "text/plain": [
              "array([10, 11, 12, 13, 14, 15, 16, 17, 18, 19])"
            ]
          },
          "metadata": {
            "tags": []
          },
          "execution_count": 177
        }
      ]
    },
    {
      "cell_type": "code",
      "metadata": {
        "colab": {
          "base_uri": "https://localhost:8080/"
        },
        "id": "h7GtJWatiYDk",
        "outputId": "13cce7d5-161e-472f-d40f-aa55448490ae"
      },
      "source": [
        "s.values"
      ],
      "execution_count": null,
      "outputs": [
        {
          "output_type": "execute_result",
          "data": {
            "text/plain": [
              "array([10, 11, 12, 13, 14, 15, 16, 17, 18, 19])"
            ]
          },
          "metadata": {
            "tags": []
          },
          "execution_count": 178
        }
      ]
    },
    {
      "cell_type": "code",
      "metadata": {
        "colab": {
          "base_uri": "https://localhost:8080/"
        },
        "id": "lc8D_oU7jLgc",
        "outputId": "0a1f748e-c8ca-49f2-ce83-092c8657c7e1"
      },
      "source": [
        "s.dtypes"
      ],
      "execution_count": null,
      "outputs": [
        {
          "output_type": "execute_result",
          "data": {
            "text/plain": [
              "dtype('int64')"
            ]
          },
          "metadata": {
            "tags": []
          },
          "execution_count": 179
        }
      ]
    },
    {
      "cell_type": "code",
      "metadata": {
        "colab": {
          "base_uri": "https://localhost:8080/"
        },
        "id": "ZT7tz_Ptk6vM",
        "outputId": "f93017b2-f226-4710-8a12-4030851f5378"
      },
      "source": [
        "s.shape"
      ],
      "execution_count": null,
      "outputs": [
        {
          "output_type": "execute_result",
          "data": {
            "text/plain": [
              "(10,)"
            ]
          },
          "metadata": {
            "tags": []
          },
          "execution_count": 180
        }
      ]
    },
    {
      "cell_type": "markdown",
      "metadata": {
        "id": "1gnjR_AJnRTT"
      },
      "source": [
        "### III SERIES: PRACA Z OBIEKTAMI"
      ]
    },
    {
      "cell_type": "code",
      "metadata": {
        "colab": {
          "base_uri": "https://localhost:8080/"
        },
        "id": "XTclUHETnZBy",
        "outputId": "da170431-3c34-4b2d-d9f7-8c334d839670"
      },
      "source": [
        "price = pd.Series(data={'Apple': 300, 'CD Project': 70, 'Amazon': 2000})\n",
        "price"
      ],
      "execution_count": null,
      "outputs": [
        {
          "output_type": "execute_result",
          "data": {
            "text/plain": [
              "Apple          300\n",
              "CD Project      70\n",
              "Amazon        2000\n",
              "dtype: int64"
            ]
          },
          "metadata": {
            "tags": []
          },
          "execution_count": 181
        }
      ]
    },
    {
      "cell_type": "code",
      "metadata": {
        "colab": {
          "base_uri": "https://localhost:8080/"
        },
        "id": "In8Bz2pepPOF",
        "outputId": "19ec8d3b-46a1-4b3c-ef21-c601a057d29e"
      },
      "source": [
        "price['CD Project']"
      ],
      "execution_count": null,
      "outputs": [
        {
          "output_type": "execute_result",
          "data": {
            "text/plain": [
              "70"
            ]
          },
          "metadata": {
            "tags": []
          },
          "execution_count": 182
        }
      ]
    },
    {
      "cell_type": "code",
      "metadata": {
        "colab": {
          "base_uri": "https://localhost:8080/"
        },
        "id": "Wh7CxnVmqSGU",
        "outputId": "b3351916-ff0e-4322-a1cc-06437d9e1b54"
      },
      "source": [
        "price[1]"
      ],
      "execution_count": null,
      "outputs": [
        {
          "output_type": "execute_result",
          "data": {
            "text/plain": [
              "70"
            ]
          },
          "metadata": {
            "tags": []
          },
          "execution_count": 183
        }
      ]
    },
    {
      "cell_type": "code",
      "metadata": {
        "colab": {
          "base_uri": "https://localhost:8080/"
        },
        "id": "RWHt-aOKq9O8",
        "outputId": "3602891d-d12a-4abb-d465-d77680d11aa3"
      },
      "source": [
        "price.count()"
      ],
      "execution_count": null,
      "outputs": [
        {
          "output_type": "execute_result",
          "data": {
            "text/plain": [
              "3"
            ]
          },
          "metadata": {
            "tags": []
          },
          "execution_count": 184
        }
      ]
    },
    {
      "cell_type": "code",
      "metadata": {
        "colab": {
          "base_uri": "https://localhost:8080/"
        },
        "id": "pxSfh5zjvkS1",
        "outputId": "2d3cec8a-8347-4361-d612-dd5589c26e4e"
      },
      "source": [
        "price.value_counts()"
      ],
      "execution_count": null,
      "outputs": [
        {
          "output_type": "execute_result",
          "data": {
            "text/plain": [
              "2000    1\n",
              "70      1\n",
              "300     1\n",
              "dtype: int64"
            ]
          },
          "metadata": {
            "tags": []
          },
          "execution_count": 185
        }
      ]
    },
    {
      "cell_type": "code",
      "metadata": {
        "colab": {
          "base_uri": "https://localhost:8080/"
        },
        "id": "vCg2UivAv_rm",
        "outputId": "8e50128e-dc58-4698-b585-60c582bcfd43"
      },
      "source": [
        "price.sum()"
      ],
      "execution_count": null,
      "outputs": [
        {
          "output_type": "execute_result",
          "data": {
            "text/plain": [
              "2370"
            ]
          },
          "metadata": {
            "tags": []
          },
          "execution_count": 186
        }
      ]
    },
    {
      "cell_type": "code",
      "metadata": {
        "colab": {
          "base_uri": "https://localhost:8080/"
        },
        "id": "HQiDz-Z9wpTd",
        "outputId": "007c2004-c57e-495f-f69d-0086a659ae41"
      },
      "source": [
        "price.min()"
      ],
      "execution_count": null,
      "outputs": [
        {
          "output_type": "execute_result",
          "data": {
            "text/plain": [
              "70"
            ]
          },
          "metadata": {
            "tags": []
          },
          "execution_count": 187
        }
      ]
    },
    {
      "cell_type": "code",
      "metadata": {
        "colab": {
          "base_uri": "https://localhost:8080/"
        },
        "id": "xAGgE6uTxcrt",
        "outputId": "daa7317b-d850-4946-bf68-e639d2b3dc09"
      },
      "source": [
        "price.max()"
      ],
      "execution_count": null,
      "outputs": [
        {
          "output_type": "execute_result",
          "data": {
            "text/plain": [
              "2000"
            ]
          },
          "metadata": {
            "tags": []
          },
          "execution_count": 188
        }
      ]
    },
    {
      "cell_type": "code",
      "metadata": {
        "colab": {
          "base_uri": "https://localhost:8080/"
        },
        "id": "VxO8FJCLxfV1",
        "outputId": "1889ce89-3ff9-4710-e949-b005df9e33df"
      },
      "source": [
        "price.std()"
      ],
      "execution_count": null,
      "outputs": [
        {
          "output_type": "execute_result",
          "data": {
            "text/plain": [
              "1054.1821474489122"
            ]
          },
          "metadata": {
            "tags": []
          },
          "execution_count": 189
        }
      ]
    },
    {
      "cell_type": "code",
      "metadata": {
        "colab": {
          "base_uri": "https://localhost:8080/"
        },
        "id": "pFvXeVv_xiiF",
        "outputId": "a9bcd051-bfb8-4524-bdb3-efb96590452b"
      },
      "source": [
        "price.describe()"
      ],
      "execution_count": null,
      "outputs": [
        {
          "output_type": "execute_result",
          "data": {
            "text/plain": [
              "count       3.000000\n",
              "mean      790.000000\n",
              "std      1054.182147\n",
              "min        70.000000\n",
              "25%       185.000000\n",
              "50%       300.000000\n",
              "75%      1150.000000\n",
              "max      2000.000000\n",
              "dtype: float64"
            ]
          },
          "metadata": {
            "tags": []
          },
          "execution_count": 190
        }
      ]
    },
    {
      "cell_type": "code",
      "metadata": {
        "colab": {
          "base_uri": "https://localhost:8080/"
        },
        "id": "6XTmXuSDyKM1",
        "outputId": "b108b5e0-8de9-4bdc-f91f-d10910e4e10f"
      },
      "source": [
        "price.describe().T"
      ],
      "execution_count": null,
      "outputs": [
        {
          "output_type": "execute_result",
          "data": {
            "text/plain": [
              "count       3.000000\n",
              "mean      790.000000\n",
              "std      1054.182147\n",
              "min        70.000000\n",
              "25%       185.000000\n",
              "50%       300.000000\n",
              "75%      1150.000000\n",
              "max      2000.000000\n",
              "dtype: float64"
            ]
          },
          "metadata": {
            "tags": []
          },
          "execution_count": 191
        }
      ]
    },
    {
      "cell_type": "code",
      "metadata": {
        "colab": {
          "base_uri": "https://localhost:8080/"
        },
        "id": "RCyahWrYzmyN",
        "outputId": "71eec153-5d52-4e9a-8429-881b52a2c95b"
      },
      "source": [
        "price = pd.Series(data={'Apple': 300, 'CD Project': 70, 'Amazon': 2000, 'KGHM': np.nan})\n",
        "price"
      ],
      "execution_count": null,
      "outputs": [
        {
          "output_type": "execute_result",
          "data": {
            "text/plain": [
              "Apple          300.0\n",
              "CD Project      70.0\n",
              "Amazon        2000.0\n",
              "KGHM             NaN\n",
              "dtype: float64"
            ]
          },
          "metadata": {
            "tags": []
          },
          "execution_count": 192
        }
      ]
    },
    {
      "cell_type": "code",
      "metadata": {
        "colab": {
          "base_uri": "https://localhost:8080/"
        },
        "id": "9tOaQyBv0sqm",
        "outputId": "e2489ec1-eaee-471d-f1be-da6200efb818"
      },
      "source": [
        "price.count()"
      ],
      "execution_count": null,
      "outputs": [
        {
          "output_type": "execute_result",
          "data": {
            "text/plain": [
              "3"
            ]
          },
          "metadata": {
            "tags": []
          },
          "execution_count": 193
        }
      ]
    },
    {
      "cell_type": "code",
      "metadata": {
        "colab": {
          "base_uri": "https://localhost:8080/"
        },
        "id": "GYBMDe2F1QLO",
        "outputId": "71068eff-46f4-40b9-9b53-fc15a6a95bcd"
      },
      "source": [
        "price.value_counts()"
      ],
      "execution_count": null,
      "outputs": [
        {
          "output_type": "execute_result",
          "data": {
            "text/plain": [
              "2000.0    1\n",
              "70.0      1\n",
              "300.0     1\n",
              "dtype: int64"
            ]
          },
          "metadata": {
            "tags": []
          },
          "execution_count": 194
        }
      ]
    },
    {
      "cell_type": "code",
      "metadata": {
        "colab": {
          "base_uri": "https://localhost:8080/"
        },
        "id": "3mHYdOIz1lSG",
        "outputId": "73f429c3-7ebe-44cf-ff12-6a2018519cf5"
      },
      "source": [
        "price.value_counts(dropna=False)"
      ],
      "execution_count": null,
      "outputs": [
        {
          "output_type": "execute_result",
          "data": {
            "text/plain": [
              "NaN       1\n",
              "2000.0    1\n",
              "70.0      1\n",
              "300.0     1\n",
              "dtype: int64"
            ]
          },
          "metadata": {
            "tags": []
          },
          "execution_count": 195
        }
      ]
    },
    {
      "cell_type": "code",
      "metadata": {
        "colab": {
          "base_uri": "https://localhost:8080/"
        },
        "id": "6_wb6o1_2kuG",
        "outputId": "0faeeaed-d913-4156-d163-804c8c502c29"
      },
      "source": [
        "price.nlargest()"
      ],
      "execution_count": null,
      "outputs": [
        {
          "output_type": "execute_result",
          "data": {
            "text/plain": [
              "Amazon        2000.0\n",
              "Apple          300.0\n",
              "CD Project      70.0\n",
              "dtype: float64"
            ]
          },
          "metadata": {
            "tags": []
          },
          "execution_count": 196
        }
      ]
    },
    {
      "cell_type": "code",
      "metadata": {
        "colab": {
          "base_uri": "https://localhost:8080/"
        },
        "id": "eFQi8qPm4T6e",
        "outputId": "eb02a2a6-b1e1-40b7-e8a9-4f36615a4fbc"
      },
      "source": [
        "price.nlargest(2)"
      ],
      "execution_count": null,
      "outputs": [
        {
          "output_type": "execute_result",
          "data": {
            "text/plain": [
              "Amazon    2000.0\n",
              "Apple      300.0\n",
              "dtype: float64"
            ]
          },
          "metadata": {
            "tags": []
          },
          "execution_count": 197
        }
      ]
    },
    {
      "cell_type": "code",
      "metadata": {
        "colab": {
          "base_uri": "https://localhost:8080/"
        },
        "id": "3t4S92EX4W5m",
        "outputId": "2f3e913f-4674-4af9-ad41-1d5629ccf8e0"
      },
      "source": [
        "price.rank()"
      ],
      "execution_count": null,
      "outputs": [
        {
          "output_type": "execute_result",
          "data": {
            "text/plain": [
              "Apple         2.0\n",
              "CD Project    1.0\n",
              "Amazon        3.0\n",
              "KGHM          NaN\n",
              "dtype: float64"
            ]
          },
          "metadata": {
            "tags": []
          },
          "execution_count": 198
        }
      ]
    },
    {
      "cell_type": "code",
      "metadata": {
        "colab": {
          "base_uri": "https://localhost:8080/"
        },
        "id": "jmxoCfkxK-wz",
        "outputId": "0e7dd21b-ce14-4afd-d90c-ccbbb7268728"
      },
      "source": [
        "price.sort_values()"
      ],
      "execution_count": null,
      "outputs": [
        {
          "output_type": "execute_result",
          "data": {
            "text/plain": [
              "CD Project      70.0\n",
              "Apple          300.0\n",
              "Amazon        2000.0\n",
              "KGHM             NaN\n",
              "dtype: float64"
            ]
          },
          "metadata": {
            "tags": []
          },
          "execution_count": 199
        }
      ]
    },
    {
      "cell_type": "code",
      "metadata": {
        "colab": {
          "base_uri": "https://localhost:8080/"
        },
        "id": "xR1bAM8LLjBZ",
        "outputId": "5919dec7-2bca-42f4-b879-9d73c2a84222"
      },
      "source": [
        "price.sort_values(ascending=False)"
      ],
      "execution_count": null,
      "outputs": [
        {
          "output_type": "execute_result",
          "data": {
            "text/plain": [
              "Amazon        2000.0\n",
              "Apple          300.0\n",
              "CD Project      70.0\n",
              "KGHM             NaN\n",
              "dtype: float64"
            ]
          },
          "metadata": {
            "tags": []
          },
          "execution_count": 200
        }
      ]
    },
    {
      "cell_type": "markdown",
      "metadata": {
        "id": "OBBYZgoAO68E"
      },
      "source": [
        "\n",
        "### IV. SERIES Metoda applay()"
      ]
    },
    {
      "cell_type": "code",
      "metadata": {
        "colab": {
          "base_uri": "https://localhost:8080/"
        },
        "id": "tkUjiKZSLy0p",
        "outputId": "a8c81aed-1353-49b8-d5f2-1747bd3f0dbe"
      },
      "source": [
        "price.apply(lambda x: x * 3.8)"
      ],
      "execution_count": null,
      "outputs": [
        {
          "output_type": "execute_result",
          "data": {
            "text/plain": [
              "Apple         1140.0\n",
              "CD Project     266.0\n",
              "Amazon        7600.0\n",
              "KGHM             NaN\n",
              "dtype: float64"
            ]
          },
          "metadata": {
            "tags": []
          },
          "execution_count": 201
        }
      ]
    },
    {
      "cell_type": "code",
      "metadata": {
        "colab": {
          "base_uri": "https://localhost:8080/"
        },
        "id": "L6KoJqtUOF8H",
        "outputId": "67f9c2b1-45f3-41a2-f8a8-78451180cc80"
      },
      "source": [
        "price"
      ],
      "execution_count": null,
      "outputs": [
        {
          "output_type": "execute_result",
          "data": {
            "text/plain": [
              "Apple          300.0\n",
              "CD Project      70.0\n",
              "Amazon        2000.0\n",
              "KGHM             NaN\n",
              "dtype: float64"
            ]
          },
          "metadata": {
            "tags": []
          },
          "execution_count": 202
        }
      ]
    },
    {
      "cell_type": "code",
      "metadata": {
        "id": "R67JXRgjPFA7"
      },
      "source": [
        "price_pln = price.apply(lambda x: x * 3.8)"
      ],
      "execution_count": null,
      "outputs": []
    },
    {
      "cell_type": "code",
      "metadata": {
        "colab": {
          "base_uri": "https://localhost:8080/"
        },
        "id": "q0X5J3aPQLWA",
        "outputId": "b72c35fd-be73-42ce-ae49-ab33e6f5de5f"
      },
      "source": [
        "price_pln"
      ],
      "execution_count": null,
      "outputs": [
        {
          "output_type": "execute_result",
          "data": {
            "text/plain": [
              "Apple         1140.0\n",
              "CD Project     266.0\n",
              "Amazon        7600.0\n",
              "KGHM             NaN\n",
              "dtype: float64"
            ]
          },
          "metadata": {
            "tags": []
          },
          "execution_count": 204
        }
      ]
    },
    {
      "cell_type": "code",
      "metadata": {
        "colab": {
          "base_uri": "https://localhost:8080/"
        },
        "id": "adxQwVNkQ5F6",
        "outputId": "74334bb4-88dc-4a1f-b4ae-fba905e02cb3"
      },
      "source": [
        "price"
      ],
      "execution_count": null,
      "outputs": [
        {
          "output_type": "execute_result",
          "data": {
            "text/plain": [
              "Apple          300.0\n",
              "CD Project      70.0\n",
              "Amazon        2000.0\n",
              "KGHM             NaN\n",
              "dtype: float64"
            ]
          },
          "metadata": {
            "tags": []
          },
          "execution_count": 205
        }
      ]
    },
    {
      "cell_type": "markdown",
      "metadata": {
        "id": "Glhl6aAVS_T2"
      },
      "source": [
        "### V. DATAFRAME - Tworzenie obiektów (ramki danych)"
      ]
    },
    {
      "cell_type": "code",
      "metadata": {
        "colab": {
          "base_uri": "https://localhost:8080/",
          "height": 142
        },
        "id": "tefYzVgmQ-Di",
        "outputId": "c25a320b-a820-48e0-a184-5eb35d2f4d08"
      },
      "source": [
        "df = pd.DataFrame(data=[12, 12, 32])\n",
        "df"
      ],
      "execution_count": null,
      "outputs": [
        {
          "output_type": "execute_result",
          "data": {
            "text/html": [
              "<div>\n",
              "<style scoped>\n",
              "    .dataframe tbody tr th:only-of-type {\n",
              "        vertical-align: middle;\n",
              "    }\n",
              "\n",
              "    .dataframe tbody tr th {\n",
              "        vertical-align: top;\n",
              "    }\n",
              "\n",
              "    .dataframe thead th {\n",
              "        text-align: right;\n",
              "    }\n",
              "</style>\n",
              "<table border=\"1\" class=\"dataframe\">\n",
              "  <thead>\n",
              "    <tr style=\"text-align: right;\">\n",
              "      <th></th>\n",
              "      <th>0</th>\n",
              "    </tr>\n",
              "  </thead>\n",
              "  <tbody>\n",
              "    <tr>\n",
              "      <th>0</th>\n",
              "      <td>12</td>\n",
              "    </tr>\n",
              "    <tr>\n",
              "      <th>1</th>\n",
              "      <td>12</td>\n",
              "    </tr>\n",
              "    <tr>\n",
              "      <th>2</th>\n",
              "      <td>32</td>\n",
              "    </tr>\n",
              "  </tbody>\n",
              "</table>\n",
              "</div>"
            ],
            "text/plain": [
              "    0\n",
              "0  12\n",
              "1  12\n",
              "2  32"
            ]
          },
          "metadata": {
            "tags": []
          },
          "execution_count": 206
        }
      ]
    },
    {
      "cell_type": "code",
      "metadata": {
        "colab": {
          "base_uri": "https://localhost:8080/",
          "height": 142
        },
        "id": "NBmFXHSBTh5j",
        "outputId": "c465b3e5-aa62-4c81-fcf6-faf24e662cd2"
      },
      "source": [
        "df = pd.DataFrame(data=[12, 12, 32], index=['first', 'second', 'third'], columns=['col_1'])\n",
        "df"
      ],
      "execution_count": null,
      "outputs": [
        {
          "output_type": "execute_result",
          "data": {
            "text/html": [
              "<div>\n",
              "<style scoped>\n",
              "    .dataframe tbody tr th:only-of-type {\n",
              "        vertical-align: middle;\n",
              "    }\n",
              "\n",
              "    .dataframe tbody tr th {\n",
              "        vertical-align: top;\n",
              "    }\n",
              "\n",
              "    .dataframe thead th {\n",
              "        text-align: right;\n",
              "    }\n",
              "</style>\n",
              "<table border=\"1\" class=\"dataframe\">\n",
              "  <thead>\n",
              "    <tr style=\"text-align: right;\">\n",
              "      <th></th>\n",
              "      <th>col_1</th>\n",
              "    </tr>\n",
              "  </thead>\n",
              "  <tbody>\n",
              "    <tr>\n",
              "      <th>first</th>\n",
              "      <td>12</td>\n",
              "    </tr>\n",
              "    <tr>\n",
              "      <th>second</th>\n",
              "      <td>12</td>\n",
              "    </tr>\n",
              "    <tr>\n",
              "      <th>third</th>\n",
              "      <td>32</td>\n",
              "    </tr>\n",
              "  </tbody>\n",
              "</table>\n",
              "</div>"
            ],
            "text/plain": [
              "        col_1\n",
              "first      12\n",
              "second     12\n",
              "third      32"
            ]
          },
          "metadata": {
            "tags": []
          },
          "execution_count": 207
        }
      ]
    },
    {
      "cell_type": "code",
      "metadata": {
        "colab": {
          "base_uri": "https://localhost:8080/",
          "height": 111
        },
        "id": "Zl3ma_CQgiov",
        "outputId": "4bf1d9c7-b500-42b6-8837-c174d0051ce4"
      },
      "source": [
        "df = pd.DataFrame(data={'WIG20': ['PKN ORLEN', 'PKO SA'], 'mWIG40': ['Amica', 'Playway']})\n",
        "df"
      ],
      "execution_count": null,
      "outputs": [
        {
          "output_type": "execute_result",
          "data": {
            "text/html": [
              "<div>\n",
              "<style scoped>\n",
              "    .dataframe tbody tr th:only-of-type {\n",
              "        vertical-align: middle;\n",
              "    }\n",
              "\n",
              "    .dataframe tbody tr th {\n",
              "        vertical-align: top;\n",
              "    }\n",
              "\n",
              "    .dataframe thead th {\n",
              "        text-align: right;\n",
              "    }\n",
              "</style>\n",
              "<table border=\"1\" class=\"dataframe\">\n",
              "  <thead>\n",
              "    <tr style=\"text-align: right;\">\n",
              "      <th></th>\n",
              "      <th>WIG20</th>\n",
              "      <th>mWIG40</th>\n",
              "    </tr>\n",
              "  </thead>\n",
              "  <tbody>\n",
              "    <tr>\n",
              "      <th>0</th>\n",
              "      <td>PKN ORLEN</td>\n",
              "      <td>Amica</td>\n",
              "    </tr>\n",
              "    <tr>\n",
              "      <th>1</th>\n",
              "      <td>PKO SA</td>\n",
              "      <td>Playway</td>\n",
              "    </tr>\n",
              "  </tbody>\n",
              "</table>\n",
              "</div>"
            ],
            "text/plain": [
              "       WIG20   mWIG40\n",
              "0  PKN ORLEN    Amica\n",
              "1     PKO SA  Playway"
            ]
          },
          "metadata": {
            "tags": []
          },
          "execution_count": 208
        }
      ]
    },
    {
      "cell_type": "code",
      "metadata": {
        "colab": {
          "base_uri": "https://localhost:8080/",
          "height": 111
        },
        "id": "FG9dqyEei2Zy",
        "outputId": "c69d3a7c-790a-4804-f089-1bef42fcc592"
      },
      "source": [
        "df = pd.DataFrame(data=[[10, 12, 13], [23, 12, 10]], index=['first', 'second'], columns=['col_1', 'col_2', 'col_3'])\n",
        "df"
      ],
      "execution_count": null,
      "outputs": [
        {
          "output_type": "execute_result",
          "data": {
            "text/html": [
              "<div>\n",
              "<style scoped>\n",
              "    .dataframe tbody tr th:only-of-type {\n",
              "        vertical-align: middle;\n",
              "    }\n",
              "\n",
              "    .dataframe tbody tr th {\n",
              "        vertical-align: top;\n",
              "    }\n",
              "\n",
              "    .dataframe thead th {\n",
              "        text-align: right;\n",
              "    }\n",
              "</style>\n",
              "<table border=\"1\" class=\"dataframe\">\n",
              "  <thead>\n",
              "    <tr style=\"text-align: right;\">\n",
              "      <th></th>\n",
              "      <th>col_1</th>\n",
              "      <th>col_2</th>\n",
              "      <th>col_3</th>\n",
              "    </tr>\n",
              "  </thead>\n",
              "  <tbody>\n",
              "    <tr>\n",
              "      <th>first</th>\n",
              "      <td>10</td>\n",
              "      <td>12</td>\n",
              "      <td>13</td>\n",
              "    </tr>\n",
              "    <tr>\n",
              "      <th>second</th>\n",
              "      <td>23</td>\n",
              "      <td>12</td>\n",
              "      <td>10</td>\n",
              "    </tr>\n",
              "  </tbody>\n",
              "</table>\n",
              "</div>"
            ],
            "text/plain": [
              "        col_1  col_2  col_3\n",
              "first      10     12     13\n",
              "second     23     12     10"
            ]
          },
          "metadata": {
            "tags": []
          },
          "execution_count": 209
        }
      ]
    },
    {
      "cell_type": "code",
      "metadata": {
        "colab": {
          "base_uri": "https://localhost:8080/"
        },
        "id": "uLcsN6JGm3X-",
        "outputId": "27b3d679-d27b-40e0-8b39-72a78959d837"
      },
      "source": [
        "df.columns"
      ],
      "execution_count": null,
      "outputs": [
        {
          "output_type": "execute_result",
          "data": {
            "text/plain": [
              "Index(['col_1', 'col_2', 'col_3'], dtype='object')"
            ]
          },
          "metadata": {
            "tags": []
          },
          "execution_count": 210
        }
      ]
    },
    {
      "cell_type": "code",
      "metadata": {
        "colab": {
          "base_uri": "https://localhost:8080/"
        },
        "id": "0YgpCe8KqWeU",
        "outputId": "a2a669e8-a4a6-4781-eb47-95e0a381ac87"
      },
      "source": [
        "df.index"
      ],
      "execution_count": null,
      "outputs": [
        {
          "output_type": "execute_result",
          "data": {
            "text/plain": [
              "Index(['first', 'second'], dtype='object')"
            ]
          },
          "metadata": {
            "tags": []
          },
          "execution_count": 211
        }
      ]
    },
    {
      "cell_type": "code",
      "metadata": {
        "colab": {
          "base_uri": "https://localhost:8080/"
        },
        "id": "af2KQICirxVX",
        "outputId": "3cf483b1-fba7-4fd2-bd16-654bb48cced7"
      },
      "source": [
        "df.values"
      ],
      "execution_count": null,
      "outputs": [
        {
          "output_type": "execute_result",
          "data": {
            "text/plain": [
              "array([[10, 12, 13],\n",
              "       [23, 12, 10]])"
            ]
          },
          "metadata": {
            "tags": []
          },
          "execution_count": 212
        }
      ]
    },
    {
      "cell_type": "code",
      "metadata": {
        "colab": {
          "base_uri": "https://localhost:8080/"
        },
        "id": "A12NpybWr7nj",
        "outputId": "ba630069-3af4-4ae3-a2f6-11be3d3a54b9"
      },
      "source": [
        "df.info()"
      ],
      "execution_count": null,
      "outputs": [
        {
          "output_type": "stream",
          "text": [
            "<class 'pandas.core.frame.DataFrame'>\n",
            "Index: 2 entries, first to second\n",
            "Data columns (total 3 columns):\n",
            " #   Column  Non-Null Count  Dtype\n",
            "---  ------  --------------  -----\n",
            " 0   col_1   2 non-null      int64\n",
            " 1   col_2   2 non-null      int64\n",
            " 2   col_3   2 non-null      int64\n",
            "dtypes: int64(3)\n",
            "memory usage: 64.0+ bytes\n"
          ],
          "name": "stdout"
        }
      ]
    },
    {
      "cell_type": "code",
      "metadata": {
        "colab": {
          "base_uri": "https://localhost:8080/",
          "height": 297
        },
        "id": "NgURH93Psnn2",
        "outputId": "5bb8ea92-f5ab-4133-9197-4ac91b201a22"
      },
      "source": [
        "df.describe()"
      ],
      "execution_count": null,
      "outputs": [
        {
          "output_type": "execute_result",
          "data": {
            "text/html": [
              "<div>\n",
              "<style scoped>\n",
              "    .dataframe tbody tr th:only-of-type {\n",
              "        vertical-align: middle;\n",
              "    }\n",
              "\n",
              "    .dataframe tbody tr th {\n",
              "        vertical-align: top;\n",
              "    }\n",
              "\n",
              "    .dataframe thead th {\n",
              "        text-align: right;\n",
              "    }\n",
              "</style>\n",
              "<table border=\"1\" class=\"dataframe\">\n",
              "  <thead>\n",
              "    <tr style=\"text-align: right;\">\n",
              "      <th></th>\n",
              "      <th>col_1</th>\n",
              "      <th>col_2</th>\n",
              "      <th>col_3</th>\n",
              "    </tr>\n",
              "  </thead>\n",
              "  <tbody>\n",
              "    <tr>\n",
              "      <th>count</th>\n",
              "      <td>2.000000</td>\n",
              "      <td>2.0</td>\n",
              "      <td>2.00000</td>\n",
              "    </tr>\n",
              "    <tr>\n",
              "      <th>mean</th>\n",
              "      <td>16.500000</td>\n",
              "      <td>12.0</td>\n",
              "      <td>11.50000</td>\n",
              "    </tr>\n",
              "    <tr>\n",
              "      <th>std</th>\n",
              "      <td>9.192388</td>\n",
              "      <td>0.0</td>\n",
              "      <td>2.12132</td>\n",
              "    </tr>\n",
              "    <tr>\n",
              "      <th>min</th>\n",
              "      <td>10.000000</td>\n",
              "      <td>12.0</td>\n",
              "      <td>10.00000</td>\n",
              "    </tr>\n",
              "    <tr>\n",
              "      <th>25%</th>\n",
              "      <td>13.250000</td>\n",
              "      <td>12.0</td>\n",
              "      <td>10.75000</td>\n",
              "    </tr>\n",
              "    <tr>\n",
              "      <th>50%</th>\n",
              "      <td>16.500000</td>\n",
              "      <td>12.0</td>\n",
              "      <td>11.50000</td>\n",
              "    </tr>\n",
              "    <tr>\n",
              "      <th>75%</th>\n",
              "      <td>19.750000</td>\n",
              "      <td>12.0</td>\n",
              "      <td>12.25000</td>\n",
              "    </tr>\n",
              "    <tr>\n",
              "      <th>max</th>\n",
              "      <td>23.000000</td>\n",
              "      <td>12.0</td>\n",
              "      <td>13.00000</td>\n",
              "    </tr>\n",
              "  </tbody>\n",
              "</table>\n",
              "</div>"
            ],
            "text/plain": [
              "           col_1  col_2     col_3\n",
              "count   2.000000    2.0   2.00000\n",
              "mean   16.500000   12.0  11.50000\n",
              "std     9.192388    0.0   2.12132\n",
              "min    10.000000   12.0  10.00000\n",
              "25%    13.250000   12.0  10.75000\n",
              "50%    16.500000   12.0  11.50000\n",
              "75%    19.750000   12.0  12.25000\n",
              "max    23.000000   12.0  13.00000"
            ]
          },
          "metadata": {
            "tags": []
          },
          "execution_count": 214
        }
      ]
    },
    {
      "cell_type": "code",
      "metadata": {
        "colab": {
          "base_uri": "https://localhost:8080/",
          "height": 142
        },
        "id": "KzmVWfpEvlgG",
        "outputId": "9e60a792-dee6-43be-aece-37a772123169"
      },
      "source": [
        "df.describe().T"
      ],
      "execution_count": null,
      "outputs": [
        {
          "output_type": "execute_result",
          "data": {
            "text/html": [
              "<div>\n",
              "<style scoped>\n",
              "    .dataframe tbody tr th:only-of-type {\n",
              "        vertical-align: middle;\n",
              "    }\n",
              "\n",
              "    .dataframe tbody tr th {\n",
              "        vertical-align: top;\n",
              "    }\n",
              "\n",
              "    .dataframe thead th {\n",
              "        text-align: right;\n",
              "    }\n",
              "</style>\n",
              "<table border=\"1\" class=\"dataframe\">\n",
              "  <thead>\n",
              "    <tr style=\"text-align: right;\">\n",
              "      <th></th>\n",
              "      <th>count</th>\n",
              "      <th>mean</th>\n",
              "      <th>std</th>\n",
              "      <th>min</th>\n",
              "      <th>25%</th>\n",
              "      <th>50%</th>\n",
              "      <th>75%</th>\n",
              "      <th>max</th>\n",
              "    </tr>\n",
              "  </thead>\n",
              "  <tbody>\n",
              "    <tr>\n",
              "      <th>col_1</th>\n",
              "      <td>2.0</td>\n",
              "      <td>16.5</td>\n",
              "      <td>9.192388</td>\n",
              "      <td>10.0</td>\n",
              "      <td>13.25</td>\n",
              "      <td>16.5</td>\n",
              "      <td>19.75</td>\n",
              "      <td>23.0</td>\n",
              "    </tr>\n",
              "    <tr>\n",
              "      <th>col_2</th>\n",
              "      <td>2.0</td>\n",
              "      <td>12.0</td>\n",
              "      <td>0.000000</td>\n",
              "      <td>12.0</td>\n",
              "      <td>12.00</td>\n",
              "      <td>12.0</td>\n",
              "      <td>12.00</td>\n",
              "      <td>12.0</td>\n",
              "    </tr>\n",
              "    <tr>\n",
              "      <th>col_3</th>\n",
              "      <td>2.0</td>\n",
              "      <td>11.5</td>\n",
              "      <td>2.121320</td>\n",
              "      <td>10.0</td>\n",
              "      <td>10.75</td>\n",
              "      <td>11.5</td>\n",
              "      <td>12.25</td>\n",
              "      <td>13.0</td>\n",
              "    </tr>\n",
              "  </tbody>\n",
              "</table>\n",
              "</div>"
            ],
            "text/plain": [
              "       count  mean       std   min    25%   50%    75%   max\n",
              "col_1    2.0  16.5  9.192388  10.0  13.25  16.5  19.75  23.0\n",
              "col_2    2.0  12.0  0.000000  12.0  12.00  12.0  12.00  12.0\n",
              "col_3    2.0  11.5  2.121320  10.0  10.75  11.5  12.25  13.0"
            ]
          },
          "metadata": {
            "tags": []
          },
          "execution_count": 215
        }
      ]
    },
    {
      "cell_type": "markdown",
      "metadata": {
        "id": "RHihVxFwVCY9"
      },
      "source": [
        "#### VI. DATAFRAME SELEKCJA - WYCINANIE KOLUMN"
      ]
    },
    {
      "cell_type": "code",
      "metadata": {
        "id": "pfBcENOiv_hO",
        "colab": {
          "base_uri": "https://localhost:8080/",
          "height": 111
        },
        "outputId": "49fc3972-cdda-4141-f8e5-7a53fb046de4"
      },
      "source": [
        "df"
      ],
      "execution_count": null,
      "outputs": [
        {
          "output_type": "execute_result",
          "data": {
            "text/html": [
              "<div>\n",
              "<style scoped>\n",
              "    .dataframe tbody tr th:only-of-type {\n",
              "        vertical-align: middle;\n",
              "    }\n",
              "\n",
              "    .dataframe tbody tr th {\n",
              "        vertical-align: top;\n",
              "    }\n",
              "\n",
              "    .dataframe thead th {\n",
              "        text-align: right;\n",
              "    }\n",
              "</style>\n",
              "<table border=\"1\" class=\"dataframe\">\n",
              "  <thead>\n",
              "    <tr style=\"text-align: right;\">\n",
              "      <th></th>\n",
              "      <th>col_1</th>\n",
              "      <th>col_2</th>\n",
              "      <th>col_3</th>\n",
              "    </tr>\n",
              "  </thead>\n",
              "  <tbody>\n",
              "    <tr>\n",
              "      <th>first</th>\n",
              "      <td>10</td>\n",
              "      <td>12</td>\n",
              "      <td>13</td>\n",
              "    </tr>\n",
              "    <tr>\n",
              "      <th>second</th>\n",
              "      <td>23</td>\n",
              "      <td>12</td>\n",
              "      <td>10</td>\n",
              "    </tr>\n",
              "  </tbody>\n",
              "</table>\n",
              "</div>"
            ],
            "text/plain": [
              "        col_1  col_2  col_3\n",
              "first      10     12     13\n",
              "second     23     12     10"
            ]
          },
          "metadata": {
            "tags": []
          },
          "execution_count": 216
        }
      ]
    },
    {
      "cell_type": "code",
      "metadata": {
        "colab": {
          "base_uri": "https://localhost:8080/"
        },
        "id": "HTDeF5B8XBVq",
        "outputId": "86a886d9-1235-493a-9de5-5c82ecfef789"
      },
      "source": [
        "df['col_1']"
      ],
      "execution_count": null,
      "outputs": [
        {
          "output_type": "execute_result",
          "data": {
            "text/plain": [
              "first     10\n",
              "second    23\n",
              "Name: col_1, dtype: int64"
            ]
          },
          "metadata": {
            "tags": []
          },
          "execution_count": 217
        }
      ]
    },
    {
      "cell_type": "code",
      "metadata": {
        "colab": {
          "base_uri": "https://localhost:8080/"
        },
        "id": "Boy1ha7YXHad",
        "outputId": "2ff46368-5129-416d-ae7a-c111f853f9d6"
      },
      "source": [
        "type(df['col_1'])"
      ],
      "execution_count": null,
      "outputs": [
        {
          "output_type": "execute_result",
          "data": {
            "text/plain": [
              "pandas.core.series.Series"
            ]
          },
          "metadata": {
            "tags": []
          },
          "execution_count": 218
        }
      ]
    },
    {
      "cell_type": "code",
      "metadata": {
        "colab": {
          "base_uri": "https://localhost:8080/",
          "height": 111
        },
        "id": "gS5o5_ejXjKd",
        "outputId": "6027b10c-cbc9-4a2a-8154-bffcb375f552"
      },
      "source": [
        "df[['col_1']]"
      ],
      "execution_count": null,
      "outputs": [
        {
          "output_type": "execute_result",
          "data": {
            "text/html": [
              "<div>\n",
              "<style scoped>\n",
              "    .dataframe tbody tr th:only-of-type {\n",
              "        vertical-align: middle;\n",
              "    }\n",
              "\n",
              "    .dataframe tbody tr th {\n",
              "        vertical-align: top;\n",
              "    }\n",
              "\n",
              "    .dataframe thead th {\n",
              "        text-align: right;\n",
              "    }\n",
              "</style>\n",
              "<table border=\"1\" class=\"dataframe\">\n",
              "  <thead>\n",
              "    <tr style=\"text-align: right;\">\n",
              "      <th></th>\n",
              "      <th>col_1</th>\n",
              "    </tr>\n",
              "  </thead>\n",
              "  <tbody>\n",
              "    <tr>\n",
              "      <th>first</th>\n",
              "      <td>10</td>\n",
              "    </tr>\n",
              "    <tr>\n",
              "      <th>second</th>\n",
              "      <td>23</td>\n",
              "    </tr>\n",
              "  </tbody>\n",
              "</table>\n",
              "</div>"
            ],
            "text/plain": [
              "        col_1\n",
              "first      10\n",
              "second     23"
            ]
          },
          "metadata": {
            "tags": []
          },
          "execution_count": 219
        }
      ]
    },
    {
      "cell_type": "code",
      "metadata": {
        "colab": {
          "base_uri": "https://localhost:8080/"
        },
        "id": "WGcFXKFHaeFw",
        "outputId": "4bd6324e-dce1-469c-935a-3c9da965855e"
      },
      "source": [
        "type(df[['col_1']])"
      ],
      "execution_count": null,
      "outputs": [
        {
          "output_type": "execute_result",
          "data": {
            "text/plain": [
              "pandas.core.frame.DataFrame"
            ]
          },
          "metadata": {
            "tags": []
          },
          "execution_count": 220
        }
      ]
    },
    {
      "cell_type": "code",
      "metadata": {
        "colab": {
          "base_uri": "https://localhost:8080/"
        },
        "id": "zXkNxiw_a-jV",
        "outputId": "0a173076-87ec-41b4-c438-f324fc3939fb"
      },
      "source": [
        "df.columns"
      ],
      "execution_count": null,
      "outputs": [
        {
          "output_type": "execute_result",
          "data": {
            "text/plain": [
              "Index(['col_1', 'col_2', 'col_3'], dtype='object')"
            ]
          },
          "metadata": {
            "tags": []
          },
          "execution_count": 221
        }
      ]
    },
    {
      "cell_type": "code",
      "metadata": {
        "colab": {
          "base_uri": "https://localhost:8080/",
          "height": 111
        },
        "id": "q7Ik1-ypbWOP",
        "outputId": "c692030f-eef5-4126-8928-f7e14f9bea03"
      },
      "source": [
        "df.columns = ['a', 'b', 'c']\n",
        "df"
      ],
      "execution_count": null,
      "outputs": [
        {
          "output_type": "execute_result",
          "data": {
            "text/html": [
              "<div>\n",
              "<style scoped>\n",
              "    .dataframe tbody tr th:only-of-type {\n",
              "        vertical-align: middle;\n",
              "    }\n",
              "\n",
              "    .dataframe tbody tr th {\n",
              "        vertical-align: top;\n",
              "    }\n",
              "\n",
              "    .dataframe thead th {\n",
              "        text-align: right;\n",
              "    }\n",
              "</style>\n",
              "<table border=\"1\" class=\"dataframe\">\n",
              "  <thead>\n",
              "    <tr style=\"text-align: right;\">\n",
              "      <th></th>\n",
              "      <th>a</th>\n",
              "      <th>b</th>\n",
              "      <th>c</th>\n",
              "    </tr>\n",
              "  </thead>\n",
              "  <tbody>\n",
              "    <tr>\n",
              "      <th>first</th>\n",
              "      <td>10</td>\n",
              "      <td>12</td>\n",
              "      <td>13</td>\n",
              "    </tr>\n",
              "    <tr>\n",
              "      <th>second</th>\n",
              "      <td>23</td>\n",
              "      <td>12</td>\n",
              "      <td>10</td>\n",
              "    </tr>\n",
              "  </tbody>\n",
              "</table>\n",
              "</div>"
            ],
            "text/plain": [
              "         a   b   c\n",
              "first   10  12  13\n",
              "second  23  12  10"
            ]
          },
          "metadata": {
            "tags": []
          },
          "execution_count": 222
        }
      ]
    },
    {
      "cell_type": "code",
      "metadata": {
        "colab": {
          "base_uri": "https://localhost:8080/"
        },
        "id": "DogaRe2ncY_V",
        "outputId": "503d2cdd-c8d4-44a4-d270-359450abf567"
      },
      "source": [
        "df.a"
      ],
      "execution_count": null,
      "outputs": [
        {
          "output_type": "execute_result",
          "data": {
            "text/plain": [
              "first     10\n",
              "second    23\n",
              "Name: a, dtype: int64"
            ]
          },
          "metadata": {
            "tags": []
          },
          "execution_count": 223
        }
      ]
    },
    {
      "cell_type": "code",
      "metadata": {
        "colab": {
          "base_uri": "https://localhost:8080/"
        },
        "id": "ZtMWjmGJkcOP",
        "outputId": "7eb6d8e9-1f16-414a-9318-5df927e6db65"
      },
      "source": [
        "df.b"
      ],
      "execution_count": null,
      "outputs": [
        {
          "output_type": "execute_result",
          "data": {
            "text/plain": [
              "first     12\n",
              "second    12\n",
              "Name: b, dtype: int64"
            ]
          },
          "metadata": {
            "tags": []
          },
          "execution_count": 224
        }
      ]
    },
    {
      "cell_type": "code",
      "metadata": {
        "colab": {
          "base_uri": "https://localhost:8080/",
          "height": 111
        },
        "id": "eG7O_-xHkzdn",
        "outputId": "b7ba78ca-0ec1-4942-d122-98c5b0f4f8eb"
      },
      "source": [
        "df.columns = ['a', 'pawel n', 'c']\n",
        "df"
      ],
      "execution_count": null,
      "outputs": [
        {
          "output_type": "execute_result",
          "data": {
            "text/html": [
              "<div>\n",
              "<style scoped>\n",
              "    .dataframe tbody tr th:only-of-type {\n",
              "        vertical-align: middle;\n",
              "    }\n",
              "\n",
              "    .dataframe tbody tr th {\n",
              "        vertical-align: top;\n",
              "    }\n",
              "\n",
              "    .dataframe thead th {\n",
              "        text-align: right;\n",
              "    }\n",
              "</style>\n",
              "<table border=\"1\" class=\"dataframe\">\n",
              "  <thead>\n",
              "    <tr style=\"text-align: right;\">\n",
              "      <th></th>\n",
              "      <th>a</th>\n",
              "      <th>pawel n</th>\n",
              "      <th>c</th>\n",
              "    </tr>\n",
              "  </thead>\n",
              "  <tbody>\n",
              "    <tr>\n",
              "      <th>first</th>\n",
              "      <td>10</td>\n",
              "      <td>12</td>\n",
              "      <td>13</td>\n",
              "    </tr>\n",
              "    <tr>\n",
              "      <th>second</th>\n",
              "      <td>23</td>\n",
              "      <td>12</td>\n",
              "      <td>10</td>\n",
              "    </tr>\n",
              "  </tbody>\n",
              "</table>\n",
              "</div>"
            ],
            "text/plain": [
              "         a  pawel n   c\n",
              "first   10       12  13\n",
              "second  23       12  10"
            ]
          },
          "metadata": {
            "tags": []
          },
          "execution_count": 225
        }
      ]
    },
    {
      "cell_type": "code",
      "metadata": {
        "colab": {
          "base_uri": "https://localhost:8080/",
          "height": 111
        },
        "id": "a4oiwfiClizn",
        "outputId": "e176b2f9-a6e6-4161-fe50-5d5df4e88d48"
      },
      "source": [
        "df.columns = ['a', 'pawel_n', 'c']\n",
        "df"
      ],
      "execution_count": null,
      "outputs": [
        {
          "output_type": "execute_result",
          "data": {
            "text/html": [
              "<div>\n",
              "<style scoped>\n",
              "    .dataframe tbody tr th:only-of-type {\n",
              "        vertical-align: middle;\n",
              "    }\n",
              "\n",
              "    .dataframe tbody tr th {\n",
              "        vertical-align: top;\n",
              "    }\n",
              "\n",
              "    .dataframe thead th {\n",
              "        text-align: right;\n",
              "    }\n",
              "</style>\n",
              "<table border=\"1\" class=\"dataframe\">\n",
              "  <thead>\n",
              "    <tr style=\"text-align: right;\">\n",
              "      <th></th>\n",
              "      <th>a</th>\n",
              "      <th>pawel_n</th>\n",
              "      <th>c</th>\n",
              "    </tr>\n",
              "  </thead>\n",
              "  <tbody>\n",
              "    <tr>\n",
              "      <th>first</th>\n",
              "      <td>10</td>\n",
              "      <td>12</td>\n",
              "      <td>13</td>\n",
              "    </tr>\n",
              "    <tr>\n",
              "      <th>second</th>\n",
              "      <td>23</td>\n",
              "      <td>12</td>\n",
              "      <td>10</td>\n",
              "    </tr>\n",
              "  </tbody>\n",
              "</table>\n",
              "</div>"
            ],
            "text/plain": [
              "         a  pawel_n   c\n",
              "first   10       12  13\n",
              "second  23       12  10"
            ]
          },
          "metadata": {
            "tags": []
          },
          "execution_count": 226
        }
      ]
    },
    {
      "cell_type": "code",
      "metadata": {
        "colab": {
          "base_uri": "https://localhost:8080/"
        },
        "id": "0HUHXLoOloNP",
        "outputId": "4c0a1c3a-c8e4-4f0a-89fb-5f0dd499af76"
      },
      "source": [
        "df.pawel_n"
      ],
      "execution_count": null,
      "outputs": [
        {
          "output_type": "execute_result",
          "data": {
            "text/plain": [
              "first     12\n",
              "second    12\n",
              "Name: pawel_n, dtype: int64"
            ]
          },
          "metadata": {
            "tags": []
          },
          "execution_count": 227
        }
      ]
    },
    {
      "cell_type": "code",
      "metadata": {
        "colab": {
          "base_uri": "https://localhost:8080/",
          "height": 111
        },
        "id": "c26koLsFmeen",
        "outputId": "239708dd-158b-47f3-a78b-a6e7f809a60a"
      },
      "source": [
        "df['d'] = df.a + df.c\n",
        "df"
      ],
      "execution_count": null,
      "outputs": [
        {
          "output_type": "execute_result",
          "data": {
            "text/html": [
              "<div>\n",
              "<style scoped>\n",
              "    .dataframe tbody tr th:only-of-type {\n",
              "        vertical-align: middle;\n",
              "    }\n",
              "\n",
              "    .dataframe tbody tr th {\n",
              "        vertical-align: top;\n",
              "    }\n",
              "\n",
              "    .dataframe thead th {\n",
              "        text-align: right;\n",
              "    }\n",
              "</style>\n",
              "<table border=\"1\" class=\"dataframe\">\n",
              "  <thead>\n",
              "    <tr style=\"text-align: right;\">\n",
              "      <th></th>\n",
              "      <th>a</th>\n",
              "      <th>pawel_n</th>\n",
              "      <th>c</th>\n",
              "      <th>d</th>\n",
              "    </tr>\n",
              "  </thead>\n",
              "  <tbody>\n",
              "    <tr>\n",
              "      <th>first</th>\n",
              "      <td>10</td>\n",
              "      <td>12</td>\n",
              "      <td>13</td>\n",
              "      <td>23</td>\n",
              "    </tr>\n",
              "    <tr>\n",
              "      <th>second</th>\n",
              "      <td>23</td>\n",
              "      <td>12</td>\n",
              "      <td>10</td>\n",
              "      <td>33</td>\n",
              "    </tr>\n",
              "  </tbody>\n",
              "</table>\n",
              "</div>"
            ],
            "text/plain": [
              "         a  pawel_n   c   d\n",
              "first   10       12  13  23\n",
              "second  23       12  10  33"
            ]
          },
          "metadata": {
            "tags": []
          },
          "execution_count": 228
        }
      ]
    },
    {
      "cell_type": "code",
      "metadata": {
        "colab": {
          "base_uri": "https://localhost:8080/",
          "height": 111
        },
        "id": "Rz8mfW25ntkQ",
        "outputId": "c9550512-2cd0-4658-ef55-cda3c117249a"
      },
      "source": [
        "df = pd.DataFrame(data=[[10, 12, 13], [23, 12, 10]], index=['first', 'second'], columns=['col_1', 'col_2', 'col_3'])\n",
        "df"
      ],
      "execution_count": null,
      "outputs": [
        {
          "output_type": "execute_result",
          "data": {
            "text/html": [
              "<div>\n",
              "<style scoped>\n",
              "    .dataframe tbody tr th:only-of-type {\n",
              "        vertical-align: middle;\n",
              "    }\n",
              "\n",
              "    .dataframe tbody tr th {\n",
              "        vertical-align: top;\n",
              "    }\n",
              "\n",
              "    .dataframe thead th {\n",
              "        text-align: right;\n",
              "    }\n",
              "</style>\n",
              "<table border=\"1\" class=\"dataframe\">\n",
              "  <thead>\n",
              "    <tr style=\"text-align: right;\">\n",
              "      <th></th>\n",
              "      <th>col_1</th>\n",
              "      <th>col_2</th>\n",
              "      <th>col_3</th>\n",
              "    </tr>\n",
              "  </thead>\n",
              "  <tbody>\n",
              "    <tr>\n",
              "      <th>first</th>\n",
              "      <td>10</td>\n",
              "      <td>12</td>\n",
              "      <td>13</td>\n",
              "    </tr>\n",
              "    <tr>\n",
              "      <th>second</th>\n",
              "      <td>23</td>\n",
              "      <td>12</td>\n",
              "      <td>10</td>\n",
              "    </tr>\n",
              "  </tbody>\n",
              "</table>\n",
              "</div>"
            ],
            "text/plain": [
              "        col_1  col_2  col_3\n",
              "first      10     12     13\n",
              "second     23     12     10"
            ]
          },
          "metadata": {
            "tags": []
          },
          "execution_count": 229
        }
      ]
    },
    {
      "cell_type": "code",
      "metadata": {
        "colab": {
          "base_uri": "https://localhost:8080/"
        },
        "id": "Zq9WlDEUoVqf",
        "outputId": "24c0307d-b497-4cb6-dbb9-485429ed9fbc"
      },
      "source": [
        "df.loc['first']"
      ],
      "execution_count": null,
      "outputs": [
        {
          "output_type": "execute_result",
          "data": {
            "text/plain": [
              "col_1    10\n",
              "col_2    12\n",
              "col_3    13\n",
              "Name: first, dtype: int64"
            ]
          },
          "metadata": {
            "tags": []
          },
          "execution_count": 230
        }
      ]
    },
    {
      "cell_type": "code",
      "metadata": {
        "colab": {
          "base_uri": "https://localhost:8080/"
        },
        "id": "1ZZUqoxS6dvr",
        "outputId": "6ddba8aa-e98b-4dd8-c34b-205c8513b207"
      },
      "source": [
        "df.iloc[0]"
      ],
      "execution_count": null,
      "outputs": [
        {
          "output_type": "execute_result",
          "data": {
            "text/plain": [
              "col_1    10\n",
              "col_2    12\n",
              "col_3    13\n",
              "Name: first, dtype: int64"
            ]
          },
          "metadata": {
            "tags": []
          },
          "execution_count": 231
        }
      ]
    },
    {
      "cell_type": "code",
      "metadata": {
        "colab": {
          "base_uri": "https://localhost:8080/"
        },
        "id": "KjahfEfU-_er",
        "outputId": "ba89b9ef-2764-4565-ce4d-11b0c6dd3717"
      },
      "source": [
        "df.loc['first', 'col_2']"
      ],
      "execution_count": null,
      "outputs": [
        {
          "output_type": "execute_result",
          "data": {
            "text/plain": [
              "12"
            ]
          },
          "metadata": {
            "tags": []
          },
          "execution_count": 232
        }
      ]
    },
    {
      "cell_type": "code",
      "metadata": {
        "colab": {
          "base_uri": "https://localhost:8080/"
        },
        "id": "oITAdkNYACSJ",
        "outputId": "b970fe3d-1d5f-4282-c1a6-16589763fcf6"
      },
      "source": [
        "df.loc[:, 'col_2']\n"
      ],
      "execution_count": null,
      "outputs": [
        {
          "output_type": "execute_result",
          "data": {
            "text/plain": [
              "first     12\n",
              "second    12\n",
              "Name: col_2, dtype: int64"
            ]
          },
          "metadata": {
            "tags": []
          },
          "execution_count": 233
        }
      ]
    },
    {
      "cell_type": "code",
      "metadata": {
        "colab": {
          "base_uri": "https://localhost:8080/"
        },
        "id": "vPZPWFG8Ax6r",
        "outputId": "33992d83-387c-4007-bd26-6a803c9b546d"
      },
      "source": [
        "df.iloc[0, 1]"
      ],
      "execution_count": null,
      "outputs": [
        {
          "output_type": "execute_result",
          "data": {
            "text/plain": [
              "12"
            ]
          },
          "metadata": {
            "tags": []
          },
          "execution_count": 234
        }
      ]
    },
    {
      "cell_type": "markdown",
      "metadata": {
        "id": "-C2AkeD7B-fo"
      },
      "source": [
        "### VI. CASE STUDY - WYKORZYSTANIE UMIEJETNOSCI W PRAKTYCE"
      ]
    },
    {
      "cell_type": "markdown",
      "metadata": {
        "id": "uGJJucGzDWTX"
      },
      "source": [
        "1. IMPORT BIBLIOTEK"
      ]
    },
    {
      "cell_type": "code",
      "metadata": {
        "colab": {
          "base_uri": "https://localhost:8080/"
        },
        "id": "My8f5fgwCFCS",
        "outputId": "562c61e0-3981-43de-98fc-3085b30af18b"
      },
      "source": [
        "import numpy as np\n",
        "import pandas as pd\n",
        "\n",
        "print(f'Numpy: {np.__version__}')\n",
        "print(f'Pandas: {pd.__version__}')"
      ],
      "execution_count": null,
      "outputs": [
        {
          "output_type": "stream",
          "text": [
            "Numpy: 1.19.5\n",
            "Pandas: 1.1.5\n"
          ],
          "name": "stdout"
        }
      ]
    },
    {
      "cell_type": "markdown",
      "metadata": {
        "id": "ZDTQ5KD8Dynk"
      },
      "source": [
        "2. Załadowanie danych za pomoca funkcji fetch..."
      ]
    },
    {
      "cell_type": "code",
      "metadata": {
        "colab": {
          "base_uri": "https://localhost:8080/"
        },
        "id": "AplnHIRGCyYL",
        "outputId": "bfbbf5af-2d66-4c4a-cbe2-5f80fddbf399"
      },
      "source": [
        "def fetch_financial_data(company='AMZN'):\n",
        "  \"\"\"Pobierane dane dotyczą notowań spółek na giełdzie wg symboli na serwisie stooq.pl\"\"\"\n",
        "  import pandas_datareader.data as web\n",
        "  return web.DataReader(name=company, data_source='stooq')\n",
        "\n",
        "df = fetch_financial_data()\n",
        "df.info()"
      ],
      "execution_count": null,
      "outputs": [
        {
          "output_type": "stream",
          "text": [
            "<class 'pandas.core.frame.DataFrame'>\n",
            "DatetimeIndex: 1258 entries, 2021-03-24 to 2016-03-28\n",
            "Data columns (total 5 columns):\n",
            " #   Column  Non-Null Count  Dtype  \n",
            "---  ------  --------------  -----  \n",
            " 0   Open    1258 non-null   float64\n",
            " 1   High    1258 non-null   float64\n",
            " 2   Low     1258 non-null   float64\n",
            " 3   Close   1258 non-null   float64\n",
            " 4   Volume  1258 non-null   int64  \n",
            "dtypes: float64(4), int64(1)\n",
            "memory usage: 59.0 KB\n"
          ],
          "name": "stdout"
        }
      ]
    },
    {
      "cell_type": "code",
      "metadata": {
        "colab": {
          "base_uri": "https://localhost:8080/",
          "height": 450
        },
        "id": "UDx5hEUZFTzU",
        "outputId": "315fd827-5091-4cdd-9b23-50d5cc37136b"
      },
      "source": [
        "df"
      ],
      "execution_count": null,
      "outputs": [
        {
          "output_type": "execute_result",
          "data": {
            "text/html": [
              "<div>\n",
              "<style scoped>\n",
              "    .dataframe tbody tr th:only-of-type {\n",
              "        vertical-align: middle;\n",
              "    }\n",
              "\n",
              "    .dataframe tbody tr th {\n",
              "        vertical-align: top;\n",
              "    }\n",
              "\n",
              "    .dataframe thead th {\n",
              "        text-align: right;\n",
              "    }\n",
              "</style>\n",
              "<table border=\"1\" class=\"dataframe\">\n",
              "  <thead>\n",
              "    <tr style=\"text-align: right;\">\n",
              "      <th></th>\n",
              "      <th>Open</th>\n",
              "      <th>High</th>\n",
              "      <th>Low</th>\n",
              "      <th>Close</th>\n",
              "      <th>Volume</th>\n",
              "    </tr>\n",
              "    <tr>\n",
              "      <th>Date</th>\n",
              "      <th></th>\n",
              "      <th></th>\n",
              "      <th></th>\n",
              "      <th></th>\n",
              "      <th></th>\n",
              "    </tr>\n",
              "  </thead>\n",
              "  <tbody>\n",
              "    <tr>\n",
              "      <th>2021-03-24</th>\n",
              "      <td>3151.04</td>\n",
              "      <td>3160.310</td>\n",
              "      <td>3085.1500</td>\n",
              "      <td>3087.07</td>\n",
              "      <td>2952085</td>\n",
              "    </tr>\n",
              "    <tr>\n",
              "      <th>2021-03-23</th>\n",
              "      <td>3127.00</td>\n",
              "      <td>3182.000</td>\n",
              "      <td>3120.8501</td>\n",
              "      <td>3137.50</td>\n",
              "      <td>3817263</td>\n",
              "    </tr>\n",
              "    <tr>\n",
              "      <th>2021-03-22</th>\n",
              "      <td>3067.85</td>\n",
              "      <td>3126.580</td>\n",
              "      <td>3060.0500</td>\n",
              "      <td>3110.87</td>\n",
              "      <td>2902179</td>\n",
              "    </tr>\n",
              "    <tr>\n",
              "      <th>2021-03-19</th>\n",
              "      <td>3029.23</td>\n",
              "      <td>3077.285</td>\n",
              "      <td>3016.6300</td>\n",
              "      <td>3074.96</td>\n",
              "      <td>4625354</td>\n",
              "    </tr>\n",
              "    <tr>\n",
              "      <th>2021-03-18</th>\n",
              "      <td>3101.00</td>\n",
              "      <td>3116.630</td>\n",
              "      <td>3025.0000</td>\n",
              "      <td>3027.99</td>\n",
              "      <td>3657027</td>\n",
              "    </tr>\n",
              "    <tr>\n",
              "      <th>...</th>\n",
              "      <td>...</td>\n",
              "      <td>...</td>\n",
              "      <td>...</td>\n",
              "      <td>...</td>\n",
              "      <td>...</td>\n",
              "    </tr>\n",
              "    <tr>\n",
              "      <th>2016-04-01</th>\n",
              "      <td>590.49</td>\n",
              "      <td>599.030</td>\n",
              "      <td>588.3000</td>\n",
              "      <td>598.50</td>\n",
              "      <td>2293292</td>\n",
              "    </tr>\n",
              "    <tr>\n",
              "      <th>2016-03-31</th>\n",
              "      <td>599.28</td>\n",
              "      <td>600.750</td>\n",
              "      <td>592.2100</td>\n",
              "      <td>593.64</td>\n",
              "      <td>2032513</td>\n",
              "    </tr>\n",
              "    <tr>\n",
              "      <th>2016-03-30</th>\n",
              "      <td>596.71</td>\n",
              "      <td>603.240</td>\n",
              "      <td>595.0000</td>\n",
              "      <td>598.69</td>\n",
              "      <td>3204413</td>\n",
              "    </tr>\n",
              "    <tr>\n",
              "      <th>2016-03-29</th>\n",
              "      <td>580.15</td>\n",
              "      <td>595.850</td>\n",
              "      <td>576.5000</td>\n",
              "      <td>593.86</td>\n",
              "      <td>3702016</td>\n",
              "    </tr>\n",
              "    <tr>\n",
              "      <th>2016-03-28</th>\n",
              "      <td>584.40</td>\n",
              "      <td>584.750</td>\n",
              "      <td>575.5600</td>\n",
              "      <td>579.87</td>\n",
              "      <td>2711908</td>\n",
              "    </tr>\n",
              "  </tbody>\n",
              "</table>\n",
              "<p>1258 rows × 5 columns</p>\n",
              "</div>"
            ],
            "text/plain": [
              "               Open      High        Low    Close   Volume\n",
              "Date                                                      \n",
              "2021-03-24  3151.04  3160.310  3085.1500  3087.07  2952085\n",
              "2021-03-23  3127.00  3182.000  3120.8501  3137.50  3817263\n",
              "2021-03-22  3067.85  3126.580  3060.0500  3110.87  2902179\n",
              "2021-03-19  3029.23  3077.285  3016.6300  3074.96  4625354\n",
              "2021-03-18  3101.00  3116.630  3025.0000  3027.99  3657027\n",
              "...             ...       ...        ...      ...      ...\n",
              "2016-04-01   590.49   599.030   588.3000   598.50  2293292\n",
              "2016-03-31   599.28   600.750   592.2100   593.64  2032513\n",
              "2016-03-30   596.71   603.240   595.0000   598.69  3204413\n",
              "2016-03-29   580.15   595.850   576.5000   593.86  3702016\n",
              "2016-03-28   584.40   584.750   575.5600   579.87  2711908\n",
              "\n",
              "[1258 rows x 5 columns]"
            ]
          },
          "metadata": {
            "tags": []
          },
          "execution_count": 237
        }
      ]
    },
    {
      "cell_type": "code",
      "metadata": {
        "colab": {
          "base_uri": "https://localhost:8080/",
          "height": 235
        },
        "id": "SaUoVnvmJirU",
        "outputId": "8a661268-6644-4998-8185-952151d8e55a"
      },
      "source": [
        "df.head()"
      ],
      "execution_count": null,
      "outputs": [
        {
          "output_type": "execute_result",
          "data": {
            "text/html": [
              "<div>\n",
              "<style scoped>\n",
              "    .dataframe tbody tr th:only-of-type {\n",
              "        vertical-align: middle;\n",
              "    }\n",
              "\n",
              "    .dataframe tbody tr th {\n",
              "        vertical-align: top;\n",
              "    }\n",
              "\n",
              "    .dataframe thead th {\n",
              "        text-align: right;\n",
              "    }\n",
              "</style>\n",
              "<table border=\"1\" class=\"dataframe\">\n",
              "  <thead>\n",
              "    <tr style=\"text-align: right;\">\n",
              "      <th></th>\n",
              "      <th>Open</th>\n",
              "      <th>High</th>\n",
              "      <th>Low</th>\n",
              "      <th>Close</th>\n",
              "      <th>Volume</th>\n",
              "    </tr>\n",
              "    <tr>\n",
              "      <th>Date</th>\n",
              "      <th></th>\n",
              "      <th></th>\n",
              "      <th></th>\n",
              "      <th></th>\n",
              "      <th></th>\n",
              "    </tr>\n",
              "  </thead>\n",
              "  <tbody>\n",
              "    <tr>\n",
              "      <th>2021-03-24</th>\n",
              "      <td>3151.04</td>\n",
              "      <td>3160.310</td>\n",
              "      <td>3085.1500</td>\n",
              "      <td>3087.07</td>\n",
              "      <td>2952085</td>\n",
              "    </tr>\n",
              "    <tr>\n",
              "      <th>2021-03-23</th>\n",
              "      <td>3127.00</td>\n",
              "      <td>3182.000</td>\n",
              "      <td>3120.8501</td>\n",
              "      <td>3137.50</td>\n",
              "      <td>3817263</td>\n",
              "    </tr>\n",
              "    <tr>\n",
              "      <th>2021-03-22</th>\n",
              "      <td>3067.85</td>\n",
              "      <td>3126.580</td>\n",
              "      <td>3060.0500</td>\n",
              "      <td>3110.87</td>\n",
              "      <td>2902179</td>\n",
              "    </tr>\n",
              "    <tr>\n",
              "      <th>2021-03-19</th>\n",
              "      <td>3029.23</td>\n",
              "      <td>3077.285</td>\n",
              "      <td>3016.6300</td>\n",
              "      <td>3074.96</td>\n",
              "      <td>4625354</td>\n",
              "    </tr>\n",
              "    <tr>\n",
              "      <th>2021-03-18</th>\n",
              "      <td>3101.00</td>\n",
              "      <td>3116.630</td>\n",
              "      <td>3025.0000</td>\n",
              "      <td>3027.99</td>\n",
              "      <td>3657027</td>\n",
              "    </tr>\n",
              "  </tbody>\n",
              "</table>\n",
              "</div>"
            ],
            "text/plain": [
              "               Open      High        Low    Close   Volume\n",
              "Date                                                      \n",
              "2021-03-24  3151.04  3160.310  3085.1500  3087.07  2952085\n",
              "2021-03-23  3127.00  3182.000  3120.8501  3137.50  3817263\n",
              "2021-03-22  3067.85  3126.580  3060.0500  3110.87  2902179\n",
              "2021-03-19  3029.23  3077.285  3016.6300  3074.96  4625354\n",
              "2021-03-18  3101.00  3116.630  3025.0000  3027.99  3657027"
            ]
          },
          "metadata": {
            "tags": []
          },
          "execution_count": 238
        }
      ]
    },
    {
      "cell_type": "code",
      "metadata": {
        "colab": {
          "base_uri": "https://localhost:8080/",
          "height": 173
        },
        "id": "r9Rw1c2oOJFq",
        "outputId": "0fd7d5db-70a6-40a4-a083-8bcb12db4886"
      },
      "source": [
        "df.head(3)"
      ],
      "execution_count": null,
      "outputs": [
        {
          "output_type": "execute_result",
          "data": {
            "text/html": [
              "<div>\n",
              "<style scoped>\n",
              "    .dataframe tbody tr th:only-of-type {\n",
              "        vertical-align: middle;\n",
              "    }\n",
              "\n",
              "    .dataframe tbody tr th {\n",
              "        vertical-align: top;\n",
              "    }\n",
              "\n",
              "    .dataframe thead th {\n",
              "        text-align: right;\n",
              "    }\n",
              "</style>\n",
              "<table border=\"1\" class=\"dataframe\">\n",
              "  <thead>\n",
              "    <tr style=\"text-align: right;\">\n",
              "      <th></th>\n",
              "      <th>Open</th>\n",
              "      <th>High</th>\n",
              "      <th>Low</th>\n",
              "      <th>Close</th>\n",
              "      <th>Volume</th>\n",
              "    </tr>\n",
              "    <tr>\n",
              "      <th>Date</th>\n",
              "      <th></th>\n",
              "      <th></th>\n",
              "      <th></th>\n",
              "      <th></th>\n",
              "      <th></th>\n",
              "    </tr>\n",
              "  </thead>\n",
              "  <tbody>\n",
              "    <tr>\n",
              "      <th>2021-03-24</th>\n",
              "      <td>3151.04</td>\n",
              "      <td>3160.31</td>\n",
              "      <td>3085.1500</td>\n",
              "      <td>3087.07</td>\n",
              "      <td>2952085</td>\n",
              "    </tr>\n",
              "    <tr>\n",
              "      <th>2021-03-23</th>\n",
              "      <td>3127.00</td>\n",
              "      <td>3182.00</td>\n",
              "      <td>3120.8501</td>\n",
              "      <td>3137.50</td>\n",
              "      <td>3817263</td>\n",
              "    </tr>\n",
              "    <tr>\n",
              "      <th>2021-03-22</th>\n",
              "      <td>3067.85</td>\n",
              "      <td>3126.58</td>\n",
              "      <td>3060.0500</td>\n",
              "      <td>3110.87</td>\n",
              "      <td>2902179</td>\n",
              "    </tr>\n",
              "  </tbody>\n",
              "</table>\n",
              "</div>"
            ],
            "text/plain": [
              "               Open     High        Low    Close   Volume\n",
              "Date                                                     \n",
              "2021-03-24  3151.04  3160.31  3085.1500  3087.07  2952085\n",
              "2021-03-23  3127.00  3182.00  3120.8501  3137.50  3817263\n",
              "2021-03-22  3067.85  3126.58  3060.0500  3110.87  2902179"
            ]
          },
          "metadata": {
            "tags": []
          },
          "execution_count": 239
        }
      ]
    },
    {
      "cell_type": "code",
      "metadata": {
        "colab": {
          "base_uri": "https://localhost:8080/",
          "height": 235
        },
        "id": "Z4XCoWf1Oe_V",
        "outputId": "83b6f603-c69a-4caa-dda3-6e23d7c19ce5"
      },
      "source": [
        "df.tail()"
      ],
      "execution_count": null,
      "outputs": [
        {
          "output_type": "execute_result",
          "data": {
            "text/html": [
              "<div>\n",
              "<style scoped>\n",
              "    .dataframe tbody tr th:only-of-type {\n",
              "        vertical-align: middle;\n",
              "    }\n",
              "\n",
              "    .dataframe tbody tr th {\n",
              "        vertical-align: top;\n",
              "    }\n",
              "\n",
              "    .dataframe thead th {\n",
              "        text-align: right;\n",
              "    }\n",
              "</style>\n",
              "<table border=\"1\" class=\"dataframe\">\n",
              "  <thead>\n",
              "    <tr style=\"text-align: right;\">\n",
              "      <th></th>\n",
              "      <th>Open</th>\n",
              "      <th>High</th>\n",
              "      <th>Low</th>\n",
              "      <th>Close</th>\n",
              "      <th>Volume</th>\n",
              "    </tr>\n",
              "    <tr>\n",
              "      <th>Date</th>\n",
              "      <th></th>\n",
              "      <th></th>\n",
              "      <th></th>\n",
              "      <th></th>\n",
              "      <th></th>\n",
              "    </tr>\n",
              "  </thead>\n",
              "  <tbody>\n",
              "    <tr>\n",
              "      <th>2016-04-01</th>\n",
              "      <td>590.49</td>\n",
              "      <td>599.03</td>\n",
              "      <td>588.30</td>\n",
              "      <td>598.50</td>\n",
              "      <td>2293292</td>\n",
              "    </tr>\n",
              "    <tr>\n",
              "      <th>2016-03-31</th>\n",
              "      <td>599.28</td>\n",
              "      <td>600.75</td>\n",
              "      <td>592.21</td>\n",
              "      <td>593.64</td>\n",
              "      <td>2032513</td>\n",
              "    </tr>\n",
              "    <tr>\n",
              "      <th>2016-03-30</th>\n",
              "      <td>596.71</td>\n",
              "      <td>603.24</td>\n",
              "      <td>595.00</td>\n",
              "      <td>598.69</td>\n",
              "      <td>3204413</td>\n",
              "    </tr>\n",
              "    <tr>\n",
              "      <th>2016-03-29</th>\n",
              "      <td>580.15</td>\n",
              "      <td>595.85</td>\n",
              "      <td>576.50</td>\n",
              "      <td>593.86</td>\n",
              "      <td>3702016</td>\n",
              "    </tr>\n",
              "    <tr>\n",
              "      <th>2016-03-28</th>\n",
              "      <td>584.40</td>\n",
              "      <td>584.75</td>\n",
              "      <td>575.56</td>\n",
              "      <td>579.87</td>\n",
              "      <td>2711908</td>\n",
              "    </tr>\n",
              "  </tbody>\n",
              "</table>\n",
              "</div>"
            ],
            "text/plain": [
              "              Open    High     Low   Close   Volume\n",
              "Date                                               \n",
              "2016-04-01  590.49  599.03  588.30  598.50  2293292\n",
              "2016-03-31  599.28  600.75  592.21  593.64  2032513\n",
              "2016-03-30  596.71  603.24  595.00  598.69  3204413\n",
              "2016-03-29  580.15  595.85  576.50  593.86  3702016\n",
              "2016-03-28  584.40  584.75  575.56  579.87  2711908"
            ]
          },
          "metadata": {
            "tags": []
          },
          "execution_count": 240
        }
      ]
    },
    {
      "cell_type": "code",
      "metadata": {
        "colab": {
          "base_uri": "https://localhost:8080/",
          "height": 173
        },
        "id": "gQyYysZsPTSs",
        "outputId": "ec1227e8-3042-49ea-b97e-e7e0f5dd0b66"
      },
      "source": [
        "df.tail(3)"
      ],
      "execution_count": null,
      "outputs": [
        {
          "output_type": "execute_result",
          "data": {
            "text/html": [
              "<div>\n",
              "<style scoped>\n",
              "    .dataframe tbody tr th:only-of-type {\n",
              "        vertical-align: middle;\n",
              "    }\n",
              "\n",
              "    .dataframe tbody tr th {\n",
              "        vertical-align: top;\n",
              "    }\n",
              "\n",
              "    .dataframe thead th {\n",
              "        text-align: right;\n",
              "    }\n",
              "</style>\n",
              "<table border=\"1\" class=\"dataframe\">\n",
              "  <thead>\n",
              "    <tr style=\"text-align: right;\">\n",
              "      <th></th>\n",
              "      <th>Open</th>\n",
              "      <th>High</th>\n",
              "      <th>Low</th>\n",
              "      <th>Close</th>\n",
              "      <th>Volume</th>\n",
              "    </tr>\n",
              "    <tr>\n",
              "      <th>Date</th>\n",
              "      <th></th>\n",
              "      <th></th>\n",
              "      <th></th>\n",
              "      <th></th>\n",
              "      <th></th>\n",
              "    </tr>\n",
              "  </thead>\n",
              "  <tbody>\n",
              "    <tr>\n",
              "      <th>2016-03-30</th>\n",
              "      <td>596.71</td>\n",
              "      <td>603.24</td>\n",
              "      <td>595.00</td>\n",
              "      <td>598.69</td>\n",
              "      <td>3204413</td>\n",
              "    </tr>\n",
              "    <tr>\n",
              "      <th>2016-03-29</th>\n",
              "      <td>580.15</td>\n",
              "      <td>595.85</td>\n",
              "      <td>576.50</td>\n",
              "      <td>593.86</td>\n",
              "      <td>3702016</td>\n",
              "    </tr>\n",
              "    <tr>\n",
              "      <th>2016-03-28</th>\n",
              "      <td>584.40</td>\n",
              "      <td>584.75</td>\n",
              "      <td>575.56</td>\n",
              "      <td>579.87</td>\n",
              "      <td>2711908</td>\n",
              "    </tr>\n",
              "  </tbody>\n",
              "</table>\n",
              "</div>"
            ],
            "text/plain": [
              "              Open    High     Low   Close   Volume\n",
              "Date                                               \n",
              "2016-03-30  596.71  603.24  595.00  598.69  3204413\n",
              "2016-03-29  580.15  595.85  576.50  593.86  3702016\n",
              "2016-03-28  584.40  584.75  575.56  579.87  2711908"
            ]
          },
          "metadata": {
            "tags": []
          },
          "execution_count": 241
        }
      ]
    },
    {
      "cell_type": "code",
      "metadata": {
        "colab": {
          "base_uri": "https://localhost:8080/"
        },
        "id": "kTTQ-Lp-PWUc",
        "outputId": "5f82d50a-ba8b-4897-c6d6-04ca6f628755"
      },
      "source": [
        "df.columns"
      ],
      "execution_count": null,
      "outputs": [
        {
          "output_type": "execute_result",
          "data": {
            "text/plain": [
              "Index(['Open', 'High', 'Low', 'Close', 'Volume'], dtype='object')"
            ]
          },
          "metadata": {
            "tags": []
          },
          "execution_count": 242
        }
      ]
    },
    {
      "cell_type": "code",
      "metadata": {
        "colab": {
          "base_uri": "https://localhost:8080/",
          "height": 235
        },
        "id": "6_q2ih2RPs7l",
        "outputId": "fffa05f4-43a0-4798-d518-cd77579bb8d3"
      },
      "source": [
        "df.columns = [col.lower() for col in df.columns]\n",
        "df.head()"
      ],
      "execution_count": null,
      "outputs": [
        {
          "output_type": "execute_result",
          "data": {
            "text/html": [
              "<div>\n",
              "<style scoped>\n",
              "    .dataframe tbody tr th:only-of-type {\n",
              "        vertical-align: middle;\n",
              "    }\n",
              "\n",
              "    .dataframe tbody tr th {\n",
              "        vertical-align: top;\n",
              "    }\n",
              "\n",
              "    .dataframe thead th {\n",
              "        text-align: right;\n",
              "    }\n",
              "</style>\n",
              "<table border=\"1\" class=\"dataframe\">\n",
              "  <thead>\n",
              "    <tr style=\"text-align: right;\">\n",
              "      <th></th>\n",
              "      <th>open</th>\n",
              "      <th>high</th>\n",
              "      <th>low</th>\n",
              "      <th>close</th>\n",
              "      <th>volume</th>\n",
              "    </tr>\n",
              "    <tr>\n",
              "      <th>Date</th>\n",
              "      <th></th>\n",
              "      <th></th>\n",
              "      <th></th>\n",
              "      <th></th>\n",
              "      <th></th>\n",
              "    </tr>\n",
              "  </thead>\n",
              "  <tbody>\n",
              "    <tr>\n",
              "      <th>2021-03-24</th>\n",
              "      <td>3151.04</td>\n",
              "      <td>3160.310</td>\n",
              "      <td>3085.1500</td>\n",
              "      <td>3087.07</td>\n",
              "      <td>2952085</td>\n",
              "    </tr>\n",
              "    <tr>\n",
              "      <th>2021-03-23</th>\n",
              "      <td>3127.00</td>\n",
              "      <td>3182.000</td>\n",
              "      <td>3120.8501</td>\n",
              "      <td>3137.50</td>\n",
              "      <td>3817263</td>\n",
              "    </tr>\n",
              "    <tr>\n",
              "      <th>2021-03-22</th>\n",
              "      <td>3067.85</td>\n",
              "      <td>3126.580</td>\n",
              "      <td>3060.0500</td>\n",
              "      <td>3110.87</td>\n",
              "      <td>2902179</td>\n",
              "    </tr>\n",
              "    <tr>\n",
              "      <th>2021-03-19</th>\n",
              "      <td>3029.23</td>\n",
              "      <td>3077.285</td>\n",
              "      <td>3016.6300</td>\n",
              "      <td>3074.96</td>\n",
              "      <td>4625354</td>\n",
              "    </tr>\n",
              "    <tr>\n",
              "      <th>2021-03-18</th>\n",
              "      <td>3101.00</td>\n",
              "      <td>3116.630</td>\n",
              "      <td>3025.0000</td>\n",
              "      <td>3027.99</td>\n",
              "      <td>3657027</td>\n",
              "    </tr>\n",
              "  </tbody>\n",
              "</table>\n",
              "</div>"
            ],
            "text/plain": [
              "               open      high        low    close   volume\n",
              "Date                                                      \n",
              "2021-03-24  3151.04  3160.310  3085.1500  3087.07  2952085\n",
              "2021-03-23  3127.00  3182.000  3120.8501  3137.50  3817263\n",
              "2021-03-22  3067.85  3126.580  3060.0500  3110.87  2902179\n",
              "2021-03-19  3029.23  3077.285  3016.6300  3074.96  4625354\n",
              "2021-03-18  3101.00  3116.630  3025.0000  3027.99  3657027"
            ]
          },
          "metadata": {
            "tags": []
          },
          "execution_count": 243
        }
      ]
    },
    {
      "cell_type": "code",
      "metadata": {
        "colab": {
          "base_uri": "https://localhost:8080/",
          "height": 297
        },
        "id": "cPS-cL1wQkoL",
        "outputId": "c5649768-58ca-42ef-c50f-8b4d8fcf9c61"
      },
      "source": [
        "df.describe()"
      ],
      "execution_count": null,
      "outputs": [
        {
          "output_type": "execute_result",
          "data": {
            "text/html": [
              "<div>\n",
              "<style scoped>\n",
              "    .dataframe tbody tr th:only-of-type {\n",
              "        vertical-align: middle;\n",
              "    }\n",
              "\n",
              "    .dataframe tbody tr th {\n",
              "        vertical-align: top;\n",
              "    }\n",
              "\n",
              "    .dataframe thead th {\n",
              "        text-align: right;\n",
              "    }\n",
              "</style>\n",
              "<table border=\"1\" class=\"dataframe\">\n",
              "  <thead>\n",
              "    <tr style=\"text-align: right;\">\n",
              "      <th></th>\n",
              "      <th>open</th>\n",
              "      <th>high</th>\n",
              "      <th>low</th>\n",
              "      <th>close</th>\n",
              "      <th>volume</th>\n",
              "    </tr>\n",
              "  </thead>\n",
              "  <tbody>\n",
              "    <tr>\n",
              "      <th>count</th>\n",
              "      <td>1258.000000</td>\n",
              "      <td>1258.000000</td>\n",
              "      <td>1258.000000</td>\n",
              "      <td>1258.000000</td>\n",
              "      <td>1.258000e+03</td>\n",
              "    </tr>\n",
              "    <tr>\n",
              "      <th>mean</th>\n",
              "      <td>1675.007771</td>\n",
              "      <td>1692.427869</td>\n",
              "      <td>1655.088469</td>\n",
              "      <td>1674.325131</td>\n",
              "      <td>4.239223e+06</td>\n",
              "    </tr>\n",
              "    <tr>\n",
              "      <th>std</th>\n",
              "      <td>786.242914</td>\n",
              "      <td>796.959564</td>\n",
              "      <td>773.484289</td>\n",
              "      <td>784.861964</td>\n",
              "      <td>2.117987e+06</td>\n",
              "    </tr>\n",
              "    <tr>\n",
              "      <th>min</th>\n",
              "      <td>580.150000</td>\n",
              "      <td>584.750000</td>\n",
              "      <td>575.560000</td>\n",
              "      <td>579.870000</td>\n",
              "      <td>8.813370e+05</td>\n",
              "    </tr>\n",
              "    <tr>\n",
              "      <th>25%</th>\n",
              "      <td>967.330000</td>\n",
              "      <td>974.422500</td>\n",
              "      <td>959.195000</td>\n",
              "      <td>965.942500</td>\n",
              "      <td>2.817824e+06</td>\n",
              "    </tr>\n",
              "    <tr>\n",
              "      <th>50%</th>\n",
              "      <td>1673.995000</td>\n",
              "      <td>1697.595000</td>\n",
              "      <td>1652.080000</td>\n",
              "      <td>1670.595000</td>\n",
              "      <td>3.673067e+06</td>\n",
              "    </tr>\n",
              "    <tr>\n",
              "      <th>75%</th>\n",
              "      <td>1930.670000</td>\n",
              "      <td>1950.740000</td>\n",
              "      <td>1906.870000</td>\n",
              "      <td>1926.495000</td>\n",
              "      <td>5.095006e+06</td>\n",
              "    </tr>\n",
              "    <tr>\n",
              "      <th>max</th>\n",
              "      <td>3547.000000</td>\n",
              "      <td>3552.250000</td>\n",
              "      <td>3486.685000</td>\n",
              "      <td>3531.450000</td>\n",
              "      <td>1.655260e+07</td>\n",
              "    </tr>\n",
              "  </tbody>\n",
              "</table>\n",
              "</div>"
            ],
            "text/plain": [
              "              open         high          low        close        volume\n",
              "count  1258.000000  1258.000000  1258.000000  1258.000000  1.258000e+03\n",
              "mean   1675.007771  1692.427869  1655.088469  1674.325131  4.239223e+06\n",
              "std     786.242914   796.959564   773.484289   784.861964  2.117987e+06\n",
              "min     580.150000   584.750000   575.560000   579.870000  8.813370e+05\n",
              "25%     967.330000   974.422500   959.195000   965.942500  2.817824e+06\n",
              "50%    1673.995000  1697.595000  1652.080000  1670.595000  3.673067e+06\n",
              "75%    1930.670000  1950.740000  1906.870000  1926.495000  5.095006e+06\n",
              "max    3547.000000  3552.250000  3486.685000  3531.450000  1.655260e+07"
            ]
          },
          "metadata": {
            "tags": []
          },
          "execution_count": 244
        }
      ]
    },
    {
      "cell_type": "code",
      "metadata": {
        "colab": {
          "base_uri": "https://localhost:8080/",
          "height": 204
        },
        "id": "ZSfzj2YARaa1",
        "outputId": "05b7be54-8a56-48b3-fe7e-baa0c12280b5"
      },
      "source": [
        "df.describe().T"
      ],
      "execution_count": null,
      "outputs": [
        {
          "output_type": "execute_result",
          "data": {
            "text/html": [
              "<div>\n",
              "<style scoped>\n",
              "    .dataframe tbody tr th:only-of-type {\n",
              "        vertical-align: middle;\n",
              "    }\n",
              "\n",
              "    .dataframe tbody tr th {\n",
              "        vertical-align: top;\n",
              "    }\n",
              "\n",
              "    .dataframe thead th {\n",
              "        text-align: right;\n",
              "    }\n",
              "</style>\n",
              "<table border=\"1\" class=\"dataframe\">\n",
              "  <thead>\n",
              "    <tr style=\"text-align: right;\">\n",
              "      <th></th>\n",
              "      <th>count</th>\n",
              "      <th>mean</th>\n",
              "      <th>std</th>\n",
              "      <th>min</th>\n",
              "      <th>25%</th>\n",
              "      <th>50%</th>\n",
              "      <th>75%</th>\n",
              "      <th>max</th>\n",
              "    </tr>\n",
              "  </thead>\n",
              "  <tbody>\n",
              "    <tr>\n",
              "      <th>open</th>\n",
              "      <td>1258.0</td>\n",
              "      <td>1.675008e+03</td>\n",
              "      <td>7.862429e+02</td>\n",
              "      <td>580.15</td>\n",
              "      <td>9.673300e+02</td>\n",
              "      <td>1673.995</td>\n",
              "      <td>1930.670</td>\n",
              "      <td>3.547000e+03</td>\n",
              "    </tr>\n",
              "    <tr>\n",
              "      <th>high</th>\n",
              "      <td>1258.0</td>\n",
              "      <td>1.692428e+03</td>\n",
              "      <td>7.969596e+02</td>\n",
              "      <td>584.75</td>\n",
              "      <td>9.744225e+02</td>\n",
              "      <td>1697.595</td>\n",
              "      <td>1950.740</td>\n",
              "      <td>3.552250e+03</td>\n",
              "    </tr>\n",
              "    <tr>\n",
              "      <th>low</th>\n",
              "      <td>1258.0</td>\n",
              "      <td>1.655088e+03</td>\n",
              "      <td>7.734843e+02</td>\n",
              "      <td>575.56</td>\n",
              "      <td>9.591950e+02</td>\n",
              "      <td>1652.080</td>\n",
              "      <td>1906.870</td>\n",
              "      <td>3.486685e+03</td>\n",
              "    </tr>\n",
              "    <tr>\n",
              "      <th>close</th>\n",
              "      <td>1258.0</td>\n",
              "      <td>1.674325e+03</td>\n",
              "      <td>7.848620e+02</td>\n",
              "      <td>579.87</td>\n",
              "      <td>9.659425e+02</td>\n",
              "      <td>1670.595</td>\n",
              "      <td>1926.495</td>\n",
              "      <td>3.531450e+03</td>\n",
              "    </tr>\n",
              "    <tr>\n",
              "      <th>volume</th>\n",
              "      <td>1258.0</td>\n",
              "      <td>4.239223e+06</td>\n",
              "      <td>2.117987e+06</td>\n",
              "      <td>881337.00</td>\n",
              "      <td>2.817824e+06</td>\n",
              "      <td>3673067.000</td>\n",
              "      <td>5095005.750</td>\n",
              "      <td>1.655260e+07</td>\n",
              "    </tr>\n",
              "  </tbody>\n",
              "</table>\n",
              "</div>"
            ],
            "text/plain": [
              "         count          mean  ...          75%           max\n",
              "open    1258.0  1.675008e+03  ...     1930.670  3.547000e+03\n",
              "high    1258.0  1.692428e+03  ...     1950.740  3.552250e+03\n",
              "low     1258.0  1.655088e+03  ...     1906.870  3.486685e+03\n",
              "close   1258.0  1.674325e+03  ...     1926.495  3.531450e+03\n",
              "volume  1258.0  4.239223e+06  ...  5095005.750  1.655260e+07\n",
              "\n",
              "[5 rows x 8 columns]"
            ]
          },
          "metadata": {
            "tags": []
          },
          "execution_count": 245
        }
      ]
    },
    {
      "cell_type": "markdown",
      "metadata": {
        "id": "9zyjCgnxZVBe"
      },
      "source": [
        "3. SELEKCJA KOLUMN - jak wycinać kolumny"
      ]
    },
    {
      "cell_type": "code",
      "metadata": {
        "colab": {
          "base_uri": "https://localhost:8080/",
          "height": 390
        },
        "id": "0YJMQQXaZQh3",
        "outputId": "441d660d-4276-45e3-a5c4-da891b324e97"
      },
      "source": [
        "df = df.head(10)\n",
        "df"
      ],
      "execution_count": null,
      "outputs": [
        {
          "output_type": "execute_result",
          "data": {
            "text/html": [
              "<div>\n",
              "<style scoped>\n",
              "    .dataframe tbody tr th:only-of-type {\n",
              "        vertical-align: middle;\n",
              "    }\n",
              "\n",
              "    .dataframe tbody tr th {\n",
              "        vertical-align: top;\n",
              "    }\n",
              "\n",
              "    .dataframe thead th {\n",
              "        text-align: right;\n",
              "    }\n",
              "</style>\n",
              "<table border=\"1\" class=\"dataframe\">\n",
              "  <thead>\n",
              "    <tr style=\"text-align: right;\">\n",
              "      <th></th>\n",
              "      <th>open</th>\n",
              "      <th>high</th>\n",
              "      <th>low</th>\n",
              "      <th>close</th>\n",
              "      <th>volume</th>\n",
              "    </tr>\n",
              "    <tr>\n",
              "      <th>Date</th>\n",
              "      <th></th>\n",
              "      <th></th>\n",
              "      <th></th>\n",
              "      <th></th>\n",
              "      <th></th>\n",
              "    </tr>\n",
              "  </thead>\n",
              "  <tbody>\n",
              "    <tr>\n",
              "      <th>2021-03-24</th>\n",
              "      <td>3151.04</td>\n",
              "      <td>3160.3100</td>\n",
              "      <td>3085.1500</td>\n",
              "      <td>3087.07</td>\n",
              "      <td>2952085</td>\n",
              "    </tr>\n",
              "    <tr>\n",
              "      <th>2021-03-23</th>\n",
              "      <td>3127.00</td>\n",
              "      <td>3182.0000</td>\n",
              "      <td>3120.8501</td>\n",
              "      <td>3137.50</td>\n",
              "      <td>3817263</td>\n",
              "    </tr>\n",
              "    <tr>\n",
              "      <th>2021-03-22</th>\n",
              "      <td>3067.85</td>\n",
              "      <td>3126.5800</td>\n",
              "      <td>3060.0500</td>\n",
              "      <td>3110.87</td>\n",
              "      <td>2902179</td>\n",
              "    </tr>\n",
              "    <tr>\n",
              "      <th>2021-03-19</th>\n",
              "      <td>3029.23</td>\n",
              "      <td>3077.2850</td>\n",
              "      <td>3016.6300</td>\n",
              "      <td>3074.96</td>\n",
              "      <td>4625354</td>\n",
              "    </tr>\n",
              "    <tr>\n",
              "      <th>2021-03-18</th>\n",
              "      <td>3101.00</td>\n",
              "      <td>3116.6300</td>\n",
              "      <td>3025.0000</td>\n",
              "      <td>3027.99</td>\n",
              "      <td>3657027</td>\n",
              "    </tr>\n",
              "    <tr>\n",
              "      <th>2021-03-17</th>\n",
              "      <td>3073.22</td>\n",
              "      <td>3173.0500</td>\n",
              "      <td>3070.2200</td>\n",
              "      <td>3135.73</td>\n",
              "      <td>3118584</td>\n",
              "    </tr>\n",
              "    <tr>\n",
              "      <th>2021-03-16</th>\n",
              "      <td>3104.97</td>\n",
              "      <td>3128.9100</td>\n",
              "      <td>3075.8601</td>\n",
              "      <td>3091.86</td>\n",
              "      <td>2538764</td>\n",
              "    </tr>\n",
              "    <tr>\n",
              "      <th>2021-03-15</th>\n",
              "      <td>3074.57</td>\n",
              "      <td>3082.2400</td>\n",
              "      <td>3032.0900</td>\n",
              "      <td>3081.68</td>\n",
              "      <td>2918592</td>\n",
              "    </tr>\n",
              "    <tr>\n",
              "      <th>2021-03-12</th>\n",
              "      <td>3075.00</td>\n",
              "      <td>3098.9800</td>\n",
              "      <td>3045.5000</td>\n",
              "      <td>3089.49</td>\n",
              "      <td>2421888</td>\n",
              "    </tr>\n",
              "    <tr>\n",
              "      <th>2021-03-11</th>\n",
              "      <td>3104.01</td>\n",
              "      <td>3131.7843</td>\n",
              "      <td>3082.9300</td>\n",
              "      <td>3113.59</td>\n",
              "      <td>2776391</td>\n",
              "    </tr>\n",
              "  </tbody>\n",
              "</table>\n",
              "</div>"
            ],
            "text/plain": [
              "               open       high        low    close   volume\n",
              "Date                                                       \n",
              "2021-03-24  3151.04  3160.3100  3085.1500  3087.07  2952085\n",
              "2021-03-23  3127.00  3182.0000  3120.8501  3137.50  3817263\n",
              "2021-03-22  3067.85  3126.5800  3060.0500  3110.87  2902179\n",
              "2021-03-19  3029.23  3077.2850  3016.6300  3074.96  4625354\n",
              "2021-03-18  3101.00  3116.6300  3025.0000  3027.99  3657027\n",
              "2021-03-17  3073.22  3173.0500  3070.2200  3135.73  3118584\n",
              "2021-03-16  3104.97  3128.9100  3075.8601  3091.86  2538764\n",
              "2021-03-15  3074.57  3082.2400  3032.0900  3081.68  2918592\n",
              "2021-03-12  3075.00  3098.9800  3045.5000  3089.49  2421888\n",
              "2021-03-11  3104.01  3131.7843  3082.9300  3113.59  2776391"
            ]
          },
          "metadata": {
            "tags": []
          },
          "execution_count": 246
        }
      ]
    },
    {
      "cell_type": "code",
      "metadata": {
        "colab": {
          "base_uri": "https://localhost:8080/"
        },
        "id": "_FW6_jsUSeKV",
        "outputId": "058335d6-1c5d-47bd-d196-21d78d2aba19"
      },
      "source": [
        "df['open']"
      ],
      "execution_count": null,
      "outputs": [
        {
          "output_type": "execute_result",
          "data": {
            "text/plain": [
              "Date\n",
              "2021-03-24    3151.04\n",
              "2021-03-23    3127.00\n",
              "2021-03-22    3067.85\n",
              "2021-03-19    3029.23\n",
              "2021-03-18    3101.00\n",
              "2021-03-17    3073.22\n",
              "2021-03-16    3104.97\n",
              "2021-03-15    3074.57\n",
              "2021-03-12    3075.00\n",
              "2021-03-11    3104.01\n",
              "Name: open, dtype: float64"
            ]
          },
          "metadata": {
            "tags": []
          },
          "execution_count": 247
        }
      ]
    },
    {
      "cell_type": "code",
      "metadata": {
        "colab": {
          "base_uri": "https://localhost:8080/"
        },
        "id": "Nwx7L-zVaeln",
        "outputId": "57a5868f-5ada-47cc-e9e3-a1a7ec25c902"
      },
      "source": [
        "df.open"
      ],
      "execution_count": null,
      "outputs": [
        {
          "output_type": "execute_result",
          "data": {
            "text/plain": [
              "Date\n",
              "2021-03-24    3151.04\n",
              "2021-03-23    3127.00\n",
              "2021-03-22    3067.85\n",
              "2021-03-19    3029.23\n",
              "2021-03-18    3101.00\n",
              "2021-03-17    3073.22\n",
              "2021-03-16    3104.97\n",
              "2021-03-15    3074.57\n",
              "2021-03-12    3075.00\n",
              "2021-03-11    3104.01\n",
              "Name: open, dtype: float64"
            ]
          },
          "metadata": {
            "tags": []
          },
          "execution_count": 248
        }
      ]
    },
    {
      "cell_type": "code",
      "metadata": {
        "colab": {
          "base_uri": "https://localhost:8080/",
          "height": 390
        },
        "id": "bmfIi1gWauD2",
        "outputId": "cd811c42-3954-4777-cd8c-cf913e1a7c02"
      },
      "source": [
        "df[['open']]"
      ],
      "execution_count": null,
      "outputs": [
        {
          "output_type": "execute_result",
          "data": {
            "text/html": [
              "<div>\n",
              "<style scoped>\n",
              "    .dataframe tbody tr th:only-of-type {\n",
              "        vertical-align: middle;\n",
              "    }\n",
              "\n",
              "    .dataframe tbody tr th {\n",
              "        vertical-align: top;\n",
              "    }\n",
              "\n",
              "    .dataframe thead th {\n",
              "        text-align: right;\n",
              "    }\n",
              "</style>\n",
              "<table border=\"1\" class=\"dataframe\">\n",
              "  <thead>\n",
              "    <tr style=\"text-align: right;\">\n",
              "      <th></th>\n",
              "      <th>open</th>\n",
              "    </tr>\n",
              "    <tr>\n",
              "      <th>Date</th>\n",
              "      <th></th>\n",
              "    </tr>\n",
              "  </thead>\n",
              "  <tbody>\n",
              "    <tr>\n",
              "      <th>2021-03-24</th>\n",
              "      <td>3151.04</td>\n",
              "    </tr>\n",
              "    <tr>\n",
              "      <th>2021-03-23</th>\n",
              "      <td>3127.00</td>\n",
              "    </tr>\n",
              "    <tr>\n",
              "      <th>2021-03-22</th>\n",
              "      <td>3067.85</td>\n",
              "    </tr>\n",
              "    <tr>\n",
              "      <th>2021-03-19</th>\n",
              "      <td>3029.23</td>\n",
              "    </tr>\n",
              "    <tr>\n",
              "      <th>2021-03-18</th>\n",
              "      <td>3101.00</td>\n",
              "    </tr>\n",
              "    <tr>\n",
              "      <th>2021-03-17</th>\n",
              "      <td>3073.22</td>\n",
              "    </tr>\n",
              "    <tr>\n",
              "      <th>2021-03-16</th>\n",
              "      <td>3104.97</td>\n",
              "    </tr>\n",
              "    <tr>\n",
              "      <th>2021-03-15</th>\n",
              "      <td>3074.57</td>\n",
              "    </tr>\n",
              "    <tr>\n",
              "      <th>2021-03-12</th>\n",
              "      <td>3075.00</td>\n",
              "    </tr>\n",
              "    <tr>\n",
              "      <th>2021-03-11</th>\n",
              "      <td>3104.01</td>\n",
              "    </tr>\n",
              "  </tbody>\n",
              "</table>\n",
              "</div>"
            ],
            "text/plain": [
              "               open\n",
              "Date               \n",
              "2021-03-24  3151.04\n",
              "2021-03-23  3127.00\n",
              "2021-03-22  3067.85\n",
              "2021-03-19  3029.23\n",
              "2021-03-18  3101.00\n",
              "2021-03-17  3073.22\n",
              "2021-03-16  3104.97\n",
              "2021-03-15  3074.57\n",
              "2021-03-12  3075.00\n",
              "2021-03-11  3104.01"
            ]
          },
          "metadata": {
            "tags": []
          },
          "execution_count": 249
        }
      ]
    },
    {
      "cell_type": "code",
      "metadata": {
        "colab": {
          "base_uri": "https://localhost:8080/",
          "height": 390
        },
        "id": "UG5-Qt0JbuYv",
        "outputId": "1e61b4f1-cbb1-4b38-9fe7-89b10a47722f"
      },
      "source": [
        "df[['open', 'close']]"
      ],
      "execution_count": null,
      "outputs": [
        {
          "output_type": "execute_result",
          "data": {
            "text/html": [
              "<div>\n",
              "<style scoped>\n",
              "    .dataframe tbody tr th:only-of-type {\n",
              "        vertical-align: middle;\n",
              "    }\n",
              "\n",
              "    .dataframe tbody tr th {\n",
              "        vertical-align: top;\n",
              "    }\n",
              "\n",
              "    .dataframe thead th {\n",
              "        text-align: right;\n",
              "    }\n",
              "</style>\n",
              "<table border=\"1\" class=\"dataframe\">\n",
              "  <thead>\n",
              "    <tr style=\"text-align: right;\">\n",
              "      <th></th>\n",
              "      <th>open</th>\n",
              "      <th>close</th>\n",
              "    </tr>\n",
              "    <tr>\n",
              "      <th>Date</th>\n",
              "      <th></th>\n",
              "      <th></th>\n",
              "    </tr>\n",
              "  </thead>\n",
              "  <tbody>\n",
              "    <tr>\n",
              "      <th>2021-03-24</th>\n",
              "      <td>3151.04</td>\n",
              "      <td>3087.07</td>\n",
              "    </tr>\n",
              "    <tr>\n",
              "      <th>2021-03-23</th>\n",
              "      <td>3127.00</td>\n",
              "      <td>3137.50</td>\n",
              "    </tr>\n",
              "    <tr>\n",
              "      <th>2021-03-22</th>\n",
              "      <td>3067.85</td>\n",
              "      <td>3110.87</td>\n",
              "    </tr>\n",
              "    <tr>\n",
              "      <th>2021-03-19</th>\n",
              "      <td>3029.23</td>\n",
              "      <td>3074.96</td>\n",
              "    </tr>\n",
              "    <tr>\n",
              "      <th>2021-03-18</th>\n",
              "      <td>3101.00</td>\n",
              "      <td>3027.99</td>\n",
              "    </tr>\n",
              "    <tr>\n",
              "      <th>2021-03-17</th>\n",
              "      <td>3073.22</td>\n",
              "      <td>3135.73</td>\n",
              "    </tr>\n",
              "    <tr>\n",
              "      <th>2021-03-16</th>\n",
              "      <td>3104.97</td>\n",
              "      <td>3091.86</td>\n",
              "    </tr>\n",
              "    <tr>\n",
              "      <th>2021-03-15</th>\n",
              "      <td>3074.57</td>\n",
              "      <td>3081.68</td>\n",
              "    </tr>\n",
              "    <tr>\n",
              "      <th>2021-03-12</th>\n",
              "      <td>3075.00</td>\n",
              "      <td>3089.49</td>\n",
              "    </tr>\n",
              "    <tr>\n",
              "      <th>2021-03-11</th>\n",
              "      <td>3104.01</td>\n",
              "      <td>3113.59</td>\n",
              "    </tr>\n",
              "  </tbody>\n",
              "</table>\n",
              "</div>"
            ],
            "text/plain": [
              "               open    close\n",
              "Date                        \n",
              "2021-03-24  3151.04  3087.07\n",
              "2021-03-23  3127.00  3137.50\n",
              "2021-03-22  3067.85  3110.87\n",
              "2021-03-19  3029.23  3074.96\n",
              "2021-03-18  3101.00  3027.99\n",
              "2021-03-17  3073.22  3135.73\n",
              "2021-03-16  3104.97  3091.86\n",
              "2021-03-15  3074.57  3081.68\n",
              "2021-03-12  3075.00  3089.49\n",
              "2021-03-11  3104.01  3113.59"
            ]
          },
          "metadata": {
            "tags": []
          },
          "execution_count": 250
        }
      ]
    },
    {
      "cell_type": "code",
      "metadata": {
        "colab": {
          "base_uri": "https://localhost:8080/"
        },
        "id": "hZw5SS7odAyf",
        "outputId": "40474e6f-77ed-43f5-ba11-5568ca9a5e5b"
      },
      "source": [
        "df.iloc[:, 0]"
      ],
      "execution_count": null,
      "outputs": [
        {
          "output_type": "execute_result",
          "data": {
            "text/plain": [
              "Date\n",
              "2021-03-24    3151.04\n",
              "2021-03-23    3127.00\n",
              "2021-03-22    3067.85\n",
              "2021-03-19    3029.23\n",
              "2021-03-18    3101.00\n",
              "2021-03-17    3073.22\n",
              "2021-03-16    3104.97\n",
              "2021-03-15    3074.57\n",
              "2021-03-12    3075.00\n",
              "2021-03-11    3104.01\n",
              "Name: open, dtype: float64"
            ]
          },
          "metadata": {
            "tags": []
          },
          "execution_count": 251
        }
      ]
    },
    {
      "cell_type": "code",
      "metadata": {
        "colab": {
          "base_uri": "https://localhost:8080/",
          "height": 390
        },
        "id": "pAPjvQJAehR_",
        "outputId": "b8006df0-ebaa-4216-fe4d-6cdfa8a9b9f4"
      },
      "source": [
        "df.iloc[:, [0, 3]]"
      ],
      "execution_count": null,
      "outputs": [
        {
          "output_type": "execute_result",
          "data": {
            "text/html": [
              "<div>\n",
              "<style scoped>\n",
              "    .dataframe tbody tr th:only-of-type {\n",
              "        vertical-align: middle;\n",
              "    }\n",
              "\n",
              "    .dataframe tbody tr th {\n",
              "        vertical-align: top;\n",
              "    }\n",
              "\n",
              "    .dataframe thead th {\n",
              "        text-align: right;\n",
              "    }\n",
              "</style>\n",
              "<table border=\"1\" class=\"dataframe\">\n",
              "  <thead>\n",
              "    <tr style=\"text-align: right;\">\n",
              "      <th></th>\n",
              "      <th>open</th>\n",
              "      <th>close</th>\n",
              "    </tr>\n",
              "    <tr>\n",
              "      <th>Date</th>\n",
              "      <th></th>\n",
              "      <th></th>\n",
              "    </tr>\n",
              "  </thead>\n",
              "  <tbody>\n",
              "    <tr>\n",
              "      <th>2021-03-24</th>\n",
              "      <td>3151.04</td>\n",
              "      <td>3087.07</td>\n",
              "    </tr>\n",
              "    <tr>\n",
              "      <th>2021-03-23</th>\n",
              "      <td>3127.00</td>\n",
              "      <td>3137.50</td>\n",
              "    </tr>\n",
              "    <tr>\n",
              "      <th>2021-03-22</th>\n",
              "      <td>3067.85</td>\n",
              "      <td>3110.87</td>\n",
              "    </tr>\n",
              "    <tr>\n",
              "      <th>2021-03-19</th>\n",
              "      <td>3029.23</td>\n",
              "      <td>3074.96</td>\n",
              "    </tr>\n",
              "    <tr>\n",
              "      <th>2021-03-18</th>\n",
              "      <td>3101.00</td>\n",
              "      <td>3027.99</td>\n",
              "    </tr>\n",
              "    <tr>\n",
              "      <th>2021-03-17</th>\n",
              "      <td>3073.22</td>\n",
              "      <td>3135.73</td>\n",
              "    </tr>\n",
              "    <tr>\n",
              "      <th>2021-03-16</th>\n",
              "      <td>3104.97</td>\n",
              "      <td>3091.86</td>\n",
              "    </tr>\n",
              "    <tr>\n",
              "      <th>2021-03-15</th>\n",
              "      <td>3074.57</td>\n",
              "      <td>3081.68</td>\n",
              "    </tr>\n",
              "    <tr>\n",
              "      <th>2021-03-12</th>\n",
              "      <td>3075.00</td>\n",
              "      <td>3089.49</td>\n",
              "    </tr>\n",
              "    <tr>\n",
              "      <th>2021-03-11</th>\n",
              "      <td>3104.01</td>\n",
              "      <td>3113.59</td>\n",
              "    </tr>\n",
              "  </tbody>\n",
              "</table>\n",
              "</div>"
            ],
            "text/plain": [
              "               open    close\n",
              "Date                        \n",
              "2021-03-24  3151.04  3087.07\n",
              "2021-03-23  3127.00  3137.50\n",
              "2021-03-22  3067.85  3110.87\n",
              "2021-03-19  3029.23  3074.96\n",
              "2021-03-18  3101.00  3027.99\n",
              "2021-03-17  3073.22  3135.73\n",
              "2021-03-16  3104.97  3091.86\n",
              "2021-03-15  3074.57  3081.68\n",
              "2021-03-12  3075.00  3089.49\n",
              "2021-03-11  3104.01  3113.59"
            ]
          },
          "metadata": {
            "tags": []
          },
          "execution_count": 252
        }
      ]
    },
    {
      "cell_type": "code",
      "metadata": {
        "colab": {
          "base_uri": "https://localhost:8080/",
          "height": 390
        },
        "id": "yUE6RHH4fQs_",
        "outputId": "4f0ab01c-ec90-4133-c6e8-09d902ecb0a0"
      },
      "source": [
        "df.iloc[:, 3:5]"
      ],
      "execution_count": null,
      "outputs": [
        {
          "output_type": "execute_result",
          "data": {
            "text/html": [
              "<div>\n",
              "<style scoped>\n",
              "    .dataframe tbody tr th:only-of-type {\n",
              "        vertical-align: middle;\n",
              "    }\n",
              "\n",
              "    .dataframe tbody tr th {\n",
              "        vertical-align: top;\n",
              "    }\n",
              "\n",
              "    .dataframe thead th {\n",
              "        text-align: right;\n",
              "    }\n",
              "</style>\n",
              "<table border=\"1\" class=\"dataframe\">\n",
              "  <thead>\n",
              "    <tr style=\"text-align: right;\">\n",
              "      <th></th>\n",
              "      <th>close</th>\n",
              "      <th>volume</th>\n",
              "    </tr>\n",
              "    <tr>\n",
              "      <th>Date</th>\n",
              "      <th></th>\n",
              "      <th></th>\n",
              "    </tr>\n",
              "  </thead>\n",
              "  <tbody>\n",
              "    <tr>\n",
              "      <th>2021-03-24</th>\n",
              "      <td>3087.07</td>\n",
              "      <td>2952085</td>\n",
              "    </tr>\n",
              "    <tr>\n",
              "      <th>2021-03-23</th>\n",
              "      <td>3137.50</td>\n",
              "      <td>3817263</td>\n",
              "    </tr>\n",
              "    <tr>\n",
              "      <th>2021-03-22</th>\n",
              "      <td>3110.87</td>\n",
              "      <td>2902179</td>\n",
              "    </tr>\n",
              "    <tr>\n",
              "      <th>2021-03-19</th>\n",
              "      <td>3074.96</td>\n",
              "      <td>4625354</td>\n",
              "    </tr>\n",
              "    <tr>\n",
              "      <th>2021-03-18</th>\n",
              "      <td>3027.99</td>\n",
              "      <td>3657027</td>\n",
              "    </tr>\n",
              "    <tr>\n",
              "      <th>2021-03-17</th>\n",
              "      <td>3135.73</td>\n",
              "      <td>3118584</td>\n",
              "    </tr>\n",
              "    <tr>\n",
              "      <th>2021-03-16</th>\n",
              "      <td>3091.86</td>\n",
              "      <td>2538764</td>\n",
              "    </tr>\n",
              "    <tr>\n",
              "      <th>2021-03-15</th>\n",
              "      <td>3081.68</td>\n",
              "      <td>2918592</td>\n",
              "    </tr>\n",
              "    <tr>\n",
              "      <th>2021-03-12</th>\n",
              "      <td>3089.49</td>\n",
              "      <td>2421888</td>\n",
              "    </tr>\n",
              "    <tr>\n",
              "      <th>2021-03-11</th>\n",
              "      <td>3113.59</td>\n",
              "      <td>2776391</td>\n",
              "    </tr>\n",
              "  </tbody>\n",
              "</table>\n",
              "</div>"
            ],
            "text/plain": [
              "              close   volume\n",
              "Date                        \n",
              "2021-03-24  3087.07  2952085\n",
              "2021-03-23  3137.50  3817263\n",
              "2021-03-22  3110.87  2902179\n",
              "2021-03-19  3074.96  4625354\n",
              "2021-03-18  3027.99  3657027\n",
              "2021-03-17  3135.73  3118584\n",
              "2021-03-16  3091.86  2538764\n",
              "2021-03-15  3081.68  2918592\n",
              "2021-03-12  3089.49  2421888\n",
              "2021-03-11  3113.59  2776391"
            ]
          },
          "metadata": {
            "tags": []
          },
          "execution_count": 253
        }
      ]
    },
    {
      "cell_type": "code",
      "metadata": {
        "colab": {
          "base_uri": "https://localhost:8080/"
        },
        "id": "zzH9k44igCDn",
        "outputId": "3e827fb3-278b-432b-b7e5-f846fc4539d0"
      },
      "source": [
        "df.iloc[:, -1]"
      ],
      "execution_count": null,
      "outputs": [
        {
          "output_type": "execute_result",
          "data": {
            "text/plain": [
              "Date\n",
              "2021-03-24    2952085\n",
              "2021-03-23    3817263\n",
              "2021-03-22    2902179\n",
              "2021-03-19    4625354\n",
              "2021-03-18    3657027\n",
              "2021-03-17    3118584\n",
              "2021-03-16    2538764\n",
              "2021-03-15    2918592\n",
              "2021-03-12    2421888\n",
              "2021-03-11    2776391\n",
              "Name: volume, dtype: int64"
            ]
          },
          "metadata": {
            "tags": []
          },
          "execution_count": 254
        }
      ]
    },
    {
      "cell_type": "code",
      "metadata": {
        "colab": {
          "base_uri": "https://localhost:8080/",
          "height": 390
        },
        "id": "-_2eDnxwhFaf",
        "outputId": "bd36e535-a44f-44be-98c3-8619bb07c4d8"
      },
      "source": [
        "df.iloc[:, [-1]]"
      ],
      "execution_count": null,
      "outputs": [
        {
          "output_type": "execute_result",
          "data": {
            "text/html": [
              "<div>\n",
              "<style scoped>\n",
              "    .dataframe tbody tr th:only-of-type {\n",
              "        vertical-align: middle;\n",
              "    }\n",
              "\n",
              "    .dataframe tbody tr th {\n",
              "        vertical-align: top;\n",
              "    }\n",
              "\n",
              "    .dataframe thead th {\n",
              "        text-align: right;\n",
              "    }\n",
              "</style>\n",
              "<table border=\"1\" class=\"dataframe\">\n",
              "  <thead>\n",
              "    <tr style=\"text-align: right;\">\n",
              "      <th></th>\n",
              "      <th>volume</th>\n",
              "    </tr>\n",
              "    <tr>\n",
              "      <th>Date</th>\n",
              "      <th></th>\n",
              "    </tr>\n",
              "  </thead>\n",
              "  <tbody>\n",
              "    <tr>\n",
              "      <th>2021-03-24</th>\n",
              "      <td>2952085</td>\n",
              "    </tr>\n",
              "    <tr>\n",
              "      <th>2021-03-23</th>\n",
              "      <td>3817263</td>\n",
              "    </tr>\n",
              "    <tr>\n",
              "      <th>2021-03-22</th>\n",
              "      <td>2902179</td>\n",
              "    </tr>\n",
              "    <tr>\n",
              "      <th>2021-03-19</th>\n",
              "      <td>4625354</td>\n",
              "    </tr>\n",
              "    <tr>\n",
              "      <th>2021-03-18</th>\n",
              "      <td>3657027</td>\n",
              "    </tr>\n",
              "    <tr>\n",
              "      <th>2021-03-17</th>\n",
              "      <td>3118584</td>\n",
              "    </tr>\n",
              "    <tr>\n",
              "      <th>2021-03-16</th>\n",
              "      <td>2538764</td>\n",
              "    </tr>\n",
              "    <tr>\n",
              "      <th>2021-03-15</th>\n",
              "      <td>2918592</td>\n",
              "    </tr>\n",
              "    <tr>\n",
              "      <th>2021-03-12</th>\n",
              "      <td>2421888</td>\n",
              "    </tr>\n",
              "    <tr>\n",
              "      <th>2021-03-11</th>\n",
              "      <td>2776391</td>\n",
              "    </tr>\n",
              "  </tbody>\n",
              "</table>\n",
              "</div>"
            ],
            "text/plain": [
              "             volume\n",
              "Date               \n",
              "2021-03-24  2952085\n",
              "2021-03-23  3817263\n",
              "2021-03-22  2902179\n",
              "2021-03-19  4625354\n",
              "2021-03-18  3657027\n",
              "2021-03-17  3118584\n",
              "2021-03-16  2538764\n",
              "2021-03-15  2918592\n",
              "2021-03-12  2421888\n",
              "2021-03-11  2776391"
            ]
          },
          "metadata": {
            "tags": []
          },
          "execution_count": 255
        }
      ]
    },
    {
      "cell_type": "code",
      "metadata": {
        "colab": {
          "base_uri": "https://localhost:8080/",
          "height": 390
        },
        "id": "SIqfkpvThNGv",
        "outputId": "e26d3948-7431-4a0d-bc4b-7894050acf7c"
      },
      "source": [
        "df.iloc[:, -3:]"
      ],
      "execution_count": null,
      "outputs": [
        {
          "output_type": "execute_result",
          "data": {
            "text/html": [
              "<div>\n",
              "<style scoped>\n",
              "    .dataframe tbody tr th:only-of-type {\n",
              "        vertical-align: middle;\n",
              "    }\n",
              "\n",
              "    .dataframe tbody tr th {\n",
              "        vertical-align: top;\n",
              "    }\n",
              "\n",
              "    .dataframe thead th {\n",
              "        text-align: right;\n",
              "    }\n",
              "</style>\n",
              "<table border=\"1\" class=\"dataframe\">\n",
              "  <thead>\n",
              "    <tr style=\"text-align: right;\">\n",
              "      <th></th>\n",
              "      <th>low</th>\n",
              "      <th>close</th>\n",
              "      <th>volume</th>\n",
              "    </tr>\n",
              "    <tr>\n",
              "      <th>Date</th>\n",
              "      <th></th>\n",
              "      <th></th>\n",
              "      <th></th>\n",
              "    </tr>\n",
              "  </thead>\n",
              "  <tbody>\n",
              "    <tr>\n",
              "      <th>2021-03-24</th>\n",
              "      <td>3085.1500</td>\n",
              "      <td>3087.07</td>\n",
              "      <td>2952085</td>\n",
              "    </tr>\n",
              "    <tr>\n",
              "      <th>2021-03-23</th>\n",
              "      <td>3120.8501</td>\n",
              "      <td>3137.50</td>\n",
              "      <td>3817263</td>\n",
              "    </tr>\n",
              "    <tr>\n",
              "      <th>2021-03-22</th>\n",
              "      <td>3060.0500</td>\n",
              "      <td>3110.87</td>\n",
              "      <td>2902179</td>\n",
              "    </tr>\n",
              "    <tr>\n",
              "      <th>2021-03-19</th>\n",
              "      <td>3016.6300</td>\n",
              "      <td>3074.96</td>\n",
              "      <td>4625354</td>\n",
              "    </tr>\n",
              "    <tr>\n",
              "      <th>2021-03-18</th>\n",
              "      <td>3025.0000</td>\n",
              "      <td>3027.99</td>\n",
              "      <td>3657027</td>\n",
              "    </tr>\n",
              "    <tr>\n",
              "      <th>2021-03-17</th>\n",
              "      <td>3070.2200</td>\n",
              "      <td>3135.73</td>\n",
              "      <td>3118584</td>\n",
              "    </tr>\n",
              "    <tr>\n",
              "      <th>2021-03-16</th>\n",
              "      <td>3075.8601</td>\n",
              "      <td>3091.86</td>\n",
              "      <td>2538764</td>\n",
              "    </tr>\n",
              "    <tr>\n",
              "      <th>2021-03-15</th>\n",
              "      <td>3032.0900</td>\n",
              "      <td>3081.68</td>\n",
              "      <td>2918592</td>\n",
              "    </tr>\n",
              "    <tr>\n",
              "      <th>2021-03-12</th>\n",
              "      <td>3045.5000</td>\n",
              "      <td>3089.49</td>\n",
              "      <td>2421888</td>\n",
              "    </tr>\n",
              "    <tr>\n",
              "      <th>2021-03-11</th>\n",
              "      <td>3082.9300</td>\n",
              "      <td>3113.59</td>\n",
              "      <td>2776391</td>\n",
              "    </tr>\n",
              "  </tbody>\n",
              "</table>\n",
              "</div>"
            ],
            "text/plain": [
              "                  low    close   volume\n",
              "Date                                   \n",
              "2021-03-24  3085.1500  3087.07  2952085\n",
              "2021-03-23  3120.8501  3137.50  3817263\n",
              "2021-03-22  3060.0500  3110.87  2902179\n",
              "2021-03-19  3016.6300  3074.96  4625354\n",
              "2021-03-18  3025.0000  3027.99  3657027\n",
              "2021-03-17  3070.2200  3135.73  3118584\n",
              "2021-03-16  3075.8601  3091.86  2538764\n",
              "2021-03-15  3032.0900  3081.68  2918592\n",
              "2021-03-12  3045.5000  3089.49  2421888\n",
              "2021-03-11  3082.9300  3113.59  2776391"
            ]
          },
          "metadata": {
            "tags": []
          },
          "execution_count": 256
        }
      ]
    },
    {
      "cell_type": "markdown",
      "metadata": {
        "id": "TgLMPJlijZ6_"
      },
      "source": [
        "4. SELEKCJA WIERSZY"
      ]
    },
    {
      "cell_type": "code",
      "metadata": {
        "colab": {
          "base_uri": "https://localhost:8080/"
        },
        "id": "4LQEet0riKsI",
        "outputId": "927632ee-6e9e-4259-9a84-511339af4c08"
      },
      "source": [
        "df.iloc[0]"
      ],
      "execution_count": null,
      "outputs": [
        {
          "output_type": "execute_result",
          "data": {
            "text/plain": [
              "open         3151.04\n",
              "high         3160.31\n",
              "low          3085.15\n",
              "close        3087.07\n",
              "volume    2952085.00\n",
              "Name: 2021-03-24 00:00:00, dtype: float64"
            ]
          },
          "metadata": {
            "tags": []
          },
          "execution_count": 257
        }
      ]
    },
    {
      "cell_type": "code",
      "metadata": {
        "colab": {
          "base_uri": "https://localhost:8080/",
          "height": 173
        },
        "id": "cB7x8HzSj0YQ",
        "outputId": "7febce75-8e86-42f9-804d-85b1461a2527"
      },
      "source": [
        "df.iloc[:3]"
      ],
      "execution_count": null,
      "outputs": [
        {
          "output_type": "execute_result",
          "data": {
            "text/html": [
              "<div>\n",
              "<style scoped>\n",
              "    .dataframe tbody tr th:only-of-type {\n",
              "        vertical-align: middle;\n",
              "    }\n",
              "\n",
              "    .dataframe tbody tr th {\n",
              "        vertical-align: top;\n",
              "    }\n",
              "\n",
              "    .dataframe thead th {\n",
              "        text-align: right;\n",
              "    }\n",
              "</style>\n",
              "<table border=\"1\" class=\"dataframe\">\n",
              "  <thead>\n",
              "    <tr style=\"text-align: right;\">\n",
              "      <th></th>\n",
              "      <th>open</th>\n",
              "      <th>high</th>\n",
              "      <th>low</th>\n",
              "      <th>close</th>\n",
              "      <th>volume</th>\n",
              "    </tr>\n",
              "    <tr>\n",
              "      <th>Date</th>\n",
              "      <th></th>\n",
              "      <th></th>\n",
              "      <th></th>\n",
              "      <th></th>\n",
              "      <th></th>\n",
              "    </tr>\n",
              "  </thead>\n",
              "  <tbody>\n",
              "    <tr>\n",
              "      <th>2021-03-24</th>\n",
              "      <td>3151.04</td>\n",
              "      <td>3160.31</td>\n",
              "      <td>3085.1500</td>\n",
              "      <td>3087.07</td>\n",
              "      <td>2952085</td>\n",
              "    </tr>\n",
              "    <tr>\n",
              "      <th>2021-03-23</th>\n",
              "      <td>3127.00</td>\n",
              "      <td>3182.00</td>\n",
              "      <td>3120.8501</td>\n",
              "      <td>3137.50</td>\n",
              "      <td>3817263</td>\n",
              "    </tr>\n",
              "    <tr>\n",
              "      <th>2021-03-22</th>\n",
              "      <td>3067.85</td>\n",
              "      <td>3126.58</td>\n",
              "      <td>3060.0500</td>\n",
              "      <td>3110.87</td>\n",
              "      <td>2902179</td>\n",
              "    </tr>\n",
              "  </tbody>\n",
              "</table>\n",
              "</div>"
            ],
            "text/plain": [
              "               open     high        low    close   volume\n",
              "Date                                                     \n",
              "2021-03-24  3151.04  3160.31  3085.1500  3087.07  2952085\n",
              "2021-03-23  3127.00  3182.00  3120.8501  3137.50  3817263\n",
              "2021-03-22  3067.85  3126.58  3060.0500  3110.87  2902179"
            ]
          },
          "metadata": {
            "tags": []
          },
          "execution_count": 258
        }
      ]
    },
    {
      "cell_type": "code",
      "metadata": {
        "colab": {
          "base_uri": "https://localhost:8080/",
          "height": 390
        },
        "id": "Y_NMDjOOmv8k",
        "outputId": "cfdcf62e-07d7-425e-d7fa-e43d0b06c919"
      },
      "source": [
        "df"
      ],
      "execution_count": null,
      "outputs": [
        {
          "output_type": "execute_result",
          "data": {
            "text/html": [
              "<div>\n",
              "<style scoped>\n",
              "    .dataframe tbody tr th:only-of-type {\n",
              "        vertical-align: middle;\n",
              "    }\n",
              "\n",
              "    .dataframe tbody tr th {\n",
              "        vertical-align: top;\n",
              "    }\n",
              "\n",
              "    .dataframe thead th {\n",
              "        text-align: right;\n",
              "    }\n",
              "</style>\n",
              "<table border=\"1\" class=\"dataframe\">\n",
              "  <thead>\n",
              "    <tr style=\"text-align: right;\">\n",
              "      <th></th>\n",
              "      <th>open</th>\n",
              "      <th>high</th>\n",
              "      <th>low</th>\n",
              "      <th>close</th>\n",
              "      <th>volume</th>\n",
              "    </tr>\n",
              "    <tr>\n",
              "      <th>Date</th>\n",
              "      <th></th>\n",
              "      <th></th>\n",
              "      <th></th>\n",
              "      <th></th>\n",
              "      <th></th>\n",
              "    </tr>\n",
              "  </thead>\n",
              "  <tbody>\n",
              "    <tr>\n",
              "      <th>2021-03-24</th>\n",
              "      <td>3151.04</td>\n",
              "      <td>3160.3100</td>\n",
              "      <td>3085.1500</td>\n",
              "      <td>3087.07</td>\n",
              "      <td>2952085</td>\n",
              "    </tr>\n",
              "    <tr>\n",
              "      <th>2021-03-23</th>\n",
              "      <td>3127.00</td>\n",
              "      <td>3182.0000</td>\n",
              "      <td>3120.8501</td>\n",
              "      <td>3137.50</td>\n",
              "      <td>3817263</td>\n",
              "    </tr>\n",
              "    <tr>\n",
              "      <th>2021-03-22</th>\n",
              "      <td>3067.85</td>\n",
              "      <td>3126.5800</td>\n",
              "      <td>3060.0500</td>\n",
              "      <td>3110.87</td>\n",
              "      <td>2902179</td>\n",
              "    </tr>\n",
              "    <tr>\n",
              "      <th>2021-03-19</th>\n",
              "      <td>3029.23</td>\n",
              "      <td>3077.2850</td>\n",
              "      <td>3016.6300</td>\n",
              "      <td>3074.96</td>\n",
              "      <td>4625354</td>\n",
              "    </tr>\n",
              "    <tr>\n",
              "      <th>2021-03-18</th>\n",
              "      <td>3101.00</td>\n",
              "      <td>3116.6300</td>\n",
              "      <td>3025.0000</td>\n",
              "      <td>3027.99</td>\n",
              "      <td>3657027</td>\n",
              "    </tr>\n",
              "    <tr>\n",
              "      <th>2021-03-17</th>\n",
              "      <td>3073.22</td>\n",
              "      <td>3173.0500</td>\n",
              "      <td>3070.2200</td>\n",
              "      <td>3135.73</td>\n",
              "      <td>3118584</td>\n",
              "    </tr>\n",
              "    <tr>\n",
              "      <th>2021-03-16</th>\n",
              "      <td>3104.97</td>\n",
              "      <td>3128.9100</td>\n",
              "      <td>3075.8601</td>\n",
              "      <td>3091.86</td>\n",
              "      <td>2538764</td>\n",
              "    </tr>\n",
              "    <tr>\n",
              "      <th>2021-03-15</th>\n",
              "      <td>3074.57</td>\n",
              "      <td>3082.2400</td>\n",
              "      <td>3032.0900</td>\n",
              "      <td>3081.68</td>\n",
              "      <td>2918592</td>\n",
              "    </tr>\n",
              "    <tr>\n",
              "      <th>2021-03-12</th>\n",
              "      <td>3075.00</td>\n",
              "      <td>3098.9800</td>\n",
              "      <td>3045.5000</td>\n",
              "      <td>3089.49</td>\n",
              "      <td>2421888</td>\n",
              "    </tr>\n",
              "    <tr>\n",
              "      <th>2021-03-11</th>\n",
              "      <td>3104.01</td>\n",
              "      <td>3131.7843</td>\n",
              "      <td>3082.9300</td>\n",
              "      <td>3113.59</td>\n",
              "      <td>2776391</td>\n",
              "    </tr>\n",
              "  </tbody>\n",
              "</table>\n",
              "</div>"
            ],
            "text/plain": [
              "               open       high        low    close   volume\n",
              "Date                                                       \n",
              "2021-03-24  3151.04  3160.3100  3085.1500  3087.07  2952085\n",
              "2021-03-23  3127.00  3182.0000  3120.8501  3137.50  3817263\n",
              "2021-03-22  3067.85  3126.5800  3060.0500  3110.87  2902179\n",
              "2021-03-19  3029.23  3077.2850  3016.6300  3074.96  4625354\n",
              "2021-03-18  3101.00  3116.6300  3025.0000  3027.99  3657027\n",
              "2021-03-17  3073.22  3173.0500  3070.2200  3135.73  3118584\n",
              "2021-03-16  3104.97  3128.9100  3075.8601  3091.86  2538764\n",
              "2021-03-15  3074.57  3082.2400  3032.0900  3081.68  2918592\n",
              "2021-03-12  3075.00  3098.9800  3045.5000  3089.49  2421888\n",
              "2021-03-11  3104.01  3131.7843  3082.9300  3113.59  2776391"
            ]
          },
          "metadata": {
            "tags": []
          },
          "execution_count": 259
        }
      ]
    },
    {
      "cell_type": "code",
      "metadata": {
        "colab": {
          "base_uri": "https://localhost:8080/",
          "height": 173
        },
        "id": "96iyXiJrkS_w",
        "outputId": "df00169a-9230-4398-993c-cfae19346f0b"
      },
      "source": [
        "df.loc['2021-03-22':'2021-03-18']"
      ],
      "execution_count": null,
      "outputs": [
        {
          "output_type": "execute_result",
          "data": {
            "text/html": [
              "<div>\n",
              "<style scoped>\n",
              "    .dataframe tbody tr th:only-of-type {\n",
              "        vertical-align: middle;\n",
              "    }\n",
              "\n",
              "    .dataframe tbody tr th {\n",
              "        vertical-align: top;\n",
              "    }\n",
              "\n",
              "    .dataframe thead th {\n",
              "        text-align: right;\n",
              "    }\n",
              "</style>\n",
              "<table border=\"1\" class=\"dataframe\">\n",
              "  <thead>\n",
              "    <tr style=\"text-align: right;\">\n",
              "      <th></th>\n",
              "      <th>open</th>\n",
              "      <th>high</th>\n",
              "      <th>low</th>\n",
              "      <th>close</th>\n",
              "      <th>volume</th>\n",
              "    </tr>\n",
              "    <tr>\n",
              "      <th>Date</th>\n",
              "      <th></th>\n",
              "      <th></th>\n",
              "      <th></th>\n",
              "      <th></th>\n",
              "      <th></th>\n",
              "    </tr>\n",
              "  </thead>\n",
              "  <tbody>\n",
              "    <tr>\n",
              "      <th>2021-03-22</th>\n",
              "      <td>3067.85</td>\n",
              "      <td>3126.580</td>\n",
              "      <td>3060.05</td>\n",
              "      <td>3110.87</td>\n",
              "      <td>2902179</td>\n",
              "    </tr>\n",
              "    <tr>\n",
              "      <th>2021-03-19</th>\n",
              "      <td>3029.23</td>\n",
              "      <td>3077.285</td>\n",
              "      <td>3016.63</td>\n",
              "      <td>3074.96</td>\n",
              "      <td>4625354</td>\n",
              "    </tr>\n",
              "    <tr>\n",
              "      <th>2021-03-18</th>\n",
              "      <td>3101.00</td>\n",
              "      <td>3116.630</td>\n",
              "      <td>3025.00</td>\n",
              "      <td>3027.99</td>\n",
              "      <td>3657027</td>\n",
              "    </tr>\n",
              "  </tbody>\n",
              "</table>\n",
              "</div>"
            ],
            "text/plain": [
              "               open      high      low    close   volume\n",
              "Date                                                    \n",
              "2021-03-22  3067.85  3126.580  3060.05  3110.87  2902179\n",
              "2021-03-19  3029.23  3077.285  3016.63  3074.96  4625354\n",
              "2021-03-18  3101.00  3116.630  3025.00  3027.99  3657027"
            ]
          },
          "metadata": {
            "tags": []
          },
          "execution_count": 260
        }
      ]
    },
    {
      "cell_type": "markdown",
      "metadata": {
        "id": "QBT4KSgyopo0"
      },
      "source": [
        "### 7. DATAFRAME - OBLICZANIE NOWYCH KOLUMN"
      ]
    },
    {
      "cell_type": "code",
      "metadata": {
        "id": "pq0GBcyzmjeX",
        "colab": {
          "base_uri": "https://localhost:8080/"
        },
        "outputId": "4355327c-dcd0-484e-9fb7-f1c796c1f0a1"
      },
      "source": [
        "df = fetch_financial_data('MSFT')\n",
        "df.info()"
      ],
      "execution_count": null,
      "outputs": [
        {
          "output_type": "stream",
          "text": [
            "<class 'pandas.core.frame.DataFrame'>\n",
            "DatetimeIndex: 1258 entries, 2021-03-24 to 2016-03-28\n",
            "Data columns (total 5 columns):\n",
            " #   Column  Non-Null Count  Dtype  \n",
            "---  ------  --------------  -----  \n",
            " 0   Open    1258 non-null   float64\n",
            " 1   High    1258 non-null   float64\n",
            " 2   Low     1258 non-null   float64\n",
            " 3   Close   1258 non-null   float64\n",
            " 4   Volume  1258 non-null   int64  \n",
            "dtypes: float64(4), int64(1)\n",
            "memory usage: 59.0 KB\n"
          ],
          "name": "stdout"
        }
      ]
    },
    {
      "cell_type": "code",
      "metadata": {
        "colab": {
          "base_uri": "https://localhost:8080/"
        },
        "id": "KtUKDYtnZRz3",
        "outputId": "96f10312-4172-4926-ff8e-1c8e4beeeed5"
      },
      "source": [
        "df = fetch_financial_data('UBER')\n",
        "df.info()"
      ],
      "execution_count": null,
      "outputs": [
        {
          "output_type": "stream",
          "text": [
            "<class 'pandas.core.frame.DataFrame'>\n",
            "DatetimeIndex: 472 entries, 2021-03-24 to 2019-05-10\n",
            "Data columns (total 5 columns):\n",
            " #   Column  Non-Null Count  Dtype  \n",
            "---  ------  --------------  -----  \n",
            " 0   Open    472 non-null    float64\n",
            " 1   High    472 non-null    float64\n",
            " 2   Low     472 non-null    float64\n",
            " 3   Close   472 non-null    float64\n",
            " 4   Volume  472 non-null    int64  \n",
            "dtypes: float64(4), int64(1)\n",
            "memory usage: 22.1 KB\n"
          ],
          "name": "stdout"
        }
      ]
    },
    {
      "cell_type": "code",
      "metadata": {
        "colab": {
          "base_uri": "https://localhost:8080/",
          "height": 235
        },
        "id": "zYHXZwj4aMse",
        "outputId": "e24d1013-13a0-47bc-dfe7-9d2f63ac7cd2"
      },
      "source": [
        "df.head()"
      ],
      "execution_count": null,
      "outputs": [
        {
          "output_type": "execute_result",
          "data": {
            "text/html": [
              "<div>\n",
              "<style scoped>\n",
              "    .dataframe tbody tr th:only-of-type {\n",
              "        vertical-align: middle;\n",
              "    }\n",
              "\n",
              "    .dataframe tbody tr th {\n",
              "        vertical-align: top;\n",
              "    }\n",
              "\n",
              "    .dataframe thead th {\n",
              "        text-align: right;\n",
              "    }\n",
              "</style>\n",
              "<table border=\"1\" class=\"dataframe\">\n",
              "  <thead>\n",
              "    <tr style=\"text-align: right;\">\n",
              "      <th></th>\n",
              "      <th>Open</th>\n",
              "      <th>High</th>\n",
              "      <th>Low</th>\n",
              "      <th>Close</th>\n",
              "      <th>Volume</th>\n",
              "    </tr>\n",
              "    <tr>\n",
              "      <th>Date</th>\n",
              "      <th></th>\n",
              "      <th></th>\n",
              "      <th></th>\n",
              "      <th></th>\n",
              "      <th></th>\n",
              "    </tr>\n",
              "  </thead>\n",
              "  <tbody>\n",
              "    <tr>\n",
              "      <th>2021-03-24</th>\n",
              "      <td>54.46</td>\n",
              "      <td>54.96</td>\n",
              "      <td>52.54</td>\n",
              "      <td>52.57</td>\n",
              "      <td>13689068</td>\n",
              "    </tr>\n",
              "    <tr>\n",
              "      <th>2021-03-23</th>\n",
              "      <td>55.63</td>\n",
              "      <td>55.63</td>\n",
              "      <td>53.11</td>\n",
              "      <td>53.49</td>\n",
              "      <td>14513457</td>\n",
              "    </tr>\n",
              "    <tr>\n",
              "      <th>2021-03-22</th>\n",
              "      <td>57.25</td>\n",
              "      <td>57.61</td>\n",
              "      <td>55.47</td>\n",
              "      <td>55.69</td>\n",
              "      <td>14149412</td>\n",
              "    </tr>\n",
              "    <tr>\n",
              "      <th>2021-03-19</th>\n",
              "      <td>55.48</td>\n",
              "      <td>57.18</td>\n",
              "      <td>54.34</td>\n",
              "      <td>57.08</td>\n",
              "      <td>17396297</td>\n",
              "    </tr>\n",
              "    <tr>\n",
              "      <th>2021-03-18</th>\n",
              "      <td>56.63</td>\n",
              "      <td>57.48</td>\n",
              "      <td>55.21</td>\n",
              "      <td>55.69</td>\n",
              "      <td>15742985</td>\n",
              "    </tr>\n",
              "  </tbody>\n",
              "</table>\n",
              "</div>"
            ],
            "text/plain": [
              "             Open   High    Low  Close    Volume\n",
              "Date                                            \n",
              "2021-03-24  54.46  54.96  52.54  52.57  13689068\n",
              "2021-03-23  55.63  55.63  53.11  53.49  14513457\n",
              "2021-03-22  57.25  57.61  55.47  55.69  14149412\n",
              "2021-03-19  55.48  57.18  54.34  57.08  17396297\n",
              "2021-03-18  56.63  57.48  55.21  55.69  15742985"
            ]
          },
          "metadata": {
            "tags": []
          },
          "execution_count": 263
        }
      ]
    },
    {
      "cell_type": "code",
      "metadata": {
        "colab": {
          "base_uri": "https://localhost:8080/",
          "height": 297
        },
        "id": "VCRHUeDLcIw-",
        "outputId": "bfdcc958-598a-4761-9ac9-4bf5793853d8"
      },
      "source": [
        "df.describe()"
      ],
      "execution_count": null,
      "outputs": [
        {
          "output_type": "execute_result",
          "data": {
            "text/html": [
              "<div>\n",
              "<style scoped>\n",
              "    .dataframe tbody tr th:only-of-type {\n",
              "        vertical-align: middle;\n",
              "    }\n",
              "\n",
              "    .dataframe tbody tr th {\n",
              "        vertical-align: top;\n",
              "    }\n",
              "\n",
              "    .dataframe thead th {\n",
              "        text-align: right;\n",
              "    }\n",
              "</style>\n",
              "<table border=\"1\" class=\"dataframe\">\n",
              "  <thead>\n",
              "    <tr style=\"text-align: right;\">\n",
              "      <th></th>\n",
              "      <th>Open</th>\n",
              "      <th>High</th>\n",
              "      <th>Low</th>\n",
              "      <th>Close</th>\n",
              "      <th>Volume</th>\n",
              "    </tr>\n",
              "  </thead>\n",
              "  <tbody>\n",
              "    <tr>\n",
              "      <th>count</th>\n",
              "      <td>472.000000</td>\n",
              "      <td>472.000000</td>\n",
              "      <td>472.000000</td>\n",
              "      <td>472.000000</td>\n",
              "      <td>4.720000e+02</td>\n",
              "    </tr>\n",
              "    <tr>\n",
              "      <th>mean</th>\n",
              "      <td>37.985050</td>\n",
              "      <td>38.753932</td>\n",
              "      <td>37.100169</td>\n",
              "      <td>37.947352</td>\n",
              "      <td>2.400973e+07</td>\n",
              "    </tr>\n",
              "    <tr>\n",
              "      <th>std</th>\n",
              "      <td>9.508638</td>\n",
              "      <td>9.607251</td>\n",
              "      <td>9.342303</td>\n",
              "      <td>9.450463</td>\n",
              "      <td>1.827766e+07</td>\n",
              "    </tr>\n",
              "    <tr>\n",
              "      <th>min</th>\n",
              "      <td>15.960000</td>\n",
              "      <td>17.800000</td>\n",
              "      <td>13.710000</td>\n",
              "      <td>14.820000</td>\n",
              "      <td>3.380003e+06</td>\n",
              "    </tr>\n",
              "    <tr>\n",
              "      <th>25%</th>\n",
              "      <td>31.167500</td>\n",
              "      <td>31.815000</td>\n",
              "      <td>30.480000</td>\n",
              "      <td>31.165000</td>\n",
              "      <td>1.311506e+07</td>\n",
              "    </tr>\n",
              "    <tr>\n",
              "      <th>50%</th>\n",
              "      <td>34.605000</td>\n",
              "      <td>35.199650</td>\n",
              "      <td>33.960000</td>\n",
              "      <td>34.585000</td>\n",
              "      <td>1.959129e+07</td>\n",
              "    </tr>\n",
              "    <tr>\n",
              "      <th>75%</th>\n",
              "      <td>43.620000</td>\n",
              "      <td>44.252500</td>\n",
              "      <td>43.035000</td>\n",
              "      <td>43.692500</td>\n",
              "      <td>2.959548e+07</td>\n",
              "    </tr>\n",
              "    <tr>\n",
              "      <th>max</th>\n",
              "      <td>63.250000</td>\n",
              "      <td>64.050000</td>\n",
              "      <td>60.800000</td>\n",
              "      <td>63.180000</td>\n",
              "      <td>1.863225e+08</td>\n",
              "    </tr>\n",
              "  </tbody>\n",
              "</table>\n",
              "</div>"
            ],
            "text/plain": [
              "             Open        High         Low       Close        Volume\n",
              "count  472.000000  472.000000  472.000000  472.000000  4.720000e+02\n",
              "mean    37.985050   38.753932   37.100169   37.947352  2.400973e+07\n",
              "std      9.508638    9.607251    9.342303    9.450463  1.827766e+07\n",
              "min     15.960000   17.800000   13.710000   14.820000  3.380003e+06\n",
              "25%     31.167500   31.815000   30.480000   31.165000  1.311506e+07\n",
              "50%     34.605000   35.199650   33.960000   34.585000  1.959129e+07\n",
              "75%     43.620000   44.252500   43.035000   43.692500  2.959548e+07\n",
              "max     63.250000   64.050000   60.800000   63.180000  1.863225e+08"
            ]
          },
          "metadata": {
            "tags": []
          },
          "execution_count": 264
        }
      ]
    },
    {
      "cell_type": "code",
      "metadata": {
        "colab": {
          "base_uri": "https://localhost:8080/",
          "height": 173
        },
        "id": "LIOphuGGciUG",
        "outputId": "751ab27c-c264-4d0d-bb71-23174e4069f1"
      },
      "source": [
        "df.head(3)"
      ],
      "execution_count": null,
      "outputs": [
        {
          "output_type": "execute_result",
          "data": {
            "text/html": [
              "<div>\n",
              "<style scoped>\n",
              "    .dataframe tbody tr th:only-of-type {\n",
              "        vertical-align: middle;\n",
              "    }\n",
              "\n",
              "    .dataframe tbody tr th {\n",
              "        vertical-align: top;\n",
              "    }\n",
              "\n",
              "    .dataframe thead th {\n",
              "        text-align: right;\n",
              "    }\n",
              "</style>\n",
              "<table border=\"1\" class=\"dataframe\">\n",
              "  <thead>\n",
              "    <tr style=\"text-align: right;\">\n",
              "      <th></th>\n",
              "      <th>Open</th>\n",
              "      <th>High</th>\n",
              "      <th>Low</th>\n",
              "      <th>Close</th>\n",
              "      <th>Volume</th>\n",
              "    </tr>\n",
              "    <tr>\n",
              "      <th>Date</th>\n",
              "      <th></th>\n",
              "      <th></th>\n",
              "      <th></th>\n",
              "      <th></th>\n",
              "      <th></th>\n",
              "    </tr>\n",
              "  </thead>\n",
              "  <tbody>\n",
              "    <tr>\n",
              "      <th>2021-03-24</th>\n",
              "      <td>54.46</td>\n",
              "      <td>54.96</td>\n",
              "      <td>52.54</td>\n",
              "      <td>52.57</td>\n",
              "      <td>13689068</td>\n",
              "    </tr>\n",
              "    <tr>\n",
              "      <th>2021-03-23</th>\n",
              "      <td>55.63</td>\n",
              "      <td>55.63</td>\n",
              "      <td>53.11</td>\n",
              "      <td>53.49</td>\n",
              "      <td>14513457</td>\n",
              "    </tr>\n",
              "    <tr>\n",
              "      <th>2021-03-22</th>\n",
              "      <td>57.25</td>\n",
              "      <td>57.61</td>\n",
              "      <td>55.47</td>\n",
              "      <td>55.69</td>\n",
              "      <td>14149412</td>\n",
              "    </tr>\n",
              "  </tbody>\n",
              "</table>\n",
              "</div>"
            ],
            "text/plain": [
              "             Open   High    Low  Close    Volume\n",
              "Date                                            \n",
              "2021-03-24  54.46  54.96  52.54  52.57  13689068\n",
              "2021-03-23  55.63  55.63  53.11  53.49  14513457\n",
              "2021-03-22  57.25  57.61  55.47  55.69  14149412"
            ]
          },
          "metadata": {
            "tags": []
          },
          "execution_count": 265
        }
      ]
    },
    {
      "cell_type": "code",
      "metadata": {
        "colab": {
          "base_uri": "https://localhost:8080/",
          "height": 235
        },
        "id": "d9-bTt8twZFq",
        "outputId": "7a4f6e65-6154-48d5-db3f-ba73bd7bd94a"
      },
      "source": [
        "df['Average'] = (df.Open + df.Close) /2.0\n",
        "df.head()"
      ],
      "execution_count": null,
      "outputs": [
        {
          "output_type": "execute_result",
          "data": {
            "text/html": [
              "<div>\n",
              "<style scoped>\n",
              "    .dataframe tbody tr th:only-of-type {\n",
              "        vertical-align: middle;\n",
              "    }\n",
              "\n",
              "    .dataframe tbody tr th {\n",
              "        vertical-align: top;\n",
              "    }\n",
              "\n",
              "    .dataframe thead th {\n",
              "        text-align: right;\n",
              "    }\n",
              "</style>\n",
              "<table border=\"1\" class=\"dataframe\">\n",
              "  <thead>\n",
              "    <tr style=\"text-align: right;\">\n",
              "      <th></th>\n",
              "      <th>Open</th>\n",
              "      <th>High</th>\n",
              "      <th>Low</th>\n",
              "      <th>Close</th>\n",
              "      <th>Volume</th>\n",
              "      <th>Average</th>\n",
              "    </tr>\n",
              "    <tr>\n",
              "      <th>Date</th>\n",
              "      <th></th>\n",
              "      <th></th>\n",
              "      <th></th>\n",
              "      <th></th>\n",
              "      <th></th>\n",
              "      <th></th>\n",
              "    </tr>\n",
              "  </thead>\n",
              "  <tbody>\n",
              "    <tr>\n",
              "      <th>2021-03-24</th>\n",
              "      <td>54.46</td>\n",
              "      <td>54.96</td>\n",
              "      <td>52.54</td>\n",
              "      <td>52.57</td>\n",
              "      <td>13689068</td>\n",
              "      <td>53.515</td>\n",
              "    </tr>\n",
              "    <tr>\n",
              "      <th>2021-03-23</th>\n",
              "      <td>55.63</td>\n",
              "      <td>55.63</td>\n",
              "      <td>53.11</td>\n",
              "      <td>53.49</td>\n",
              "      <td>14513457</td>\n",
              "      <td>54.560</td>\n",
              "    </tr>\n",
              "    <tr>\n",
              "      <th>2021-03-22</th>\n",
              "      <td>57.25</td>\n",
              "      <td>57.61</td>\n",
              "      <td>55.47</td>\n",
              "      <td>55.69</td>\n",
              "      <td>14149412</td>\n",
              "      <td>56.470</td>\n",
              "    </tr>\n",
              "    <tr>\n",
              "      <th>2021-03-19</th>\n",
              "      <td>55.48</td>\n",
              "      <td>57.18</td>\n",
              "      <td>54.34</td>\n",
              "      <td>57.08</td>\n",
              "      <td>17396297</td>\n",
              "      <td>56.280</td>\n",
              "    </tr>\n",
              "    <tr>\n",
              "      <th>2021-03-18</th>\n",
              "      <td>56.63</td>\n",
              "      <td>57.48</td>\n",
              "      <td>55.21</td>\n",
              "      <td>55.69</td>\n",
              "      <td>15742985</td>\n",
              "      <td>56.160</td>\n",
              "    </tr>\n",
              "  </tbody>\n",
              "</table>\n",
              "</div>"
            ],
            "text/plain": [
              "             Open   High    Low  Close    Volume  Average\n",
              "Date                                                     \n",
              "2021-03-24  54.46  54.96  52.54  52.57  13689068   53.515\n",
              "2021-03-23  55.63  55.63  53.11  53.49  14513457   54.560\n",
              "2021-03-22  57.25  57.61  55.47  55.69  14149412   56.470\n",
              "2021-03-19  55.48  57.18  54.34  57.08  17396297   56.280\n",
              "2021-03-18  56.63  57.48  55.21  55.69  15742985   56.160"
            ]
          },
          "metadata": {
            "tags": []
          },
          "execution_count": 266
        }
      ]
    },
    {
      "cell_type": "code",
      "metadata": {
        "colab": {
          "base_uri": "https://localhost:8080/",
          "height": 450
        },
        "id": "VfzJxWpCyLdu",
        "outputId": "2f7d34d5-59b9-423c-88c6-a1850157dfa1"
      },
      "source": [
        "df.sort_index()"
      ],
      "execution_count": null,
      "outputs": [
        {
          "output_type": "execute_result",
          "data": {
            "text/html": [
              "<div>\n",
              "<style scoped>\n",
              "    .dataframe tbody tr th:only-of-type {\n",
              "        vertical-align: middle;\n",
              "    }\n",
              "\n",
              "    .dataframe tbody tr th {\n",
              "        vertical-align: top;\n",
              "    }\n",
              "\n",
              "    .dataframe thead th {\n",
              "        text-align: right;\n",
              "    }\n",
              "</style>\n",
              "<table border=\"1\" class=\"dataframe\">\n",
              "  <thead>\n",
              "    <tr style=\"text-align: right;\">\n",
              "      <th></th>\n",
              "      <th>Open</th>\n",
              "      <th>High</th>\n",
              "      <th>Low</th>\n",
              "      <th>Close</th>\n",
              "      <th>Volume</th>\n",
              "      <th>Average</th>\n",
              "    </tr>\n",
              "    <tr>\n",
              "      <th>Date</th>\n",
              "      <th></th>\n",
              "      <th></th>\n",
              "      <th></th>\n",
              "      <th></th>\n",
              "      <th></th>\n",
              "      <th></th>\n",
              "    </tr>\n",
              "  </thead>\n",
              "  <tbody>\n",
              "    <tr>\n",
              "      <th>2019-05-10</th>\n",
              "      <td>42.00</td>\n",
              "      <td>45.00</td>\n",
              "      <td>41.06</td>\n",
              "      <td>41.57</td>\n",
              "      <td>186322536</td>\n",
              "      <td>41.785</td>\n",
              "    </tr>\n",
              "    <tr>\n",
              "      <th>2019-05-13</th>\n",
              "      <td>38.79</td>\n",
              "      <td>39.24</td>\n",
              "      <td>36.08</td>\n",
              "      <td>37.10</td>\n",
              "      <td>79442420</td>\n",
              "      <td>37.945</td>\n",
              "    </tr>\n",
              "    <tr>\n",
              "      <th>2019-05-14</th>\n",
              "      <td>38.31</td>\n",
              "      <td>39.96</td>\n",
              "      <td>36.85</td>\n",
              "      <td>39.96</td>\n",
              "      <td>46661147</td>\n",
              "      <td>39.135</td>\n",
              "    </tr>\n",
              "    <tr>\n",
              "      <th>2019-05-15</th>\n",
              "      <td>39.37</td>\n",
              "      <td>41.88</td>\n",
              "      <td>38.95</td>\n",
              "      <td>41.29</td>\n",
              "      <td>36086065</td>\n",
              "      <td>40.330</td>\n",
              "    </tr>\n",
              "    <tr>\n",
              "      <th>2019-05-16</th>\n",
              "      <td>41.48</td>\n",
              "      <td>44.06</td>\n",
              "      <td>41.25</td>\n",
              "      <td>43.00</td>\n",
              "      <td>38115524</td>\n",
              "      <td>42.240</td>\n",
              "    </tr>\n",
              "    <tr>\n",
              "      <th>...</th>\n",
              "      <td>...</td>\n",
              "      <td>...</td>\n",
              "      <td>...</td>\n",
              "      <td>...</td>\n",
              "      <td>...</td>\n",
              "      <td>...</td>\n",
              "    </tr>\n",
              "    <tr>\n",
              "      <th>2021-03-18</th>\n",
              "      <td>56.63</td>\n",
              "      <td>57.48</td>\n",
              "      <td>55.21</td>\n",
              "      <td>55.69</td>\n",
              "      <td>15742985</td>\n",
              "      <td>56.160</td>\n",
              "    </tr>\n",
              "    <tr>\n",
              "      <th>2021-03-19</th>\n",
              "      <td>55.48</td>\n",
              "      <td>57.18</td>\n",
              "      <td>54.34</td>\n",
              "      <td>57.08</td>\n",
              "      <td>17396297</td>\n",
              "      <td>56.280</td>\n",
              "    </tr>\n",
              "    <tr>\n",
              "      <th>2021-03-22</th>\n",
              "      <td>57.25</td>\n",
              "      <td>57.61</td>\n",
              "      <td>55.47</td>\n",
              "      <td>55.69</td>\n",
              "      <td>14149412</td>\n",
              "      <td>56.470</td>\n",
              "    </tr>\n",
              "    <tr>\n",
              "      <th>2021-03-23</th>\n",
              "      <td>55.63</td>\n",
              "      <td>55.63</td>\n",
              "      <td>53.11</td>\n",
              "      <td>53.49</td>\n",
              "      <td>14513457</td>\n",
              "      <td>54.560</td>\n",
              "    </tr>\n",
              "    <tr>\n",
              "      <th>2021-03-24</th>\n",
              "      <td>54.46</td>\n",
              "      <td>54.96</td>\n",
              "      <td>52.54</td>\n",
              "      <td>52.57</td>\n",
              "      <td>13689068</td>\n",
              "      <td>53.515</td>\n",
              "    </tr>\n",
              "  </tbody>\n",
              "</table>\n",
              "<p>472 rows × 6 columns</p>\n",
              "</div>"
            ],
            "text/plain": [
              "             Open   High    Low  Close     Volume  Average\n",
              "Date                                                      \n",
              "2019-05-10  42.00  45.00  41.06  41.57  186322536   41.785\n",
              "2019-05-13  38.79  39.24  36.08  37.10   79442420   37.945\n",
              "2019-05-14  38.31  39.96  36.85  39.96   46661147   39.135\n",
              "2019-05-15  39.37  41.88  38.95  41.29   36086065   40.330\n",
              "2019-05-16  41.48  44.06  41.25  43.00   38115524   42.240\n",
              "...           ...    ...    ...    ...        ...      ...\n",
              "2021-03-18  56.63  57.48  55.21  55.69   15742985   56.160\n",
              "2021-03-19  55.48  57.18  54.34  57.08   17396297   56.280\n",
              "2021-03-22  57.25  57.61  55.47  55.69   14149412   56.470\n",
              "2021-03-23  55.63  55.63  53.11  53.49   14513457   54.560\n",
              "2021-03-24  54.46  54.96  52.54  52.57   13689068   53.515\n",
              "\n",
              "[472 rows x 6 columns]"
            ]
          },
          "metadata": {
            "tags": []
          },
          "execution_count": 267
        }
      ]
    },
    {
      "cell_type": "code",
      "metadata": {
        "colab": {
          "base_uri": "https://localhost:8080/",
          "height": 235
        },
        "id": "p6cEe63A0R3B",
        "outputId": "79ef6b03-7b7b-47f8-b7d0-9fe092549cc9"
      },
      "source": [
        "df = df.sort_index()\n",
        "df.head()"
      ],
      "execution_count": null,
      "outputs": [
        {
          "output_type": "execute_result",
          "data": {
            "text/html": [
              "<div>\n",
              "<style scoped>\n",
              "    .dataframe tbody tr th:only-of-type {\n",
              "        vertical-align: middle;\n",
              "    }\n",
              "\n",
              "    .dataframe tbody tr th {\n",
              "        vertical-align: top;\n",
              "    }\n",
              "\n",
              "    .dataframe thead th {\n",
              "        text-align: right;\n",
              "    }\n",
              "</style>\n",
              "<table border=\"1\" class=\"dataframe\">\n",
              "  <thead>\n",
              "    <tr style=\"text-align: right;\">\n",
              "      <th></th>\n",
              "      <th>Open</th>\n",
              "      <th>High</th>\n",
              "      <th>Low</th>\n",
              "      <th>Close</th>\n",
              "      <th>Volume</th>\n",
              "      <th>Average</th>\n",
              "    </tr>\n",
              "    <tr>\n",
              "      <th>Date</th>\n",
              "      <th></th>\n",
              "      <th></th>\n",
              "      <th></th>\n",
              "      <th></th>\n",
              "      <th></th>\n",
              "      <th></th>\n",
              "    </tr>\n",
              "  </thead>\n",
              "  <tbody>\n",
              "    <tr>\n",
              "      <th>2019-05-10</th>\n",
              "      <td>42.00</td>\n",
              "      <td>45.00</td>\n",
              "      <td>41.06</td>\n",
              "      <td>41.57</td>\n",
              "      <td>186322536</td>\n",
              "      <td>41.785</td>\n",
              "    </tr>\n",
              "    <tr>\n",
              "      <th>2019-05-13</th>\n",
              "      <td>38.79</td>\n",
              "      <td>39.24</td>\n",
              "      <td>36.08</td>\n",
              "      <td>37.10</td>\n",
              "      <td>79442420</td>\n",
              "      <td>37.945</td>\n",
              "    </tr>\n",
              "    <tr>\n",
              "      <th>2019-05-14</th>\n",
              "      <td>38.31</td>\n",
              "      <td>39.96</td>\n",
              "      <td>36.85</td>\n",
              "      <td>39.96</td>\n",
              "      <td>46661147</td>\n",
              "      <td>39.135</td>\n",
              "    </tr>\n",
              "    <tr>\n",
              "      <th>2019-05-15</th>\n",
              "      <td>39.37</td>\n",
              "      <td>41.88</td>\n",
              "      <td>38.95</td>\n",
              "      <td>41.29</td>\n",
              "      <td>36086065</td>\n",
              "      <td>40.330</td>\n",
              "    </tr>\n",
              "    <tr>\n",
              "      <th>2019-05-16</th>\n",
              "      <td>41.48</td>\n",
              "      <td>44.06</td>\n",
              "      <td>41.25</td>\n",
              "      <td>43.00</td>\n",
              "      <td>38115524</td>\n",
              "      <td>42.240</td>\n",
              "    </tr>\n",
              "  </tbody>\n",
              "</table>\n",
              "</div>"
            ],
            "text/plain": [
              "             Open   High    Low  Close     Volume  Average\n",
              "Date                                                      \n",
              "2019-05-10  42.00  45.00  41.06  41.57  186322536   41.785\n",
              "2019-05-13  38.79  39.24  36.08  37.10   79442420   37.945\n",
              "2019-05-14  38.31  39.96  36.85  39.96   46661147   39.135\n",
              "2019-05-15  39.37  41.88  38.95  41.29   36086065   40.330\n",
              "2019-05-16  41.48  44.06  41.25  43.00   38115524   42.240"
            ]
          },
          "metadata": {
            "tags": []
          },
          "execution_count": 268
        }
      ]
    },
    {
      "cell_type": "code",
      "metadata": {
        "colab": {
          "base_uri": "https://localhost:8080/",
          "height": 450
        },
        "id": "MKfuRfF81f1c",
        "outputId": "8594704c-ef35-43f7-b3c7-0b596fde91a9"
      },
      "source": [
        "df[['Close']].shift(1)"
      ],
      "execution_count": null,
      "outputs": [
        {
          "output_type": "execute_result",
          "data": {
            "text/html": [
              "<div>\n",
              "<style scoped>\n",
              "    .dataframe tbody tr th:only-of-type {\n",
              "        vertical-align: middle;\n",
              "    }\n",
              "\n",
              "    .dataframe tbody tr th {\n",
              "        vertical-align: top;\n",
              "    }\n",
              "\n",
              "    .dataframe thead th {\n",
              "        text-align: right;\n",
              "    }\n",
              "</style>\n",
              "<table border=\"1\" class=\"dataframe\">\n",
              "  <thead>\n",
              "    <tr style=\"text-align: right;\">\n",
              "      <th></th>\n",
              "      <th>Close</th>\n",
              "    </tr>\n",
              "    <tr>\n",
              "      <th>Date</th>\n",
              "      <th></th>\n",
              "    </tr>\n",
              "  </thead>\n",
              "  <tbody>\n",
              "    <tr>\n",
              "      <th>2019-05-10</th>\n",
              "      <td>NaN</td>\n",
              "    </tr>\n",
              "    <tr>\n",
              "      <th>2019-05-13</th>\n",
              "      <td>41.57</td>\n",
              "    </tr>\n",
              "    <tr>\n",
              "      <th>2019-05-14</th>\n",
              "      <td>37.10</td>\n",
              "    </tr>\n",
              "    <tr>\n",
              "      <th>2019-05-15</th>\n",
              "      <td>39.96</td>\n",
              "    </tr>\n",
              "    <tr>\n",
              "      <th>2019-05-16</th>\n",
              "      <td>41.29</td>\n",
              "    </tr>\n",
              "    <tr>\n",
              "      <th>...</th>\n",
              "      <td>...</td>\n",
              "    </tr>\n",
              "    <tr>\n",
              "      <th>2021-03-18</th>\n",
              "      <td>56.36</td>\n",
              "    </tr>\n",
              "    <tr>\n",
              "      <th>2021-03-19</th>\n",
              "      <td>55.69</td>\n",
              "    </tr>\n",
              "    <tr>\n",
              "      <th>2021-03-22</th>\n",
              "      <td>57.08</td>\n",
              "    </tr>\n",
              "    <tr>\n",
              "      <th>2021-03-23</th>\n",
              "      <td>55.69</td>\n",
              "    </tr>\n",
              "    <tr>\n",
              "      <th>2021-03-24</th>\n",
              "      <td>53.49</td>\n",
              "    </tr>\n",
              "  </tbody>\n",
              "</table>\n",
              "<p>472 rows × 1 columns</p>\n",
              "</div>"
            ],
            "text/plain": [
              "            Close\n",
              "Date             \n",
              "2019-05-10    NaN\n",
              "2019-05-13  41.57\n",
              "2019-05-14  37.10\n",
              "2019-05-15  39.96\n",
              "2019-05-16  41.29\n",
              "...           ...\n",
              "2021-03-18  56.36\n",
              "2021-03-19  55.69\n",
              "2021-03-22  57.08\n",
              "2021-03-23  55.69\n",
              "2021-03-24  53.49\n",
              "\n",
              "[472 rows x 1 columns]"
            ]
          },
          "metadata": {
            "tags": []
          },
          "execution_count": 269
        }
      ]
    },
    {
      "cell_type": "code",
      "metadata": {
        "colab": {
          "base_uri": "https://localhost:8080/",
          "height": 450
        },
        "id": "VSU-TWHf2kjK",
        "outputId": "de02f101-374e-486c-adb6-9997c7b136e1"
      },
      "source": [
        "df[['Close']].shift(3)"
      ],
      "execution_count": null,
      "outputs": [
        {
          "output_type": "execute_result",
          "data": {
            "text/html": [
              "<div>\n",
              "<style scoped>\n",
              "    .dataframe tbody tr th:only-of-type {\n",
              "        vertical-align: middle;\n",
              "    }\n",
              "\n",
              "    .dataframe tbody tr th {\n",
              "        vertical-align: top;\n",
              "    }\n",
              "\n",
              "    .dataframe thead th {\n",
              "        text-align: right;\n",
              "    }\n",
              "</style>\n",
              "<table border=\"1\" class=\"dataframe\">\n",
              "  <thead>\n",
              "    <tr style=\"text-align: right;\">\n",
              "      <th></th>\n",
              "      <th>Close</th>\n",
              "    </tr>\n",
              "    <tr>\n",
              "      <th>Date</th>\n",
              "      <th></th>\n",
              "    </tr>\n",
              "  </thead>\n",
              "  <tbody>\n",
              "    <tr>\n",
              "      <th>2019-05-10</th>\n",
              "      <td>NaN</td>\n",
              "    </tr>\n",
              "    <tr>\n",
              "      <th>2019-05-13</th>\n",
              "      <td>NaN</td>\n",
              "    </tr>\n",
              "    <tr>\n",
              "      <th>2019-05-14</th>\n",
              "      <td>NaN</td>\n",
              "    </tr>\n",
              "    <tr>\n",
              "      <th>2019-05-15</th>\n",
              "      <td>41.57</td>\n",
              "    </tr>\n",
              "    <tr>\n",
              "      <th>2019-05-16</th>\n",
              "      <td>37.10</td>\n",
              "    </tr>\n",
              "    <tr>\n",
              "      <th>...</th>\n",
              "      <td>...</td>\n",
              "    </tr>\n",
              "    <tr>\n",
              "      <th>2021-03-18</th>\n",
              "      <td>60.19</td>\n",
              "    </tr>\n",
              "    <tr>\n",
              "      <th>2021-03-19</th>\n",
              "      <td>58.85</td>\n",
              "    </tr>\n",
              "    <tr>\n",
              "      <th>2021-03-22</th>\n",
              "      <td>56.36</td>\n",
              "    </tr>\n",
              "    <tr>\n",
              "      <th>2021-03-23</th>\n",
              "      <td>55.69</td>\n",
              "    </tr>\n",
              "    <tr>\n",
              "      <th>2021-03-24</th>\n",
              "      <td>57.08</td>\n",
              "    </tr>\n",
              "  </tbody>\n",
              "</table>\n",
              "<p>472 rows × 1 columns</p>\n",
              "</div>"
            ],
            "text/plain": [
              "            Close\n",
              "Date             \n",
              "2019-05-10    NaN\n",
              "2019-05-13    NaN\n",
              "2019-05-14    NaN\n",
              "2019-05-15  41.57\n",
              "2019-05-16  37.10\n",
              "...           ...\n",
              "2021-03-18  60.19\n",
              "2021-03-19  58.85\n",
              "2021-03-22  56.36\n",
              "2021-03-23  55.69\n",
              "2021-03-24  57.08\n",
              "\n",
              "[472 rows x 1 columns]"
            ]
          },
          "metadata": {
            "tags": []
          },
          "execution_count": 270
        }
      ]
    },
    {
      "cell_type": "code",
      "metadata": {
        "colab": {
          "base_uri": "https://localhost:8080/",
          "height": 235
        },
        "id": "UbPCrv7L4zHq",
        "outputId": "d0c67a46-3f41-43b3-c835-4b7757979f84"
      },
      "source": [
        "df['Close_shift'] = df.Close.shift(1)\n",
        "df.head()"
      ],
      "execution_count": null,
      "outputs": [
        {
          "output_type": "execute_result",
          "data": {
            "text/html": [
              "<div>\n",
              "<style scoped>\n",
              "    .dataframe tbody tr th:only-of-type {\n",
              "        vertical-align: middle;\n",
              "    }\n",
              "\n",
              "    .dataframe tbody tr th {\n",
              "        vertical-align: top;\n",
              "    }\n",
              "\n",
              "    .dataframe thead th {\n",
              "        text-align: right;\n",
              "    }\n",
              "</style>\n",
              "<table border=\"1\" class=\"dataframe\">\n",
              "  <thead>\n",
              "    <tr style=\"text-align: right;\">\n",
              "      <th></th>\n",
              "      <th>Open</th>\n",
              "      <th>High</th>\n",
              "      <th>Low</th>\n",
              "      <th>Close</th>\n",
              "      <th>Volume</th>\n",
              "      <th>Average</th>\n",
              "      <th>Close_shift</th>\n",
              "    </tr>\n",
              "    <tr>\n",
              "      <th>Date</th>\n",
              "      <th></th>\n",
              "      <th></th>\n",
              "      <th></th>\n",
              "      <th></th>\n",
              "      <th></th>\n",
              "      <th></th>\n",
              "      <th></th>\n",
              "    </tr>\n",
              "  </thead>\n",
              "  <tbody>\n",
              "    <tr>\n",
              "      <th>2019-05-10</th>\n",
              "      <td>42.00</td>\n",
              "      <td>45.00</td>\n",
              "      <td>41.06</td>\n",
              "      <td>41.57</td>\n",
              "      <td>186322536</td>\n",
              "      <td>41.785</td>\n",
              "      <td>NaN</td>\n",
              "    </tr>\n",
              "    <tr>\n",
              "      <th>2019-05-13</th>\n",
              "      <td>38.79</td>\n",
              "      <td>39.24</td>\n",
              "      <td>36.08</td>\n",
              "      <td>37.10</td>\n",
              "      <td>79442420</td>\n",
              "      <td>37.945</td>\n",
              "      <td>41.57</td>\n",
              "    </tr>\n",
              "    <tr>\n",
              "      <th>2019-05-14</th>\n",
              "      <td>38.31</td>\n",
              "      <td>39.96</td>\n",
              "      <td>36.85</td>\n",
              "      <td>39.96</td>\n",
              "      <td>46661147</td>\n",
              "      <td>39.135</td>\n",
              "      <td>37.10</td>\n",
              "    </tr>\n",
              "    <tr>\n",
              "      <th>2019-05-15</th>\n",
              "      <td>39.37</td>\n",
              "      <td>41.88</td>\n",
              "      <td>38.95</td>\n",
              "      <td>41.29</td>\n",
              "      <td>36086065</td>\n",
              "      <td>40.330</td>\n",
              "      <td>39.96</td>\n",
              "    </tr>\n",
              "    <tr>\n",
              "      <th>2019-05-16</th>\n",
              "      <td>41.48</td>\n",
              "      <td>44.06</td>\n",
              "      <td>41.25</td>\n",
              "      <td>43.00</td>\n",
              "      <td>38115524</td>\n",
              "      <td>42.240</td>\n",
              "      <td>41.29</td>\n",
              "    </tr>\n",
              "  </tbody>\n",
              "</table>\n",
              "</div>"
            ],
            "text/plain": [
              "             Open   High    Low  Close     Volume  Average  Close_shift\n",
              "Date                                                                   \n",
              "2019-05-10  42.00  45.00  41.06  41.57  186322536   41.785          NaN\n",
              "2019-05-13  38.79  39.24  36.08  37.10   79442420   37.945        41.57\n",
              "2019-05-14  38.31  39.96  36.85  39.96   46661147   39.135        37.10\n",
              "2019-05-15  39.37  41.88  38.95  41.29   36086065   40.330        39.96\n",
              "2019-05-16  41.48  44.06  41.25  43.00   38115524   42.240        41.29"
            ]
          },
          "metadata": {
            "tags": []
          },
          "execution_count": 271
        }
      ]
    },
    {
      "cell_type": "code",
      "metadata": {
        "colab": {
          "base_uri": "https://localhost:8080/"
        },
        "id": "wk8Zd6HwF8ID",
        "outputId": "d20306a6-67e1-4cd8-eedf-26fc757aaa72"
      },
      "source": [
        "df. Close / df.Close_shift -1"
      ],
      "execution_count": null,
      "outputs": [
        {
          "output_type": "execute_result",
          "data": {
            "text/plain": [
              "Date\n",
              "2019-05-10         NaN\n",
              "2019-05-13   -0.107529\n",
              "2019-05-14    0.077089\n",
              "2019-05-15    0.033283\n",
              "2019-05-16    0.041414\n",
              "                ...   \n",
              "2021-03-18   -0.011888\n",
              "2021-03-19    0.024960\n",
              "2021-03-22   -0.024352\n",
              "2021-03-23   -0.039504\n",
              "2021-03-24   -0.017199\n",
              "Length: 472, dtype: float64"
            ]
          },
          "metadata": {
            "tags": []
          },
          "execution_count": 272
        }
      ]
    },
    {
      "cell_type": "code",
      "metadata": {
        "colab": {
          "base_uri": "https://localhost:8080/",
          "height": 235
        },
        "id": "-4YTtXu9Jddh",
        "outputId": "e104a230-da38-4387-f76d-2934a0124865"
      },
      "source": [
        "df['Daily_Change'] = df. Close / df.Close_shift -1\n",
        "df.head()"
      ],
      "execution_count": null,
      "outputs": [
        {
          "output_type": "execute_result",
          "data": {
            "text/html": [
              "<div>\n",
              "<style scoped>\n",
              "    .dataframe tbody tr th:only-of-type {\n",
              "        vertical-align: middle;\n",
              "    }\n",
              "\n",
              "    .dataframe tbody tr th {\n",
              "        vertical-align: top;\n",
              "    }\n",
              "\n",
              "    .dataframe thead th {\n",
              "        text-align: right;\n",
              "    }\n",
              "</style>\n",
              "<table border=\"1\" class=\"dataframe\">\n",
              "  <thead>\n",
              "    <tr style=\"text-align: right;\">\n",
              "      <th></th>\n",
              "      <th>Open</th>\n",
              "      <th>High</th>\n",
              "      <th>Low</th>\n",
              "      <th>Close</th>\n",
              "      <th>Volume</th>\n",
              "      <th>Average</th>\n",
              "      <th>Close_shift</th>\n",
              "      <th>Daily_Change</th>\n",
              "    </tr>\n",
              "    <tr>\n",
              "      <th>Date</th>\n",
              "      <th></th>\n",
              "      <th></th>\n",
              "      <th></th>\n",
              "      <th></th>\n",
              "      <th></th>\n",
              "      <th></th>\n",
              "      <th></th>\n",
              "      <th></th>\n",
              "    </tr>\n",
              "  </thead>\n",
              "  <tbody>\n",
              "    <tr>\n",
              "      <th>2019-05-10</th>\n",
              "      <td>42.00</td>\n",
              "      <td>45.00</td>\n",
              "      <td>41.06</td>\n",
              "      <td>41.57</td>\n",
              "      <td>186322536</td>\n",
              "      <td>41.785</td>\n",
              "      <td>NaN</td>\n",
              "      <td>NaN</td>\n",
              "    </tr>\n",
              "    <tr>\n",
              "      <th>2019-05-13</th>\n",
              "      <td>38.79</td>\n",
              "      <td>39.24</td>\n",
              "      <td>36.08</td>\n",
              "      <td>37.10</td>\n",
              "      <td>79442420</td>\n",
              "      <td>37.945</td>\n",
              "      <td>41.57</td>\n",
              "      <td>-0.107529</td>\n",
              "    </tr>\n",
              "    <tr>\n",
              "      <th>2019-05-14</th>\n",
              "      <td>38.31</td>\n",
              "      <td>39.96</td>\n",
              "      <td>36.85</td>\n",
              "      <td>39.96</td>\n",
              "      <td>46661147</td>\n",
              "      <td>39.135</td>\n",
              "      <td>37.10</td>\n",
              "      <td>0.077089</td>\n",
              "    </tr>\n",
              "    <tr>\n",
              "      <th>2019-05-15</th>\n",
              "      <td>39.37</td>\n",
              "      <td>41.88</td>\n",
              "      <td>38.95</td>\n",
              "      <td>41.29</td>\n",
              "      <td>36086065</td>\n",
              "      <td>40.330</td>\n",
              "      <td>39.96</td>\n",
              "      <td>0.033283</td>\n",
              "    </tr>\n",
              "    <tr>\n",
              "      <th>2019-05-16</th>\n",
              "      <td>41.48</td>\n",
              "      <td>44.06</td>\n",
              "      <td>41.25</td>\n",
              "      <td>43.00</td>\n",
              "      <td>38115524</td>\n",
              "      <td>42.240</td>\n",
              "      <td>41.29</td>\n",
              "      <td>0.041414</td>\n",
              "    </tr>\n",
              "  </tbody>\n",
              "</table>\n",
              "</div>"
            ],
            "text/plain": [
              "             Open   High    Low  ...  Average  Close_shift  Daily_Change\n",
              "Date                             ...                                    \n",
              "2019-05-10  42.00  45.00  41.06  ...   41.785          NaN           NaN\n",
              "2019-05-13  38.79  39.24  36.08  ...   37.945        41.57     -0.107529\n",
              "2019-05-14  38.31  39.96  36.85  ...   39.135        37.10      0.077089\n",
              "2019-05-15  39.37  41.88  38.95  ...   40.330        39.96      0.033283\n",
              "2019-05-16  41.48  44.06  41.25  ...   42.240        41.29      0.041414\n",
              "\n",
              "[5 rows x 8 columns]"
            ]
          },
          "metadata": {
            "tags": []
          },
          "execution_count": 273
        }
      ]
    },
    {
      "cell_type": "markdown",
      "metadata": {
        "id": "yNi4vcNobY0E"
      },
      "source": [
        ""
      ]
    },
    {
      "cell_type": "markdown",
      "metadata": {
        "id": "qHFgmiQzbbCI"
      },
      "source": [
        "del df['Daily Change']\n",
        "df.head()              WRZUĆ W TYM MIEJSCU DO KODU"
      ]
    },
    {
      "cell_type": "code",
      "metadata": {
        "colab": {
          "base_uri": "https://localhost:8080/"
        },
        "id": "BuORvi1ISMHs",
        "outputId": "32fce249-8711-49f3-ceb6-f6803281deab"
      },
      "source": [
        "df.Daily_Change.min()"
      ],
      "execution_count": null,
      "outputs": [
        {
          "output_type": "execute_result",
          "data": {
            "text/plain": [
              "-0.21628767847699626"
            ]
          },
          "metadata": {
            "tags": []
          },
          "execution_count": 274
        }
      ]
    },
    {
      "cell_type": "code",
      "metadata": {
        "colab": {
          "base_uri": "https://localhost:8080/"
        },
        "id": "WU866hnGTWxW",
        "outputId": "df8b9235-8cd5-4fb3-c990-031102bdca3e"
      },
      "source": [
        "df.Daily_Change.max()"
      ],
      "execution_count": null,
      "outputs": [
        {
          "output_type": "execute_result",
          "data": {
            "text/plain": [
              "0.3825910931174088"
            ]
          },
          "metadata": {
            "tags": []
          },
          "execution_count": 275
        }
      ]
    },
    {
      "cell_type": "code",
      "metadata": {
        "colab": {
          "base_uri": "https://localhost:8080/",
          "height": 285
        },
        "id": "YsWu9ooFT9Ae",
        "outputId": "d4636b8f-845e-4e3b-fea7-000b4cb0674d"
      },
      "source": [
        "df.Daily_Change.hist(bins=100)"
      ],
      "execution_count": null,
      "outputs": [
        {
          "output_type": "execute_result",
          "data": {
            "text/plain": [
              "<matplotlib.axes._subplots.AxesSubplot at 0x7fe18b7538d0>"
            ]
          },
          "metadata": {
            "tags": []
          },
          "execution_count": 276
        },
        {
          "output_type": "display_data",
          "data": {
            "image/png": "[encoded data removed]",
            "text/plain": [
              "<Figure size 432x288 with 1 Axes>"
            ]
          },
          "metadata": {
            "tags": []
          }
        }
      ]
    },
    {
      "cell_type": "code",
      "metadata": {
        "colab": {
          "base_uri": "https://localhost:8080/",
          "height": 285
        },
        "id": "0UAWaklCVIG9",
        "outputId": "a9dc7345-6262-4727-dc5a-27974246b8f6"
      },
      "source": [
        "import seaborn as sns\n",
        "sns.set()\n",
        "\n",
        "df.Daily_Change.hist(bins=100)"
      ],
      "execution_count": null,
      "outputs": [
        {
          "output_type": "execute_result",
          "data": {
            "text/plain": [
              "<matplotlib.axes._subplots.AxesSubplot at 0x7fe18b508d90>"
            ]
          },
          "metadata": {
            "tags": []
          },
          "execution_count": 277
        },
        {
          "output_type": "display_data",
          "data": {
            "image/png": "[encoded data removed]",
            "text/plain": [
              "<Figure size 432x288 with 1 Axes>"
            ]
          },
          "metadata": {
            "tags": []
          }
        }
      ]
    },
    {
      "cell_type": "code",
      "metadata": {
        "colab": {
          "base_uri": "https://localhost:8080/",
          "height": 302
        },
        "id": "LCM2DKoqXQFn",
        "outputId": "caf47510-0a48-465a-94de-31a7a51cf6a6"
      },
      "source": [
        "df.Close.plot()"
      ],
      "execution_count": null,
      "outputs": [
        {
          "output_type": "execute_result",
          "data": {
            "text/plain": [
              "<matplotlib.axes._subplots.AxesSubplot at 0x7fe18b3dd750>"
            ]
          },
          "metadata": {
            "tags": []
          },
          "execution_count": 278
        },
        {
          "output_type": "display_data",
          "data": {
            "image/png": "[encoded data removed]",
            "text/plain": [
              "<Figure size 432x288 with 1 Axes>"
            ]
          },
          "metadata": {
            "tags": []
          }
        }
      ]
    },
    {
      "cell_type": "markdown",
      "metadata": {
        "id": "B0QEjl0ybqWy"
      },
      "source": [
        "#### VIII. DataFrame - FILTROWANIE DANYCH"
      ]
    },
    {
      "cell_type": "code",
      "metadata": {
        "colab": {
          "base_uri": "https://localhost:8080/",
          "height": 450
        },
        "id": "6Gq3hHQOYIa-",
        "outputId": "c09de54d-4094-4fbb-d83f-63b19b5f75bc"
      },
      "source": [
        "df"
      ],
      "execution_count": null,
      "outputs": [
        {
          "output_type": "execute_result",
          "data": {
            "text/html": [
              "<div>\n",
              "<style scoped>\n",
              "    .dataframe tbody tr th:only-of-type {\n",
              "        vertical-align: middle;\n",
              "    }\n",
              "\n",
              "    .dataframe tbody tr th {\n",
              "        vertical-align: top;\n",
              "    }\n",
              "\n",
              "    .dataframe thead th {\n",
              "        text-align: right;\n",
              "    }\n",
              "</style>\n",
              "<table border=\"1\" class=\"dataframe\">\n",
              "  <thead>\n",
              "    <tr style=\"text-align: right;\">\n",
              "      <th></th>\n",
              "      <th>Open</th>\n",
              "      <th>High</th>\n",
              "      <th>Low</th>\n",
              "      <th>Close</th>\n",
              "      <th>Volume</th>\n",
              "      <th>Average</th>\n",
              "      <th>Close_shift</th>\n",
              "      <th>Daily_Change</th>\n",
              "    </tr>\n",
              "    <tr>\n",
              "      <th>Date</th>\n",
              "      <th></th>\n",
              "      <th></th>\n",
              "      <th></th>\n",
              "      <th></th>\n",
              "      <th></th>\n",
              "      <th></th>\n",
              "      <th></th>\n",
              "      <th></th>\n",
              "    </tr>\n",
              "  </thead>\n",
              "  <tbody>\n",
              "    <tr>\n",
              "      <th>2019-05-10</th>\n",
              "      <td>42.00</td>\n",
              "      <td>45.00</td>\n",
              "      <td>41.06</td>\n",
              "      <td>41.57</td>\n",
              "      <td>186322536</td>\n",
              "      <td>41.785</td>\n",
              "      <td>NaN</td>\n",
              "      <td>NaN</td>\n",
              "    </tr>\n",
              "    <tr>\n",
              "      <th>2019-05-13</th>\n",
              "      <td>38.79</td>\n",
              "      <td>39.24</td>\n",
              "      <td>36.08</td>\n",
              "      <td>37.10</td>\n",
              "      <td>79442420</td>\n",
              "      <td>37.945</td>\n",
              "      <td>41.57</td>\n",
              "      <td>-0.107529</td>\n",
              "    </tr>\n",
              "    <tr>\n",
              "      <th>2019-05-14</th>\n",
              "      <td>38.31</td>\n",
              "      <td>39.96</td>\n",
              "      <td>36.85</td>\n",
              "      <td>39.96</td>\n",
              "      <td>46661147</td>\n",
              "      <td>39.135</td>\n",
              "      <td>37.10</td>\n",
              "      <td>0.077089</td>\n",
              "    </tr>\n",
              "    <tr>\n",
              "      <th>2019-05-15</th>\n",
              "      <td>39.37</td>\n",
              "      <td>41.88</td>\n",
              "      <td>38.95</td>\n",
              "      <td>41.29</td>\n",
              "      <td>36086065</td>\n",
              "      <td>40.330</td>\n",
              "      <td>39.96</td>\n",
              "      <td>0.033283</td>\n",
              "    </tr>\n",
              "    <tr>\n",
              "      <th>2019-05-16</th>\n",
              "      <td>41.48</td>\n",
              "      <td>44.06</td>\n",
              "      <td>41.25</td>\n",
              "      <td>43.00</td>\n",
              "      <td>38115524</td>\n",
              "      <td>42.240</td>\n",
              "      <td>41.29</td>\n",
              "      <td>0.041414</td>\n",
              "    </tr>\n",
              "    <tr>\n",
              "      <th>...</th>\n",
              "      <td>...</td>\n",
              "      <td>...</td>\n",
              "      <td>...</td>\n",
              "      <td>...</td>\n",
              "      <td>...</td>\n",
              "      <td>...</td>\n",
              "      <td>...</td>\n",
              "      <td>...</td>\n",
              "    </tr>\n",
              "    <tr>\n",
              "      <th>2021-03-18</th>\n",
              "      <td>56.63</td>\n",
              "      <td>57.48</td>\n",
              "      <td>55.21</td>\n",
              "      <td>55.69</td>\n",
              "      <td>15742985</td>\n",
              "      <td>56.160</td>\n",
              "      <td>56.36</td>\n",
              "      <td>-0.011888</td>\n",
              "    </tr>\n",
              "    <tr>\n",
              "      <th>2021-03-19</th>\n",
              "      <td>55.48</td>\n",
              "      <td>57.18</td>\n",
              "      <td>54.34</td>\n",
              "      <td>57.08</td>\n",
              "      <td>17396297</td>\n",
              "      <td>56.280</td>\n",
              "      <td>55.69</td>\n",
              "      <td>0.024960</td>\n",
              "    </tr>\n",
              "    <tr>\n",
              "      <th>2021-03-22</th>\n",
              "      <td>57.25</td>\n",
              "      <td>57.61</td>\n",
              "      <td>55.47</td>\n",
              "      <td>55.69</td>\n",
              "      <td>14149412</td>\n",
              "      <td>56.470</td>\n",
              "      <td>57.08</td>\n",
              "      <td>-0.024352</td>\n",
              "    </tr>\n",
              "    <tr>\n",
              "      <th>2021-03-23</th>\n",
              "      <td>55.63</td>\n",
              "      <td>55.63</td>\n",
              "      <td>53.11</td>\n",
              "      <td>53.49</td>\n",
              "      <td>14513457</td>\n",
              "      <td>54.560</td>\n",
              "      <td>55.69</td>\n",
              "      <td>-0.039504</td>\n",
              "    </tr>\n",
              "    <tr>\n",
              "      <th>2021-03-24</th>\n",
              "      <td>54.46</td>\n",
              "      <td>54.96</td>\n",
              "      <td>52.54</td>\n",
              "      <td>52.57</td>\n",
              "      <td>13689068</td>\n",
              "      <td>53.515</td>\n",
              "      <td>53.49</td>\n",
              "      <td>-0.017199</td>\n",
              "    </tr>\n",
              "  </tbody>\n",
              "</table>\n",
              "<p>472 rows × 8 columns</p>\n",
              "</div>"
            ],
            "text/plain": [
              "             Open   High    Low  ...  Average  Close_shift  Daily_Change\n",
              "Date                             ...                                    \n",
              "2019-05-10  42.00  45.00  41.06  ...   41.785          NaN           NaN\n",
              "2019-05-13  38.79  39.24  36.08  ...   37.945        41.57     -0.107529\n",
              "2019-05-14  38.31  39.96  36.85  ...   39.135        37.10      0.077089\n",
              "2019-05-15  39.37  41.88  38.95  ...   40.330        39.96      0.033283\n",
              "2019-05-16  41.48  44.06  41.25  ...   42.240        41.29      0.041414\n",
              "...           ...    ...    ...  ...      ...          ...           ...\n",
              "2021-03-18  56.63  57.48  55.21  ...   56.160        56.36     -0.011888\n",
              "2021-03-19  55.48  57.18  54.34  ...   56.280        55.69      0.024960\n",
              "2021-03-22  57.25  57.61  55.47  ...   56.470        57.08     -0.024352\n",
              "2021-03-23  55.63  55.63  53.11  ...   54.560        55.69     -0.039504\n",
              "2021-03-24  54.46  54.96  52.54  ...   53.515        53.49     -0.017199\n",
              "\n",
              "[472 rows x 8 columns]"
            ]
          },
          "metadata": {
            "tags": []
          },
          "execution_count": 279
        }
      ]
    },
    {
      "cell_type": "code",
      "metadata": {
        "colab": {
          "base_uri": "https://localhost:8080/"
        },
        "id": "-vxtxUXjlDrJ",
        "outputId": "9243279f-bf2d-430a-b6cb-68626e07cc12"
      },
      "source": [
        "df.Daily_Change > 0"
      ],
      "execution_count": null,
      "outputs": [
        {
          "output_type": "execute_result",
          "data": {
            "text/plain": [
              "Date\n",
              "2019-05-10    False\n",
              "2019-05-13    False\n",
              "2019-05-14     True\n",
              "2019-05-15     True\n",
              "2019-05-16     True\n",
              "              ...  \n",
              "2021-03-18    False\n",
              "2021-03-19     True\n",
              "2021-03-22    False\n",
              "2021-03-23    False\n",
              "2021-03-24    False\n",
              "Name: Daily_Change, Length: 472, dtype: bool"
            ]
          },
          "metadata": {
            "tags": []
          },
          "execution_count": 280
        }
      ]
    },
    {
      "cell_type": "code",
      "metadata": {
        "colab": {
          "base_uri": "https://localhost:8080/",
          "height": 450
        },
        "id": "_Lr5JHQAm7qR",
        "outputId": "bb28b289-603c-4995-e37a-4c60788dee84"
      },
      "source": [
        "df[df.Daily_Change > 0]"
      ],
      "execution_count": null,
      "outputs": [
        {
          "output_type": "execute_result",
          "data": {
            "text/html": [
              "<div>\n",
              "<style scoped>\n",
              "    .dataframe tbody tr th:only-of-type {\n",
              "        vertical-align: middle;\n",
              "    }\n",
              "\n",
              "    .dataframe tbody tr th {\n",
              "        vertical-align: top;\n",
              "    }\n",
              "\n",
              "    .dataframe thead th {\n",
              "        text-align: right;\n",
              "    }\n",
              "</style>\n",
              "<table border=\"1\" class=\"dataframe\">\n",
              "  <thead>\n",
              "    <tr style=\"text-align: right;\">\n",
              "      <th></th>\n",
              "      <th>Open</th>\n",
              "      <th>High</th>\n",
              "      <th>Low</th>\n",
              "      <th>Close</th>\n",
              "      <th>Volume</th>\n",
              "      <th>Average</th>\n",
              "      <th>Close_shift</th>\n",
              "      <th>Daily_Change</th>\n",
              "    </tr>\n",
              "    <tr>\n",
              "      <th>Date</th>\n",
              "      <th></th>\n",
              "      <th></th>\n",
              "      <th></th>\n",
              "      <th></th>\n",
              "      <th></th>\n",
              "      <th></th>\n",
              "      <th></th>\n",
              "      <th></th>\n",
              "    </tr>\n",
              "  </thead>\n",
              "  <tbody>\n",
              "    <tr>\n",
              "      <th>2019-05-14</th>\n",
              "      <td>38.31</td>\n",
              "      <td>39.96</td>\n",
              "      <td>36.85</td>\n",
              "      <td>39.96</td>\n",
              "      <td>46661147</td>\n",
              "      <td>39.135</td>\n",
              "      <td>37.10</td>\n",
              "      <td>0.077089</td>\n",
              "    </tr>\n",
              "    <tr>\n",
              "      <th>2019-05-15</th>\n",
              "      <td>39.37</td>\n",
              "      <td>41.88</td>\n",
              "      <td>38.95</td>\n",
              "      <td>41.29</td>\n",
              "      <td>36086065</td>\n",
              "      <td>40.330</td>\n",
              "      <td>39.96</td>\n",
              "      <td>0.033283</td>\n",
              "    </tr>\n",
              "    <tr>\n",
              "      <th>2019-05-16</th>\n",
              "      <td>41.48</td>\n",
              "      <td>44.06</td>\n",
              "      <td>41.25</td>\n",
              "      <td>43.00</td>\n",
              "      <td>38115524</td>\n",
              "      <td>42.240</td>\n",
              "      <td>41.29</td>\n",
              "      <td>0.041414</td>\n",
              "    </tr>\n",
              "    <tr>\n",
              "      <th>2019-05-24</th>\n",
              "      <td>41.28</td>\n",
              "      <td>41.51</td>\n",
              "      <td>40.50</td>\n",
              "      <td>41.51</td>\n",
              "      <td>8786751</td>\n",
              "      <td>41.395</td>\n",
              "      <td>40.47</td>\n",
              "      <td>0.025698</td>\n",
              "    </tr>\n",
              "    <tr>\n",
              "      <th>2019-05-31</th>\n",
              "      <td>41.15</td>\n",
              "      <td>41.57</td>\n",
              "      <td>39.41</td>\n",
              "      <td>40.41</td>\n",
              "      <td>23209848</td>\n",
              "      <td>40.780</td>\n",
              "      <td>39.80</td>\n",
              "      <td>0.015327</td>\n",
              "    </tr>\n",
              "    <tr>\n",
              "      <th>...</th>\n",
              "      <td>...</td>\n",
              "      <td>...</td>\n",
              "      <td>...</td>\n",
              "      <td>...</td>\n",
              "      <td>...</td>\n",
              "      <td>...</td>\n",
              "      <td>...</td>\n",
              "      <td>...</td>\n",
              "    </tr>\n",
              "    <tr>\n",
              "      <th>2021-03-09</th>\n",
              "      <td>56.00</td>\n",
              "      <td>56.15</td>\n",
              "      <td>54.72</td>\n",
              "      <td>55.25</td>\n",
              "      <td>17192937</td>\n",
              "      <td>55.625</td>\n",
              "      <td>53.20</td>\n",
              "      <td>0.038534</td>\n",
              "    </tr>\n",
              "    <tr>\n",
              "      <th>2021-03-10</th>\n",
              "      <td>57.21</td>\n",
              "      <td>58.90</td>\n",
              "      <td>56.27</td>\n",
              "      <td>57.68</td>\n",
              "      <td>27997015</td>\n",
              "      <td>57.445</td>\n",
              "      <td>55.25</td>\n",
              "      <td>0.043982</td>\n",
              "    </tr>\n",
              "    <tr>\n",
              "      <th>2021-03-11</th>\n",
              "      <td>58.80</td>\n",
              "      <td>59.48</td>\n",
              "      <td>58.22</td>\n",
              "      <td>58.95</td>\n",
              "      <td>17293752</td>\n",
              "      <td>58.875</td>\n",
              "      <td>57.68</td>\n",
              "      <td>0.022018</td>\n",
              "    </tr>\n",
              "    <tr>\n",
              "      <th>2021-03-12</th>\n",
              "      <td>58.97</td>\n",
              "      <td>60.59</td>\n",
              "      <td>57.62</td>\n",
              "      <td>60.35</td>\n",
              "      <td>14839307</td>\n",
              "      <td>59.660</td>\n",
              "      <td>58.95</td>\n",
              "      <td>0.023749</td>\n",
              "    </tr>\n",
              "    <tr>\n",
              "      <th>2021-03-19</th>\n",
              "      <td>55.48</td>\n",
              "      <td>57.18</td>\n",
              "      <td>54.34</td>\n",
              "      <td>57.08</td>\n",
              "      <td>17396297</td>\n",
              "      <td>56.280</td>\n",
              "      <td>55.69</td>\n",
              "      <td>0.024960</td>\n",
              "    </tr>\n",
              "  </tbody>\n",
              "</table>\n",
              "<p>228 rows × 8 columns</p>\n",
              "</div>"
            ],
            "text/plain": [
              "             Open   High    Low  ...  Average  Close_shift  Daily_Change\n",
              "Date                             ...                                    \n",
              "2019-05-14  38.31  39.96  36.85  ...   39.135        37.10      0.077089\n",
              "2019-05-15  39.37  41.88  38.95  ...   40.330        39.96      0.033283\n",
              "2019-05-16  41.48  44.06  41.25  ...   42.240        41.29      0.041414\n",
              "2019-05-24  41.28  41.51  40.50  ...   41.395        40.47      0.025698\n",
              "2019-05-31  41.15  41.57  39.41  ...   40.780        39.80      0.015327\n",
              "...           ...    ...    ...  ...      ...          ...           ...\n",
              "2021-03-09  56.00  56.15  54.72  ...   55.625        53.20      0.038534\n",
              "2021-03-10  57.21  58.90  56.27  ...   57.445        55.25      0.043982\n",
              "2021-03-11  58.80  59.48  58.22  ...   58.875        57.68      0.022018\n",
              "2021-03-12  58.97  60.59  57.62  ...   59.660        58.95      0.023749\n",
              "2021-03-19  55.48  57.18  54.34  ...   56.280        55.69      0.024960\n",
              "\n",
              "[228 rows x 8 columns]"
            ]
          },
          "metadata": {
            "tags": []
          },
          "execution_count": 281
        }
      ]
    },
    {
      "cell_type": "code",
      "metadata": {
        "colab": {
          "base_uri": "https://localhost:8080/",
          "height": 450
        },
        "id": "VH8wA5NMouPp",
        "outputId": "14f7bd05-dc6b-4a1c-d337-2e5cd2a1ef20"
      },
      "source": [
        "df[df.Daily_Change < 0]"
      ],
      "execution_count": null,
      "outputs": [
        {
          "output_type": "execute_result",
          "data": {
            "text/html": [
              "<div>\n",
              "<style scoped>\n",
              "    .dataframe tbody tr th:only-of-type {\n",
              "        vertical-align: middle;\n",
              "    }\n",
              "\n",
              "    .dataframe tbody tr th {\n",
              "        vertical-align: top;\n",
              "    }\n",
              "\n",
              "    .dataframe thead th {\n",
              "        text-align: right;\n",
              "    }\n",
              "</style>\n",
              "<table border=\"1\" class=\"dataframe\">\n",
              "  <thead>\n",
              "    <tr style=\"text-align: right;\">\n",
              "      <th></th>\n",
              "      <th>Open</th>\n",
              "      <th>High</th>\n",
              "      <th>Low</th>\n",
              "      <th>Close</th>\n",
              "      <th>Volume</th>\n",
              "      <th>Average</th>\n",
              "      <th>Close_shift</th>\n",
              "      <th>Daily_Change</th>\n",
              "    </tr>\n",
              "    <tr>\n",
              "      <th>Date</th>\n",
              "      <th></th>\n",
              "      <th></th>\n",
              "      <th></th>\n",
              "      <th></th>\n",
              "      <th></th>\n",
              "      <th></th>\n",
              "      <th></th>\n",
              "      <th></th>\n",
              "    </tr>\n",
              "  </thead>\n",
              "  <tbody>\n",
              "    <tr>\n",
              "      <th>2019-05-13</th>\n",
              "      <td>38.79</td>\n",
              "      <td>39.24</td>\n",
              "      <td>36.08</td>\n",
              "      <td>37.10</td>\n",
              "      <td>79442420</td>\n",
              "      <td>37.945</td>\n",
              "      <td>41.57</td>\n",
              "      <td>-0.107529</td>\n",
              "    </tr>\n",
              "    <tr>\n",
              "      <th>2019-05-17</th>\n",
              "      <td>41.98</td>\n",
              "      <td>43.29</td>\n",
              "      <td>41.27</td>\n",
              "      <td>41.91</td>\n",
              "      <td>20225687</td>\n",
              "      <td>41.945</td>\n",
              "      <td>43.00</td>\n",
              "      <td>-0.025349</td>\n",
              "    </tr>\n",
              "    <tr>\n",
              "      <th>2019-05-20</th>\n",
              "      <td>41.19</td>\n",
              "      <td>41.68</td>\n",
              "      <td>39.46</td>\n",
              "      <td>41.59</td>\n",
              "      <td>29222330</td>\n",
              "      <td>41.390</td>\n",
              "      <td>41.91</td>\n",
              "      <td>-0.007635</td>\n",
              "    </tr>\n",
              "    <tr>\n",
              "      <th>2019-05-21</th>\n",
              "      <td>42.00</td>\n",
              "      <td>42.24</td>\n",
              "      <td>41.25</td>\n",
              "      <td>41.50</td>\n",
              "      <td>10802851</td>\n",
              "      <td>41.750</td>\n",
              "      <td>41.59</td>\n",
              "      <td>-0.002164</td>\n",
              "    </tr>\n",
              "    <tr>\n",
              "      <th>2019-05-22</th>\n",
              "      <td>41.05</td>\n",
              "      <td>41.28</td>\n",
              "      <td>40.50</td>\n",
              "      <td>41.25</td>\n",
              "      <td>9089469</td>\n",
              "      <td>41.150</td>\n",
              "      <td>41.50</td>\n",
              "      <td>-0.006024</td>\n",
              "    </tr>\n",
              "    <tr>\n",
              "      <th>...</th>\n",
              "      <td>...</td>\n",
              "      <td>...</td>\n",
              "      <td>...</td>\n",
              "      <td>...</td>\n",
              "      <td>...</td>\n",
              "      <td>...</td>\n",
              "      <td>...</td>\n",
              "      <td>...</td>\n",
              "    </tr>\n",
              "    <tr>\n",
              "      <th>2021-03-17</th>\n",
              "      <td>57.07</td>\n",
              "      <td>57.57</td>\n",
              "      <td>55.54</td>\n",
              "      <td>56.36</td>\n",
              "      <td>25509926</td>\n",
              "      <td>56.715</td>\n",
              "      <td>58.85</td>\n",
              "      <td>-0.042311</td>\n",
              "    </tr>\n",
              "    <tr>\n",
              "      <th>2021-03-18</th>\n",
              "      <td>56.63</td>\n",
              "      <td>57.48</td>\n",
              "      <td>55.21</td>\n",
              "      <td>55.69</td>\n",
              "      <td>15742985</td>\n",
              "      <td>56.160</td>\n",
              "      <td>56.36</td>\n",
              "      <td>-0.011888</td>\n",
              "    </tr>\n",
              "    <tr>\n",
              "      <th>2021-03-22</th>\n",
              "      <td>57.25</td>\n",
              "      <td>57.61</td>\n",
              "      <td>55.47</td>\n",
              "      <td>55.69</td>\n",
              "      <td>14149412</td>\n",
              "      <td>56.470</td>\n",
              "      <td>57.08</td>\n",
              "      <td>-0.024352</td>\n",
              "    </tr>\n",
              "    <tr>\n",
              "      <th>2021-03-23</th>\n",
              "      <td>55.63</td>\n",
              "      <td>55.63</td>\n",
              "      <td>53.11</td>\n",
              "      <td>53.49</td>\n",
              "      <td>14513457</td>\n",
              "      <td>54.560</td>\n",
              "      <td>55.69</td>\n",
              "      <td>-0.039504</td>\n",
              "    </tr>\n",
              "    <tr>\n",
              "      <th>2021-03-24</th>\n",
              "      <td>54.46</td>\n",
              "      <td>54.96</td>\n",
              "      <td>52.54</td>\n",
              "      <td>52.57</td>\n",
              "      <td>13689068</td>\n",
              "      <td>53.515</td>\n",
              "      <td>53.49</td>\n",
              "      <td>-0.017199</td>\n",
              "    </tr>\n",
              "  </tbody>\n",
              "</table>\n",
              "<p>240 rows × 8 columns</p>\n",
              "</div>"
            ],
            "text/plain": [
              "             Open   High    Low  ...  Average  Close_shift  Daily_Change\n",
              "Date                             ...                                    \n",
              "2019-05-13  38.79  39.24  36.08  ...   37.945        41.57     -0.107529\n",
              "2019-05-17  41.98  43.29  41.27  ...   41.945        43.00     -0.025349\n",
              "2019-05-20  41.19  41.68  39.46  ...   41.390        41.91     -0.007635\n",
              "2019-05-21  42.00  42.24  41.25  ...   41.750        41.59     -0.002164\n",
              "2019-05-22  41.05  41.28  40.50  ...   41.150        41.50     -0.006024\n",
              "...           ...    ...    ...  ...      ...          ...           ...\n",
              "2021-03-17  57.07  57.57  55.54  ...   56.715        58.85     -0.042311\n",
              "2021-03-18  56.63  57.48  55.21  ...   56.160        56.36     -0.011888\n",
              "2021-03-22  57.25  57.61  55.47  ...   56.470        57.08     -0.024352\n",
              "2021-03-23  55.63  55.63  53.11  ...   54.560        55.69     -0.039504\n",
              "2021-03-24  54.46  54.96  52.54  ...   53.515        53.49     -0.017199\n",
              "\n",
              "[240 rows x 8 columns]"
            ]
          },
          "metadata": {
            "tags": []
          },
          "execution_count": 282
        }
      ]
    },
    {
      "cell_type": "code",
      "metadata": {
        "colab": {
          "base_uri": "https://localhost:8080/",
          "height": 450
        },
        "id": "v98B5aSuuh3q",
        "outputId": "f16bda10-eeab-4154-b510-97766379bc7b"
      },
      "source": [
        "df_positive = df[df.Daily_Change > 0]\n",
        "df_positive"
      ],
      "execution_count": null,
      "outputs": [
        {
          "output_type": "execute_result",
          "data": {
            "text/html": [
              "<div>\n",
              "<style scoped>\n",
              "    .dataframe tbody tr th:only-of-type {\n",
              "        vertical-align: middle;\n",
              "    }\n",
              "\n",
              "    .dataframe tbody tr th {\n",
              "        vertical-align: top;\n",
              "    }\n",
              "\n",
              "    .dataframe thead th {\n",
              "        text-align: right;\n",
              "    }\n",
              "</style>\n",
              "<table border=\"1\" class=\"dataframe\">\n",
              "  <thead>\n",
              "    <tr style=\"text-align: right;\">\n",
              "      <th></th>\n",
              "      <th>Open</th>\n",
              "      <th>High</th>\n",
              "      <th>Low</th>\n",
              "      <th>Close</th>\n",
              "      <th>Volume</th>\n",
              "      <th>Average</th>\n",
              "      <th>Close_shift</th>\n",
              "      <th>Daily_Change</th>\n",
              "    </tr>\n",
              "    <tr>\n",
              "      <th>Date</th>\n",
              "      <th></th>\n",
              "      <th></th>\n",
              "      <th></th>\n",
              "      <th></th>\n",
              "      <th></th>\n",
              "      <th></th>\n",
              "      <th></th>\n",
              "      <th></th>\n",
              "    </tr>\n",
              "  </thead>\n",
              "  <tbody>\n",
              "    <tr>\n",
              "      <th>2019-05-14</th>\n",
              "      <td>38.31</td>\n",
              "      <td>39.96</td>\n",
              "      <td>36.85</td>\n",
              "      <td>39.96</td>\n",
              "      <td>46661147</td>\n",
              "      <td>39.135</td>\n",
              "      <td>37.10</td>\n",
              "      <td>0.077089</td>\n",
              "    </tr>\n",
              "    <tr>\n",
              "      <th>2019-05-15</th>\n",
              "      <td>39.37</td>\n",
              "      <td>41.88</td>\n",
              "      <td>38.95</td>\n",
              "      <td>41.29</td>\n",
              "      <td>36086065</td>\n",
              "      <td>40.330</td>\n",
              "      <td>39.96</td>\n",
              "      <td>0.033283</td>\n",
              "    </tr>\n",
              "    <tr>\n",
              "      <th>2019-05-16</th>\n",
              "      <td>41.48</td>\n",
              "      <td>44.06</td>\n",
              "      <td>41.25</td>\n",
              "      <td>43.00</td>\n",
              "      <td>38115524</td>\n",
              "      <td>42.240</td>\n",
              "      <td>41.29</td>\n",
              "      <td>0.041414</td>\n",
              "    </tr>\n",
              "    <tr>\n",
              "      <th>2019-05-24</th>\n",
              "      <td>41.28</td>\n",
              "      <td>41.51</td>\n",
              "      <td>40.50</td>\n",
              "      <td>41.51</td>\n",
              "      <td>8786751</td>\n",
              "      <td>41.395</td>\n",
              "      <td>40.47</td>\n",
              "      <td>0.025698</td>\n",
              "    </tr>\n",
              "    <tr>\n",
              "      <th>2019-05-31</th>\n",
              "      <td>41.15</td>\n",
              "      <td>41.57</td>\n",
              "      <td>39.41</td>\n",
              "      <td>40.41</td>\n",
              "      <td>23209848</td>\n",
              "      <td>40.780</td>\n",
              "      <td>39.80</td>\n",
              "      <td>0.015327</td>\n",
              "    </tr>\n",
              "    <tr>\n",
              "      <th>...</th>\n",
              "      <td>...</td>\n",
              "      <td>...</td>\n",
              "      <td>...</td>\n",
              "      <td>...</td>\n",
              "      <td>...</td>\n",
              "      <td>...</td>\n",
              "      <td>...</td>\n",
              "      <td>...</td>\n",
              "    </tr>\n",
              "    <tr>\n",
              "      <th>2021-03-09</th>\n",
              "      <td>56.00</td>\n",
              "      <td>56.15</td>\n",
              "      <td>54.72</td>\n",
              "      <td>55.25</td>\n",
              "      <td>17192937</td>\n",
              "      <td>55.625</td>\n",
              "      <td>53.20</td>\n",
              "      <td>0.038534</td>\n",
              "    </tr>\n",
              "    <tr>\n",
              "      <th>2021-03-10</th>\n",
              "      <td>57.21</td>\n",
              "      <td>58.90</td>\n",
              "      <td>56.27</td>\n",
              "      <td>57.68</td>\n",
              "      <td>27997015</td>\n",
              "      <td>57.445</td>\n",
              "      <td>55.25</td>\n",
              "      <td>0.043982</td>\n",
              "    </tr>\n",
              "    <tr>\n",
              "      <th>2021-03-11</th>\n",
              "      <td>58.80</td>\n",
              "      <td>59.48</td>\n",
              "      <td>58.22</td>\n",
              "      <td>58.95</td>\n",
              "      <td>17293752</td>\n",
              "      <td>58.875</td>\n",
              "      <td>57.68</td>\n",
              "      <td>0.022018</td>\n",
              "    </tr>\n",
              "    <tr>\n",
              "      <th>2021-03-12</th>\n",
              "      <td>58.97</td>\n",
              "      <td>60.59</td>\n",
              "      <td>57.62</td>\n",
              "      <td>60.35</td>\n",
              "      <td>14839307</td>\n",
              "      <td>59.660</td>\n",
              "      <td>58.95</td>\n",
              "      <td>0.023749</td>\n",
              "    </tr>\n",
              "    <tr>\n",
              "      <th>2021-03-19</th>\n",
              "      <td>55.48</td>\n",
              "      <td>57.18</td>\n",
              "      <td>54.34</td>\n",
              "      <td>57.08</td>\n",
              "      <td>17396297</td>\n",
              "      <td>56.280</td>\n",
              "      <td>55.69</td>\n",
              "      <td>0.024960</td>\n",
              "    </tr>\n",
              "  </tbody>\n",
              "</table>\n",
              "<p>228 rows × 8 columns</p>\n",
              "</div>"
            ],
            "text/plain": [
              "             Open   High    Low  ...  Average  Close_shift  Daily_Change\n",
              "Date                             ...                                    \n",
              "2019-05-14  38.31  39.96  36.85  ...   39.135        37.10      0.077089\n",
              "2019-05-15  39.37  41.88  38.95  ...   40.330        39.96      0.033283\n",
              "2019-05-16  41.48  44.06  41.25  ...   42.240        41.29      0.041414\n",
              "2019-05-24  41.28  41.51  40.50  ...   41.395        40.47      0.025698\n",
              "2019-05-31  41.15  41.57  39.41  ...   40.780        39.80      0.015327\n",
              "...           ...    ...    ...  ...      ...          ...           ...\n",
              "2021-03-09  56.00  56.15  54.72  ...   55.625        53.20      0.038534\n",
              "2021-03-10  57.21  58.90  56.27  ...   57.445        55.25      0.043982\n",
              "2021-03-11  58.80  59.48  58.22  ...   58.875        57.68      0.022018\n",
              "2021-03-12  58.97  60.59  57.62  ...   59.660        58.95      0.023749\n",
              "2021-03-19  55.48  57.18  54.34  ...   56.280        55.69      0.024960\n",
              "\n",
              "[228 rows x 8 columns]"
            ]
          },
          "metadata": {
            "tags": []
          },
          "execution_count": 283
        }
      ]
    },
    {
      "cell_type": "code",
      "metadata": {
        "colab": {
          "base_uri": "https://localhost:8080/"
        },
        "id": "ZElby17jz7gS",
        "outputId": "d4e398e8-6fc6-42b4-bc56-67bda679e76e"
      },
      "source": [
        "df_positive.Daily_Change.mean()"
      ],
      "execution_count": null,
      "outputs": [
        {
          "output_type": "execute_result",
          "data": {
            "text/plain": [
              "0.028679292384398338"
            ]
          },
          "metadata": {
            "tags": []
          },
          "execution_count": 284
        }
      ]
    },
    {
      "cell_type": "code",
      "metadata": {
        "colab": {
          "base_uri": "https://localhost:8080/",
          "height": 450
        },
        "id": "3zN9D5bw3Eed",
        "outputId": "ad7420e0-4218-436c-b977-5b575fd17c38"
      },
      "source": [
        "df_negative = df[df.Daily_Change < 0]\n",
        "df_negative"
      ],
      "execution_count": null,
      "outputs": [
        {
          "output_type": "execute_result",
          "data": {
            "text/html": [
              "<div>\n",
              "<style scoped>\n",
              "    .dataframe tbody tr th:only-of-type {\n",
              "        vertical-align: middle;\n",
              "    }\n",
              "\n",
              "    .dataframe tbody tr th {\n",
              "        vertical-align: top;\n",
              "    }\n",
              "\n",
              "    .dataframe thead th {\n",
              "        text-align: right;\n",
              "    }\n",
              "</style>\n",
              "<table border=\"1\" class=\"dataframe\">\n",
              "  <thead>\n",
              "    <tr style=\"text-align: right;\">\n",
              "      <th></th>\n",
              "      <th>Open</th>\n",
              "      <th>High</th>\n",
              "      <th>Low</th>\n",
              "      <th>Close</th>\n",
              "      <th>Volume</th>\n",
              "      <th>Average</th>\n",
              "      <th>Close_shift</th>\n",
              "      <th>Daily_Change</th>\n",
              "    </tr>\n",
              "    <tr>\n",
              "      <th>Date</th>\n",
              "      <th></th>\n",
              "      <th></th>\n",
              "      <th></th>\n",
              "      <th></th>\n",
              "      <th></th>\n",
              "      <th></th>\n",
              "      <th></th>\n",
              "      <th></th>\n",
              "    </tr>\n",
              "  </thead>\n",
              "  <tbody>\n",
              "    <tr>\n",
              "      <th>2019-05-13</th>\n",
              "      <td>38.79</td>\n",
              "      <td>39.24</td>\n",
              "      <td>36.08</td>\n",
              "      <td>37.10</td>\n",
              "      <td>79442420</td>\n",
              "      <td>37.945</td>\n",
              "      <td>41.57</td>\n",
              "      <td>-0.107529</td>\n",
              "    </tr>\n",
              "    <tr>\n",
              "      <th>2019-05-17</th>\n",
              "      <td>41.98</td>\n",
              "      <td>43.29</td>\n",
              "      <td>41.27</td>\n",
              "      <td>41.91</td>\n",
              "      <td>20225687</td>\n",
              "      <td>41.945</td>\n",
              "      <td>43.00</td>\n",
              "      <td>-0.025349</td>\n",
              "    </tr>\n",
              "    <tr>\n",
              "      <th>2019-05-20</th>\n",
              "      <td>41.19</td>\n",
              "      <td>41.68</td>\n",
              "      <td>39.46</td>\n",
              "      <td>41.59</td>\n",
              "      <td>29222330</td>\n",
              "      <td>41.390</td>\n",
              "      <td>41.91</td>\n",
              "      <td>-0.007635</td>\n",
              "    </tr>\n",
              "    <tr>\n",
              "      <th>2019-05-21</th>\n",
              "      <td>42.00</td>\n",
              "      <td>42.24</td>\n",
              "      <td>41.25</td>\n",
              "      <td>41.50</td>\n",
              "      <td>10802851</td>\n",
              "      <td>41.750</td>\n",
              "      <td>41.59</td>\n",
              "      <td>-0.002164</td>\n",
              "    </tr>\n",
              "    <tr>\n",
              "      <th>2019-05-22</th>\n",
              "      <td>41.05</td>\n",
              "      <td>41.28</td>\n",
              "      <td>40.50</td>\n",
              "      <td>41.25</td>\n",
              "      <td>9089469</td>\n",
              "      <td>41.150</td>\n",
              "      <td>41.50</td>\n",
              "      <td>-0.006024</td>\n",
              "    </tr>\n",
              "    <tr>\n",
              "      <th>...</th>\n",
              "      <td>...</td>\n",
              "      <td>...</td>\n",
              "      <td>...</td>\n",
              "      <td>...</td>\n",
              "      <td>...</td>\n",
              "      <td>...</td>\n",
              "      <td>...</td>\n",
              "      <td>...</td>\n",
              "    </tr>\n",
              "    <tr>\n",
              "      <th>2021-03-17</th>\n",
              "      <td>57.07</td>\n",
              "      <td>57.57</td>\n",
              "      <td>55.54</td>\n",
              "      <td>56.36</td>\n",
              "      <td>25509926</td>\n",
              "      <td>56.715</td>\n",
              "      <td>58.85</td>\n",
              "      <td>-0.042311</td>\n",
              "    </tr>\n",
              "    <tr>\n",
              "      <th>2021-03-18</th>\n",
              "      <td>56.63</td>\n",
              "      <td>57.48</td>\n",
              "      <td>55.21</td>\n",
              "      <td>55.69</td>\n",
              "      <td>15742985</td>\n",
              "      <td>56.160</td>\n",
              "      <td>56.36</td>\n",
              "      <td>-0.011888</td>\n",
              "    </tr>\n",
              "    <tr>\n",
              "      <th>2021-03-22</th>\n",
              "      <td>57.25</td>\n",
              "      <td>57.61</td>\n",
              "      <td>55.47</td>\n",
              "      <td>55.69</td>\n",
              "      <td>14149412</td>\n",
              "      <td>56.470</td>\n",
              "      <td>57.08</td>\n",
              "      <td>-0.024352</td>\n",
              "    </tr>\n",
              "    <tr>\n",
              "      <th>2021-03-23</th>\n",
              "      <td>55.63</td>\n",
              "      <td>55.63</td>\n",
              "      <td>53.11</td>\n",
              "      <td>53.49</td>\n",
              "      <td>14513457</td>\n",
              "      <td>54.560</td>\n",
              "      <td>55.69</td>\n",
              "      <td>-0.039504</td>\n",
              "    </tr>\n",
              "    <tr>\n",
              "      <th>2021-03-24</th>\n",
              "      <td>54.46</td>\n",
              "      <td>54.96</td>\n",
              "      <td>52.54</td>\n",
              "      <td>52.57</td>\n",
              "      <td>13689068</td>\n",
              "      <td>53.515</td>\n",
              "      <td>53.49</td>\n",
              "      <td>-0.017199</td>\n",
              "    </tr>\n",
              "  </tbody>\n",
              "</table>\n",
              "<p>240 rows × 8 columns</p>\n",
              "</div>"
            ],
            "text/plain": [
              "             Open   High    Low  ...  Average  Close_shift  Daily_Change\n",
              "Date                             ...                                    \n",
              "2019-05-13  38.79  39.24  36.08  ...   37.945        41.57     -0.107529\n",
              "2019-05-17  41.98  43.29  41.27  ...   41.945        43.00     -0.025349\n",
              "2019-05-20  41.19  41.68  39.46  ...   41.390        41.91     -0.007635\n",
              "2019-05-21  42.00  42.24  41.25  ...   41.750        41.59     -0.002164\n",
              "2019-05-22  41.05  41.28  40.50  ...   41.150        41.50     -0.006024\n",
              "...           ...    ...    ...  ...      ...          ...           ...\n",
              "2021-03-17  57.07  57.57  55.54  ...   56.715        58.85     -0.042311\n",
              "2021-03-18  56.63  57.48  55.21  ...   56.160        56.36     -0.011888\n",
              "2021-03-22  57.25  57.61  55.47  ...   56.470        57.08     -0.024352\n",
              "2021-03-23  55.63  55.63  53.11  ...   54.560        55.69     -0.039504\n",
              "2021-03-24  54.46  54.96  52.54  ...   53.515        53.49     -0.017199\n",
              "\n",
              "[240 rows x 8 columns]"
            ]
          },
          "metadata": {
            "tags": []
          },
          "execution_count": 285
        }
      ]
    },
    {
      "cell_type": "code",
      "metadata": {
        "colab": {
          "base_uri": "https://localhost:8080/"
        },
        "id": "VbcJ-XcI339z",
        "outputId": "3cf21bec-ccf9-48c4-af3b-4ecfaf873fc7"
      },
      "source": [
        "df_negative.Daily_Change.mean()"
      ],
      "execution_count": null,
      "outputs": [
        {
          "output_type": "execute_result",
          "data": {
            "text/plain": [
              "-0.024710733720425187"
            ]
          },
          "metadata": {
            "tags": []
          },
          "execution_count": 286
        }
      ]
    },
    {
      "cell_type": "code",
      "metadata": {
        "colab": {
          "base_uri": "https://localhost:8080/"
        },
        "id": "oBii4NtV5F_M",
        "outputId": "cfb7c78c-0f8e-43b5-f268-cacf74bc9d2f"
      },
      "source": [
        "df.Close == df.High"
      ],
      "execution_count": null,
      "outputs": [
        {
          "output_type": "execute_result",
          "data": {
            "text/plain": [
              "Date\n",
              "2019-05-10    False\n",
              "2019-05-13    False\n",
              "2019-05-14     True\n",
              "2019-05-15    False\n",
              "2019-05-16    False\n",
              "              ...  \n",
              "2021-03-18    False\n",
              "2021-03-19    False\n",
              "2021-03-22    False\n",
              "2021-03-23    False\n",
              "2021-03-24    False\n",
              "Length: 472, dtype: bool"
            ]
          },
          "metadata": {
            "tags": []
          },
          "execution_count": 287
        }
      ]
    },
    {
      "cell_type": "code",
      "metadata": {
        "colab": {
          "base_uri": "https://localhost:8080/",
          "height": 204
        },
        "id": "vjQzvXGj6jL0",
        "outputId": "1350aba5-988e-4918-97bc-0c7d0820e9c2"
      },
      "source": [
        "df[df.Close == df.Low]"
      ],
      "execution_count": null,
      "outputs": [
        {
          "output_type": "execute_result",
          "data": {
            "text/html": [
              "<div>\n",
              "<style scoped>\n",
              "    .dataframe tbody tr th:only-of-type {\n",
              "        vertical-align: middle;\n",
              "    }\n",
              "\n",
              "    .dataframe tbody tr th {\n",
              "        vertical-align: top;\n",
              "    }\n",
              "\n",
              "    .dataframe thead th {\n",
              "        text-align: right;\n",
              "    }\n",
              "</style>\n",
              "<table border=\"1\" class=\"dataframe\">\n",
              "  <thead>\n",
              "    <tr style=\"text-align: right;\">\n",
              "      <th></th>\n",
              "      <th>Open</th>\n",
              "      <th>High</th>\n",
              "      <th>Low</th>\n",
              "      <th>Close</th>\n",
              "      <th>Volume</th>\n",
              "      <th>Average</th>\n",
              "      <th>Close_shift</th>\n",
              "      <th>Daily_Change</th>\n",
              "    </tr>\n",
              "    <tr>\n",
              "      <th>Date</th>\n",
              "      <th></th>\n",
              "      <th></th>\n",
              "      <th></th>\n",
              "      <th></th>\n",
              "      <th></th>\n",
              "      <th></th>\n",
              "      <th></th>\n",
              "      <th></th>\n",
              "    </tr>\n",
              "  </thead>\n",
              "  <tbody>\n",
              "    <tr>\n",
              "      <th>2019-08-12</th>\n",
              "      <td>39.84</td>\n",
              "      <td>39.95</td>\n",
              "      <td>37.00</td>\n",
              "      <td>37.00</td>\n",
              "      <td>20632310</td>\n",
              "      <td>38.420</td>\n",
              "      <td>40.05</td>\n",
              "      <td>-0.076155</td>\n",
              "    </tr>\n",
              "    <tr>\n",
              "      <th>2019-12-09</th>\n",
              "      <td>27.96</td>\n",
              "      <td>28.36</td>\n",
              "      <td>27.68</td>\n",
              "      <td>27.68</td>\n",
              "      <td>21098387</td>\n",
              "      <td>27.820</td>\n",
              "      <td>27.86</td>\n",
              "      <td>-0.006461</td>\n",
              "    </tr>\n",
              "    <tr>\n",
              "      <th>2019-12-27</th>\n",
              "      <td>30.80</td>\n",
              "      <td>31.06</td>\n",
              "      <td>30.17</td>\n",
              "      <td>30.17</td>\n",
              "      <td>18465965</td>\n",
              "      <td>30.485</td>\n",
              "      <td>30.67</td>\n",
              "      <td>-0.016303</td>\n",
              "    </tr>\n",
              "    <tr>\n",
              "      <th>2020-12-31</th>\n",
              "      <td>53.28</td>\n",
              "      <td>53.28</td>\n",
              "      <td>51.00</td>\n",
              "      <td>51.00</td>\n",
              "      <td>13282786</td>\n",
              "      <td>52.140</td>\n",
              "      <td>53.15</td>\n",
              "      <td>-0.040452</td>\n",
              "    </tr>\n",
              "  </tbody>\n",
              "</table>\n",
              "</div>"
            ],
            "text/plain": [
              "             Open   High    Low  ...  Average  Close_shift  Daily_Change\n",
              "Date                             ...                                    \n",
              "2019-08-12  39.84  39.95  37.00  ...   38.420        40.05     -0.076155\n",
              "2019-12-09  27.96  28.36  27.68  ...   27.820        27.86     -0.006461\n",
              "2019-12-27  30.80  31.06  30.17  ...   30.485        30.67     -0.016303\n",
              "2020-12-31  53.28  53.28  51.00  ...   52.140        53.15     -0.040452\n",
              "\n",
              "[4 rows x 8 columns]"
            ]
          },
          "metadata": {
            "tags": []
          },
          "execution_count": 288
        }
      ]
    },
    {
      "cell_type": "code",
      "metadata": {
        "colab": {
          "base_uri": "https://localhost:8080/"
        },
        "id": "Ehj_Yqfm8cUC",
        "outputId": "ce5f0912-c38e-4cba-ea75-dcfed746cdb1"
      },
      "source": [
        "df.index"
      ],
      "execution_count": null,
      "outputs": [
        {
          "output_type": "execute_result",
          "data": {
            "text/plain": [
              "DatetimeIndex(['2019-05-10', '2019-05-13', '2019-05-14', '2019-05-15',\n",
              "               '2019-05-16', '2019-05-17', '2019-05-20', '2019-05-21',\n",
              "               '2019-05-22', '2019-05-23',\n",
              "               ...\n",
              "               '2021-03-11', '2021-03-12', '2021-03-15', '2021-03-16',\n",
              "               '2021-03-17', '2021-03-18', '2021-03-19', '2021-03-22',\n",
              "               '2021-03-23', '2021-03-24'],\n",
              "              dtype='datetime64[ns]', name='Date', length=472, freq=None)"
            ]
          },
          "metadata": {
            "tags": []
          },
          "execution_count": 289
        }
      ]
    },
    {
      "cell_type": "code",
      "metadata": {
        "colab": {
          "base_uri": "https://localhost:8080/"
        },
        "id": "n4eO5XeC9WSk",
        "outputId": "17a1db05-d102-4f07-a21b-f1749a83adeb"
      },
      "source": [
        "df.index > '2021-01-12'"
      ],
      "execution_count": null,
      "outputs": [
        {
          "output_type": "execute_result",
          "data": {
            "text/plain": [
              "array([False, False, False, False, False, False, False, False, False,\n",
              "       False, False, False, False, False, False, False, False, False,\n",
              "       False, False, False, False, False, False, False, False, False,\n",
              "       False, False, False, False, False, False, False, False, False,\n",
              "       False, False, False, False, False, False, False, False, False,\n",
              "       False, False, False, False, False, False, False, False, False,\n",
              "       False, False, False, False, False, False, False, False, False,\n",
              "       False, False, False, False, False, False, False, False, False,\n",
              "       False, False, False, False, False, False, False, False, False,\n",
              "       False, False, False, False, False, False, False, False, False,\n",
              "       False, False, False, False, False, False, False, False, False,\n",
              "       False, False, False, False, False, False, False, False, False,\n",
              "       False, False, False, False, False, False, False, False, False,\n",
              "       False, False, False, False, False, False, False, False, False,\n",
              "       False, False, False, False, False, False, False, False, False,\n",
              "       False, False, False, False, False, False, False, False, False,\n",
              "       False, False, False, False, False, False, False, False, False,\n",
              "       False, False, False, False, False, False, False, False, False,\n",
              "       False, False, False, False, False, False, False, False, False,\n",
              "       False, False, False, False, False, False, False, False, False,\n",
              "       False, False, False, False, False, False, False, False, False,\n",
              "       False, False, False, False, False, False, False, False, False,\n",
              "       False, False, False, False, False, False, False, False, False,\n",
              "       False, False, False, False, False, False, False, False, False,\n",
              "       False, False, False, False, False, False, False, False, False,\n",
              "       False, False, False, False, False, False, False, False, False,\n",
              "       False, False, False, False, False, False, False, False, False,\n",
              "       False, False, False, False, False, False, False, False, False,\n",
              "       False, False, False, False, False, False, False, False, False,\n",
              "       False, False, False, False, False, False, False, False, False,\n",
              "       False, False, False, False, False, False, False, False, False,\n",
              "       False, False, False, False, False, False, False, False, False,\n",
              "       False, False, False, False, False, False, False, False, False,\n",
              "       False, False, False, False, False, False, False, False, False,\n",
              "       False, False, False, False, False, False, False, False, False,\n",
              "       False, False, False, False, False, False, False, False, False,\n",
              "       False, False, False, False, False, False, False, False, False,\n",
              "       False, False, False, False, False, False, False, False, False,\n",
              "       False, False, False, False, False, False, False, False, False,\n",
              "       False, False, False, False, False, False, False, False, False,\n",
              "       False, False, False, False, False, False, False, False, False,\n",
              "       False, False, False, False, False, False, False, False, False,\n",
              "       False, False, False, False, False, False, False, False, False,\n",
              "       False, False, False, False, False, False, False, False, False,\n",
              "       False, False, False, False, False, False, False, False, False,\n",
              "       False, False, False, False, False, False, False, False, False,\n",
              "       False, False, False, False, False, False, False, False, False,\n",
              "        True,  True,  True,  True,  True,  True,  True,  True,  True,\n",
              "        True,  True,  True,  True,  True,  True,  True,  True,  True,\n",
              "        True,  True,  True,  True,  True,  True,  True,  True,  True,\n",
              "        True,  True,  True,  True,  True,  True,  True,  True,  True,\n",
              "        True,  True,  True,  True,  True,  True,  True,  True,  True,\n",
              "        True,  True,  True,  True])"
            ]
          },
          "metadata": {
            "tags": []
          },
          "execution_count": 290
        }
      ]
    },
    {
      "cell_type": "code",
      "metadata": {
        "colab": {
          "base_uri": "https://localhost:8080/",
          "height": 1000
        },
        "id": "h6ciBlnc_EY8",
        "outputId": "8ce6cd0d-b20d-40b7-9435-4b1519562582"
      },
      "source": [
        "df[df.index > '2021-01-12']"
      ],
      "execution_count": null,
      "outputs": [
        {
          "output_type": "execute_result",
          "data": {
            "text/html": [
              "<div>\n",
              "<style scoped>\n",
              "    .dataframe tbody tr th:only-of-type {\n",
              "        vertical-align: middle;\n",
              "    }\n",
              "\n",
              "    .dataframe tbody tr th {\n",
              "        vertical-align: top;\n",
              "    }\n",
              "\n",
              "    .dataframe thead th {\n",
              "        text-align: right;\n",
              "    }\n",
              "</style>\n",
              "<table border=\"1\" class=\"dataframe\">\n",
              "  <thead>\n",
              "    <tr style=\"text-align: right;\">\n",
              "      <th></th>\n",
              "      <th>Open</th>\n",
              "      <th>High</th>\n",
              "      <th>Low</th>\n",
              "      <th>Close</th>\n",
              "      <th>Volume</th>\n",
              "      <th>Average</th>\n",
              "      <th>Close_shift</th>\n",
              "      <th>Daily_Change</th>\n",
              "    </tr>\n",
              "    <tr>\n",
              "      <th>Date</th>\n",
              "      <th></th>\n",
              "      <th></th>\n",
              "      <th></th>\n",
              "      <th></th>\n",
              "      <th></th>\n",
              "      <th></th>\n",
              "      <th></th>\n",
              "      <th></th>\n",
              "    </tr>\n",
              "  </thead>\n",
              "  <tbody>\n",
              "    <tr>\n",
              "      <th>2021-01-13</th>\n",
              "      <td>58.54</td>\n",
              "      <td>59.8800</td>\n",
              "      <td>57.5300</td>\n",
              "      <td>59.40</td>\n",
              "      <td>24178501</td>\n",
              "      <td>58.970</td>\n",
              "      <td>58.54</td>\n",
              "      <td>0.014691</td>\n",
              "    </tr>\n",
              "    <tr>\n",
              "      <th>2021-01-14</th>\n",
              "      <td>60.00</td>\n",
              "      <td>60.0300</td>\n",
              "      <td>56.7000</td>\n",
              "      <td>56.91</td>\n",
              "      <td>26561002</td>\n",
              "      <td>58.455</td>\n",
              "      <td>59.40</td>\n",
              "      <td>-0.041919</td>\n",
              "    </tr>\n",
              "    <tr>\n",
              "      <th>2021-01-15</th>\n",
              "      <td>57.49</td>\n",
              "      <td>57.9000</td>\n",
              "      <td>55.0000</td>\n",
              "      <td>55.52</td>\n",
              "      <td>23708804</td>\n",
              "      <td>56.505</td>\n",
              "      <td>56.91</td>\n",
              "      <td>-0.024425</td>\n",
              "    </tr>\n",
              "    <tr>\n",
              "      <th>2021-01-19</th>\n",
              "      <td>56.39</td>\n",
              "      <td>56.8424</td>\n",
              "      <td>55.0000</td>\n",
              "      <td>56.30</td>\n",
              "      <td>16953659</td>\n",
              "      <td>56.345</td>\n",
              "      <td>55.52</td>\n",
              "      <td>0.014049</td>\n",
              "    </tr>\n",
              "    <tr>\n",
              "      <th>2021-01-20</th>\n",
              "      <td>57.00</td>\n",
              "      <td>57.9800</td>\n",
              "      <td>55.4700</td>\n",
              "      <td>56.38</td>\n",
              "      <td>16904343</td>\n",
              "      <td>56.690</td>\n",
              "      <td>56.30</td>\n",
              "      <td>0.001421</td>\n",
              "    </tr>\n",
              "    <tr>\n",
              "      <th>2021-01-21</th>\n",
              "      <td>56.57</td>\n",
              "      <td>57.0000</td>\n",
              "      <td>55.3136</td>\n",
              "      <td>55.79</td>\n",
              "      <td>13432029</td>\n",
              "      <td>56.180</td>\n",
              "      <td>56.38</td>\n",
              "      <td>-0.010465</td>\n",
              "    </tr>\n",
              "    <tr>\n",
              "      <th>2021-01-22</th>\n",
              "      <td>55.25</td>\n",
              "      <td>55.4700</td>\n",
              "      <td>54.0100</td>\n",
              "      <td>54.31</td>\n",
              "      <td>19570506</td>\n",
              "      <td>54.780</td>\n",
              "      <td>55.79</td>\n",
              "      <td>-0.026528</td>\n",
              "    </tr>\n",
              "    <tr>\n",
              "      <th>2021-01-25</th>\n",
              "      <td>54.50</td>\n",
              "      <td>54.5200</td>\n",
              "      <td>49.6500</td>\n",
              "      <td>54.29</td>\n",
              "      <td>40890094</td>\n",
              "      <td>54.395</td>\n",
              "      <td>54.31</td>\n",
              "      <td>-0.000368</td>\n",
              "    </tr>\n",
              "    <tr>\n",
              "      <th>2021-01-26</th>\n",
              "      <td>54.62</td>\n",
              "      <td>55.5200</td>\n",
              "      <td>51.5300</td>\n",
              "      <td>51.92</td>\n",
              "      <td>25677017</td>\n",
              "      <td>53.270</td>\n",
              "      <td>54.29</td>\n",
              "      <td>-0.043654</td>\n",
              "    </tr>\n",
              "    <tr>\n",
              "      <th>2021-01-27</th>\n",
              "      <td>49.97</td>\n",
              "      <td>50.8600</td>\n",
              "      <td>47.1500</td>\n",
              "      <td>48.11</td>\n",
              "      <td>33283424</td>\n",
              "      <td>49.040</td>\n",
              "      <td>51.92</td>\n",
              "      <td>-0.073382</td>\n",
              "    </tr>\n",
              "    <tr>\n",
              "      <th>2021-01-28</th>\n",
              "      <td>50.12</td>\n",
              "      <td>52.5200</td>\n",
              "      <td>49.8800</td>\n",
              "      <td>51.58</td>\n",
              "      <td>28114698</td>\n",
              "      <td>50.850</td>\n",
              "      <td>48.11</td>\n",
              "      <td>0.072126</td>\n",
              "    </tr>\n",
              "    <tr>\n",
              "      <th>2021-01-29</th>\n",
              "      <td>50.63</td>\n",
              "      <td>51.4899</td>\n",
              "      <td>49.6350</td>\n",
              "      <td>50.93</td>\n",
              "      <td>18743234</td>\n",
              "      <td>50.780</td>\n",
              "      <td>51.58</td>\n",
              "      <td>-0.012602</td>\n",
              "    </tr>\n",
              "    <tr>\n",
              "      <th>2021-02-01</th>\n",
              "      <td>52.12</td>\n",
              "      <td>52.9000</td>\n",
              "      <td>51.3500</td>\n",
              "      <td>52.76</td>\n",
              "      <td>15570904</td>\n",
              "      <td>52.440</td>\n",
              "      <td>50.93</td>\n",
              "      <td>0.035932</td>\n",
              "    </tr>\n",
              "    <tr>\n",
              "      <th>2021-02-02</th>\n",
              "      <td>55.11</td>\n",
              "      <td>58.0300</td>\n",
              "      <td>54.8900</td>\n",
              "      <td>56.46</td>\n",
              "      <td>30286801</td>\n",
              "      <td>55.785</td>\n",
              "      <td>52.76</td>\n",
              "      <td>0.070129</td>\n",
              "    </tr>\n",
              "    <tr>\n",
              "      <th>2021-02-03</th>\n",
              "      <td>57.87</td>\n",
              "      <td>58.1300</td>\n",
              "      <td>56.7400</td>\n",
              "      <td>57.12</td>\n",
              "      <td>13519011</td>\n",
              "      <td>57.495</td>\n",
              "      <td>56.46</td>\n",
              "      <td>0.011690</td>\n",
              "    </tr>\n",
              "    <tr>\n",
              "      <th>2021-02-04</th>\n",
              "      <td>56.45</td>\n",
              "      <td>57.8500</td>\n",
              "      <td>56.1100</td>\n",
              "      <td>57.85</td>\n",
              "      <td>13847255</td>\n",
              "      <td>57.150</td>\n",
              "      <td>57.12</td>\n",
              "      <td>0.012780</td>\n",
              "    </tr>\n",
              "    <tr>\n",
              "      <th>2021-02-05</th>\n",
              "      <td>58.16</td>\n",
              "      <td>58.7075</td>\n",
              "      <td>57.3700</td>\n",
              "      <td>58.58</td>\n",
              "      <td>15729172</td>\n",
              "      <td>58.370</td>\n",
              "      <td>57.85</td>\n",
              "      <td>0.012619</td>\n",
              "    </tr>\n",
              "    <tr>\n",
              "      <th>2021-02-08</th>\n",
              "      <td>59.70</td>\n",
              "      <td>60.1100</td>\n",
              "      <td>58.6900</td>\n",
              "      <td>59.29</td>\n",
              "      <td>18410638</td>\n",
              "      <td>59.495</td>\n",
              "      <td>58.58</td>\n",
              "      <td>0.012120</td>\n",
              "    </tr>\n",
              "    <tr>\n",
              "      <th>2021-02-09</th>\n",
              "      <td>58.91</td>\n",
              "      <td>61.0600</td>\n",
              "      <td>58.6200</td>\n",
              "      <td>59.61</td>\n",
              "      <td>23510740</td>\n",
              "      <td>59.260</td>\n",
              "      <td>59.29</td>\n",
              "      <td>0.005397</td>\n",
              "    </tr>\n",
              "    <tr>\n",
              "      <th>2021-02-10</th>\n",
              "      <td>62.00</td>\n",
              "      <td>63.5000</td>\n",
              "      <td>60.8000</td>\n",
              "      <td>63.18</td>\n",
              "      <td>36972931</td>\n",
              "      <td>62.590</td>\n",
              "      <td>59.61</td>\n",
              "      <td>0.059889</td>\n",
              "    </tr>\n",
              "    <tr>\n",
              "      <th>2021-02-11</th>\n",
              "      <td>63.25</td>\n",
              "      <td>64.0500</td>\n",
              "      <td>60.3950</td>\n",
              "      <td>60.71</td>\n",
              "      <td>41363413</td>\n",
              "      <td>61.980</td>\n",
              "      <td>63.18</td>\n",
              "      <td>-0.039095</td>\n",
              "    </tr>\n",
              "    <tr>\n",
              "      <th>2021-02-12</th>\n",
              "      <td>60.12</td>\n",
              "      <td>60.9300</td>\n",
              "      <td>59.3150</td>\n",
              "      <td>60.63</td>\n",
              "      <td>14607832</td>\n",
              "      <td>60.375</td>\n",
              "      <td>60.71</td>\n",
              "      <td>-0.001318</td>\n",
              "    </tr>\n",
              "    <tr>\n",
              "      <th>2021-02-16</th>\n",
              "      <td>61.02</td>\n",
              "      <td>61.3100</td>\n",
              "      <td>59.8400</td>\n",
              "      <td>60.52</td>\n",
              "      <td>15413075</td>\n",
              "      <td>60.770</td>\n",
              "      <td>60.63</td>\n",
              "      <td>-0.001814</td>\n",
              "    </tr>\n",
              "    <tr>\n",
              "      <th>2021-02-17</th>\n",
              "      <td>60.33</td>\n",
              "      <td>60.9500</td>\n",
              "      <td>58.9500</td>\n",
              "      <td>60.81</td>\n",
              "      <td>12669988</td>\n",
              "      <td>60.570</td>\n",
              "      <td>60.52</td>\n",
              "      <td>0.004792</td>\n",
              "    </tr>\n",
              "    <tr>\n",
              "      <th>2021-02-18</th>\n",
              "      <td>60.00</td>\n",
              "      <td>60.2900</td>\n",
              "      <td>58.2300</td>\n",
              "      <td>59.00</td>\n",
              "      <td>15135647</td>\n",
              "      <td>59.500</td>\n",
              "      <td>60.81</td>\n",
              "      <td>-0.029765</td>\n",
              "    </tr>\n",
              "    <tr>\n",
              "      <th>2021-02-19</th>\n",
              "      <td>58.36</td>\n",
              "      <td>60.4572</td>\n",
              "      <td>58.1130</td>\n",
              "      <td>58.39</td>\n",
              "      <td>28097000</td>\n",
              "      <td>58.375</td>\n",
              "      <td>59.00</td>\n",
              "      <td>-0.010339</td>\n",
              "    </tr>\n",
              "    <tr>\n",
              "      <th>2021-02-22</th>\n",
              "      <td>57.76</td>\n",
              "      <td>58.1000</td>\n",
              "      <td>54.8157</td>\n",
              "      <td>55.31</td>\n",
              "      <td>25565420</td>\n",
              "      <td>56.535</td>\n",
              "      <td>58.39</td>\n",
              "      <td>-0.052749</td>\n",
              "    </tr>\n",
              "    <tr>\n",
              "      <th>2021-02-23</th>\n",
              "      <td>53.50</td>\n",
              "      <td>56.3700</td>\n",
              "      <td>51.8900</td>\n",
              "      <td>56.00</td>\n",
              "      <td>23947540</td>\n",
              "      <td>54.750</td>\n",
              "      <td>55.31</td>\n",
              "      <td>0.012475</td>\n",
              "    </tr>\n",
              "    <tr>\n",
              "      <th>2021-02-24</th>\n",
              "      <td>54.95</td>\n",
              "      <td>55.1500</td>\n",
              "      <td>53.6600</td>\n",
              "      <td>53.91</td>\n",
              "      <td>24626966</td>\n",
              "      <td>54.430</td>\n",
              "      <td>56.00</td>\n",
              "      <td>-0.037321</td>\n",
              "    </tr>\n",
              "    <tr>\n",
              "      <th>2021-02-25</th>\n",
              "      <td>54.58</td>\n",
              "      <td>54.6000</td>\n",
              "      <td>50.8600</td>\n",
              "      <td>51.45</td>\n",
              "      <td>27049080</td>\n",
              "      <td>53.015</td>\n",
              "      <td>53.91</td>\n",
              "      <td>-0.045632</td>\n",
              "    </tr>\n",
              "    <tr>\n",
              "      <th>2021-02-26</th>\n",
              "      <td>52.07</td>\n",
              "      <td>52.7500</td>\n",
              "      <td>50.6100</td>\n",
              "      <td>51.75</td>\n",
              "      <td>16349839</td>\n",
              "      <td>51.910</td>\n",
              "      <td>51.45</td>\n",
              "      <td>0.005831</td>\n",
              "    </tr>\n",
              "    <tr>\n",
              "      <th>2021-03-01</th>\n",
              "      <td>53.67</td>\n",
              "      <td>54.7600</td>\n",
              "      <td>53.3000</td>\n",
              "      <td>54.40</td>\n",
              "      <td>18481137</td>\n",
              "      <td>54.035</td>\n",
              "      <td>51.75</td>\n",
              "      <td>0.051208</td>\n",
              "    </tr>\n",
              "    <tr>\n",
              "      <th>2021-03-02</th>\n",
              "      <td>55.54</td>\n",
              "      <td>55.6200</td>\n",
              "      <td>54.1894</td>\n",
              "      <td>54.65</td>\n",
              "      <td>15199537</td>\n",
              "      <td>55.095</td>\n",
              "      <td>54.40</td>\n",
              "      <td>0.004596</td>\n",
              "    </tr>\n",
              "    <tr>\n",
              "      <th>2021-03-03</th>\n",
              "      <td>55.93</td>\n",
              "      <td>57.8000</td>\n",
              "      <td>54.6500</td>\n",
              "      <td>56.11</td>\n",
              "      <td>28485381</td>\n",
              "      <td>56.020</td>\n",
              "      <td>54.65</td>\n",
              "      <td>0.026715</td>\n",
              "    </tr>\n",
              "    <tr>\n",
              "      <th>2021-03-04</th>\n",
              "      <td>55.75</td>\n",
              "      <td>57.1600</td>\n",
              "      <td>51.6100</td>\n",
              "      <td>53.07</td>\n",
              "      <td>27409574</td>\n",
              "      <td>54.410</td>\n",
              "      <td>56.11</td>\n",
              "      <td>-0.054179</td>\n",
              "    </tr>\n",
              "    <tr>\n",
              "      <th>2021-03-05</th>\n",
              "      <td>54.28</td>\n",
              "      <td>55.8300</td>\n",
              "      <td>50.8100</td>\n",
              "      <td>55.54</td>\n",
              "      <td>31576175</td>\n",
              "      <td>54.910</td>\n",
              "      <td>53.07</td>\n",
              "      <td>0.046542</td>\n",
              "    </tr>\n",
              "    <tr>\n",
              "      <th>2021-03-08</th>\n",
              "      <td>55.50</td>\n",
              "      <td>56.4500</td>\n",
              "      <td>52.8900</td>\n",
              "      <td>53.20</td>\n",
              "      <td>19912065</td>\n",
              "      <td>54.350</td>\n",
              "      <td>55.54</td>\n",
              "      <td>-0.042132</td>\n",
              "    </tr>\n",
              "    <tr>\n",
              "      <th>2021-03-09</th>\n",
              "      <td>56.00</td>\n",
              "      <td>56.1500</td>\n",
              "      <td>54.7200</td>\n",
              "      <td>55.25</td>\n",
              "      <td>17192937</td>\n",
              "      <td>55.625</td>\n",
              "      <td>53.20</td>\n",
              "      <td>0.038534</td>\n",
              "    </tr>\n",
              "    <tr>\n",
              "      <th>2021-03-10</th>\n",
              "      <td>57.21</td>\n",
              "      <td>58.9000</td>\n",
              "      <td>56.2700</td>\n",
              "      <td>57.68</td>\n",
              "      <td>27997015</td>\n",
              "      <td>57.445</td>\n",
              "      <td>55.25</td>\n",
              "      <td>0.043982</td>\n",
              "    </tr>\n",
              "    <tr>\n",
              "      <th>2021-03-11</th>\n",
              "      <td>58.80</td>\n",
              "      <td>59.4800</td>\n",
              "      <td>58.2200</td>\n",
              "      <td>58.95</td>\n",
              "      <td>17293752</td>\n",
              "      <td>58.875</td>\n",
              "      <td>57.68</td>\n",
              "      <td>0.022018</td>\n",
              "    </tr>\n",
              "    <tr>\n",
              "      <th>2021-03-12</th>\n",
              "      <td>58.97</td>\n",
              "      <td>60.5900</td>\n",
              "      <td>57.6200</td>\n",
              "      <td>60.35</td>\n",
              "      <td>14839307</td>\n",
              "      <td>59.660</td>\n",
              "      <td>58.95</td>\n",
              "      <td>0.023749</td>\n",
              "    </tr>\n",
              "    <tr>\n",
              "      <th>2021-03-15</th>\n",
              "      <td>60.35</td>\n",
              "      <td>60.5300</td>\n",
              "      <td>59.1200</td>\n",
              "      <td>60.19</td>\n",
              "      <td>14993629</td>\n",
              "      <td>60.270</td>\n",
              "      <td>60.35</td>\n",
              "      <td>-0.002651</td>\n",
              "    </tr>\n",
              "    <tr>\n",
              "      <th>2021-03-16</th>\n",
              "      <td>59.99</td>\n",
              "      <td>61.0200</td>\n",
              "      <td>58.3800</td>\n",
              "      <td>58.85</td>\n",
              "      <td>12885725</td>\n",
              "      <td>59.420</td>\n",
              "      <td>60.19</td>\n",
              "      <td>-0.022263</td>\n",
              "    </tr>\n",
              "    <tr>\n",
              "      <th>2021-03-17</th>\n",
              "      <td>57.07</td>\n",
              "      <td>57.5700</td>\n",
              "      <td>55.5400</td>\n",
              "      <td>56.36</td>\n",
              "      <td>25509926</td>\n",
              "      <td>56.715</td>\n",
              "      <td>58.85</td>\n",
              "      <td>-0.042311</td>\n",
              "    </tr>\n",
              "    <tr>\n",
              "      <th>2021-03-18</th>\n",
              "      <td>56.63</td>\n",
              "      <td>57.4800</td>\n",
              "      <td>55.2100</td>\n",
              "      <td>55.69</td>\n",
              "      <td>15742985</td>\n",
              "      <td>56.160</td>\n",
              "      <td>56.36</td>\n",
              "      <td>-0.011888</td>\n",
              "    </tr>\n",
              "    <tr>\n",
              "      <th>2021-03-19</th>\n",
              "      <td>55.48</td>\n",
              "      <td>57.1800</td>\n",
              "      <td>54.3400</td>\n",
              "      <td>57.08</td>\n",
              "      <td>17396297</td>\n",
              "      <td>56.280</td>\n",
              "      <td>55.69</td>\n",
              "      <td>0.024960</td>\n",
              "    </tr>\n",
              "    <tr>\n",
              "      <th>2021-03-22</th>\n",
              "      <td>57.25</td>\n",
              "      <td>57.6100</td>\n",
              "      <td>55.4700</td>\n",
              "      <td>55.69</td>\n",
              "      <td>14149412</td>\n",
              "      <td>56.470</td>\n",
              "      <td>57.08</td>\n",
              "      <td>-0.024352</td>\n",
              "    </tr>\n",
              "    <tr>\n",
              "      <th>2021-03-23</th>\n",
              "      <td>55.63</td>\n",
              "      <td>55.6300</td>\n",
              "      <td>53.1100</td>\n",
              "      <td>53.49</td>\n",
              "      <td>14513457</td>\n",
              "      <td>54.560</td>\n",
              "      <td>55.69</td>\n",
              "      <td>-0.039504</td>\n",
              "    </tr>\n",
              "    <tr>\n",
              "      <th>2021-03-24</th>\n",
              "      <td>54.46</td>\n",
              "      <td>54.9600</td>\n",
              "      <td>52.5400</td>\n",
              "      <td>52.57</td>\n",
              "      <td>13689068</td>\n",
              "      <td>53.515</td>\n",
              "      <td>53.49</td>\n",
              "      <td>-0.017199</td>\n",
              "    </tr>\n",
              "  </tbody>\n",
              "</table>\n",
              "</div>"
            ],
            "text/plain": [
              "             Open     High      Low  ...  Average  Close_shift  Daily_Change\n",
              "Date                                 ...                                    \n",
              "2021-01-13  58.54  59.8800  57.5300  ...   58.970        58.54      0.014691\n",
              "2021-01-14  60.00  60.0300  56.7000  ...   58.455        59.40     -0.041919\n",
              "2021-01-15  57.49  57.9000  55.0000  ...   56.505        56.91     -0.024425\n",
              "2021-01-19  56.39  56.8424  55.0000  ...   56.345        55.52      0.014049\n",
              "2021-01-20  57.00  57.9800  55.4700  ...   56.690        56.30      0.001421\n",
              "2021-01-21  56.57  57.0000  55.3136  ...   56.180        56.38     -0.010465\n",
              "2021-01-22  55.25  55.4700  54.0100  ...   54.780        55.79     -0.026528\n",
              "2021-01-25  54.50  54.5200  49.6500  ...   54.395        54.31     -0.000368\n",
              "2021-01-26  54.62  55.5200  51.5300  ...   53.270        54.29     -0.043654\n",
              "2021-01-27  49.97  50.8600  47.1500  ...   49.040        51.92     -0.073382\n",
              "2021-01-28  50.12  52.5200  49.8800  ...   50.850        48.11      0.072126\n",
              "2021-01-29  50.63  51.4899  49.6350  ...   50.780        51.58     -0.012602\n",
              "2021-02-01  52.12  52.9000  51.3500  ...   52.440        50.93      0.035932\n",
              "2021-02-02  55.11  58.0300  54.8900  ...   55.785        52.76      0.070129\n",
              "2021-02-03  57.87  58.1300  56.7400  ...   57.495        56.46      0.011690\n",
              "2021-02-04  56.45  57.8500  56.1100  ...   57.150        57.12      0.012780\n",
              "2021-02-05  58.16  58.7075  57.3700  ...   58.370        57.85      0.012619\n",
              "2021-02-08  59.70  60.1100  58.6900  ...   59.495        58.58      0.012120\n",
              "2021-02-09  58.91  61.0600  58.6200  ...   59.260        59.29      0.005397\n",
              "2021-02-10  62.00  63.5000  60.8000  ...   62.590        59.61      0.059889\n",
              "2021-02-11  63.25  64.0500  60.3950  ...   61.980        63.18     -0.039095\n",
              "2021-02-12  60.12  60.9300  59.3150  ...   60.375        60.71     -0.001318\n",
              "2021-02-16  61.02  61.3100  59.8400  ...   60.770        60.63     -0.001814\n",
              "2021-02-17  60.33  60.9500  58.9500  ...   60.570        60.52      0.004792\n",
              "2021-02-18  60.00  60.2900  58.2300  ...   59.500        60.81     -0.029765\n",
              "2021-02-19  58.36  60.4572  58.1130  ...   58.375        59.00     -0.010339\n",
              "2021-02-22  57.76  58.1000  54.8157  ...   56.535        58.39     -0.052749\n",
              "2021-02-23  53.50  56.3700  51.8900  ...   54.750        55.31      0.012475\n",
              "2021-02-24  54.95  55.1500  53.6600  ...   54.430        56.00     -0.037321\n",
              "2021-02-25  54.58  54.6000  50.8600  ...   53.015        53.91     -0.045632\n",
              "2021-02-26  52.07  52.7500  50.6100  ...   51.910        51.45      0.005831\n",
              "2021-03-01  53.67  54.7600  53.3000  ...   54.035        51.75      0.051208\n",
              "2021-03-02  55.54  55.6200  54.1894  ...   55.095        54.40      0.004596\n",
              "2021-03-03  55.93  57.8000  54.6500  ...   56.020        54.65      0.026715\n",
              "2021-03-04  55.75  57.1600  51.6100  ...   54.410        56.11     -0.054179\n",
              "2021-03-05  54.28  55.8300  50.8100  ...   54.910        53.07      0.046542\n",
              "2021-03-08  55.50  56.4500  52.8900  ...   54.350        55.54     -0.042132\n",
              "2021-03-09  56.00  56.1500  54.7200  ...   55.625        53.20      0.038534\n",
              "2021-03-10  57.21  58.9000  56.2700  ...   57.445        55.25      0.043982\n",
              "2021-03-11  58.80  59.4800  58.2200  ...   58.875        57.68      0.022018\n",
              "2021-03-12  58.97  60.5900  57.6200  ...   59.660        58.95      0.023749\n",
              "2021-03-15  60.35  60.5300  59.1200  ...   60.270        60.35     -0.002651\n",
              "2021-03-16  59.99  61.0200  58.3800  ...   59.420        60.19     -0.022263\n",
              "2021-03-17  57.07  57.5700  55.5400  ...   56.715        58.85     -0.042311\n",
              "2021-03-18  56.63  57.4800  55.2100  ...   56.160        56.36     -0.011888\n",
              "2021-03-19  55.48  57.1800  54.3400  ...   56.280        55.69      0.024960\n",
              "2021-03-22  57.25  57.6100  55.4700  ...   56.470        57.08     -0.024352\n",
              "2021-03-23  55.63  55.6300  53.1100  ...   54.560        55.69     -0.039504\n",
              "2021-03-24  54.46  54.9600  52.5400  ...   53.515        53.49     -0.017199\n",
              "\n",
              "[49 rows x 8 columns]"
            ]
          },
          "metadata": {
            "tags": []
          },
          "execution_count": 291
        }
      ]
    },
    {
      "cell_type": "code",
      "metadata": {
        "colab": {
          "base_uri": "https://localhost:8080/",
          "height": 266
        },
        "id": "mD-3H6W7BK-3",
        "outputId": "f351687d-f51a-46b9-c46f-2190f4a1d5ea"
      },
      "source": [
        "df[(df.index > '2021-01-12') & (df.index < '2021-01-22')]"
      ],
      "execution_count": null,
      "outputs": [
        {
          "output_type": "execute_result",
          "data": {
            "text/html": [
              "<div>\n",
              "<style scoped>\n",
              "    .dataframe tbody tr th:only-of-type {\n",
              "        vertical-align: middle;\n",
              "    }\n",
              "\n",
              "    .dataframe tbody tr th {\n",
              "        vertical-align: top;\n",
              "    }\n",
              "\n",
              "    .dataframe thead th {\n",
              "        text-align: right;\n",
              "    }\n",
              "</style>\n",
              "<table border=\"1\" class=\"dataframe\">\n",
              "  <thead>\n",
              "    <tr style=\"text-align: right;\">\n",
              "      <th></th>\n",
              "      <th>Open</th>\n",
              "      <th>High</th>\n",
              "      <th>Low</th>\n",
              "      <th>Close</th>\n",
              "      <th>Volume</th>\n",
              "      <th>Average</th>\n",
              "      <th>Close_shift</th>\n",
              "      <th>Daily_Change</th>\n",
              "    </tr>\n",
              "    <tr>\n",
              "      <th>Date</th>\n",
              "      <th></th>\n",
              "      <th></th>\n",
              "      <th></th>\n",
              "      <th></th>\n",
              "      <th></th>\n",
              "      <th></th>\n",
              "      <th></th>\n",
              "      <th></th>\n",
              "    </tr>\n",
              "  </thead>\n",
              "  <tbody>\n",
              "    <tr>\n",
              "      <th>2021-01-13</th>\n",
              "      <td>58.54</td>\n",
              "      <td>59.8800</td>\n",
              "      <td>57.5300</td>\n",
              "      <td>59.40</td>\n",
              "      <td>24178501</td>\n",
              "      <td>58.970</td>\n",
              "      <td>58.54</td>\n",
              "      <td>0.014691</td>\n",
              "    </tr>\n",
              "    <tr>\n",
              "      <th>2021-01-14</th>\n",
              "      <td>60.00</td>\n",
              "      <td>60.0300</td>\n",
              "      <td>56.7000</td>\n",
              "      <td>56.91</td>\n",
              "      <td>26561002</td>\n",
              "      <td>58.455</td>\n",
              "      <td>59.40</td>\n",
              "      <td>-0.041919</td>\n",
              "    </tr>\n",
              "    <tr>\n",
              "      <th>2021-01-15</th>\n",
              "      <td>57.49</td>\n",
              "      <td>57.9000</td>\n",
              "      <td>55.0000</td>\n",
              "      <td>55.52</td>\n",
              "      <td>23708804</td>\n",
              "      <td>56.505</td>\n",
              "      <td>56.91</td>\n",
              "      <td>-0.024425</td>\n",
              "    </tr>\n",
              "    <tr>\n",
              "      <th>2021-01-19</th>\n",
              "      <td>56.39</td>\n",
              "      <td>56.8424</td>\n",
              "      <td>55.0000</td>\n",
              "      <td>56.30</td>\n",
              "      <td>16953659</td>\n",
              "      <td>56.345</td>\n",
              "      <td>55.52</td>\n",
              "      <td>0.014049</td>\n",
              "    </tr>\n",
              "    <tr>\n",
              "      <th>2021-01-20</th>\n",
              "      <td>57.00</td>\n",
              "      <td>57.9800</td>\n",
              "      <td>55.4700</td>\n",
              "      <td>56.38</td>\n",
              "      <td>16904343</td>\n",
              "      <td>56.690</td>\n",
              "      <td>56.30</td>\n",
              "      <td>0.001421</td>\n",
              "    </tr>\n",
              "    <tr>\n",
              "      <th>2021-01-21</th>\n",
              "      <td>56.57</td>\n",
              "      <td>57.0000</td>\n",
              "      <td>55.3136</td>\n",
              "      <td>55.79</td>\n",
              "      <td>13432029</td>\n",
              "      <td>56.180</td>\n",
              "      <td>56.38</td>\n",
              "      <td>-0.010465</td>\n",
              "    </tr>\n",
              "  </tbody>\n",
              "</table>\n",
              "</div>"
            ],
            "text/plain": [
              "             Open     High      Low  ...  Average  Close_shift  Daily_Change\n",
              "Date                                 ...                                    \n",
              "2021-01-13  58.54  59.8800  57.5300  ...   58.970        58.54      0.014691\n",
              "2021-01-14  60.00  60.0300  56.7000  ...   58.455        59.40     -0.041919\n",
              "2021-01-15  57.49  57.9000  55.0000  ...   56.505        56.91     -0.024425\n",
              "2021-01-19  56.39  56.8424  55.0000  ...   56.345        55.52      0.014049\n",
              "2021-01-20  57.00  57.9800  55.4700  ...   56.690        56.30      0.001421\n",
              "2021-01-21  56.57  57.0000  55.3136  ...   56.180        56.38     -0.010465\n",
              "\n",
              "[6 rows x 8 columns]"
            ]
          },
          "metadata": {
            "tags": []
          },
          "execution_count": 292
        }
      ]
    },
    {
      "cell_type": "code",
      "metadata": {
        "colab": {
          "base_uri": "https://localhost:8080/",
          "height": 450
        },
        "id": "O6BsD7NIBUlq",
        "outputId": "1f8c2412-6ff9-45f6-c8d6-3df4f0b982ea"
      },
      "source": [
        "df[(df.index > '2021-01-12') | (df.index < '2021-01-22')]"
      ],
      "execution_count": null,
      "outputs": [
        {
          "output_type": "execute_result",
          "data": {
            "text/html": [
              "<div>\n",
              "<style scoped>\n",
              "    .dataframe tbody tr th:only-of-type {\n",
              "        vertical-align: middle;\n",
              "    }\n",
              "\n",
              "    .dataframe tbody tr th {\n",
              "        vertical-align: top;\n",
              "    }\n",
              "\n",
              "    .dataframe thead th {\n",
              "        text-align: right;\n",
              "    }\n",
              "</style>\n",
              "<table border=\"1\" class=\"dataframe\">\n",
              "  <thead>\n",
              "    <tr style=\"text-align: right;\">\n",
              "      <th></th>\n",
              "      <th>Open</th>\n",
              "      <th>High</th>\n",
              "      <th>Low</th>\n",
              "      <th>Close</th>\n",
              "      <th>Volume</th>\n",
              "      <th>Average</th>\n",
              "      <th>Close_shift</th>\n",
              "      <th>Daily_Change</th>\n",
              "    </tr>\n",
              "    <tr>\n",
              "      <th>Date</th>\n",
              "      <th></th>\n",
              "      <th></th>\n",
              "      <th></th>\n",
              "      <th></th>\n",
              "      <th></th>\n",
              "      <th></th>\n",
              "      <th></th>\n",
              "      <th></th>\n",
              "    </tr>\n",
              "  </thead>\n",
              "  <tbody>\n",
              "    <tr>\n",
              "      <th>2019-05-10</th>\n",
              "      <td>42.00</td>\n",
              "      <td>45.00</td>\n",
              "      <td>41.06</td>\n",
              "      <td>41.57</td>\n",
              "      <td>186322536</td>\n",
              "      <td>41.785</td>\n",
              "      <td>NaN</td>\n",
              "      <td>NaN</td>\n",
              "    </tr>\n",
              "    <tr>\n",
              "      <th>2019-05-13</th>\n",
              "      <td>38.79</td>\n",
              "      <td>39.24</td>\n",
              "      <td>36.08</td>\n",
              "      <td>37.10</td>\n",
              "      <td>79442420</td>\n",
              "      <td>37.945</td>\n",
              "      <td>41.57</td>\n",
              "      <td>-0.107529</td>\n",
              "    </tr>\n",
              "    <tr>\n",
              "      <th>2019-05-14</th>\n",
              "      <td>38.31</td>\n",
              "      <td>39.96</td>\n",
              "      <td>36.85</td>\n",
              "      <td>39.96</td>\n",
              "      <td>46661147</td>\n",
              "      <td>39.135</td>\n",
              "      <td>37.10</td>\n",
              "      <td>0.077089</td>\n",
              "    </tr>\n",
              "    <tr>\n",
              "      <th>2019-05-15</th>\n",
              "      <td>39.37</td>\n",
              "      <td>41.88</td>\n",
              "      <td>38.95</td>\n",
              "      <td>41.29</td>\n",
              "      <td>36086065</td>\n",
              "      <td>40.330</td>\n",
              "      <td>39.96</td>\n",
              "      <td>0.033283</td>\n",
              "    </tr>\n",
              "    <tr>\n",
              "      <th>2019-05-16</th>\n",
              "      <td>41.48</td>\n",
              "      <td>44.06</td>\n",
              "      <td>41.25</td>\n",
              "      <td>43.00</td>\n",
              "      <td>38115524</td>\n",
              "      <td>42.240</td>\n",
              "      <td>41.29</td>\n",
              "      <td>0.041414</td>\n",
              "    </tr>\n",
              "    <tr>\n",
              "      <th>...</th>\n",
              "      <td>...</td>\n",
              "      <td>...</td>\n",
              "      <td>...</td>\n",
              "      <td>...</td>\n",
              "      <td>...</td>\n",
              "      <td>...</td>\n",
              "      <td>...</td>\n",
              "      <td>...</td>\n",
              "    </tr>\n",
              "    <tr>\n",
              "      <th>2021-03-18</th>\n",
              "      <td>56.63</td>\n",
              "      <td>57.48</td>\n",
              "      <td>55.21</td>\n",
              "      <td>55.69</td>\n",
              "      <td>15742985</td>\n",
              "      <td>56.160</td>\n",
              "      <td>56.36</td>\n",
              "      <td>-0.011888</td>\n",
              "    </tr>\n",
              "    <tr>\n",
              "      <th>2021-03-19</th>\n",
              "      <td>55.48</td>\n",
              "      <td>57.18</td>\n",
              "      <td>54.34</td>\n",
              "      <td>57.08</td>\n",
              "      <td>17396297</td>\n",
              "      <td>56.280</td>\n",
              "      <td>55.69</td>\n",
              "      <td>0.024960</td>\n",
              "    </tr>\n",
              "    <tr>\n",
              "      <th>2021-03-22</th>\n",
              "      <td>57.25</td>\n",
              "      <td>57.61</td>\n",
              "      <td>55.47</td>\n",
              "      <td>55.69</td>\n",
              "      <td>14149412</td>\n",
              "      <td>56.470</td>\n",
              "      <td>57.08</td>\n",
              "      <td>-0.024352</td>\n",
              "    </tr>\n",
              "    <tr>\n",
              "      <th>2021-03-23</th>\n",
              "      <td>55.63</td>\n",
              "      <td>55.63</td>\n",
              "      <td>53.11</td>\n",
              "      <td>53.49</td>\n",
              "      <td>14513457</td>\n",
              "      <td>54.560</td>\n",
              "      <td>55.69</td>\n",
              "      <td>-0.039504</td>\n",
              "    </tr>\n",
              "    <tr>\n",
              "      <th>2021-03-24</th>\n",
              "      <td>54.46</td>\n",
              "      <td>54.96</td>\n",
              "      <td>52.54</td>\n",
              "      <td>52.57</td>\n",
              "      <td>13689068</td>\n",
              "      <td>53.515</td>\n",
              "      <td>53.49</td>\n",
              "      <td>-0.017199</td>\n",
              "    </tr>\n",
              "  </tbody>\n",
              "</table>\n",
              "<p>472 rows × 8 columns</p>\n",
              "</div>"
            ],
            "text/plain": [
              "             Open   High    Low  ...  Average  Close_shift  Daily_Change\n",
              "Date                             ...                                    \n",
              "2019-05-10  42.00  45.00  41.06  ...   41.785          NaN           NaN\n",
              "2019-05-13  38.79  39.24  36.08  ...   37.945        41.57     -0.107529\n",
              "2019-05-14  38.31  39.96  36.85  ...   39.135        37.10      0.077089\n",
              "2019-05-15  39.37  41.88  38.95  ...   40.330        39.96      0.033283\n",
              "2019-05-16  41.48  44.06  41.25  ...   42.240        41.29      0.041414\n",
              "...           ...    ...    ...  ...      ...          ...           ...\n",
              "2021-03-18  56.63  57.48  55.21  ...   56.160        56.36     -0.011888\n",
              "2021-03-19  55.48  57.18  54.34  ...   56.280        55.69      0.024960\n",
              "2021-03-22  57.25  57.61  55.47  ...   56.470        57.08     -0.024352\n",
              "2021-03-23  55.63  55.63  53.11  ...   54.560        55.69     -0.039504\n",
              "2021-03-24  54.46  54.96  52.54  ...   53.515        53.49     -0.017199\n",
              "\n",
              "[472 rows x 8 columns]"
            ]
          },
          "metadata": {
            "tags": []
          },
          "execution_count": 293
        }
      ]
    },
    {
      "cell_type": "code",
      "metadata": {
        "colab": {
          "base_uri": "https://localhost:8080/",
          "height": 142
        },
        "id": "PNSpqssCOcEn",
        "outputId": "9d5030a0-ad71-4a1f-d88e-37a5da141627"
      },
      "source": [
        "df[(df.index == '2021-03-22') | (df.index == '2021-03-18')]"
      ],
      "execution_count": null,
      "outputs": [
        {
          "output_type": "execute_result",
          "data": {
            "text/html": [
              "<div>\n",
              "<style scoped>\n",
              "    .dataframe tbody tr th:only-of-type {\n",
              "        vertical-align: middle;\n",
              "    }\n",
              "\n",
              "    .dataframe tbody tr th {\n",
              "        vertical-align: top;\n",
              "    }\n",
              "\n",
              "    .dataframe thead th {\n",
              "        text-align: right;\n",
              "    }\n",
              "</style>\n",
              "<table border=\"1\" class=\"dataframe\">\n",
              "  <thead>\n",
              "    <tr style=\"text-align: right;\">\n",
              "      <th></th>\n",
              "      <th>Open</th>\n",
              "      <th>High</th>\n",
              "      <th>Low</th>\n",
              "      <th>Close</th>\n",
              "      <th>Volume</th>\n",
              "      <th>Average</th>\n",
              "      <th>Close_shift</th>\n",
              "      <th>Daily_Change</th>\n",
              "    </tr>\n",
              "    <tr>\n",
              "      <th>Date</th>\n",
              "      <th></th>\n",
              "      <th></th>\n",
              "      <th></th>\n",
              "      <th></th>\n",
              "      <th></th>\n",
              "      <th></th>\n",
              "      <th></th>\n",
              "      <th></th>\n",
              "    </tr>\n",
              "  </thead>\n",
              "  <tbody>\n",
              "    <tr>\n",
              "      <th>2021-03-18</th>\n",
              "      <td>56.63</td>\n",
              "      <td>57.48</td>\n",
              "      <td>55.21</td>\n",
              "      <td>55.69</td>\n",
              "      <td>15742985</td>\n",
              "      <td>56.16</td>\n",
              "      <td>56.36</td>\n",
              "      <td>-0.011888</td>\n",
              "    </tr>\n",
              "    <tr>\n",
              "      <th>2021-03-22</th>\n",
              "      <td>57.25</td>\n",
              "      <td>57.61</td>\n",
              "      <td>55.47</td>\n",
              "      <td>55.69</td>\n",
              "      <td>14149412</td>\n",
              "      <td>56.47</td>\n",
              "      <td>57.08</td>\n",
              "      <td>-0.024352</td>\n",
              "    </tr>\n",
              "  </tbody>\n",
              "</table>\n",
              "</div>"
            ],
            "text/plain": [
              "             Open   High    Low  ...  Average  Close_shift  Daily_Change\n",
              "Date                             ...                                    \n",
              "2021-03-18  56.63  57.48  55.21  ...    56.16        56.36     -0.011888\n",
              "2021-03-22  57.25  57.61  55.47  ...    56.47        57.08     -0.024352\n",
              "\n",
              "[2 rows x 8 columns]"
            ]
          },
          "metadata": {
            "tags": []
          },
          "execution_count": 294
        }
      ]
    },
    {
      "cell_type": "code",
      "metadata": {
        "colab": {
          "base_uri": "https://localhost:8080/",
          "height": 450
        },
        "id": "C2RV7cxEPOOe",
        "outputId": "8490c7d0-c940-4057-fbac-dcbdde3720b1"
      },
      "source": [
        "df"
      ],
      "execution_count": null,
      "outputs": [
        {
          "output_type": "execute_result",
          "data": {
            "text/html": [
              "<div>\n",
              "<style scoped>\n",
              "    .dataframe tbody tr th:only-of-type {\n",
              "        vertical-align: middle;\n",
              "    }\n",
              "\n",
              "    .dataframe tbody tr th {\n",
              "        vertical-align: top;\n",
              "    }\n",
              "\n",
              "    .dataframe thead th {\n",
              "        text-align: right;\n",
              "    }\n",
              "</style>\n",
              "<table border=\"1\" class=\"dataframe\">\n",
              "  <thead>\n",
              "    <tr style=\"text-align: right;\">\n",
              "      <th></th>\n",
              "      <th>Open</th>\n",
              "      <th>High</th>\n",
              "      <th>Low</th>\n",
              "      <th>Close</th>\n",
              "      <th>Volume</th>\n",
              "      <th>Average</th>\n",
              "      <th>Close_shift</th>\n",
              "      <th>Daily_Change</th>\n",
              "    </tr>\n",
              "    <tr>\n",
              "      <th>Date</th>\n",
              "      <th></th>\n",
              "      <th></th>\n",
              "      <th></th>\n",
              "      <th></th>\n",
              "      <th></th>\n",
              "      <th></th>\n",
              "      <th></th>\n",
              "      <th></th>\n",
              "    </tr>\n",
              "  </thead>\n",
              "  <tbody>\n",
              "    <tr>\n",
              "      <th>2019-05-10</th>\n",
              "      <td>42.00</td>\n",
              "      <td>45.00</td>\n",
              "      <td>41.06</td>\n",
              "      <td>41.57</td>\n",
              "      <td>186322536</td>\n",
              "      <td>41.785</td>\n",
              "      <td>NaN</td>\n",
              "      <td>NaN</td>\n",
              "    </tr>\n",
              "    <tr>\n",
              "      <th>2019-05-13</th>\n",
              "      <td>38.79</td>\n",
              "      <td>39.24</td>\n",
              "      <td>36.08</td>\n",
              "      <td>37.10</td>\n",
              "      <td>79442420</td>\n",
              "      <td>37.945</td>\n",
              "      <td>41.57</td>\n",
              "      <td>-0.107529</td>\n",
              "    </tr>\n",
              "    <tr>\n",
              "      <th>2019-05-14</th>\n",
              "      <td>38.31</td>\n",
              "      <td>39.96</td>\n",
              "      <td>36.85</td>\n",
              "      <td>39.96</td>\n",
              "      <td>46661147</td>\n",
              "      <td>39.135</td>\n",
              "      <td>37.10</td>\n",
              "      <td>0.077089</td>\n",
              "    </tr>\n",
              "    <tr>\n",
              "      <th>2019-05-15</th>\n",
              "      <td>39.37</td>\n",
              "      <td>41.88</td>\n",
              "      <td>38.95</td>\n",
              "      <td>41.29</td>\n",
              "      <td>36086065</td>\n",
              "      <td>40.330</td>\n",
              "      <td>39.96</td>\n",
              "      <td>0.033283</td>\n",
              "    </tr>\n",
              "    <tr>\n",
              "      <th>2019-05-16</th>\n",
              "      <td>41.48</td>\n",
              "      <td>44.06</td>\n",
              "      <td>41.25</td>\n",
              "      <td>43.00</td>\n",
              "      <td>38115524</td>\n",
              "      <td>42.240</td>\n",
              "      <td>41.29</td>\n",
              "      <td>0.041414</td>\n",
              "    </tr>\n",
              "    <tr>\n",
              "      <th>...</th>\n",
              "      <td>...</td>\n",
              "      <td>...</td>\n",
              "      <td>...</td>\n",
              "      <td>...</td>\n",
              "      <td>...</td>\n",
              "      <td>...</td>\n",
              "      <td>...</td>\n",
              "      <td>...</td>\n",
              "    </tr>\n",
              "    <tr>\n",
              "      <th>2021-03-18</th>\n",
              "      <td>56.63</td>\n",
              "      <td>57.48</td>\n",
              "      <td>55.21</td>\n",
              "      <td>55.69</td>\n",
              "      <td>15742985</td>\n",
              "      <td>56.160</td>\n",
              "      <td>56.36</td>\n",
              "      <td>-0.011888</td>\n",
              "    </tr>\n",
              "    <tr>\n",
              "      <th>2021-03-19</th>\n",
              "      <td>55.48</td>\n",
              "      <td>57.18</td>\n",
              "      <td>54.34</td>\n",
              "      <td>57.08</td>\n",
              "      <td>17396297</td>\n",
              "      <td>56.280</td>\n",
              "      <td>55.69</td>\n",
              "      <td>0.024960</td>\n",
              "    </tr>\n",
              "    <tr>\n",
              "      <th>2021-03-22</th>\n",
              "      <td>57.25</td>\n",
              "      <td>57.61</td>\n",
              "      <td>55.47</td>\n",
              "      <td>55.69</td>\n",
              "      <td>14149412</td>\n",
              "      <td>56.470</td>\n",
              "      <td>57.08</td>\n",
              "      <td>-0.024352</td>\n",
              "    </tr>\n",
              "    <tr>\n",
              "      <th>2021-03-23</th>\n",
              "      <td>55.63</td>\n",
              "      <td>55.63</td>\n",
              "      <td>53.11</td>\n",
              "      <td>53.49</td>\n",
              "      <td>14513457</td>\n",
              "      <td>54.560</td>\n",
              "      <td>55.69</td>\n",
              "      <td>-0.039504</td>\n",
              "    </tr>\n",
              "    <tr>\n",
              "      <th>2021-03-24</th>\n",
              "      <td>54.46</td>\n",
              "      <td>54.96</td>\n",
              "      <td>52.54</td>\n",
              "      <td>52.57</td>\n",
              "      <td>13689068</td>\n",
              "      <td>53.515</td>\n",
              "      <td>53.49</td>\n",
              "      <td>-0.017199</td>\n",
              "    </tr>\n",
              "  </tbody>\n",
              "</table>\n",
              "<p>472 rows × 8 columns</p>\n",
              "</div>"
            ],
            "text/plain": [
              "             Open   High    Low  ...  Average  Close_shift  Daily_Change\n",
              "Date                             ...                                    \n",
              "2019-05-10  42.00  45.00  41.06  ...   41.785          NaN           NaN\n",
              "2019-05-13  38.79  39.24  36.08  ...   37.945        41.57     -0.107529\n",
              "2019-05-14  38.31  39.96  36.85  ...   39.135        37.10      0.077089\n",
              "2019-05-15  39.37  41.88  38.95  ...   40.330        39.96      0.033283\n",
              "2019-05-16  41.48  44.06  41.25  ...   42.240        41.29      0.041414\n",
              "...           ...    ...    ...  ...      ...          ...           ...\n",
              "2021-03-18  56.63  57.48  55.21  ...   56.160        56.36     -0.011888\n",
              "2021-03-19  55.48  57.18  54.34  ...   56.280        55.69      0.024960\n",
              "2021-03-22  57.25  57.61  55.47  ...   56.470        57.08     -0.024352\n",
              "2021-03-23  55.63  55.63  53.11  ...   54.560        55.69     -0.039504\n",
              "2021-03-24  54.46  54.96  52.54  ...   53.515        53.49     -0.017199\n",
              "\n",
              "[472 rows x 8 columns]"
            ]
          },
          "metadata": {
            "tags": []
          },
          "execution_count": 295
        }
      ]
    },
    {
      "cell_type": "code",
      "metadata": {
        "colab": {
          "base_uri": "https://localhost:8080/"
        },
        "id": "gi_Ea2SCTbHQ",
        "outputId": "ede728ec-1bdc-4748-ed3a-640f86f50842"
      },
      "source": [
        "df.index.month"
      ],
      "execution_count": null,
      "outputs": [
        {
          "output_type": "execute_result",
          "data": {
            "text/plain": [
              "Int64Index([5, 5, 5, 5, 5, 5, 5, 5, 5, 5,\n",
              "            ...\n",
              "            3, 3, 3, 3, 3, 3, 3, 3, 3, 3],\n",
              "           dtype='int64', name='Date', length=472)"
            ]
          },
          "metadata": {
            "tags": []
          },
          "execution_count": 296
        }
      ]
    },
    {
      "cell_type": "code",
      "metadata": {
        "colab": {
          "base_uri": "https://localhost:8080/"
        },
        "id": "vrahezuWP7n-",
        "outputId": "2d092a3b-bc5d-4a00-e0fa-d47d4046c86e"
      },
      "source": [
        "df.index.month == 5"
      ],
      "execution_count": null,
      "outputs": [
        {
          "output_type": "execute_result",
          "data": {
            "text/plain": [
              "array([ True,  True,  True,  True,  True,  True,  True,  True,  True,\n",
              "        True,  True,  True,  True,  True,  True, False, False, False,\n",
              "       False, False, False, False, False, False, False, False, False,\n",
              "       False, False, False, False, False, False, False, False, False,\n",
              "       False, False, False, False, False, False, False, False, False,\n",
              "       False, False, False, False, False, False, False, False, False,\n",
              "       False, False, False, False, False, False, False, False, False,\n",
              "       False, False, False, False, False, False, False, False, False,\n",
              "       False, False, False, False, False, False, False, False, False,\n",
              "       False, False, False, False, False, False, False, False, False,\n",
              "       False, False, False, False, False, False, False, False, False,\n",
              "       False, False, False, False, False, False, False, False, False,\n",
              "       False, False, False, False, False, False, False, False, False,\n",
              "       False, False, False, False, False, False, False, False, False,\n",
              "       False, False, False, False, False, False, False, False, False,\n",
              "       False, False, False, False, False, False, False, False, False,\n",
              "       False, False, False, False, False, False, False, False, False,\n",
              "       False, False, False, False, False, False, False, False, False,\n",
              "       False, False, False, False, False, False, False, False, False,\n",
              "       False, False, False, False, False, False, False, False, False,\n",
              "       False, False, False, False, False, False, False, False, False,\n",
              "       False, False, False, False, False, False, False, False, False,\n",
              "       False, False, False, False, False, False, False, False, False,\n",
              "       False, False, False, False, False, False, False, False, False,\n",
              "       False, False, False, False, False, False, False, False, False,\n",
              "       False, False, False, False, False, False, False, False, False,\n",
              "       False, False, False, False, False, False, False, False, False,\n",
              "       False, False, False,  True,  True,  True,  True,  True,  True,\n",
              "        True,  True,  True,  True,  True,  True,  True,  True,  True,\n",
              "        True,  True,  True,  True,  True, False, False, False, False,\n",
              "       False, False, False, False, False, False, False, False, False,\n",
              "       False, False, False, False, False, False, False, False, False,\n",
              "       False, False, False, False, False, False, False, False, False,\n",
              "       False, False, False, False, False, False, False, False, False,\n",
              "       False, False, False, False, False, False, False, False, False,\n",
              "       False, False, False, False, False, False, False, False, False,\n",
              "       False, False, False, False, False, False, False, False, False,\n",
              "       False, False, False, False, False, False, False, False, False,\n",
              "       False, False, False, False, False, False, False, False, False,\n",
              "       False, False, False, False, False, False, False, False, False,\n",
              "       False, False, False, False, False, False, False, False, False,\n",
              "       False, False, False, False, False, False, False, False, False,\n",
              "       False, False, False, False, False, False, False, False, False,\n",
              "       False, False, False, False, False, False, False, False, False,\n",
              "       False, False, False, False, False, False, False, False, False,\n",
              "       False, False, False, False, False, False, False, False, False,\n",
              "       False, False, False, False, False, False, False, False, False,\n",
              "       False, False, False, False, False, False, False, False, False,\n",
              "       False, False, False, False, False, False, False, False, False,\n",
              "       False, False, False, False, False, False, False, False, False,\n",
              "       False, False, False, False, False, False, False, False, False,\n",
              "       False, False, False, False, False, False, False, False, False,\n",
              "       False, False, False, False])"
            ]
          },
          "metadata": {
            "tags": []
          },
          "execution_count": 297
        }
      ]
    },
    {
      "cell_type": "code",
      "metadata": {
        "colab": {
          "base_uri": "https://localhost:8080/",
          "height": 1000
        },
        "id": "KEkFA0vUSAS1",
        "outputId": "3b04d026-69cc-4ae6-9985-c88abe04acff"
      },
      "source": [
        "df[df.index.year == 2021]"
      ],
      "execution_count": null,
      "outputs": [
        {
          "output_type": "execute_result",
          "data": {
            "text/html": [
              "<div>\n",
              "<style scoped>\n",
              "    .dataframe tbody tr th:only-of-type {\n",
              "        vertical-align: middle;\n",
              "    }\n",
              "\n",
              "    .dataframe tbody tr th {\n",
              "        vertical-align: top;\n",
              "    }\n",
              "\n",
              "    .dataframe thead th {\n",
              "        text-align: right;\n",
              "    }\n",
              "</style>\n",
              "<table border=\"1\" class=\"dataframe\">\n",
              "  <thead>\n",
              "    <tr style=\"text-align: right;\">\n",
              "      <th></th>\n",
              "      <th>Open</th>\n",
              "      <th>High</th>\n",
              "      <th>Low</th>\n",
              "      <th>Close</th>\n",
              "      <th>Volume</th>\n",
              "      <th>Average</th>\n",
              "      <th>Close_shift</th>\n",
              "      <th>Daily_Change</th>\n",
              "    </tr>\n",
              "    <tr>\n",
              "      <th>Date</th>\n",
              "      <th></th>\n",
              "      <th></th>\n",
              "      <th></th>\n",
              "      <th></th>\n",
              "      <th></th>\n",
              "      <th></th>\n",
              "      <th></th>\n",
              "      <th></th>\n",
              "    </tr>\n",
              "  </thead>\n",
              "  <tbody>\n",
              "    <tr>\n",
              "      <th>2021-01-04</th>\n",
              "      <td>52.220</td>\n",
              "      <td>52.3200</td>\n",
              "      <td>49.6350</td>\n",
              "      <td>51.14</td>\n",
              "      <td>17291804</td>\n",
              "      <td>51.6800</td>\n",
              "      <td>51.00</td>\n",
              "      <td>0.002745</td>\n",
              "    </tr>\n",
              "    <tr>\n",
              "      <th>2021-01-05</th>\n",
              "      <td>51.000</td>\n",
              "      <td>54.1900</td>\n",
              "      <td>50.7600</td>\n",
              "      <td>54.01</td>\n",
              "      <td>21403169</td>\n",
              "      <td>52.5050</td>\n",
              "      <td>51.14</td>\n",
              "      <td>0.056120</td>\n",
              "    </tr>\n",
              "    <tr>\n",
              "      <th>2021-01-06</th>\n",
              "      <td>53.310</td>\n",
              "      <td>54.0700</td>\n",
              "      <td>52.0000</td>\n",
              "      <td>52.48</td>\n",
              "      <td>17738115</td>\n",
              "      <td>52.8950</td>\n",
              "      <td>54.01</td>\n",
              "      <td>-0.028328</td>\n",
              "    </tr>\n",
              "    <tr>\n",
              "      <th>2021-01-07</th>\n",
              "      <td>53.370</td>\n",
              "      <td>56.2500</td>\n",
              "      <td>53.2000</td>\n",
              "      <td>56.13</td>\n",
              "      <td>23737543</td>\n",
              "      <td>54.7500</td>\n",
              "      <td>52.48</td>\n",
              "      <td>0.069550</td>\n",
              "    </tr>\n",
              "    <tr>\n",
              "      <th>2021-01-08</th>\n",
              "      <td>54.395</td>\n",
              "      <td>54.7900</td>\n",
              "      <td>52.5800</td>\n",
              "      <td>53.28</td>\n",
              "      <td>37999442</td>\n",
              "      <td>53.8375</td>\n",
              "      <td>56.13</td>\n",
              "      <td>-0.050775</td>\n",
              "    </tr>\n",
              "    <tr>\n",
              "      <th>2021-01-11</th>\n",
              "      <td>53.110</td>\n",
              "      <td>55.0000</td>\n",
              "      <td>52.9900</td>\n",
              "      <td>54.59</td>\n",
              "      <td>23213840</td>\n",
              "      <td>53.8500</td>\n",
              "      <td>53.28</td>\n",
              "      <td>0.024587</td>\n",
              "    </tr>\n",
              "    <tr>\n",
              "      <th>2021-01-12</th>\n",
              "      <td>55.500</td>\n",
              "      <td>59.3900</td>\n",
              "      <td>55.0000</td>\n",
              "      <td>58.54</td>\n",
              "      <td>52151405</td>\n",
              "      <td>57.0200</td>\n",
              "      <td>54.59</td>\n",
              "      <td>0.072358</td>\n",
              "    </tr>\n",
              "    <tr>\n",
              "      <th>2021-01-13</th>\n",
              "      <td>58.540</td>\n",
              "      <td>59.8800</td>\n",
              "      <td>57.5300</td>\n",
              "      <td>59.40</td>\n",
              "      <td>24178501</td>\n",
              "      <td>58.9700</td>\n",
              "      <td>58.54</td>\n",
              "      <td>0.014691</td>\n",
              "    </tr>\n",
              "    <tr>\n",
              "      <th>2021-01-14</th>\n",
              "      <td>60.000</td>\n",
              "      <td>60.0300</td>\n",
              "      <td>56.7000</td>\n",
              "      <td>56.91</td>\n",
              "      <td>26561002</td>\n",
              "      <td>58.4550</td>\n",
              "      <td>59.40</td>\n",
              "      <td>-0.041919</td>\n",
              "    </tr>\n",
              "    <tr>\n",
              "      <th>2021-01-15</th>\n",
              "      <td>57.490</td>\n",
              "      <td>57.9000</td>\n",
              "      <td>55.0000</td>\n",
              "      <td>55.52</td>\n",
              "      <td>23708804</td>\n",
              "      <td>56.5050</td>\n",
              "      <td>56.91</td>\n",
              "      <td>-0.024425</td>\n",
              "    </tr>\n",
              "    <tr>\n",
              "      <th>2021-01-19</th>\n",
              "      <td>56.390</td>\n",
              "      <td>56.8424</td>\n",
              "      <td>55.0000</td>\n",
              "      <td>56.30</td>\n",
              "      <td>16953659</td>\n",
              "      <td>56.3450</td>\n",
              "      <td>55.52</td>\n",
              "      <td>0.014049</td>\n",
              "    </tr>\n",
              "    <tr>\n",
              "      <th>2021-01-20</th>\n",
              "      <td>57.000</td>\n",
              "      <td>57.9800</td>\n",
              "      <td>55.4700</td>\n",
              "      <td>56.38</td>\n",
              "      <td>16904343</td>\n",
              "      <td>56.6900</td>\n",
              "      <td>56.30</td>\n",
              "      <td>0.001421</td>\n",
              "    </tr>\n",
              "    <tr>\n",
              "      <th>2021-01-21</th>\n",
              "      <td>56.570</td>\n",
              "      <td>57.0000</td>\n",
              "      <td>55.3136</td>\n",
              "      <td>55.79</td>\n",
              "      <td>13432029</td>\n",
              "      <td>56.1800</td>\n",
              "      <td>56.38</td>\n",
              "      <td>-0.010465</td>\n",
              "    </tr>\n",
              "    <tr>\n",
              "      <th>2021-01-22</th>\n",
              "      <td>55.250</td>\n",
              "      <td>55.4700</td>\n",
              "      <td>54.0100</td>\n",
              "      <td>54.31</td>\n",
              "      <td>19570506</td>\n",
              "      <td>54.7800</td>\n",
              "      <td>55.79</td>\n",
              "      <td>-0.026528</td>\n",
              "    </tr>\n",
              "    <tr>\n",
              "      <th>2021-01-25</th>\n",
              "      <td>54.500</td>\n",
              "      <td>54.5200</td>\n",
              "      <td>49.6500</td>\n",
              "      <td>54.29</td>\n",
              "      <td>40890094</td>\n",
              "      <td>54.3950</td>\n",
              "      <td>54.31</td>\n",
              "      <td>-0.000368</td>\n",
              "    </tr>\n",
              "    <tr>\n",
              "      <th>2021-01-26</th>\n",
              "      <td>54.620</td>\n",
              "      <td>55.5200</td>\n",
              "      <td>51.5300</td>\n",
              "      <td>51.92</td>\n",
              "      <td>25677017</td>\n",
              "      <td>53.2700</td>\n",
              "      <td>54.29</td>\n",
              "      <td>-0.043654</td>\n",
              "    </tr>\n",
              "    <tr>\n",
              "      <th>2021-01-27</th>\n",
              "      <td>49.970</td>\n",
              "      <td>50.8600</td>\n",
              "      <td>47.1500</td>\n",
              "      <td>48.11</td>\n",
              "      <td>33283424</td>\n",
              "      <td>49.0400</td>\n",
              "      <td>51.92</td>\n",
              "      <td>-0.073382</td>\n",
              "    </tr>\n",
              "    <tr>\n",
              "      <th>2021-01-28</th>\n",
              "      <td>50.120</td>\n",
              "      <td>52.5200</td>\n",
              "      <td>49.8800</td>\n",
              "      <td>51.58</td>\n",
              "      <td>28114698</td>\n",
              "      <td>50.8500</td>\n",
              "      <td>48.11</td>\n",
              "      <td>0.072126</td>\n",
              "    </tr>\n",
              "    <tr>\n",
              "      <th>2021-01-29</th>\n",
              "      <td>50.630</td>\n",
              "      <td>51.4899</td>\n",
              "      <td>49.6350</td>\n",
              "      <td>50.93</td>\n",
              "      <td>18743234</td>\n",
              "      <td>50.7800</td>\n",
              "      <td>51.58</td>\n",
              "      <td>-0.012602</td>\n",
              "    </tr>\n",
              "    <tr>\n",
              "      <th>2021-02-01</th>\n",
              "      <td>52.120</td>\n",
              "      <td>52.9000</td>\n",
              "      <td>51.3500</td>\n",
              "      <td>52.76</td>\n",
              "      <td>15570904</td>\n",
              "      <td>52.4400</td>\n",
              "      <td>50.93</td>\n",
              "      <td>0.035932</td>\n",
              "    </tr>\n",
              "    <tr>\n",
              "      <th>2021-02-02</th>\n",
              "      <td>55.110</td>\n",
              "      <td>58.0300</td>\n",
              "      <td>54.8900</td>\n",
              "      <td>56.46</td>\n",
              "      <td>30286801</td>\n",
              "      <td>55.7850</td>\n",
              "      <td>52.76</td>\n",
              "      <td>0.070129</td>\n",
              "    </tr>\n",
              "    <tr>\n",
              "      <th>2021-02-03</th>\n",
              "      <td>57.870</td>\n",
              "      <td>58.1300</td>\n",
              "      <td>56.7400</td>\n",
              "      <td>57.12</td>\n",
              "      <td>13519011</td>\n",
              "      <td>57.4950</td>\n",
              "      <td>56.46</td>\n",
              "      <td>0.011690</td>\n",
              "    </tr>\n",
              "    <tr>\n",
              "      <th>2021-02-04</th>\n",
              "      <td>56.450</td>\n",
              "      <td>57.8500</td>\n",
              "      <td>56.1100</td>\n",
              "      <td>57.85</td>\n",
              "      <td>13847255</td>\n",
              "      <td>57.1500</td>\n",
              "      <td>57.12</td>\n",
              "      <td>0.012780</td>\n",
              "    </tr>\n",
              "    <tr>\n",
              "      <th>2021-02-05</th>\n",
              "      <td>58.160</td>\n",
              "      <td>58.7075</td>\n",
              "      <td>57.3700</td>\n",
              "      <td>58.58</td>\n",
              "      <td>15729172</td>\n",
              "      <td>58.3700</td>\n",
              "      <td>57.85</td>\n",
              "      <td>0.012619</td>\n",
              "    </tr>\n",
              "    <tr>\n",
              "      <th>2021-02-08</th>\n",
              "      <td>59.700</td>\n",
              "      <td>60.1100</td>\n",
              "      <td>58.6900</td>\n",
              "      <td>59.29</td>\n",
              "      <td>18410638</td>\n",
              "      <td>59.4950</td>\n",
              "      <td>58.58</td>\n",
              "      <td>0.012120</td>\n",
              "    </tr>\n",
              "    <tr>\n",
              "      <th>2021-02-09</th>\n",
              "      <td>58.910</td>\n",
              "      <td>61.0600</td>\n",
              "      <td>58.6200</td>\n",
              "      <td>59.61</td>\n",
              "      <td>23510740</td>\n",
              "      <td>59.2600</td>\n",
              "      <td>59.29</td>\n",
              "      <td>0.005397</td>\n",
              "    </tr>\n",
              "    <tr>\n",
              "      <th>2021-02-10</th>\n",
              "      <td>62.000</td>\n",
              "      <td>63.5000</td>\n",
              "      <td>60.8000</td>\n",
              "      <td>63.18</td>\n",
              "      <td>36972931</td>\n",
              "      <td>62.5900</td>\n",
              "      <td>59.61</td>\n",
              "      <td>0.059889</td>\n",
              "    </tr>\n",
              "    <tr>\n",
              "      <th>2021-02-11</th>\n",
              "      <td>63.250</td>\n",
              "      <td>64.0500</td>\n",
              "      <td>60.3950</td>\n",
              "      <td>60.71</td>\n",
              "      <td>41363413</td>\n",
              "      <td>61.9800</td>\n",
              "      <td>63.18</td>\n",
              "      <td>-0.039095</td>\n",
              "    </tr>\n",
              "    <tr>\n",
              "      <th>2021-02-12</th>\n",
              "      <td>60.120</td>\n",
              "      <td>60.9300</td>\n",
              "      <td>59.3150</td>\n",
              "      <td>60.63</td>\n",
              "      <td>14607832</td>\n",
              "      <td>60.3750</td>\n",
              "      <td>60.71</td>\n",
              "      <td>-0.001318</td>\n",
              "    </tr>\n",
              "    <tr>\n",
              "      <th>2021-02-16</th>\n",
              "      <td>61.020</td>\n",
              "      <td>61.3100</td>\n",
              "      <td>59.8400</td>\n",
              "      <td>60.52</td>\n",
              "      <td>15413075</td>\n",
              "      <td>60.7700</td>\n",
              "      <td>60.63</td>\n",
              "      <td>-0.001814</td>\n",
              "    </tr>\n",
              "    <tr>\n",
              "      <th>2021-02-17</th>\n",
              "      <td>60.330</td>\n",
              "      <td>60.9500</td>\n",
              "      <td>58.9500</td>\n",
              "      <td>60.81</td>\n",
              "      <td>12669988</td>\n",
              "      <td>60.5700</td>\n",
              "      <td>60.52</td>\n",
              "      <td>0.004792</td>\n",
              "    </tr>\n",
              "    <tr>\n",
              "      <th>2021-02-18</th>\n",
              "      <td>60.000</td>\n",
              "      <td>60.2900</td>\n",
              "      <td>58.2300</td>\n",
              "      <td>59.00</td>\n",
              "      <td>15135647</td>\n",
              "      <td>59.5000</td>\n",
              "      <td>60.81</td>\n",
              "      <td>-0.029765</td>\n",
              "    </tr>\n",
              "    <tr>\n",
              "      <th>2021-02-19</th>\n",
              "      <td>58.360</td>\n",
              "      <td>60.4572</td>\n",
              "      <td>58.1130</td>\n",
              "      <td>58.39</td>\n",
              "      <td>28097000</td>\n",
              "      <td>58.3750</td>\n",
              "      <td>59.00</td>\n",
              "      <td>-0.010339</td>\n",
              "    </tr>\n",
              "    <tr>\n",
              "      <th>2021-02-22</th>\n",
              "      <td>57.760</td>\n",
              "      <td>58.1000</td>\n",
              "      <td>54.8157</td>\n",
              "      <td>55.31</td>\n",
              "      <td>25565420</td>\n",
              "      <td>56.5350</td>\n",
              "      <td>58.39</td>\n",
              "      <td>-0.052749</td>\n",
              "    </tr>\n",
              "    <tr>\n",
              "      <th>2021-02-23</th>\n",
              "      <td>53.500</td>\n",
              "      <td>56.3700</td>\n",
              "      <td>51.8900</td>\n",
              "      <td>56.00</td>\n",
              "      <td>23947540</td>\n",
              "      <td>54.7500</td>\n",
              "      <td>55.31</td>\n",
              "      <td>0.012475</td>\n",
              "    </tr>\n",
              "    <tr>\n",
              "      <th>2021-02-24</th>\n",
              "      <td>54.950</td>\n",
              "      <td>55.1500</td>\n",
              "      <td>53.6600</td>\n",
              "      <td>53.91</td>\n",
              "      <td>24626966</td>\n",
              "      <td>54.4300</td>\n",
              "      <td>56.00</td>\n",
              "      <td>-0.037321</td>\n",
              "    </tr>\n",
              "    <tr>\n",
              "      <th>2021-02-25</th>\n",
              "      <td>54.580</td>\n",
              "      <td>54.6000</td>\n",
              "      <td>50.8600</td>\n",
              "      <td>51.45</td>\n",
              "      <td>27049080</td>\n",
              "      <td>53.0150</td>\n",
              "      <td>53.91</td>\n",
              "      <td>-0.045632</td>\n",
              "    </tr>\n",
              "    <tr>\n",
              "      <th>2021-02-26</th>\n",
              "      <td>52.070</td>\n",
              "      <td>52.7500</td>\n",
              "      <td>50.6100</td>\n",
              "      <td>51.75</td>\n",
              "      <td>16349839</td>\n",
              "      <td>51.9100</td>\n",
              "      <td>51.45</td>\n",
              "      <td>0.005831</td>\n",
              "    </tr>\n",
              "    <tr>\n",
              "      <th>2021-03-01</th>\n",
              "      <td>53.670</td>\n",
              "      <td>54.7600</td>\n",
              "      <td>53.3000</td>\n",
              "      <td>54.40</td>\n",
              "      <td>18481137</td>\n",
              "      <td>54.0350</td>\n",
              "      <td>51.75</td>\n",
              "      <td>0.051208</td>\n",
              "    </tr>\n",
              "    <tr>\n",
              "      <th>2021-03-02</th>\n",
              "      <td>55.540</td>\n",
              "      <td>55.6200</td>\n",
              "      <td>54.1894</td>\n",
              "      <td>54.65</td>\n",
              "      <td>15199537</td>\n",
              "      <td>55.0950</td>\n",
              "      <td>54.40</td>\n",
              "      <td>0.004596</td>\n",
              "    </tr>\n",
              "    <tr>\n",
              "      <th>2021-03-03</th>\n",
              "      <td>55.930</td>\n",
              "      <td>57.8000</td>\n",
              "      <td>54.6500</td>\n",
              "      <td>56.11</td>\n",
              "      <td>28485381</td>\n",
              "      <td>56.0200</td>\n",
              "      <td>54.65</td>\n",
              "      <td>0.026715</td>\n",
              "    </tr>\n",
              "    <tr>\n",
              "      <th>2021-03-04</th>\n",
              "      <td>55.750</td>\n",
              "      <td>57.1600</td>\n",
              "      <td>51.6100</td>\n",
              "      <td>53.07</td>\n",
              "      <td>27409574</td>\n",
              "      <td>54.4100</td>\n",
              "      <td>56.11</td>\n",
              "      <td>-0.054179</td>\n",
              "    </tr>\n",
              "    <tr>\n",
              "      <th>2021-03-05</th>\n",
              "      <td>54.280</td>\n",
              "      <td>55.8300</td>\n",
              "      <td>50.8100</td>\n",
              "      <td>55.54</td>\n",
              "      <td>31576175</td>\n",
              "      <td>54.9100</td>\n",
              "      <td>53.07</td>\n",
              "      <td>0.046542</td>\n",
              "    </tr>\n",
              "    <tr>\n",
              "      <th>2021-03-08</th>\n",
              "      <td>55.500</td>\n",
              "      <td>56.4500</td>\n",
              "      <td>52.8900</td>\n",
              "      <td>53.20</td>\n",
              "      <td>19912065</td>\n",
              "      <td>54.3500</td>\n",
              "      <td>55.54</td>\n",
              "      <td>-0.042132</td>\n",
              "    </tr>\n",
              "    <tr>\n",
              "      <th>2021-03-09</th>\n",
              "      <td>56.000</td>\n",
              "      <td>56.1500</td>\n",
              "      <td>54.7200</td>\n",
              "      <td>55.25</td>\n",
              "      <td>17192937</td>\n",
              "      <td>55.6250</td>\n",
              "      <td>53.20</td>\n",
              "      <td>0.038534</td>\n",
              "    </tr>\n",
              "    <tr>\n",
              "      <th>2021-03-10</th>\n",
              "      <td>57.210</td>\n",
              "      <td>58.9000</td>\n",
              "      <td>56.2700</td>\n",
              "      <td>57.68</td>\n",
              "      <td>27997015</td>\n",
              "      <td>57.4450</td>\n",
              "      <td>55.25</td>\n",
              "      <td>0.043982</td>\n",
              "    </tr>\n",
              "    <tr>\n",
              "      <th>2021-03-11</th>\n",
              "      <td>58.800</td>\n",
              "      <td>59.4800</td>\n",
              "      <td>58.2200</td>\n",
              "      <td>58.95</td>\n",
              "      <td>17293752</td>\n",
              "      <td>58.8750</td>\n",
              "      <td>57.68</td>\n",
              "      <td>0.022018</td>\n",
              "    </tr>\n",
              "    <tr>\n",
              "      <th>2021-03-12</th>\n",
              "      <td>58.970</td>\n",
              "      <td>60.5900</td>\n",
              "      <td>57.6200</td>\n",
              "      <td>60.35</td>\n",
              "      <td>14839307</td>\n",
              "      <td>59.6600</td>\n",
              "      <td>58.95</td>\n",
              "      <td>0.023749</td>\n",
              "    </tr>\n",
              "    <tr>\n",
              "      <th>2021-03-15</th>\n",
              "      <td>60.350</td>\n",
              "      <td>60.5300</td>\n",
              "      <td>59.1200</td>\n",
              "      <td>60.19</td>\n",
              "      <td>14993629</td>\n",
              "      <td>60.2700</td>\n",
              "      <td>60.35</td>\n",
              "      <td>-0.002651</td>\n",
              "    </tr>\n",
              "    <tr>\n",
              "      <th>2021-03-16</th>\n",
              "      <td>59.990</td>\n",
              "      <td>61.0200</td>\n",
              "      <td>58.3800</td>\n",
              "      <td>58.85</td>\n",
              "      <td>12885725</td>\n",
              "      <td>59.4200</td>\n",
              "      <td>60.19</td>\n",
              "      <td>-0.022263</td>\n",
              "    </tr>\n",
              "    <tr>\n",
              "      <th>2021-03-17</th>\n",
              "      <td>57.070</td>\n",
              "      <td>57.5700</td>\n",
              "      <td>55.5400</td>\n",
              "      <td>56.36</td>\n",
              "      <td>25509926</td>\n",
              "      <td>56.7150</td>\n",
              "      <td>58.85</td>\n",
              "      <td>-0.042311</td>\n",
              "    </tr>\n",
              "    <tr>\n",
              "      <th>2021-03-18</th>\n",
              "      <td>56.630</td>\n",
              "      <td>57.4800</td>\n",
              "      <td>55.2100</td>\n",
              "      <td>55.69</td>\n",
              "      <td>15742985</td>\n",
              "      <td>56.1600</td>\n",
              "      <td>56.36</td>\n",
              "      <td>-0.011888</td>\n",
              "    </tr>\n",
              "    <tr>\n",
              "      <th>2021-03-19</th>\n",
              "      <td>55.480</td>\n",
              "      <td>57.1800</td>\n",
              "      <td>54.3400</td>\n",
              "      <td>57.08</td>\n",
              "      <td>17396297</td>\n",
              "      <td>56.2800</td>\n",
              "      <td>55.69</td>\n",
              "      <td>0.024960</td>\n",
              "    </tr>\n",
              "    <tr>\n",
              "      <th>2021-03-22</th>\n",
              "      <td>57.250</td>\n",
              "      <td>57.6100</td>\n",
              "      <td>55.4700</td>\n",
              "      <td>55.69</td>\n",
              "      <td>14149412</td>\n",
              "      <td>56.4700</td>\n",
              "      <td>57.08</td>\n",
              "      <td>-0.024352</td>\n",
              "    </tr>\n",
              "    <tr>\n",
              "      <th>2021-03-23</th>\n",
              "      <td>55.630</td>\n",
              "      <td>55.6300</td>\n",
              "      <td>53.1100</td>\n",
              "      <td>53.49</td>\n",
              "      <td>14513457</td>\n",
              "      <td>54.5600</td>\n",
              "      <td>55.69</td>\n",
              "      <td>-0.039504</td>\n",
              "    </tr>\n",
              "    <tr>\n",
              "      <th>2021-03-24</th>\n",
              "      <td>54.460</td>\n",
              "      <td>54.9600</td>\n",
              "      <td>52.5400</td>\n",
              "      <td>52.57</td>\n",
              "      <td>13689068</td>\n",
              "      <td>53.5150</td>\n",
              "      <td>53.49</td>\n",
              "      <td>-0.017199</td>\n",
              "    </tr>\n",
              "  </tbody>\n",
              "</table>\n",
              "</div>"
            ],
            "text/plain": [
              "              Open     High      Low  ...  Average  Close_shift  Daily_Change\n",
              "Date                                  ...                                    \n",
              "2021-01-04  52.220  52.3200  49.6350  ...  51.6800        51.00      0.002745\n",
              "2021-01-05  51.000  54.1900  50.7600  ...  52.5050        51.14      0.056120\n",
              "2021-01-06  53.310  54.0700  52.0000  ...  52.8950        54.01     -0.028328\n",
              "2021-01-07  53.370  56.2500  53.2000  ...  54.7500        52.48      0.069550\n",
              "2021-01-08  54.395  54.7900  52.5800  ...  53.8375        56.13     -0.050775\n",
              "2021-01-11  53.110  55.0000  52.9900  ...  53.8500        53.28      0.024587\n",
              "2021-01-12  55.500  59.3900  55.0000  ...  57.0200        54.59      0.072358\n",
              "2021-01-13  58.540  59.8800  57.5300  ...  58.9700        58.54      0.014691\n",
              "2021-01-14  60.000  60.0300  56.7000  ...  58.4550        59.40     -0.041919\n",
              "2021-01-15  57.490  57.9000  55.0000  ...  56.5050        56.91     -0.024425\n",
              "2021-01-19  56.390  56.8424  55.0000  ...  56.3450        55.52      0.014049\n",
              "2021-01-20  57.000  57.9800  55.4700  ...  56.6900        56.30      0.001421\n",
              "2021-01-21  56.570  57.0000  55.3136  ...  56.1800        56.38     -0.010465\n",
              "2021-01-22  55.250  55.4700  54.0100  ...  54.7800        55.79     -0.026528\n",
              "2021-01-25  54.500  54.5200  49.6500  ...  54.3950        54.31     -0.000368\n",
              "2021-01-26  54.620  55.5200  51.5300  ...  53.2700        54.29     -0.043654\n",
              "2021-01-27  49.970  50.8600  47.1500  ...  49.0400        51.92     -0.073382\n",
              "2021-01-28  50.120  52.5200  49.8800  ...  50.8500        48.11      0.072126\n",
              "2021-01-29  50.630  51.4899  49.6350  ...  50.7800        51.58     -0.012602\n",
              "2021-02-01  52.120  52.9000  51.3500  ...  52.4400        50.93      0.035932\n",
              "2021-02-02  55.110  58.0300  54.8900  ...  55.7850        52.76      0.070129\n",
              "2021-02-03  57.870  58.1300  56.7400  ...  57.4950        56.46      0.011690\n",
              "2021-02-04  56.450  57.8500  56.1100  ...  57.1500        57.12      0.012780\n",
              "2021-02-05  58.160  58.7075  57.3700  ...  58.3700        57.85      0.012619\n",
              "2021-02-08  59.700  60.1100  58.6900  ...  59.4950        58.58      0.012120\n",
              "2021-02-09  58.910  61.0600  58.6200  ...  59.2600        59.29      0.005397\n",
              "2021-02-10  62.000  63.5000  60.8000  ...  62.5900        59.61      0.059889\n",
              "2021-02-11  63.250  64.0500  60.3950  ...  61.9800        63.18     -0.039095\n",
              "2021-02-12  60.120  60.9300  59.3150  ...  60.3750        60.71     -0.001318\n",
              "2021-02-16  61.020  61.3100  59.8400  ...  60.7700        60.63     -0.001814\n",
              "2021-02-17  60.330  60.9500  58.9500  ...  60.5700        60.52      0.004792\n",
              "2021-02-18  60.000  60.2900  58.2300  ...  59.5000        60.81     -0.029765\n",
              "2021-02-19  58.360  60.4572  58.1130  ...  58.3750        59.00     -0.010339\n",
              "2021-02-22  57.760  58.1000  54.8157  ...  56.5350        58.39     -0.052749\n",
              "2021-02-23  53.500  56.3700  51.8900  ...  54.7500        55.31      0.012475\n",
              "2021-02-24  54.950  55.1500  53.6600  ...  54.4300        56.00     -0.037321\n",
              "2021-02-25  54.580  54.6000  50.8600  ...  53.0150        53.91     -0.045632\n",
              "2021-02-26  52.070  52.7500  50.6100  ...  51.9100        51.45      0.005831\n",
              "2021-03-01  53.670  54.7600  53.3000  ...  54.0350        51.75      0.051208\n",
              "2021-03-02  55.540  55.6200  54.1894  ...  55.0950        54.40      0.004596\n",
              "2021-03-03  55.930  57.8000  54.6500  ...  56.0200        54.65      0.026715\n",
              "2021-03-04  55.750  57.1600  51.6100  ...  54.4100        56.11     -0.054179\n",
              "2021-03-05  54.280  55.8300  50.8100  ...  54.9100        53.07      0.046542\n",
              "2021-03-08  55.500  56.4500  52.8900  ...  54.3500        55.54     -0.042132\n",
              "2021-03-09  56.000  56.1500  54.7200  ...  55.6250        53.20      0.038534\n",
              "2021-03-10  57.210  58.9000  56.2700  ...  57.4450        55.25      0.043982\n",
              "2021-03-11  58.800  59.4800  58.2200  ...  58.8750        57.68      0.022018\n",
              "2021-03-12  58.970  60.5900  57.6200  ...  59.6600        58.95      0.023749\n",
              "2021-03-15  60.350  60.5300  59.1200  ...  60.2700        60.35     -0.002651\n",
              "2021-03-16  59.990  61.0200  58.3800  ...  59.4200        60.19     -0.022263\n",
              "2021-03-17  57.070  57.5700  55.5400  ...  56.7150        58.85     -0.042311\n",
              "2021-03-18  56.630  57.4800  55.2100  ...  56.1600        56.36     -0.011888\n",
              "2021-03-19  55.480  57.1800  54.3400  ...  56.2800        55.69      0.024960\n",
              "2021-03-22  57.250  57.6100  55.4700  ...  56.4700        57.08     -0.024352\n",
              "2021-03-23  55.630  55.6300  53.1100  ...  54.5600        55.69     -0.039504\n",
              "2021-03-24  54.460  54.9600  52.5400  ...  53.5150        53.49     -0.017199\n",
              "\n",
              "[56 rows x 8 columns]"
            ]
          },
          "metadata": {
            "tags": []
          },
          "execution_count": 298
        }
      ]
    },
    {
      "cell_type": "code",
      "metadata": {
        "colab": {
          "base_uri": "https://localhost:8080/",
          "height": 483
        },
        "id": "U2jSpKC0TrMm",
        "outputId": "26062669-0ba9-4941-bf8f-1f353cecbf2b"
      },
      "source": [
        "df[df.index.day == 1]"
      ],
      "execution_count": null,
      "outputs": [
        {
          "output_type": "execute_result",
          "data": {
            "text/html": [
              "<div>\n",
              "<style scoped>\n",
              "    .dataframe tbody tr th:only-of-type {\n",
              "        vertical-align: middle;\n",
              "    }\n",
              "\n",
              "    .dataframe tbody tr th {\n",
              "        vertical-align: top;\n",
              "    }\n",
              "\n",
              "    .dataframe thead th {\n",
              "        text-align: right;\n",
              "    }\n",
              "</style>\n",
              "<table border=\"1\" class=\"dataframe\">\n",
              "  <thead>\n",
              "    <tr style=\"text-align: right;\">\n",
              "      <th></th>\n",
              "      <th>Open</th>\n",
              "      <th>High</th>\n",
              "      <th>Low</th>\n",
              "      <th>Close</th>\n",
              "      <th>Volume</th>\n",
              "      <th>Average</th>\n",
              "      <th>Close_shift</th>\n",
              "      <th>Daily_Change</th>\n",
              "    </tr>\n",
              "    <tr>\n",
              "      <th>Date</th>\n",
              "      <th></th>\n",
              "      <th></th>\n",
              "      <th></th>\n",
              "      <th></th>\n",
              "      <th></th>\n",
              "      <th></th>\n",
              "      <th></th>\n",
              "      <th></th>\n",
              "    </tr>\n",
              "  </thead>\n",
              "  <tbody>\n",
              "    <tr>\n",
              "      <th>2019-07-01</th>\n",
              "      <td>46.98</td>\n",
              "      <td>47.0400</td>\n",
              "      <td>44.0600</td>\n",
              "      <td>44.27</td>\n",
              "      <td>17739998</td>\n",
              "      <td>45.625</td>\n",
              "      <td>46.38</td>\n",
              "      <td>-0.045494</td>\n",
              "    </tr>\n",
              "    <tr>\n",
              "      <th>2019-08-01</th>\n",
              "      <td>42.14</td>\n",
              "      <td>42.5355</td>\n",
              "      <td>41.0000</td>\n",
              "      <td>41.31</td>\n",
              "      <td>7349740</td>\n",
              "      <td>41.725</td>\n",
              "      <td>42.14</td>\n",
              "      <td>-0.019696</td>\n",
              "    </tr>\n",
              "    <tr>\n",
              "      <th>2019-10-01</th>\n",
              "      <td>30.37</td>\n",
              "      <td>30.5100</td>\n",
              "      <td>28.6500</td>\n",
              "      <td>29.15</td>\n",
              "      <td>13448055</td>\n",
              "      <td>29.760</td>\n",
              "      <td>30.47</td>\n",
              "      <td>-0.043321</td>\n",
              "    </tr>\n",
              "    <tr>\n",
              "      <th>2019-11-01</th>\n",
              "      <td>31.45</td>\n",
              "      <td>31.7000</td>\n",
              "      <td>30.7412</td>\n",
              "      <td>31.37</td>\n",
              "      <td>10460430</td>\n",
              "      <td>31.410</td>\n",
              "      <td>31.50</td>\n",
              "      <td>-0.004127</td>\n",
              "    </tr>\n",
              "    <tr>\n",
              "      <th>2020-04-01</th>\n",
              "      <td>26.50</td>\n",
              "      <td>26.7670</td>\n",
              "      <td>24.8101</td>\n",
              "      <td>25.42</td>\n",
              "      <td>38538381</td>\n",
              "      <td>25.960</td>\n",
              "      <td>27.92</td>\n",
              "      <td>-0.089542</td>\n",
              "    </tr>\n",
              "    <tr>\n",
              "      <th>2020-05-01</th>\n",
              "      <td>29.13</td>\n",
              "      <td>29.7200</td>\n",
              "      <td>28.3250</td>\n",
              "      <td>28.39</td>\n",
              "      <td>19290192</td>\n",
              "      <td>28.760</td>\n",
              "      <td>30.27</td>\n",
              "      <td>-0.062108</td>\n",
              "    </tr>\n",
              "    <tr>\n",
              "      <th>2020-06-01</th>\n",
              "      <td>35.64</td>\n",
              "      <td>36.3900</td>\n",
              "      <td>35.1600</td>\n",
              "      <td>35.82</td>\n",
              "      <td>21893806</td>\n",
              "      <td>35.730</td>\n",
              "      <td>36.32</td>\n",
              "      <td>-0.013767</td>\n",
              "    </tr>\n",
              "    <tr>\n",
              "      <th>2020-07-01</th>\n",
              "      <td>30.96</td>\n",
              "      <td>31.2650</td>\n",
              "      <td>30.1622</td>\n",
              "      <td>30.43</td>\n",
              "      <td>13611544</td>\n",
              "      <td>30.695</td>\n",
              "      <td>31.08</td>\n",
              "      <td>-0.020914</td>\n",
              "    </tr>\n",
              "    <tr>\n",
              "      <th>2020-09-01</th>\n",
              "      <td>33.45</td>\n",
              "      <td>34.5100</td>\n",
              "      <td>33.1450</td>\n",
              "      <td>34.30</td>\n",
              "      <td>16026170</td>\n",
              "      <td>33.875</td>\n",
              "      <td>33.63</td>\n",
              "      <td>0.019923</td>\n",
              "    </tr>\n",
              "    <tr>\n",
              "      <th>2020-10-01</th>\n",
              "      <td>36.86</td>\n",
              "      <td>37.8282</td>\n",
              "      <td>36.5800</td>\n",
              "      <td>37.14</td>\n",
              "      <td>19187502</td>\n",
              "      <td>37.000</td>\n",
              "      <td>36.48</td>\n",
              "      <td>0.018092</td>\n",
              "    </tr>\n",
              "    <tr>\n",
              "      <th>2020-12-01</th>\n",
              "      <td>50.00</td>\n",
              "      <td>51.4100</td>\n",
              "      <td>49.0700</td>\n",
              "      <td>49.63</td>\n",
              "      <td>20619101</td>\n",
              "      <td>49.815</td>\n",
              "      <td>49.66</td>\n",
              "      <td>-0.000604</td>\n",
              "    </tr>\n",
              "    <tr>\n",
              "      <th>2021-02-01</th>\n",
              "      <td>52.12</td>\n",
              "      <td>52.9000</td>\n",
              "      <td>51.3500</td>\n",
              "      <td>52.76</td>\n",
              "      <td>15570904</td>\n",
              "      <td>52.440</td>\n",
              "      <td>50.93</td>\n",
              "      <td>0.035932</td>\n",
              "    </tr>\n",
              "    <tr>\n",
              "      <th>2021-03-01</th>\n",
              "      <td>53.67</td>\n",
              "      <td>54.7600</td>\n",
              "      <td>53.3000</td>\n",
              "      <td>54.40</td>\n",
              "      <td>18481137</td>\n",
              "      <td>54.035</td>\n",
              "      <td>51.75</td>\n",
              "      <td>0.051208</td>\n",
              "    </tr>\n",
              "  </tbody>\n",
              "</table>\n",
              "</div>"
            ],
            "text/plain": [
              "             Open     High      Low  ...  Average  Close_shift  Daily_Change\n",
              "Date                                 ...                                    \n",
              "2019-07-01  46.98  47.0400  44.0600  ...   45.625        46.38     -0.045494\n",
              "2019-08-01  42.14  42.5355  41.0000  ...   41.725        42.14     -0.019696\n",
              "2019-10-01  30.37  30.5100  28.6500  ...   29.760        30.47     -0.043321\n",
              "2019-11-01  31.45  31.7000  30.7412  ...   31.410        31.50     -0.004127\n",
              "2020-04-01  26.50  26.7670  24.8101  ...   25.960        27.92     -0.089542\n",
              "2020-05-01  29.13  29.7200  28.3250  ...   28.760        30.27     -0.062108\n",
              "2020-06-01  35.64  36.3900  35.1600  ...   35.730        36.32     -0.013767\n",
              "2020-07-01  30.96  31.2650  30.1622  ...   30.695        31.08     -0.020914\n",
              "2020-09-01  33.45  34.5100  33.1450  ...   33.875        33.63      0.019923\n",
              "2020-10-01  36.86  37.8282  36.5800  ...   37.000        36.48      0.018092\n",
              "2020-12-01  50.00  51.4100  49.0700  ...   49.815        49.66     -0.000604\n",
              "2021-02-01  52.12  52.9000  51.3500  ...   52.440        50.93      0.035932\n",
              "2021-03-01  53.67  54.7600  53.3000  ...   54.035        51.75      0.051208\n",
              "\n",
              "[13 rows x 8 columns]"
            ]
          },
          "metadata": {
            "tags": []
          },
          "execution_count": 299
        }
      ]
    },
    {
      "cell_type": "markdown",
      "metadata": {
        "id": "grluBKpxWlaf"
      },
      "source": [
        "Part. 1\n",
        "\n"
      ]
    }
  ]
}