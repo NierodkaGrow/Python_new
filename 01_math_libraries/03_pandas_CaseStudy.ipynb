{
  "nbformat": 4,
  "nbformat_minor": 0,
  "metadata": {
    "colab": {
      "name": "03_pandas_CaseStudy.ipynb",
      "provenance": [],
      "collapsed_sections": [],
      "authorship_tag": "ABX9TyM5D/wVbfAv+dB9i8/XQl/G",
      "include_colab_link": true
    },
    "kernelspec": {
      "display_name": "Python 3",
      "name": "python3"
    },
    "language_info": {
      "name": "python"
    }
  },
  "cells": [
    {
      "cell_type": "markdown",
      "metadata": {
        "id": "view-in-github",
        "colab_type": "text"
      },
      "source": [
        "<a href=\"https://colab.research.google.com/github/NierodkaGrow/Python_new/blob/main/01_math_libraries/03_pandas_CaseStudy.ipynb\" target=\"_parent\"><img src=\"https://colab.research.google.com/assets/colab-badge.svg\" alt=\"Open In Colab\"/></a>"
      ]
    },
    {
      "cell_type": "markdown",
      "metadata": {
        "id": "WyAy8RQ890KX"
      },
      "source": [
        "Instalacja biblioteki pandas\n",
        "pip install pandas"
      ]
    },
    {
      "cell_type": "markdown",
      "metadata": {
        "id": "Zgz6CMHxIJwE"
      },
      "source": [
        ""
      ]
    },
    {
      "cell_type": "markdown",
      "metadata": {
        "id": "mpOQTtOj-DaK"
      },
      "source": [
        "### 1. Import biblioteki pandas"
      ]
    },
    {
      "cell_type": "code",
      "metadata": {
        "colab": {
          "base_uri": "https://localhost:8080/",
          "height": 35
        },
        "id": "7Nn6Y83p7oxi",
        "outputId": "14ffc272-90b8-4f2b-e0fa-1f2705a9323c"
      },
      "source": [
        "import pandas as pd\n",
        "pd.__version__"
      ],
      "execution_count": null,
      "outputs": [
        {
          "output_type": "execute_result",
          "data": {
            "application/vnd.google.colaboratory.intrinsic+json": {
              "type": "string"
            },
            "text/plain": [
              "'1.1.5'"
            ]
          },
          "metadata": {
            "tags": []
          },
          "execution_count": 5
        }
      ]
    },
    {
      "cell_type": "markdown",
      "metadata": {
        "id": "yocNu4k4-UrC"
      },
      "source": [
        "### 2. Załadowanie danych - DWA SPOSOBY"
      ]
    },
    {
      "cell_type": "markdown",
      "metadata": {
        "id": "xRVOn3HuIlso"
      },
      "source": [
        "1. SPOSÓB = ładownie danych z pliku Tak robiliśmy wcześniej\n",
        "df = pd.read_csv('appstore_games.csv')\n",
        "df"
      ]
    },
    {
      "cell_type": "markdown",
      "metadata": {
        "id": "TjIqQ8YBffzt"
      },
      "source": [
        "2. SPOSÓB - ładowanie danych ze strony internetowej TEŻ WŁAŚCIWY SPOSÓB DLA TEJ LEKCJI url = 'http..//TU WSTAWIASZ ADRES STRONY' df_raw = pd.read_csv(url) df_raw.head()"
      ]
    },
    {
      "cell_type": "markdown",
      "metadata": {
        "id": "WU544nxwILlB"
      },
      "source": [
        "AD. 1 SPOSÓB - ŁADOWANIE DANYCH Z PLIKU TEGO BĘDĘ UŻYWAŁ - odpowiada powyższemu ze strony"
      ]
    },
    {
      "cell_type": "code",
      "metadata": {
        "id": "9GObMc87A-Be",
        "colab": {
          "base_uri": "https://localhost:8080/",
          "height": 1000
        },
        "outputId": "68874382-a51a-4e77-f85f-e0036442ca4f"
      },
      "source": [
        "df = pd.read_csv('appstore_games.csv')\n",
        "df"
      ],
      "execution_count": null,
      "outputs": [
        {
          "output_type": "execute_result",
          "data": {
            "text/html": [
              "<div>\n",
              "<style scoped>\n",
              "    .dataframe tbody tr th:only-of-type {\n",
              "        vertical-align: middle;\n",
              "    }\n",
              "\n",
              "    .dataframe tbody tr th {\n",
              "        vertical-align: top;\n",
              "    }\n",
              "\n",
              "    .dataframe thead th {\n",
              "        text-align: right;\n",
              "    }\n",
              "</style>\n",
              "<table border=\"1\" class=\"dataframe\">\n",
              "  <thead>\n",
              "    <tr style=\"text-align: right;\">\n",
              "      <th></th>\n",
              "      <th>URL</th>\n",
              "      <th>ID</th>\n",
              "      <th>Name</th>\n",
              "      <th>Subtitle</th>\n",
              "      <th>Icon URL</th>\n",
              "      <th>Average User Rating</th>\n",
              "      <th>User Rating Count</th>\n",
              "      <th>Price</th>\n",
              "      <th>In-app Purchases</th>\n",
              "      <th>Description</th>\n",
              "      <th>Developer</th>\n",
              "      <th>Age Rating</th>\n",
              "      <th>Languages</th>\n",
              "      <th>Size</th>\n",
              "      <th>Primary Genre</th>\n",
              "      <th>Genres</th>\n",
              "      <th>Original Release Date</th>\n",
              "      <th>Current Version Release Date</th>\n",
              "    </tr>\n",
              "  </thead>\n",
              "  <tbody>\n",
              "    <tr>\n",
              "      <th>0</th>\n",
              "      <td>https://apps.apple.com/us/app/sudoku/id284921427</td>\n",
              "      <td>284921427.0</td>\n",
              "      <td>Sudoku</td>\n",
              "      <td>NaN</td>\n",
              "      <td>https://is2-ssl.mzstatic.com/image/thumb/Purpl...</td>\n",
              "      <td>4.0</td>\n",
              "      <td>3553.0</td>\n",
              "      <td>2.99</td>\n",
              "      <td>NaN</td>\n",
              "      <td>Join over 21,000,000 of our fans and download ...</td>\n",
              "      <td>Mighty Mighty Good Games</td>\n",
              "      <td>4+</td>\n",
              "      <td>DA, NL, EN, FI, FR, DE, IT, JA, KO, NB, PL, PT...</td>\n",
              "      <td>15853568.0</td>\n",
              "      <td>Games</td>\n",
              "      <td>Games, Strategy, Puzzle</td>\n",
              "      <td>11/07/2008</td>\n",
              "      <td>30/05/2017</td>\n",
              "    </tr>\n",
              "    <tr>\n",
              "      <th>1</th>\n",
              "      <td>https://apps.apple.com/us/app/reversi/id284926400</td>\n",
              "      <td>284926400.0</td>\n",
              "      <td>Reversi</td>\n",
              "      <td>NaN</td>\n",
              "      <td>https://is4-ssl.mzstatic.com/image/thumb/Purpl...</td>\n",
              "      <td>3.5</td>\n",
              "      <td>284.0</td>\n",
              "      <td>1.99</td>\n",
              "      <td>NaN</td>\n",
              "      <td>The classic game of Reversi, also known as Oth...</td>\n",
              "      <td>Kiss The Machine</td>\n",
              "      <td>4+</td>\n",
              "      <td>EN</td>\n",
              "      <td>12328960.0</td>\n",
              "      <td>Games</td>\n",
              "      <td>Games, Strategy, Board</td>\n",
              "      <td>11/07/2008</td>\n",
              "      <td>17/05/2018</td>\n",
              "    </tr>\n",
              "    <tr>\n",
              "      <th>2</th>\n",
              "      <td>https://apps.apple.com/us/app/morocco/id284946595</td>\n",
              "      <td>284946595.0</td>\n",
              "      <td>Morocco</td>\n",
              "      <td>NaN</td>\n",
              "      <td>https://is5-ssl.mzstatic.com/image/thumb/Purpl...</td>\n",
              "      <td>3.0</td>\n",
              "      <td>8376.0</td>\n",
              "      <td>0.00</td>\n",
              "      <td>NaN</td>\n",
              "      <td>Play the classic strategy game Othello (also k...</td>\n",
              "      <td>Bayou Games</td>\n",
              "      <td>4+</td>\n",
              "      <td>EN</td>\n",
              "      <td>674816.0</td>\n",
              "      <td>Games</td>\n",
              "      <td>Games, Board, Strategy</td>\n",
              "      <td>11/07/2008</td>\n",
              "      <td>5/09/2017</td>\n",
              "    </tr>\n",
              "    <tr>\n",
              "      <th>3</th>\n",
              "      <td>https://apps.apple.com/us/app/sudoku-free/id28...</td>\n",
              "      <td>285755462.0</td>\n",
              "      <td>Sudoku (Free)</td>\n",
              "      <td>NaN</td>\n",
              "      <td>https://is3-ssl.mzstatic.com/image/thumb/Purpl...</td>\n",
              "      <td>3.5</td>\n",
              "      <td>190394.0</td>\n",
              "      <td>0.00</td>\n",
              "      <td>NaN</td>\n",
              "      <td>Top 100 free app for over a year.\\nRated \"Best...</td>\n",
              "      <td>Mighty Mighty Good Games</td>\n",
              "      <td>4+</td>\n",
              "      <td>DA, NL, EN, FI, FR, DE, IT, JA, KO, NB, PL, PT...</td>\n",
              "      <td>21552128.0</td>\n",
              "      <td>Games</td>\n",
              "      <td>Games, Strategy, Puzzle</td>\n",
              "      <td>23/07/2008</td>\n",
              "      <td>30/05/2017</td>\n",
              "    </tr>\n",
              "    <tr>\n",
              "      <th>4</th>\n",
              "      <td>https://apps.apple.com/us/app/senet-deluxe/id2...</td>\n",
              "      <td>285831220.0</td>\n",
              "      <td>Senet Deluxe</td>\n",
              "      <td>NaN</td>\n",
              "      <td>https://is1-ssl.mzstatic.com/image/thumb/Purpl...</td>\n",
              "      <td>3.5</td>\n",
              "      <td>28.0</td>\n",
              "      <td>2.99</td>\n",
              "      <td>NaN</td>\n",
              "      <td>\"Senet Deluxe - The Ancient Game of Life and A...</td>\n",
              "      <td>RoGame Software</td>\n",
              "      <td>4+</td>\n",
              "      <td>DA, NL, EN, FR, DE, EL, IT, JA, KO, NO, PT, RU...</td>\n",
              "      <td>34689024.0</td>\n",
              "      <td>Games</td>\n",
              "      <td>Games, Strategy, Board, Education</td>\n",
              "      <td>18/07/2008</td>\n",
              "      <td>22/07/2018</td>\n",
              "    </tr>\n",
              "    <tr>\n",
              "      <th>...</th>\n",
              "      <td>...</td>\n",
              "      <td>...</td>\n",
              "      <td>...</td>\n",
              "      <td>...</td>\n",
              "      <td>...</td>\n",
              "      <td>...</td>\n",
              "      <td>...</td>\n",
              "      <td>...</td>\n",
              "      <td>...</td>\n",
              "      <td>...</td>\n",
              "      <td>...</td>\n",
              "      <td>...</td>\n",
              "      <td>...</td>\n",
              "      <td>...</td>\n",
              "      <td>...</td>\n",
              "      <td>...</td>\n",
              "      <td>...</td>\n",
              "      <td>...</td>\n",
              "    </tr>\n",
              "    <tr>\n",
              "      <th>3192</th>\n",
              "      <td>https://apps.apple.com/us/app/bubble-match-man...</td>\n",
              "      <td>798515299.0</td>\n",
              "      <td>Bubble Match Mania Blaze</td>\n",
              "      <td>NaN</td>\n",
              "      <td>https://is2-ssl.mzstatic.com/image/thumb/Purpl...</td>\n",
              "      <td>4.0</td>\n",
              "      <td>30.0</td>\n",
              "      <td>0.00</td>\n",
              "      <td>2.99</td>\n",
              "      <td>Bubble Match Mania Blaze is the latest smash h...</td>\n",
              "      <td>NetSummit Enterprises, Inc.</td>\n",
              "      <td>4+</td>\n",
              "      <td>EN</td>\n",
              "      <td>37515264.0</td>\n",
              "      <td>Games</td>\n",
              "      <td>Games, Strategy, Puzzle</td>\n",
              "      <td>25/01/2014</td>\n",
              "      <td>25/01/2014</td>\n",
              "    </tr>\n",
              "    <tr>\n",
              "      <th>3193</th>\n",
              "      <td>https://apps.apple.com/us/app/ships-rockets-fr...</td>\n",
              "      <td>799266767.0</td>\n",
              "      <td>Ships and Rockets Free - Retro Pixel Art TD Ar...</td>\n",
              "      <td>NaN</td>\n",
              "      <td>https://is2-ssl.mzstatic.com/image/thumb/Purpl...</td>\n",
              "      <td>4.5</td>\n",
              "      <td>23.0</td>\n",
              "      <td>0.00</td>\n",
              "      <td>4.99, 0.99, 0.99, 0.99, 4.99, 2.99</td>\n",
              "      <td>\"*** Whether you're looking to relive the past...</td>\n",
              "      <td>Zaur Izzatdust</td>\n",
              "      <td>4+</td>\n",
              "      <td>EN</td>\n",
              "      <td>19562496.0</td>\n",
              "      <td>Games</td>\n",
              "      <td>Games, Casual, Strategy</td>\n",
              "      <td>6/02/2014</td>\n",
              "      <td>26/02/2014</td>\n",
              "    </tr>\n",
              "    <tr>\n",
              "      <th>3194</th>\n",
              "      <td>https://apps.apple.com/us/app/my-kingdom-for-t...</td>\n",
              "      <td>799455799.0</td>\n",
              "      <td>My Kingdom for the Princess IV HD</td>\n",
              "      <td>NaN</td>\n",
              "      <td>https://is2-ssl.mzstatic.com/image/thumb/Purpl...</td>\n",
              "      <td>2.5</td>\n",
              "      <td>140.0</td>\n",
              "      <td>4.99</td>\n",
              "      <td>0.99</td>\n",
              "      <td>My Kingdom for the Princess IV is the long awa...</td>\n",
              "      <td>Nevosoft LLC</td>\n",
              "      <td>4+</td>\n",
              "      <td>EN, RU</td>\n",
              "      <td>417460224.0</td>\n",
              "      <td>Games</td>\n",
              "      <td>Games, Simulation, Strategy</td>\n",
              "      <td>18/09/2014</td>\n",
              "      <td>1/07/2015</td>\n",
              "    </tr>\n",
              "    <tr>\n",
              "      <th>3195</th>\n",
              "      <td>https://apps.apple.com/us/app/out-there-%CF%89...</td>\n",
              "      <td>799471892.0</td>\n",
              "      <td>Out There: \\u03a9 Edition</td>\n",
              "      <td>NaN</td>\n",
              "      <td>https://is4-ssl.mzstatic.com/image/thumb/Purpl...</td>\n",
              "      <td>4.5</td>\n",
              "      <td>2049.0</td>\n",
              "      <td>3.99</td>\n",
              "      <td>NaN</td>\n",
              "      <td>\"5/5 - TouchArcade\\n5/5 - PocketTactics\\n9/10 ...</td>\n",
              "      <td>Mi-Clos Studio</td>\n",
              "      <td>4+</td>\n",
              "      <td>EN, FR, DE, PT, RU, ZH, ES</td>\n",
              "      <td>164665344.0</td>\n",
              "      <td>Games</td>\n",
              "      <td>Games, Strategy, Role Playing</td>\n",
              "      <td>27/02/2014</td>\n",
              "      <td>20/02/2017</td>\n",
              "    </tr>\n",
              "    <tr>\n",
              "      <th>3196</th>\n",
              "      <td>https://apps.apple.com/us/app/my-k</td>\n",
              "      <td>NaN</td>\n",
              "      <td>NaN</td>\n",
              "      <td>NaN</td>\n",
              "      <td>NaN</td>\n",
              "      <td>NaN</td>\n",
              "      <td>NaN</td>\n",
              "      <td>NaN</td>\n",
              "      <td>NaN</td>\n",
              "      <td>NaN</td>\n",
              "      <td>NaN</td>\n",
              "      <td>NaN</td>\n",
              "      <td>NaN</td>\n",
              "      <td>NaN</td>\n",
              "      <td>NaN</td>\n",
              "      <td>NaN</td>\n",
              "      <td>NaN</td>\n",
              "      <td>NaN</td>\n",
              "    </tr>\n",
              "  </tbody>\n",
              "</table>\n",
              "<p>3197 rows × 18 columns</p>\n",
              "</div>"
            ],
            "text/plain": [
              "                                                    URL  ...  Current Version Release Date\n",
              "0      https://apps.apple.com/us/app/sudoku/id284921427  ...                    30/05/2017\n",
              "1     https://apps.apple.com/us/app/reversi/id284926400  ...                    17/05/2018\n",
              "2     https://apps.apple.com/us/app/morocco/id284946595  ...                     5/09/2017\n",
              "3     https://apps.apple.com/us/app/sudoku-free/id28...  ...                    30/05/2017\n",
              "4     https://apps.apple.com/us/app/senet-deluxe/id2...  ...                    22/07/2018\n",
              "...                                                 ...  ...                           ...\n",
              "3192  https://apps.apple.com/us/app/bubble-match-man...  ...                    25/01/2014\n",
              "3193  https://apps.apple.com/us/app/ships-rockets-fr...  ...                    26/02/2014\n",
              "3194  https://apps.apple.com/us/app/my-kingdom-for-t...  ...                     1/07/2015\n",
              "3195  https://apps.apple.com/us/app/out-there-%CF%89...  ...                    20/02/2017\n",
              "3196                 https://apps.apple.com/us/app/my-k  ...                           NaN\n",
              "\n",
              "[3197 rows x 18 columns]"
            ]
          },
          "metadata": {
            "tags": []
          },
          "execution_count": 6
        }
      ]
    },
    {
      "cell_type": "code",
      "metadata": {
        "id": "KunzMw46lTY9",
        "colab": {
          "base_uri": "https://localhost:8080/",
          "height": 1000
        },
        "outputId": "9ebd9f14-7ff0-4f75-8482-8483c3463fb4"
      },
      "source": [
        "df = pd.read_csv('appstore_games.csv')\n",
        "df"
      ],
      "execution_count": null,
      "outputs": [
        {
          "output_type": "execute_result",
          "data": {
            "text/html": [
              "<div>\n",
              "<style scoped>\n",
              "    .dataframe tbody tr th:only-of-type {\n",
              "        vertical-align: middle;\n",
              "    }\n",
              "\n",
              "    .dataframe tbody tr th {\n",
              "        vertical-align: top;\n",
              "    }\n",
              "\n",
              "    .dataframe thead th {\n",
              "        text-align: right;\n",
              "    }\n",
              "</style>\n",
              "<table border=\"1\" class=\"dataframe\">\n",
              "  <thead>\n",
              "    <tr style=\"text-align: right;\">\n",
              "      <th></th>\n",
              "      <th>URL</th>\n",
              "      <th>ID</th>\n",
              "      <th>Name</th>\n",
              "      <th>Subtitle</th>\n",
              "      <th>Icon URL</th>\n",
              "      <th>Average User Rating</th>\n",
              "      <th>User Rating Count</th>\n",
              "      <th>Price</th>\n",
              "      <th>In-app Purchases</th>\n",
              "      <th>Description</th>\n",
              "      <th>Developer</th>\n",
              "      <th>Age Rating</th>\n",
              "      <th>Languages</th>\n",
              "      <th>Size</th>\n",
              "      <th>Primary Genre</th>\n",
              "      <th>Genres</th>\n",
              "      <th>Original Release Date</th>\n",
              "      <th>Current Version Release Date</th>\n",
              "    </tr>\n",
              "  </thead>\n",
              "  <tbody>\n",
              "    <tr>\n",
              "      <th>0</th>\n",
              "      <td>https://apps.apple.com/us/app/sudoku/id284921427</td>\n",
              "      <td>284921427.0</td>\n",
              "      <td>Sudoku</td>\n",
              "      <td>NaN</td>\n",
              "      <td>https://is2-ssl.mzstatic.com/image/thumb/Purpl...</td>\n",
              "      <td>4.0</td>\n",
              "      <td>3553.0</td>\n",
              "      <td>2.99</td>\n",
              "      <td>NaN</td>\n",
              "      <td>Join over 21,000,000 of our fans and download ...</td>\n",
              "      <td>Mighty Mighty Good Games</td>\n",
              "      <td>4+</td>\n",
              "      <td>DA, NL, EN, FI, FR, DE, IT, JA, KO, NB, PL, PT...</td>\n",
              "      <td>15853568.0</td>\n",
              "      <td>Games</td>\n",
              "      <td>Games, Strategy, Puzzle</td>\n",
              "      <td>11/07/2008</td>\n",
              "      <td>30/05/2017</td>\n",
              "    </tr>\n",
              "    <tr>\n",
              "      <th>1</th>\n",
              "      <td>https://apps.apple.com/us/app/reversi/id284926400</td>\n",
              "      <td>284926400.0</td>\n",
              "      <td>Reversi</td>\n",
              "      <td>NaN</td>\n",
              "      <td>https://is4-ssl.mzstatic.com/image/thumb/Purpl...</td>\n",
              "      <td>3.5</td>\n",
              "      <td>284.0</td>\n",
              "      <td>1.99</td>\n",
              "      <td>NaN</td>\n",
              "      <td>The classic game of Reversi, also known as Oth...</td>\n",
              "      <td>Kiss The Machine</td>\n",
              "      <td>4+</td>\n",
              "      <td>EN</td>\n",
              "      <td>12328960.0</td>\n",
              "      <td>Games</td>\n",
              "      <td>Games, Strategy, Board</td>\n",
              "      <td>11/07/2008</td>\n",
              "      <td>17/05/2018</td>\n",
              "    </tr>\n",
              "    <tr>\n",
              "      <th>2</th>\n",
              "      <td>https://apps.apple.com/us/app/morocco/id284946595</td>\n",
              "      <td>284946595.0</td>\n",
              "      <td>Morocco</td>\n",
              "      <td>NaN</td>\n",
              "      <td>https://is5-ssl.mzstatic.com/image/thumb/Purpl...</td>\n",
              "      <td>3.0</td>\n",
              "      <td>8376.0</td>\n",
              "      <td>0.00</td>\n",
              "      <td>NaN</td>\n",
              "      <td>Play the classic strategy game Othello (also k...</td>\n",
              "      <td>Bayou Games</td>\n",
              "      <td>4+</td>\n",
              "      <td>EN</td>\n",
              "      <td>674816.0</td>\n",
              "      <td>Games</td>\n",
              "      <td>Games, Board, Strategy</td>\n",
              "      <td>11/07/2008</td>\n",
              "      <td>5/09/2017</td>\n",
              "    </tr>\n",
              "    <tr>\n",
              "      <th>3</th>\n",
              "      <td>https://apps.apple.com/us/app/sudoku-free/id28...</td>\n",
              "      <td>285755462.0</td>\n",
              "      <td>Sudoku (Free)</td>\n",
              "      <td>NaN</td>\n",
              "      <td>https://is3-ssl.mzstatic.com/image/thumb/Purpl...</td>\n",
              "      <td>3.5</td>\n",
              "      <td>190394.0</td>\n",
              "      <td>0.00</td>\n",
              "      <td>NaN</td>\n",
              "      <td>Top 100 free app for over a year.\\nRated \"Best...</td>\n",
              "      <td>Mighty Mighty Good Games</td>\n",
              "      <td>4+</td>\n",
              "      <td>DA, NL, EN, FI, FR, DE, IT, JA, KO, NB, PL, PT...</td>\n",
              "      <td>21552128.0</td>\n",
              "      <td>Games</td>\n",
              "      <td>Games, Strategy, Puzzle</td>\n",
              "      <td>23/07/2008</td>\n",
              "      <td>30/05/2017</td>\n",
              "    </tr>\n",
              "    <tr>\n",
              "      <th>4</th>\n",
              "      <td>https://apps.apple.com/us/app/senet-deluxe/id2...</td>\n",
              "      <td>285831220.0</td>\n",
              "      <td>Senet Deluxe</td>\n",
              "      <td>NaN</td>\n",
              "      <td>https://is1-ssl.mzstatic.com/image/thumb/Purpl...</td>\n",
              "      <td>3.5</td>\n",
              "      <td>28.0</td>\n",
              "      <td>2.99</td>\n",
              "      <td>NaN</td>\n",
              "      <td>\"Senet Deluxe - The Ancient Game of Life and A...</td>\n",
              "      <td>RoGame Software</td>\n",
              "      <td>4+</td>\n",
              "      <td>DA, NL, EN, FR, DE, EL, IT, JA, KO, NO, PT, RU...</td>\n",
              "      <td>34689024.0</td>\n",
              "      <td>Games</td>\n",
              "      <td>Games, Strategy, Board, Education</td>\n",
              "      <td>18/07/2008</td>\n",
              "      <td>22/07/2018</td>\n",
              "    </tr>\n",
              "    <tr>\n",
              "      <th>...</th>\n",
              "      <td>...</td>\n",
              "      <td>...</td>\n",
              "      <td>...</td>\n",
              "      <td>...</td>\n",
              "      <td>...</td>\n",
              "      <td>...</td>\n",
              "      <td>...</td>\n",
              "      <td>...</td>\n",
              "      <td>...</td>\n",
              "      <td>...</td>\n",
              "      <td>...</td>\n",
              "      <td>...</td>\n",
              "      <td>...</td>\n",
              "      <td>...</td>\n",
              "      <td>...</td>\n",
              "      <td>...</td>\n",
              "      <td>...</td>\n",
              "      <td>...</td>\n",
              "    </tr>\n",
              "    <tr>\n",
              "      <th>3192</th>\n",
              "      <td>https://apps.apple.com/us/app/bubble-match-man...</td>\n",
              "      <td>798515299.0</td>\n",
              "      <td>Bubble Match Mania Blaze</td>\n",
              "      <td>NaN</td>\n",
              "      <td>https://is2-ssl.mzstatic.com/image/thumb/Purpl...</td>\n",
              "      <td>4.0</td>\n",
              "      <td>30.0</td>\n",
              "      <td>0.00</td>\n",
              "      <td>2.99</td>\n",
              "      <td>Bubble Match Mania Blaze is the latest smash h...</td>\n",
              "      <td>NetSummit Enterprises, Inc.</td>\n",
              "      <td>4+</td>\n",
              "      <td>EN</td>\n",
              "      <td>37515264.0</td>\n",
              "      <td>Games</td>\n",
              "      <td>Games, Strategy, Puzzle</td>\n",
              "      <td>25/01/2014</td>\n",
              "      <td>25/01/2014</td>\n",
              "    </tr>\n",
              "    <tr>\n",
              "      <th>3193</th>\n",
              "      <td>https://apps.apple.com/us/app/ships-rockets-fr...</td>\n",
              "      <td>799266767.0</td>\n",
              "      <td>Ships and Rockets Free - Retro Pixel Art TD Ar...</td>\n",
              "      <td>NaN</td>\n",
              "      <td>https://is2-ssl.mzstatic.com/image/thumb/Purpl...</td>\n",
              "      <td>4.5</td>\n",
              "      <td>23.0</td>\n",
              "      <td>0.00</td>\n",
              "      <td>4.99, 0.99, 0.99, 0.99, 4.99, 2.99</td>\n",
              "      <td>\"*** Whether you're looking to relive the past...</td>\n",
              "      <td>Zaur Izzatdust</td>\n",
              "      <td>4+</td>\n",
              "      <td>EN</td>\n",
              "      <td>19562496.0</td>\n",
              "      <td>Games</td>\n",
              "      <td>Games, Casual, Strategy</td>\n",
              "      <td>6/02/2014</td>\n",
              "      <td>26/02/2014</td>\n",
              "    </tr>\n",
              "    <tr>\n",
              "      <th>3194</th>\n",
              "      <td>https://apps.apple.com/us/app/my-kingdom-for-t...</td>\n",
              "      <td>799455799.0</td>\n",
              "      <td>My Kingdom for the Princess IV HD</td>\n",
              "      <td>NaN</td>\n",
              "      <td>https://is2-ssl.mzstatic.com/image/thumb/Purpl...</td>\n",
              "      <td>2.5</td>\n",
              "      <td>140.0</td>\n",
              "      <td>4.99</td>\n",
              "      <td>0.99</td>\n",
              "      <td>My Kingdom for the Princess IV is the long awa...</td>\n",
              "      <td>Nevosoft LLC</td>\n",
              "      <td>4+</td>\n",
              "      <td>EN, RU</td>\n",
              "      <td>417460224.0</td>\n",
              "      <td>Games</td>\n",
              "      <td>Games, Simulation, Strategy</td>\n",
              "      <td>18/09/2014</td>\n",
              "      <td>1/07/2015</td>\n",
              "    </tr>\n",
              "    <tr>\n",
              "      <th>3195</th>\n",
              "      <td>https://apps.apple.com/us/app/out-there-%CF%89...</td>\n",
              "      <td>799471892.0</td>\n",
              "      <td>Out There: \\u03a9 Edition</td>\n",
              "      <td>NaN</td>\n",
              "      <td>https://is4-ssl.mzstatic.com/image/thumb/Purpl...</td>\n",
              "      <td>4.5</td>\n",
              "      <td>2049.0</td>\n",
              "      <td>3.99</td>\n",
              "      <td>NaN</td>\n",
              "      <td>\"5/5 - TouchArcade\\n5/5 - PocketTactics\\n9/10 ...</td>\n",
              "      <td>Mi-Clos Studio</td>\n",
              "      <td>4+</td>\n",
              "      <td>EN, FR, DE, PT, RU, ZH, ES</td>\n",
              "      <td>164665344.0</td>\n",
              "      <td>Games</td>\n",
              "      <td>Games, Strategy, Role Playing</td>\n",
              "      <td>27/02/2014</td>\n",
              "      <td>20/02/2017</td>\n",
              "    </tr>\n",
              "    <tr>\n",
              "      <th>3196</th>\n",
              "      <td>https://apps.apple.com/us/app/my-k</td>\n",
              "      <td>NaN</td>\n",
              "      <td>NaN</td>\n",
              "      <td>NaN</td>\n",
              "      <td>NaN</td>\n",
              "      <td>NaN</td>\n",
              "      <td>NaN</td>\n",
              "      <td>NaN</td>\n",
              "      <td>NaN</td>\n",
              "      <td>NaN</td>\n",
              "      <td>NaN</td>\n",
              "      <td>NaN</td>\n",
              "      <td>NaN</td>\n",
              "      <td>NaN</td>\n",
              "      <td>NaN</td>\n",
              "      <td>NaN</td>\n",
              "      <td>NaN</td>\n",
              "      <td>NaN</td>\n",
              "    </tr>\n",
              "  </tbody>\n",
              "</table>\n",
              "<p>3197 rows × 18 columns</p>\n",
              "</div>"
            ],
            "text/plain": [
              "                                                    URL  ...  Current Version Release Date\n",
              "0      https://apps.apple.com/us/app/sudoku/id284921427  ...                    30/05/2017\n",
              "1     https://apps.apple.com/us/app/reversi/id284926400  ...                    17/05/2018\n",
              "2     https://apps.apple.com/us/app/morocco/id284946595  ...                     5/09/2017\n",
              "3     https://apps.apple.com/us/app/sudoku-free/id28...  ...                    30/05/2017\n",
              "4     https://apps.apple.com/us/app/senet-deluxe/id2...  ...                    22/07/2018\n",
              "...                                                 ...  ...                           ...\n",
              "3192  https://apps.apple.com/us/app/bubble-match-man...  ...                    25/01/2014\n",
              "3193  https://apps.apple.com/us/app/ships-rockets-fr...  ...                    26/02/2014\n",
              "3194  https://apps.apple.com/us/app/my-kingdom-for-t...  ...                     1/07/2015\n",
              "3195  https://apps.apple.com/us/app/out-there-%CF%89...  ...                    20/02/2017\n",
              "3196                 https://apps.apple.com/us/app/my-k  ...                           NaN\n",
              "\n",
              "[3197 rows x 18 columns]"
            ]
          },
          "metadata": {
            "tags": []
          },
          "execution_count": 7
        }
      ]
    },
    {
      "cell_type": "code",
      "metadata": {
        "id": "eyrlwgXfxB5Z",
        "colab": {
          "base_uri": "https://localhost:8080/",
          "height": 666
        },
        "outputId": "f96a423c-2630-408a-e452-fb8962946bf2"
      },
      "source": [
        "df_raw = pd.read_csv('appstore_games.csv')\n",
        "df_raw.head()"
      ],
      "execution_count": null,
      "outputs": [
        {
          "output_type": "execute_result",
          "data": {
            "text/html": [
              "<div>\n",
              "<style scoped>\n",
              "    .dataframe tbody tr th:only-of-type {\n",
              "        vertical-align: middle;\n",
              "    }\n",
              "\n",
              "    .dataframe tbody tr th {\n",
              "        vertical-align: top;\n",
              "    }\n",
              "\n",
              "    .dataframe thead th {\n",
              "        text-align: right;\n",
              "    }\n",
              "</style>\n",
              "<table border=\"1\" class=\"dataframe\">\n",
              "  <thead>\n",
              "    <tr style=\"text-align: right;\">\n",
              "      <th></th>\n",
              "      <th>URL</th>\n",
              "      <th>ID</th>\n",
              "      <th>Name</th>\n",
              "      <th>Subtitle</th>\n",
              "      <th>Icon URL</th>\n",
              "      <th>Average User Rating</th>\n",
              "      <th>User Rating Count</th>\n",
              "      <th>Price</th>\n",
              "      <th>In-app Purchases</th>\n",
              "      <th>Description</th>\n",
              "      <th>Developer</th>\n",
              "      <th>Age Rating</th>\n",
              "      <th>Languages</th>\n",
              "      <th>Size</th>\n",
              "      <th>Primary Genre</th>\n",
              "      <th>Genres</th>\n",
              "      <th>Original Release Date</th>\n",
              "      <th>Current Version Release Date</th>\n",
              "    </tr>\n",
              "  </thead>\n",
              "  <tbody>\n",
              "    <tr>\n",
              "      <th>0</th>\n",
              "      <td>https://apps.apple.com/us/app/sudoku/id284921427</td>\n",
              "      <td>284921427.0</td>\n",
              "      <td>Sudoku</td>\n",
              "      <td>NaN</td>\n",
              "      <td>https://is2-ssl.mzstatic.com/image/thumb/Purpl...</td>\n",
              "      <td>4.0</td>\n",
              "      <td>3553.0</td>\n",
              "      <td>2.99</td>\n",
              "      <td>NaN</td>\n",
              "      <td>Join over 21,000,000 of our fans and download ...</td>\n",
              "      <td>Mighty Mighty Good Games</td>\n",
              "      <td>4+</td>\n",
              "      <td>DA, NL, EN, FI, FR, DE, IT, JA, KO, NB, PL, PT...</td>\n",
              "      <td>15853568.0</td>\n",
              "      <td>Games</td>\n",
              "      <td>Games, Strategy, Puzzle</td>\n",
              "      <td>11/07/2008</td>\n",
              "      <td>30/05/2017</td>\n",
              "    </tr>\n",
              "    <tr>\n",
              "      <th>1</th>\n",
              "      <td>https://apps.apple.com/us/app/reversi/id284926400</td>\n",
              "      <td>284926400.0</td>\n",
              "      <td>Reversi</td>\n",
              "      <td>NaN</td>\n",
              "      <td>https://is4-ssl.mzstatic.com/image/thumb/Purpl...</td>\n",
              "      <td>3.5</td>\n",
              "      <td>284.0</td>\n",
              "      <td>1.99</td>\n",
              "      <td>NaN</td>\n",
              "      <td>The classic game of Reversi, also known as Oth...</td>\n",
              "      <td>Kiss The Machine</td>\n",
              "      <td>4+</td>\n",
              "      <td>EN</td>\n",
              "      <td>12328960.0</td>\n",
              "      <td>Games</td>\n",
              "      <td>Games, Strategy, Board</td>\n",
              "      <td>11/07/2008</td>\n",
              "      <td>17/05/2018</td>\n",
              "    </tr>\n",
              "    <tr>\n",
              "      <th>2</th>\n",
              "      <td>https://apps.apple.com/us/app/morocco/id284946595</td>\n",
              "      <td>284946595.0</td>\n",
              "      <td>Morocco</td>\n",
              "      <td>NaN</td>\n",
              "      <td>https://is5-ssl.mzstatic.com/image/thumb/Purpl...</td>\n",
              "      <td>3.0</td>\n",
              "      <td>8376.0</td>\n",
              "      <td>0.00</td>\n",
              "      <td>NaN</td>\n",
              "      <td>Play the classic strategy game Othello (also k...</td>\n",
              "      <td>Bayou Games</td>\n",
              "      <td>4+</td>\n",
              "      <td>EN</td>\n",
              "      <td>674816.0</td>\n",
              "      <td>Games</td>\n",
              "      <td>Games, Board, Strategy</td>\n",
              "      <td>11/07/2008</td>\n",
              "      <td>5/09/2017</td>\n",
              "    </tr>\n",
              "    <tr>\n",
              "      <th>3</th>\n",
              "      <td>https://apps.apple.com/us/app/sudoku-free/id28...</td>\n",
              "      <td>285755462.0</td>\n",
              "      <td>Sudoku (Free)</td>\n",
              "      <td>NaN</td>\n",
              "      <td>https://is3-ssl.mzstatic.com/image/thumb/Purpl...</td>\n",
              "      <td>3.5</td>\n",
              "      <td>190394.0</td>\n",
              "      <td>0.00</td>\n",
              "      <td>NaN</td>\n",
              "      <td>Top 100 free app for over a year.\\nRated \"Best...</td>\n",
              "      <td>Mighty Mighty Good Games</td>\n",
              "      <td>4+</td>\n",
              "      <td>DA, NL, EN, FI, FR, DE, IT, JA, KO, NB, PL, PT...</td>\n",
              "      <td>21552128.0</td>\n",
              "      <td>Games</td>\n",
              "      <td>Games, Strategy, Puzzle</td>\n",
              "      <td>23/07/2008</td>\n",
              "      <td>30/05/2017</td>\n",
              "    </tr>\n",
              "    <tr>\n",
              "      <th>4</th>\n",
              "      <td>https://apps.apple.com/us/app/senet-deluxe/id2...</td>\n",
              "      <td>285831220.0</td>\n",
              "      <td>Senet Deluxe</td>\n",
              "      <td>NaN</td>\n",
              "      <td>https://is1-ssl.mzstatic.com/image/thumb/Purpl...</td>\n",
              "      <td>3.5</td>\n",
              "      <td>28.0</td>\n",
              "      <td>2.99</td>\n",
              "      <td>NaN</td>\n",
              "      <td>\"Senet Deluxe - The Ancient Game of Life and A...</td>\n",
              "      <td>RoGame Software</td>\n",
              "      <td>4+</td>\n",
              "      <td>DA, NL, EN, FR, DE, EL, IT, JA, KO, NO, PT, RU...</td>\n",
              "      <td>34689024.0</td>\n",
              "      <td>Games</td>\n",
              "      <td>Games, Strategy, Board, Education</td>\n",
              "      <td>18/07/2008</td>\n",
              "      <td>22/07/2018</td>\n",
              "    </tr>\n",
              "  </tbody>\n",
              "</table>\n",
              "</div>"
            ],
            "text/plain": [
              "                                                 URL  ...  Current Version Release Date\n",
              "0   https://apps.apple.com/us/app/sudoku/id284921427  ...                    30/05/2017\n",
              "1  https://apps.apple.com/us/app/reversi/id284926400  ...                    17/05/2018\n",
              "2  https://apps.apple.com/us/app/morocco/id284946595  ...                     5/09/2017\n",
              "3  https://apps.apple.com/us/app/sudoku-free/id28...  ...                    30/05/2017\n",
              "4  https://apps.apple.com/us/app/senet-deluxe/id2...  ...                    22/07/2018\n",
              "\n",
              "[5 rows x 18 columns]"
            ]
          },
          "metadata": {
            "tags": []
          },
          "execution_count": 8
        }
      ]
    },
    {
      "cell_type": "markdown",
      "metadata": {
        "id": "kTed0w0r-dVj"
      },
      "source": [
        "### 3. Wstępne przygotowanie danych do analizy"
      ]
    },
    {
      "cell_type": "code",
      "metadata": {
        "id": "F-Iri9KaTbM8",
        "colab": {
          "base_uri": "https://localhost:8080/"
        },
        "outputId": "eb9d2da2-6d7a-43bd-8bd1-6509107a08a5"
      },
      "source": [
        "df_raw.columns"
      ],
      "execution_count": null,
      "outputs": [
        {
          "output_type": "execute_result",
          "data": {
            "text/plain": [
              "Index(['URL', 'ID', 'Name', 'Subtitle', 'Icon URL', 'Average User Rating',\n",
              "       'User Rating Count', 'Price', 'In-app Purchases', 'Description',\n",
              "       'Developer', 'Age Rating', 'Languages', 'Size', 'Primary Genre',\n",
              "       'Genres', 'Original Release Date', 'Current Version Release Date'],\n",
              "      dtype='object')"
            ]
          },
          "metadata": {
            "tags": []
          },
          "execution_count": 9
        }
      ]
    },
    {
      "cell_type": "code",
      "metadata": {
        "id": "EOWjvcKoVn-2",
        "colab": {
          "base_uri": "https://localhost:8080/"
        },
        "outputId": "b3c9448d-2e31-4bc9-c0c7-0e5814d6356a"
      },
      "source": [
        "df = df_raw.copy()\n",
        "df.info()"
      ],
      "execution_count": null,
      "outputs": [
        {
          "output_type": "stream",
          "text": [
            "<class 'pandas.core.frame.DataFrame'>\n",
            "RangeIndex: 3197 entries, 0 to 3196\n",
            "Data columns (total 18 columns):\n",
            " #   Column                        Non-Null Count  Dtype  \n",
            "---  ------                        --------------  -----  \n",
            " 0   URL                           3197 non-null   object \n",
            " 1   ID                            3196 non-null   float64\n",
            " 2   Name                          3196 non-null   object \n",
            " 3   Subtitle                      493 non-null    object \n",
            " 4   Icon URL                      3196 non-null   object \n",
            " 5   Average User Rating           2515 non-null   float64\n",
            " 6   User Rating Count             2515 non-null   float64\n",
            " 7   Price                         3196 non-null   float64\n",
            " 8   In-app Purchases              1611 non-null   object \n",
            " 9   Description                   3196 non-null   object \n",
            " 10  Developer                     3196 non-null   object \n",
            " 11  Age Rating                    3196 non-null   object \n",
            " 12  Languages                     3189 non-null   object \n",
            " 13  Size                          3196 non-null   float64\n",
            " 14  Primary Genre                 3196 non-null   object \n",
            " 15  Genres                        3196 non-null   object \n",
            " 16  Original Release Date         3196 non-null   object \n",
            " 17  Current Version Release Date  3196 non-null   object \n",
            "dtypes: float64(5), object(13)\n",
            "memory usage: 449.7+ KB\n"
          ],
          "name": "stdout"
        }
      ]
    },
    {
      "cell_type": "code",
      "metadata": {
        "id": "VYekVDtTV30l",
        "colab": {
          "base_uri": "https://localhost:8080/",
          "height": 598
        },
        "outputId": "d4018ee4-5440-4d6d-e3e9-b531b0ae3811"
      },
      "source": [
        "df = df.drop(columns=['URL', 'Icon URL','Subtitle','Description', 'In-app Purchases'])\n",
        "df.head()"
      ],
      "execution_count": null,
      "outputs": [
        {
          "output_type": "execute_result",
          "data": {
            "text/html": [
              "<div>\n",
              "<style scoped>\n",
              "    .dataframe tbody tr th:only-of-type {\n",
              "        vertical-align: middle;\n",
              "    }\n",
              "\n",
              "    .dataframe tbody tr th {\n",
              "        vertical-align: top;\n",
              "    }\n",
              "\n",
              "    .dataframe thead th {\n",
              "        text-align: right;\n",
              "    }\n",
              "</style>\n",
              "<table border=\"1\" class=\"dataframe\">\n",
              "  <thead>\n",
              "    <tr style=\"text-align: right;\">\n",
              "      <th></th>\n",
              "      <th>ID</th>\n",
              "      <th>Name</th>\n",
              "      <th>Average User Rating</th>\n",
              "      <th>User Rating Count</th>\n",
              "      <th>Price</th>\n",
              "      <th>Developer</th>\n",
              "      <th>Age Rating</th>\n",
              "      <th>Languages</th>\n",
              "      <th>Size</th>\n",
              "      <th>Primary Genre</th>\n",
              "      <th>Genres</th>\n",
              "      <th>Original Release Date</th>\n",
              "      <th>Current Version Release Date</th>\n",
              "    </tr>\n",
              "  </thead>\n",
              "  <tbody>\n",
              "    <tr>\n",
              "      <th>0</th>\n",
              "      <td>284921427.0</td>\n",
              "      <td>Sudoku</td>\n",
              "      <td>4.0</td>\n",
              "      <td>3553.0</td>\n",
              "      <td>2.99</td>\n",
              "      <td>Mighty Mighty Good Games</td>\n",
              "      <td>4+</td>\n",
              "      <td>DA, NL, EN, FI, FR, DE, IT, JA, KO, NB, PL, PT...</td>\n",
              "      <td>15853568.0</td>\n",
              "      <td>Games</td>\n",
              "      <td>Games, Strategy, Puzzle</td>\n",
              "      <td>11/07/2008</td>\n",
              "      <td>30/05/2017</td>\n",
              "    </tr>\n",
              "    <tr>\n",
              "      <th>1</th>\n",
              "      <td>284926400.0</td>\n",
              "      <td>Reversi</td>\n",
              "      <td>3.5</td>\n",
              "      <td>284.0</td>\n",
              "      <td>1.99</td>\n",
              "      <td>Kiss The Machine</td>\n",
              "      <td>4+</td>\n",
              "      <td>EN</td>\n",
              "      <td>12328960.0</td>\n",
              "      <td>Games</td>\n",
              "      <td>Games, Strategy, Board</td>\n",
              "      <td>11/07/2008</td>\n",
              "      <td>17/05/2018</td>\n",
              "    </tr>\n",
              "    <tr>\n",
              "      <th>2</th>\n",
              "      <td>284946595.0</td>\n",
              "      <td>Morocco</td>\n",
              "      <td>3.0</td>\n",
              "      <td>8376.0</td>\n",
              "      <td>0.00</td>\n",
              "      <td>Bayou Games</td>\n",
              "      <td>4+</td>\n",
              "      <td>EN</td>\n",
              "      <td>674816.0</td>\n",
              "      <td>Games</td>\n",
              "      <td>Games, Board, Strategy</td>\n",
              "      <td>11/07/2008</td>\n",
              "      <td>5/09/2017</td>\n",
              "    </tr>\n",
              "    <tr>\n",
              "      <th>3</th>\n",
              "      <td>285755462.0</td>\n",
              "      <td>Sudoku (Free)</td>\n",
              "      <td>3.5</td>\n",
              "      <td>190394.0</td>\n",
              "      <td>0.00</td>\n",
              "      <td>Mighty Mighty Good Games</td>\n",
              "      <td>4+</td>\n",
              "      <td>DA, NL, EN, FI, FR, DE, IT, JA, KO, NB, PL, PT...</td>\n",
              "      <td>21552128.0</td>\n",
              "      <td>Games</td>\n",
              "      <td>Games, Strategy, Puzzle</td>\n",
              "      <td>23/07/2008</td>\n",
              "      <td>30/05/2017</td>\n",
              "    </tr>\n",
              "    <tr>\n",
              "      <th>4</th>\n",
              "      <td>285831220.0</td>\n",
              "      <td>Senet Deluxe</td>\n",
              "      <td>3.5</td>\n",
              "      <td>28.0</td>\n",
              "      <td>2.99</td>\n",
              "      <td>RoGame Software</td>\n",
              "      <td>4+</td>\n",
              "      <td>DA, NL, EN, FR, DE, EL, IT, JA, KO, NO, PT, RU...</td>\n",
              "      <td>34689024.0</td>\n",
              "      <td>Games</td>\n",
              "      <td>Games, Strategy, Board, Education</td>\n",
              "      <td>18/07/2008</td>\n",
              "      <td>22/07/2018</td>\n",
              "    </tr>\n",
              "  </tbody>\n",
              "</table>\n",
              "</div>"
            ],
            "text/plain": [
              "            ID  ... Current Version Release Date\n",
              "0  284921427.0  ...                   30/05/2017\n",
              "1  284926400.0  ...                   17/05/2018\n",
              "2  284946595.0  ...                    5/09/2017\n",
              "3  285755462.0  ...                   30/05/2017\n",
              "4  285831220.0  ...                   22/07/2018\n",
              "\n",
              "[5 rows x 13 columns]"
            ]
          },
          "metadata": {
            "tags": []
          },
          "execution_count": 11
        }
      ]
    },
    {
      "cell_type": "code",
      "metadata": {
        "id": "3qZ-BU3lZ96T",
        "colab": {
          "base_uri": "https://localhost:8080/",
          "height": 629
        },
        "outputId": "629165b7-ad3b-4ea7-b1fa-c2aed0800d59"
      },
      "source": [
        "df = df.set_index('ID')\n",
        "df.head()"
      ],
      "execution_count": null,
      "outputs": [
        {
          "output_type": "execute_result",
          "data": {
            "text/html": [
              "<div>\n",
              "<style scoped>\n",
              "    .dataframe tbody tr th:only-of-type {\n",
              "        vertical-align: middle;\n",
              "    }\n",
              "\n",
              "    .dataframe tbody tr th {\n",
              "        vertical-align: top;\n",
              "    }\n",
              "\n",
              "    .dataframe thead th {\n",
              "        text-align: right;\n",
              "    }\n",
              "</style>\n",
              "<table border=\"1\" class=\"dataframe\">\n",
              "  <thead>\n",
              "    <tr style=\"text-align: right;\">\n",
              "      <th></th>\n",
              "      <th>Name</th>\n",
              "      <th>Average User Rating</th>\n",
              "      <th>User Rating Count</th>\n",
              "      <th>Price</th>\n",
              "      <th>Developer</th>\n",
              "      <th>Age Rating</th>\n",
              "      <th>Languages</th>\n",
              "      <th>Size</th>\n",
              "      <th>Primary Genre</th>\n",
              "      <th>Genres</th>\n",
              "      <th>Original Release Date</th>\n",
              "      <th>Current Version Release Date</th>\n",
              "    </tr>\n",
              "    <tr>\n",
              "      <th>ID</th>\n",
              "      <th></th>\n",
              "      <th></th>\n",
              "      <th></th>\n",
              "      <th></th>\n",
              "      <th></th>\n",
              "      <th></th>\n",
              "      <th></th>\n",
              "      <th></th>\n",
              "      <th></th>\n",
              "      <th></th>\n",
              "      <th></th>\n",
              "      <th></th>\n",
              "    </tr>\n",
              "  </thead>\n",
              "  <tbody>\n",
              "    <tr>\n",
              "      <th>284921427.0</th>\n",
              "      <td>Sudoku</td>\n",
              "      <td>4.0</td>\n",
              "      <td>3553.0</td>\n",
              "      <td>2.99</td>\n",
              "      <td>Mighty Mighty Good Games</td>\n",
              "      <td>4+</td>\n",
              "      <td>DA, NL, EN, FI, FR, DE, IT, JA, KO, NB, PL, PT...</td>\n",
              "      <td>15853568.0</td>\n",
              "      <td>Games</td>\n",
              "      <td>Games, Strategy, Puzzle</td>\n",
              "      <td>11/07/2008</td>\n",
              "      <td>30/05/2017</td>\n",
              "    </tr>\n",
              "    <tr>\n",
              "      <th>284926400.0</th>\n",
              "      <td>Reversi</td>\n",
              "      <td>3.5</td>\n",
              "      <td>284.0</td>\n",
              "      <td>1.99</td>\n",
              "      <td>Kiss The Machine</td>\n",
              "      <td>4+</td>\n",
              "      <td>EN</td>\n",
              "      <td>12328960.0</td>\n",
              "      <td>Games</td>\n",
              "      <td>Games, Strategy, Board</td>\n",
              "      <td>11/07/2008</td>\n",
              "      <td>17/05/2018</td>\n",
              "    </tr>\n",
              "    <tr>\n",
              "      <th>284946595.0</th>\n",
              "      <td>Morocco</td>\n",
              "      <td>3.0</td>\n",
              "      <td>8376.0</td>\n",
              "      <td>0.00</td>\n",
              "      <td>Bayou Games</td>\n",
              "      <td>4+</td>\n",
              "      <td>EN</td>\n",
              "      <td>674816.0</td>\n",
              "      <td>Games</td>\n",
              "      <td>Games, Board, Strategy</td>\n",
              "      <td>11/07/2008</td>\n",
              "      <td>5/09/2017</td>\n",
              "    </tr>\n",
              "    <tr>\n",
              "      <th>285755462.0</th>\n",
              "      <td>Sudoku (Free)</td>\n",
              "      <td>3.5</td>\n",
              "      <td>190394.0</td>\n",
              "      <td>0.00</td>\n",
              "      <td>Mighty Mighty Good Games</td>\n",
              "      <td>4+</td>\n",
              "      <td>DA, NL, EN, FI, FR, DE, IT, JA, KO, NB, PL, PT...</td>\n",
              "      <td>21552128.0</td>\n",
              "      <td>Games</td>\n",
              "      <td>Games, Strategy, Puzzle</td>\n",
              "      <td>23/07/2008</td>\n",
              "      <td>30/05/2017</td>\n",
              "    </tr>\n",
              "    <tr>\n",
              "      <th>285831220.0</th>\n",
              "      <td>Senet Deluxe</td>\n",
              "      <td>3.5</td>\n",
              "      <td>28.0</td>\n",
              "      <td>2.99</td>\n",
              "      <td>RoGame Software</td>\n",
              "      <td>4+</td>\n",
              "      <td>DA, NL, EN, FR, DE, EL, IT, JA, KO, NO, PT, RU...</td>\n",
              "      <td>34689024.0</td>\n",
              "      <td>Games</td>\n",
              "      <td>Games, Strategy, Board, Education</td>\n",
              "      <td>18/07/2008</td>\n",
              "      <td>22/07/2018</td>\n",
              "    </tr>\n",
              "  </tbody>\n",
              "</table>\n",
              "</div>"
            ],
            "text/plain": [
              "                      Name  ...  Current Version Release Date\n",
              "ID                          ...                              \n",
              "284921427.0         Sudoku  ...                    30/05/2017\n",
              "284926400.0        Reversi  ...                    17/05/2018\n",
              "284946595.0        Morocco  ...                     5/09/2017\n",
              "285755462.0  Sudoku (Free)  ...                    30/05/2017\n",
              "285831220.0   Senet Deluxe  ...                    22/07/2018\n",
              "\n",
              "[5 rows x 12 columns]"
            ]
          },
          "metadata": {
            "tags": []
          },
          "execution_count": 12
        }
      ]
    },
    {
      "cell_type": "code",
      "metadata": {
        "id": "E0kyVjaba047",
        "colab": {
          "base_uri": "https://localhost:8080/",
          "height": 297
        },
        "outputId": "45243253-2c79-40dd-db6e-41f34c309a5a"
      },
      "source": [
        "df.describe()"
      ],
      "execution_count": null,
      "outputs": [
        {
          "output_type": "execute_result",
          "data": {
            "text/html": [
              "<div>\n",
              "<style scoped>\n",
              "    .dataframe tbody tr th:only-of-type {\n",
              "        vertical-align: middle;\n",
              "    }\n",
              "\n",
              "    .dataframe tbody tr th {\n",
              "        vertical-align: top;\n",
              "    }\n",
              "\n",
              "    .dataframe thead th {\n",
              "        text-align: right;\n",
              "    }\n",
              "</style>\n",
              "<table border=\"1\" class=\"dataframe\">\n",
              "  <thead>\n",
              "    <tr style=\"text-align: right;\">\n",
              "      <th></th>\n",
              "      <th>Average User Rating</th>\n",
              "      <th>User Rating Count</th>\n",
              "      <th>Price</th>\n",
              "      <th>Size</th>\n",
              "    </tr>\n",
              "  </thead>\n",
              "  <tbody>\n",
              "    <tr>\n",
              "      <th>count</th>\n",
              "      <td>2515.000000</td>\n",
              "      <td>2.515000e+03</td>\n",
              "      <td>3196.000000</td>\n",
              "      <td>3.196000e+03</td>\n",
              "    </tr>\n",
              "    <tr>\n",
              "      <th>mean</th>\n",
              "      <td>3.882505</td>\n",
              "      <td>4.997661e+03</td>\n",
              "      <td>0.714916</td>\n",
              "      <td>7.959186e+07</td>\n",
              "    </tr>\n",
              "    <tr>\n",
              "      <th>std</th>\n",
              "      <td>0.716059</td>\n",
              "      <td>6.388185e+04</td>\n",
              "      <td>2.936028</td>\n",
              "      <td>1.489797e+08</td>\n",
              "    </tr>\n",
              "    <tr>\n",
              "      <th>min</th>\n",
              "      <td>1.000000</td>\n",
              "      <td>5.000000e+00</td>\n",
              "      <td>0.000000</td>\n",
              "      <td>5.132800e+04</td>\n",
              "    </tr>\n",
              "    <tr>\n",
              "      <th>25%</th>\n",
              "      <td>3.500000</td>\n",
              "      <td>2.000000e+01</td>\n",
              "      <td>0.000000</td>\n",
              "      <td>1.755465e+07</td>\n",
              "    </tr>\n",
              "    <tr>\n",
              "      <th>50%</th>\n",
              "      <td>4.000000</td>\n",
              "      <td>1.010000e+02</td>\n",
              "      <td>0.000000</td>\n",
              "      <td>3.859617e+07</td>\n",
              "    </tr>\n",
              "    <tr>\n",
              "      <th>75%</th>\n",
              "      <td>4.500000</td>\n",
              "      <td>6.980000e+02</td>\n",
              "      <td>0.990000</td>\n",
              "      <td>8.406579e+07</td>\n",
              "    </tr>\n",
              "    <tr>\n",
              "      <th>max</th>\n",
              "      <td>5.000000</td>\n",
              "      <td>3.032734e+06</td>\n",
              "      <td>139.990000</td>\n",
              "      <td>3.747743e+09</td>\n",
              "    </tr>\n",
              "  </tbody>\n",
              "</table>\n",
              "</div>"
            ],
            "text/plain": [
              "       Average User Rating  User Rating Count        Price          Size\n",
              "count          2515.000000       2.515000e+03  3196.000000  3.196000e+03\n",
              "mean              3.882505       4.997661e+03     0.714916  7.959186e+07\n",
              "std               0.716059       6.388185e+04     2.936028  1.489797e+08\n",
              "min               1.000000       5.000000e+00     0.000000  5.132800e+04\n",
              "25%               3.500000       2.000000e+01     0.000000  1.755465e+07\n",
              "50%               4.000000       1.010000e+02     0.000000  3.859617e+07\n",
              "75%               4.500000       6.980000e+02     0.990000  8.406579e+07\n",
              "max               5.000000       3.032734e+06   139.990000  3.747743e+09"
            ]
          },
          "metadata": {
            "tags": []
          },
          "execution_count": 13
        }
      ]
    },
    {
      "cell_type": "code",
      "metadata": {
        "id": "yR-pkKOsbxUt",
        "colab": {
          "base_uri": "https://localhost:8080/",
          "height": 261
        },
        "outputId": "4d1b509f-5337-4662-b4df-78e42b37dfb7"
      },
      "source": [
        "df.describe().T"
      ],
      "execution_count": null,
      "outputs": [
        {
          "output_type": "execute_result",
          "data": {
            "text/html": [
              "<div>\n",
              "<style scoped>\n",
              "    .dataframe tbody tr th:only-of-type {\n",
              "        vertical-align: middle;\n",
              "    }\n",
              "\n",
              "    .dataframe tbody tr th {\n",
              "        vertical-align: top;\n",
              "    }\n",
              "\n",
              "    .dataframe thead th {\n",
              "        text-align: right;\n",
              "    }\n",
              "</style>\n",
              "<table border=\"1\" class=\"dataframe\">\n",
              "  <thead>\n",
              "    <tr style=\"text-align: right;\">\n",
              "      <th></th>\n",
              "      <th>count</th>\n",
              "      <th>mean</th>\n",
              "      <th>std</th>\n",
              "      <th>min</th>\n",
              "      <th>25%</th>\n",
              "      <th>50%</th>\n",
              "      <th>75%</th>\n",
              "      <th>max</th>\n",
              "    </tr>\n",
              "  </thead>\n",
              "  <tbody>\n",
              "    <tr>\n",
              "      <th>Average User Rating</th>\n",
              "      <td>2515.0</td>\n",
              "      <td>3.882505e+00</td>\n",
              "      <td>7.160592e-01</td>\n",
              "      <td>1.0</td>\n",
              "      <td>3.50</td>\n",
              "      <td>4.0</td>\n",
              "      <td>4.50</td>\n",
              "      <td>5.000000e+00</td>\n",
              "    </tr>\n",
              "    <tr>\n",
              "      <th>User Rating Count</th>\n",
              "      <td>2515.0</td>\n",
              "      <td>4.997661e+03</td>\n",
              "      <td>6.388185e+04</td>\n",
              "      <td>5.0</td>\n",
              "      <td>20.00</td>\n",
              "      <td>101.0</td>\n",
              "      <td>698.00</td>\n",
              "      <td>3.032734e+06</td>\n",
              "    </tr>\n",
              "    <tr>\n",
              "      <th>Price</th>\n",
              "      <td>3196.0</td>\n",
              "      <td>7.149155e-01</td>\n",
              "      <td>2.936028e+00</td>\n",
              "      <td>0.0</td>\n",
              "      <td>0.00</td>\n",
              "      <td>0.0</td>\n",
              "      <td>0.99</td>\n",
              "      <td>1.399900e+02</td>\n",
              "    </tr>\n",
              "    <tr>\n",
              "      <th>Size</th>\n",
              "      <td>3196.0</td>\n",
              "      <td>7.959186e+07</td>\n",
              "      <td>1.489797e+08</td>\n",
              "      <td>51328.0</td>\n",
              "      <td>17554653.25</td>\n",
              "      <td>38596172.0</td>\n",
              "      <td>84065792.00</td>\n",
              "      <td>3.747743e+09</td>\n",
              "    </tr>\n",
              "  </tbody>\n",
              "</table>\n",
              "</div>"
            ],
            "text/plain": [
              "                      count          mean  ...          75%           max\n",
              "Average User Rating  2515.0  3.882505e+00  ...         4.50  5.000000e+00\n",
              "User Rating Count    2515.0  4.997661e+03  ...       698.00  3.032734e+06\n",
              "Price                3196.0  7.149155e-01  ...         0.99  1.399900e+02\n",
              "Size                 3196.0  7.959186e+07  ...  84065792.00  3.747743e+09\n",
              "\n",
              "[4 rows x 8 columns]"
            ]
          },
          "metadata": {
            "tags": []
          },
          "execution_count": 14
        }
      ]
    },
    {
      "cell_type": "code",
      "metadata": {
        "id": "pLMFwCAdcddB",
        "colab": {
          "base_uri": "https://localhost:8080/",
          "height": 312
        },
        "outputId": "f7b47ac1-63be-4a45-b655-ec113d1e40a9"
      },
      "source": [
        "df.describe(include=['object'])"
      ],
      "execution_count": null,
      "outputs": [
        {
          "output_type": "execute_result",
          "data": {
            "text/html": [
              "<div>\n",
              "<style scoped>\n",
              "    .dataframe tbody tr th:only-of-type {\n",
              "        vertical-align: middle;\n",
              "    }\n",
              "\n",
              "    .dataframe tbody tr th {\n",
              "        vertical-align: top;\n",
              "    }\n",
              "\n",
              "    .dataframe thead th {\n",
              "        text-align: right;\n",
              "    }\n",
              "</style>\n",
              "<table border=\"1\" class=\"dataframe\">\n",
              "  <thead>\n",
              "    <tr style=\"text-align: right;\">\n",
              "      <th></th>\n",
              "      <th>Name</th>\n",
              "      <th>Developer</th>\n",
              "      <th>Age Rating</th>\n",
              "      <th>Languages</th>\n",
              "      <th>Primary Genre</th>\n",
              "      <th>Genres</th>\n",
              "      <th>Original Release Date</th>\n",
              "      <th>Current Version Release Date</th>\n",
              "    </tr>\n",
              "  </thead>\n",
              "  <tbody>\n",
              "    <tr>\n",
              "      <th>count</th>\n",
              "      <td>3196</td>\n",
              "      <td>3196</td>\n",
              "      <td>3196</td>\n",
              "      <td>3189</td>\n",
              "      <td>3196</td>\n",
              "      <td>3196</td>\n",
              "      <td>3196</td>\n",
              "      <td>3196</td>\n",
              "    </tr>\n",
              "    <tr>\n",
              "      <th>unique</th>\n",
              "      <td>3164</td>\n",
              "      <td>1728</td>\n",
              "      <td>4</td>\n",
              "      <td>336</td>\n",
              "      <td>14</td>\n",
              "      <td>380</td>\n",
              "      <td>1312</td>\n",
              "      <td>1687</td>\n",
              "    </tr>\n",
              "    <tr>\n",
              "      <th>top</th>\n",
              "      <td>Bungee Stickmen - Australian Landmarks {LITE +}</td>\n",
              "      <td>GabySoft</td>\n",
              "      <td>4+</td>\n",
              "      <td>EN</td>\n",
              "      <td>Games</td>\n",
              "      <td>Games, Strategy, Puzzle</td>\n",
              "      <td>21/12/2011</td>\n",
              "      <td>17/01/2017</td>\n",
              "    </tr>\n",
              "    <tr>\n",
              "      <th>freq</th>\n",
              "      <td>2</td>\n",
              "      <td>33</td>\n",
              "      <td>2212</td>\n",
              "      <td>2054</td>\n",
              "      <td>3046</td>\n",
              "      <td>105</td>\n",
              "      <td>20</td>\n",
              "      <td>13</td>\n",
              "    </tr>\n",
              "  </tbody>\n",
              "</table>\n",
              "</div>"
            ],
            "text/plain": [
              "                                                   Name  ... Current Version Release Date\n",
              "count                                              3196  ...                         3196\n",
              "unique                                             3164  ...                         1687\n",
              "top     Bungee Stickmen - Australian Landmarks {LITE +}  ...                   17/01/2017\n",
              "freq                                                  2  ...                           13\n",
              "\n",
              "[4 rows x 8 columns]"
            ]
          },
          "metadata": {
            "tags": []
          },
          "execution_count": 15
        }
      ]
    },
    {
      "cell_type": "code",
      "metadata": {
        "id": "g4kDwOlldZH8",
        "colab": {
          "base_uri": "https://localhost:8080/",
          "height": 331
        },
        "outputId": "0920723b-22a5-4543-9d45-b01b41527ccb"
      },
      "source": [
        "df.describe(include=['object']).T"
      ],
      "execution_count": null,
      "outputs": [
        {
          "output_type": "execute_result",
          "data": {
            "text/html": [
              "<div>\n",
              "<style scoped>\n",
              "    .dataframe tbody tr th:only-of-type {\n",
              "        vertical-align: middle;\n",
              "    }\n",
              "\n",
              "    .dataframe tbody tr th {\n",
              "        vertical-align: top;\n",
              "    }\n",
              "\n",
              "    .dataframe thead th {\n",
              "        text-align: right;\n",
              "    }\n",
              "</style>\n",
              "<table border=\"1\" class=\"dataframe\">\n",
              "  <thead>\n",
              "    <tr style=\"text-align: right;\">\n",
              "      <th></th>\n",
              "      <th>count</th>\n",
              "      <th>unique</th>\n",
              "      <th>top</th>\n",
              "      <th>freq</th>\n",
              "    </tr>\n",
              "  </thead>\n",
              "  <tbody>\n",
              "    <tr>\n",
              "      <th>Name</th>\n",
              "      <td>3196</td>\n",
              "      <td>3164</td>\n",
              "      <td>Bungee Stickmen - Australian Landmarks {LITE +}</td>\n",
              "      <td>2</td>\n",
              "    </tr>\n",
              "    <tr>\n",
              "      <th>Developer</th>\n",
              "      <td>3196</td>\n",
              "      <td>1728</td>\n",
              "      <td>GabySoft</td>\n",
              "      <td>33</td>\n",
              "    </tr>\n",
              "    <tr>\n",
              "      <th>Age Rating</th>\n",
              "      <td>3196</td>\n",
              "      <td>4</td>\n",
              "      <td>4+</td>\n",
              "      <td>2212</td>\n",
              "    </tr>\n",
              "    <tr>\n",
              "      <th>Languages</th>\n",
              "      <td>3189</td>\n",
              "      <td>336</td>\n",
              "      <td>EN</td>\n",
              "      <td>2054</td>\n",
              "    </tr>\n",
              "    <tr>\n",
              "      <th>Primary Genre</th>\n",
              "      <td>3196</td>\n",
              "      <td>14</td>\n",
              "      <td>Games</td>\n",
              "      <td>3046</td>\n",
              "    </tr>\n",
              "    <tr>\n",
              "      <th>Genres</th>\n",
              "      <td>3196</td>\n",
              "      <td>380</td>\n",
              "      <td>Games, Strategy, Puzzle</td>\n",
              "      <td>105</td>\n",
              "    </tr>\n",
              "    <tr>\n",
              "      <th>Original Release Date</th>\n",
              "      <td>3196</td>\n",
              "      <td>1312</td>\n",
              "      <td>21/12/2011</td>\n",
              "      <td>20</td>\n",
              "    </tr>\n",
              "    <tr>\n",
              "      <th>Current Version Release Date</th>\n",
              "      <td>3196</td>\n",
              "      <td>1687</td>\n",
              "      <td>17/01/2017</td>\n",
              "      <td>13</td>\n",
              "    </tr>\n",
              "  </tbody>\n",
              "</table>\n",
              "</div>"
            ],
            "text/plain": [
              "                             count  ...  freq\n",
              "Name                          3196  ...     2\n",
              "Developer                     3196  ...    33\n",
              "Age Rating                    3196  ...  2212\n",
              "Languages                     3189  ...  2054\n",
              "Primary Genre                 3196  ...  3046\n",
              "Genres                        3196  ...   105\n",
              "Original Release Date         3196  ...    20\n",
              "Current Version Release Date  3196  ...    13\n",
              "\n",
              "[8 rows x 4 columns]"
            ]
          },
          "metadata": {
            "tags": []
          },
          "execution_count": 16
        }
      ]
    },
    {
      "cell_type": "code",
      "metadata": {
        "id": "usFMShNBeiem",
        "colab": {
          "base_uri": "https://localhost:8080/"
        },
        "outputId": "01cb4233-5b31-444d-def4-f5faebc91717"
      },
      "source": [
        "df.columns"
      ],
      "execution_count": null,
      "outputs": [
        {
          "output_type": "execute_result",
          "data": {
            "text/plain": [
              "Index(['Name', 'Average User Rating', 'User Rating Count', 'Price',\n",
              "       'Developer', 'Age Rating', 'Languages', 'Size', 'Primary Genre',\n",
              "       'Genres', 'Original Release Date', 'Current Version Release Date'],\n",
              "      dtype='object')"
            ]
          },
          "metadata": {
            "tags": []
          },
          "execution_count": 17
        }
      ]
    },
    {
      "cell_type": "code",
      "metadata": {
        "id": "I4r2Rs1kf0rU",
        "colab": {
          "base_uri": "https://localhost:8080/",
          "height": 578
        },
        "outputId": "a752693e-989d-4d60-e528-6adf68f20f93"
      },
      "source": [
        "df.columns = [col.lower().replace(' ', '_') for col in df.columns]\n",
        "df.head()"
      ],
      "execution_count": null,
      "outputs": [
        {
          "output_type": "execute_result",
          "data": {
            "text/html": [
              "<div>\n",
              "<style scoped>\n",
              "    .dataframe tbody tr th:only-of-type {\n",
              "        vertical-align: middle;\n",
              "    }\n",
              "\n",
              "    .dataframe tbody tr th {\n",
              "        vertical-align: top;\n",
              "    }\n",
              "\n",
              "    .dataframe thead th {\n",
              "        text-align: right;\n",
              "    }\n",
              "</style>\n",
              "<table border=\"1\" class=\"dataframe\">\n",
              "  <thead>\n",
              "    <tr style=\"text-align: right;\">\n",
              "      <th></th>\n",
              "      <th>name</th>\n",
              "      <th>average_user_rating</th>\n",
              "      <th>user_rating_count</th>\n",
              "      <th>price</th>\n",
              "      <th>developer</th>\n",
              "      <th>age_rating</th>\n",
              "      <th>languages</th>\n",
              "      <th>size</th>\n",
              "      <th>primary_genre</th>\n",
              "      <th>genres</th>\n",
              "      <th>original_release_date</th>\n",
              "      <th>current_version_release_date</th>\n",
              "    </tr>\n",
              "    <tr>\n",
              "      <th>ID</th>\n",
              "      <th></th>\n",
              "      <th></th>\n",
              "      <th></th>\n",
              "      <th></th>\n",
              "      <th></th>\n",
              "      <th></th>\n",
              "      <th></th>\n",
              "      <th></th>\n",
              "      <th></th>\n",
              "      <th></th>\n",
              "      <th></th>\n",
              "      <th></th>\n",
              "    </tr>\n",
              "  </thead>\n",
              "  <tbody>\n",
              "    <tr>\n",
              "      <th>284921427.0</th>\n",
              "      <td>Sudoku</td>\n",
              "      <td>4.0</td>\n",
              "      <td>3553.0</td>\n",
              "      <td>2.99</td>\n",
              "      <td>Mighty Mighty Good Games</td>\n",
              "      <td>4+</td>\n",
              "      <td>DA, NL, EN, FI, FR, DE, IT, JA, KO, NB, PL, PT...</td>\n",
              "      <td>15853568.0</td>\n",
              "      <td>Games</td>\n",
              "      <td>Games, Strategy, Puzzle</td>\n",
              "      <td>11/07/2008</td>\n",
              "      <td>30/05/2017</td>\n",
              "    </tr>\n",
              "    <tr>\n",
              "      <th>284926400.0</th>\n",
              "      <td>Reversi</td>\n",
              "      <td>3.5</td>\n",
              "      <td>284.0</td>\n",
              "      <td>1.99</td>\n",
              "      <td>Kiss The Machine</td>\n",
              "      <td>4+</td>\n",
              "      <td>EN</td>\n",
              "      <td>12328960.0</td>\n",
              "      <td>Games</td>\n",
              "      <td>Games, Strategy, Board</td>\n",
              "      <td>11/07/2008</td>\n",
              "      <td>17/05/2018</td>\n",
              "    </tr>\n",
              "    <tr>\n",
              "      <th>284946595.0</th>\n",
              "      <td>Morocco</td>\n",
              "      <td>3.0</td>\n",
              "      <td>8376.0</td>\n",
              "      <td>0.00</td>\n",
              "      <td>Bayou Games</td>\n",
              "      <td>4+</td>\n",
              "      <td>EN</td>\n",
              "      <td>674816.0</td>\n",
              "      <td>Games</td>\n",
              "      <td>Games, Board, Strategy</td>\n",
              "      <td>11/07/2008</td>\n",
              "      <td>5/09/2017</td>\n",
              "    </tr>\n",
              "    <tr>\n",
              "      <th>285755462.0</th>\n",
              "      <td>Sudoku (Free)</td>\n",
              "      <td>3.5</td>\n",
              "      <td>190394.0</td>\n",
              "      <td>0.00</td>\n",
              "      <td>Mighty Mighty Good Games</td>\n",
              "      <td>4+</td>\n",
              "      <td>DA, NL, EN, FI, FR, DE, IT, JA, KO, NB, PL, PT...</td>\n",
              "      <td>21552128.0</td>\n",
              "      <td>Games</td>\n",
              "      <td>Games, Strategy, Puzzle</td>\n",
              "      <td>23/07/2008</td>\n",
              "      <td>30/05/2017</td>\n",
              "    </tr>\n",
              "    <tr>\n",
              "      <th>285831220.0</th>\n",
              "      <td>Senet Deluxe</td>\n",
              "      <td>3.5</td>\n",
              "      <td>28.0</td>\n",
              "      <td>2.99</td>\n",
              "      <td>RoGame Software</td>\n",
              "      <td>4+</td>\n",
              "      <td>DA, NL, EN, FR, DE, EL, IT, JA, KO, NO, PT, RU...</td>\n",
              "      <td>34689024.0</td>\n",
              "      <td>Games</td>\n",
              "      <td>Games, Strategy, Board, Education</td>\n",
              "      <td>18/07/2008</td>\n",
              "      <td>22/07/2018</td>\n",
              "    </tr>\n",
              "  </tbody>\n",
              "</table>\n",
              "</div>"
            ],
            "text/plain": [
              "                      name  ...  current_version_release_date\n",
              "ID                          ...                              \n",
              "284921427.0         Sudoku  ...                    30/05/2017\n",
              "284926400.0        Reversi  ...                    17/05/2018\n",
              "284946595.0        Morocco  ...                     5/09/2017\n",
              "285755462.0  Sudoku (Free)  ...                    30/05/2017\n",
              "285831220.0   Senet Deluxe  ...                    22/07/2018\n",
              "\n",
              "[5 rows x 12 columns]"
            ]
          },
          "metadata": {
            "tags": []
          },
          "execution_count": 18
        }
      ]
    },
    {
      "cell_type": "code",
      "metadata": {
        "id": "cq0XHmynhVyC",
        "colab": {
          "base_uri": "https://localhost:8080/"
        },
        "outputId": "a9672ffe-c405-4d1e-96f7-055b162bc167"
      },
      "source": [
        "df.average_user_rating"
      ],
      "execution_count": null,
      "outputs": [
        {
          "output_type": "execute_result",
          "data": {
            "text/plain": [
              "ID\n",
              "284921427.0    4.0\n",
              "284926400.0    3.5\n",
              "284946595.0    3.0\n",
              "285755462.0    3.5\n",
              "285831220.0    3.5\n",
              "              ... \n",
              "798515299.0    4.0\n",
              "799266767.0    4.5\n",
              "799455799.0    2.5\n",
              "799471892.0    4.5\n",
              "NaN            NaN\n",
              "Name: average_user_rating, Length: 3197, dtype: float64"
            ]
          },
          "metadata": {
            "tags": []
          },
          "execution_count": 19
        }
      ]
    },
    {
      "cell_type": "markdown",
      "metadata": {
        "id": "Z6rXOLrwh44Y"
      },
      "source": [
        "### 4. Badanie rozkładów zmiennych - możemy ją wykonać bo mamy przygotowane dane\n",
        "Czyli będę badał, analizował, wyświetlał w przystępny sposób poszczególne kolumny po ich nazwach (przewiń poniższy pasek i zobacz czego dotyczą te kolumny i zastanów się jak mozna je analizować i troszkę pozmieniać, przystosować do analiz danych)\n",
        "\n"
      ]
    },
    {
      "cell_type": "code",
      "metadata": {
        "id": "DI80RNPOxUhj",
        "colab": {
          "base_uri": "https://localhost:8080/",
          "height": 578
        },
        "outputId": "de8230bc-36cd-4761-f963-ebf293468027"
      },
      "source": [
        "df.head()"
      ],
      "execution_count": null,
      "outputs": [
        {
          "output_type": "execute_result",
          "data": {
            "text/html": [
              "<div>\n",
              "<style scoped>\n",
              "    .dataframe tbody tr th:only-of-type {\n",
              "        vertical-align: middle;\n",
              "    }\n",
              "\n",
              "    .dataframe tbody tr th {\n",
              "        vertical-align: top;\n",
              "    }\n",
              "\n",
              "    .dataframe thead th {\n",
              "        text-align: right;\n",
              "    }\n",
              "</style>\n",
              "<table border=\"1\" class=\"dataframe\">\n",
              "  <thead>\n",
              "    <tr style=\"text-align: right;\">\n",
              "      <th></th>\n",
              "      <th>name</th>\n",
              "      <th>average_user_rating</th>\n",
              "      <th>user_rating_count</th>\n",
              "      <th>price</th>\n",
              "      <th>developer</th>\n",
              "      <th>age_rating</th>\n",
              "      <th>languages</th>\n",
              "      <th>size</th>\n",
              "      <th>primary_genre</th>\n",
              "      <th>genres</th>\n",
              "      <th>original_release_date</th>\n",
              "      <th>current_version_release_date</th>\n",
              "    </tr>\n",
              "    <tr>\n",
              "      <th>ID</th>\n",
              "      <th></th>\n",
              "      <th></th>\n",
              "      <th></th>\n",
              "      <th></th>\n",
              "      <th></th>\n",
              "      <th></th>\n",
              "      <th></th>\n",
              "      <th></th>\n",
              "      <th></th>\n",
              "      <th></th>\n",
              "      <th></th>\n",
              "      <th></th>\n",
              "    </tr>\n",
              "  </thead>\n",
              "  <tbody>\n",
              "    <tr>\n",
              "      <th>284921427.0</th>\n",
              "      <td>Sudoku</td>\n",
              "      <td>4.0</td>\n",
              "      <td>3553.0</td>\n",
              "      <td>2.99</td>\n",
              "      <td>Mighty Mighty Good Games</td>\n",
              "      <td>4+</td>\n",
              "      <td>DA, NL, EN, FI, FR, DE, IT, JA, KO, NB, PL, PT...</td>\n",
              "      <td>15853568.0</td>\n",
              "      <td>Games</td>\n",
              "      <td>Games, Strategy, Puzzle</td>\n",
              "      <td>11/07/2008</td>\n",
              "      <td>30/05/2017</td>\n",
              "    </tr>\n",
              "    <tr>\n",
              "      <th>284926400.0</th>\n",
              "      <td>Reversi</td>\n",
              "      <td>3.5</td>\n",
              "      <td>284.0</td>\n",
              "      <td>1.99</td>\n",
              "      <td>Kiss The Machine</td>\n",
              "      <td>4+</td>\n",
              "      <td>EN</td>\n",
              "      <td>12328960.0</td>\n",
              "      <td>Games</td>\n",
              "      <td>Games, Strategy, Board</td>\n",
              "      <td>11/07/2008</td>\n",
              "      <td>17/05/2018</td>\n",
              "    </tr>\n",
              "    <tr>\n",
              "      <th>284946595.0</th>\n",
              "      <td>Morocco</td>\n",
              "      <td>3.0</td>\n",
              "      <td>8376.0</td>\n",
              "      <td>0.00</td>\n",
              "      <td>Bayou Games</td>\n",
              "      <td>4+</td>\n",
              "      <td>EN</td>\n",
              "      <td>674816.0</td>\n",
              "      <td>Games</td>\n",
              "      <td>Games, Board, Strategy</td>\n",
              "      <td>11/07/2008</td>\n",
              "      <td>5/09/2017</td>\n",
              "    </tr>\n",
              "    <tr>\n",
              "      <th>285755462.0</th>\n",
              "      <td>Sudoku (Free)</td>\n",
              "      <td>3.5</td>\n",
              "      <td>190394.0</td>\n",
              "      <td>0.00</td>\n",
              "      <td>Mighty Mighty Good Games</td>\n",
              "      <td>4+</td>\n",
              "      <td>DA, NL, EN, FI, FR, DE, IT, JA, KO, NB, PL, PT...</td>\n",
              "      <td>21552128.0</td>\n",
              "      <td>Games</td>\n",
              "      <td>Games, Strategy, Puzzle</td>\n",
              "      <td>23/07/2008</td>\n",
              "      <td>30/05/2017</td>\n",
              "    </tr>\n",
              "    <tr>\n",
              "      <th>285831220.0</th>\n",
              "      <td>Senet Deluxe</td>\n",
              "      <td>3.5</td>\n",
              "      <td>28.0</td>\n",
              "      <td>2.99</td>\n",
              "      <td>RoGame Software</td>\n",
              "      <td>4+</td>\n",
              "      <td>DA, NL, EN, FR, DE, EL, IT, JA, KO, NO, PT, RU...</td>\n",
              "      <td>34689024.0</td>\n",
              "      <td>Games</td>\n",
              "      <td>Games, Strategy, Board, Education</td>\n",
              "      <td>18/07/2008</td>\n",
              "      <td>22/07/2018</td>\n",
              "    </tr>\n",
              "  </tbody>\n",
              "</table>\n",
              "</div>"
            ],
            "text/plain": [
              "                      name  ...  current_version_release_date\n",
              "ID                          ...                              \n",
              "284921427.0         Sudoku  ...                    30/05/2017\n",
              "284926400.0        Reversi  ...                    17/05/2018\n",
              "284946595.0        Morocco  ...                     5/09/2017\n",
              "285755462.0  Sudoku (Free)  ...                    30/05/2017\n",
              "285831220.0   Senet Deluxe  ...                    22/07/2018\n",
              "\n",
              "[5 rows x 12 columns]"
            ]
          },
          "metadata": {
            "tags": []
          },
          "execution_count": 20
        }
      ]
    },
    {
      "cell_type": "code",
      "metadata": {
        "id": "hrcdCGfPzu9O",
        "colab": {
          "base_uri": "https://localhost:8080/"
        },
        "outputId": "c9d4c093-6ad8-43ca-de5d-ee79b5df42d5"
      },
      "source": [
        "df.primary_genre.value_counts()"
      ],
      "execution_count": null,
      "outputs": [
        {
          "output_type": "execute_result",
          "data": {
            "text/plain": [
              "Games            3046\n",
              "Entertainment      58\n",
              "Education          31\n",
              "Utilities          22\n",
              "Sports             13\n",
              "Reference           7\n",
              "Productivity        4\n",
              "Finance             4\n",
              "Business            3\n",
              "Book                2\n",
              "News                2\n",
              "Medical             2\n",
              "Travel              1\n",
              "Lifestyle           1\n",
              "Name: primary_genre, dtype: int64"
            ]
          },
          "metadata": {
            "tags": []
          },
          "execution_count": 21
        }
      ]
    },
    {
      "cell_type": "code",
      "metadata": {
        "id": "bBSKtcguIER2",
        "colab": {
          "base_uri": "https://localhost:8080/"
        },
        "outputId": "c62f6505-767a-4c4d-b654-e01023cb46aa"
      },
      "source": [
        "df.primary_genre.value_counts().nlargest(5)"
      ],
      "execution_count": null,
      "outputs": [
        {
          "output_type": "execute_result",
          "data": {
            "text/plain": [
              "Games            3046\n",
              "Entertainment      58\n",
              "Education          31\n",
              "Utilities          22\n",
              "Sports             13\n",
              "Name: primary_genre, dtype: int64"
            ]
          },
          "metadata": {
            "tags": []
          },
          "execution_count": 22
        }
      ]
    },
    {
      "cell_type": "code",
      "metadata": {
        "id": "Ea_WphpVIdAe",
        "colab": {
          "base_uri": "https://localhost:8080/"
        },
        "outputId": "1df98683-d7d1-4112-c983-edd9c544f8af"
      },
      "source": [
        "df.primary_genre.value_counts().nlargest(5).index"
      ],
      "execution_count": null,
      "outputs": [
        {
          "output_type": "execute_result",
          "data": {
            "text/plain": [
              "Index(['Games', 'Entertainment', 'Education', 'Utilities', 'Sports'], dtype='object')"
            ]
          },
          "metadata": {
            "tags": []
          },
          "execution_count": 23
        }
      ]
    },
    {
      "cell_type": "code",
      "metadata": {
        "id": "T7i16VvyI8JR",
        "colab": {
          "base_uri": "https://localhost:8080/"
        },
        "outputId": "1a56784c-1d63-46a5-aee2-c00f57022c21"
      },
      "source": [
        "list(df.primary_genre.value_counts().nlargest(5).index)"
      ],
      "execution_count": null,
      "outputs": [
        {
          "output_type": "execute_result",
          "data": {
            "text/plain": [
              "['Games', 'Entertainment', 'Education', 'Utilities', 'Sports']"
            ]
          },
          "metadata": {
            "tags": []
          },
          "execution_count": 24
        }
      ]
    },
    {
      "cell_type": "markdown",
      "metadata": {
        "id": "d1rNYLxMK4Fa"
      },
      "source": [
        "Badam rozkład kolejnej kolumny"
      ]
    },
    {
      "cell_type": "code",
      "metadata": {
        "id": "jHENvNt9K2dr",
        "colab": {
          "base_uri": "https://localhost:8080/"
        },
        "outputId": "1da1614e-0712-4387-e8d1-d3982a697a39"
      },
      "source": [
        "df.age_rating"
      ],
      "execution_count": null,
      "outputs": [
        {
          "output_type": "execute_result",
          "data": {
            "text/plain": [
              "ID\n",
              "284921427.0     4+\n",
              "284926400.0     4+\n",
              "284946595.0     4+\n",
              "285755462.0     4+\n",
              "285831220.0     4+\n",
              "              ... \n",
              "798515299.0     4+\n",
              "799266767.0     4+\n",
              "799455799.0     4+\n",
              "799471892.0     4+\n",
              "NaN            NaN\n",
              "Name: age_rating, Length: 3197, dtype: object"
            ]
          },
          "metadata": {
            "tags": []
          },
          "execution_count": 25
        }
      ]
    },
    {
      "cell_type": "code",
      "metadata": {
        "id": "3ovbmyv0Ld-3",
        "colab": {
          "base_uri": "https://localhost:8080/"
        },
        "outputId": "5a06f5d8-3be7-4fa5-e371-d8a4e44b92c3"
      },
      "source": [
        "df.age_rating.value_counts()"
      ],
      "execution_count": null,
      "outputs": [
        {
          "output_type": "execute_result",
          "data": {
            "text/plain": [
              "4+     2212\n",
              "9+      528\n",
              "12+     385\n",
              "17+      71\n",
              "Name: age_rating, dtype: int64"
            ]
          },
          "metadata": {
            "tags": []
          },
          "execution_count": 26
        }
      ]
    },
    {
      "cell_type": "code",
      "metadata": {
        "id": "DcJPwTQSNsP6",
        "colab": {
          "base_uri": "https://localhost:8080/"
        },
        "outputId": "d59f212d-cb98-418a-96ae-3fe6208be39e"
      },
      "source": [
        "type(df.age_rating.value_counts())"
      ],
      "execution_count": null,
      "outputs": [
        {
          "output_type": "execute_result",
          "data": {
            "text/plain": [
              "pandas.core.series.Series"
            ]
          },
          "metadata": {
            "tags": []
          },
          "execution_count": 27
        }
      ]
    },
    {
      "cell_type": "markdown",
      "metadata": {
        "id": "Cw4R9rLDOebI"
      },
      "source": [
        "PODSTAWY WIZUALIZACJI DANYCH"
      ]
    },
    {
      "cell_type": "code",
      "metadata": {
        "id": "UQTi9MTjLqwt",
        "colab": {
          "base_uri": "https://localhost:8080/",
          "height": 282
        },
        "outputId": "d6f6eca4-eadf-4702-9173-1e2d9bfc9386"
      },
      "source": [
        "df.age_rating.value_counts().plot()"
      ],
      "execution_count": null,
      "outputs": [
        {
          "output_type": "execute_result",
          "data": {
            "text/plain": [
              "<matplotlib.axes._subplots.AxesSubplot at 0x7fa3f1233a50>"
            ]
          },
          "metadata": {
            "tags": []
          },
          "execution_count": 28
        },
        {
          "output_type": "display_data",
          "data": {
            "image/png": "[encoded data removed]",
            "text/plain": [
              "<Figure size 432x288 with 1 Axes>"
            ]
          },
          "metadata": {
            "tags": [],
            "needs_background": "light"
          }
        }
      ]
    },
    {
      "cell_type": "code",
      "metadata": {
        "id": "7UnD351nOIwC",
        "colab": {
          "base_uri": "https://localhost:8080/",
          "height": 293
        },
        "outputId": "f6cff9c3-8dc0-46ab-9c11-edec9ce4b4af"
      },
      "source": [
        "df.age_rating.value_counts().plot(kind='bar')"
      ],
      "execution_count": null,
      "outputs": [
        {
          "output_type": "execute_result",
          "data": {
            "text/plain": [
              "<matplotlib.axes._subplots.AxesSubplot at 0x7fa3eaca2c90>"
            ]
          },
          "metadata": {
            "tags": []
          },
          "execution_count": 29
        },
        {
          "output_type": "display_data",
          "data": {
            "image/png": "[encoded data removed]",
            "text/plain": [
              "<Figure size 432x288 with 1 Axes>"
            ]
          },
          "metadata": {
            "tags": [],
            "needs_background": "light"
          }
        }
      ]
    },
    {
      "cell_type": "code",
      "metadata": {
        "id": "liEZltmPOcRJ",
        "colab": {
          "base_uri": "https://localhost:8080/",
          "height": 298
        },
        "outputId": "465edeb0-1eea-4812-c76c-ffd057c9aa95"
      },
      "source": [
        "import seaborn as sns \n",
        "sns.set()\n",
        "\n",
        "df.age_rating.value_counts().plot(kind='bar')"
      ],
      "execution_count": null,
      "outputs": [
        {
          "output_type": "execute_result",
          "data": {
            "text/plain": [
              "<matplotlib.axes._subplots.AxesSubplot at 0x7fa3dbd7f110>"
            ]
          },
          "metadata": {
            "tags": []
          },
          "execution_count": 30
        },
        {
          "output_type": "display_data",
          "data": {
            "image/png": "[encoded data removed]",
            "text/plain": [
              "<Figure size 432x288 with 1 Axes>"
            ]
          },
          "metadata": {
            "tags": []
          }
        }
      ]
    },
    {
      "cell_type": "code",
      "metadata": {
        "id": "6wCgq4AcQu3N",
        "colab": {
          "base_uri": "https://localhost:8080/",
          "height": 265
        },
        "outputId": "1489861e-eb86-4940-cdae-6e7f90797c05"
      },
      "source": [
        "df.age_rating.value_counts().plot(kind='pie')"
      ],
      "execution_count": null,
      "outputs": [
        {
          "output_type": "execute_result",
          "data": {
            "text/plain": [
              "<matplotlib.axes._subplots.AxesSubplot at 0x7fa3dbd6ecd0>"
            ]
          },
          "metadata": {
            "tags": []
          },
          "execution_count": 31
        },
        {
          "output_type": "display_data",
          "data": {
            "image/png": "[encoded data removed]",
            "text/plain": [
              "<Figure size 432x288 with 1 Axes>"
            ]
          },
          "metadata": {
            "tags": []
          }
        }
      ]
    },
    {
      "cell_type": "code",
      "metadata": {
        "id": "eqQfNVYbT7l4",
        "colab": {
          "base_uri": "https://localhost:8080/",
          "height": 248
        },
        "outputId": "f539d6b3-c03b-40bd-bc37-9ea5dc2293cf"
      },
      "source": [
        "_ = df.age_rating.value_counts().plot(kind='pie')"
      ],
      "execution_count": null,
      "outputs": [
        {
          "output_type": "display_data",
          "data": {
            "image/png": "[encoded data removed]",
            "text/plain": [
              "<Figure size 432x288 with 1 Axes>"
            ]
          },
          "metadata": {
            "tags": []
          }
        }
      ]
    },
    {
      "cell_type": "markdown",
      "metadata": {
        "id": "UoVkSowAUaaO"
      },
      "source": [
        "Badam rozkład kolumny z ceną tj. price"
      ]
    },
    {
      "cell_type": "code",
      "metadata": {
        "id": "G9ZrQHASUlm1",
        "colab": {
          "base_uri": "https://localhost:8080/"
        },
        "outputId": "ac607bae-37bb-4c2b-ef28-e1bc2b0daed3"
      },
      "source": [
        "df.price"
      ],
      "execution_count": null,
      "outputs": [
        {
          "output_type": "execute_result",
          "data": {
            "text/plain": [
              "ID\n",
              "284921427.0    2.99\n",
              "284926400.0    1.99\n",
              "284946595.0    0.00\n",
              "285755462.0    0.00\n",
              "285831220.0    2.99\n",
              "               ... \n",
              "798515299.0    0.00\n",
              "799266767.0    0.00\n",
              "799455799.0    4.99\n",
              "799471892.0    3.99\n",
              "NaN             NaN\n",
              "Name: price, Length: 3197, dtype: float64"
            ]
          },
          "metadata": {
            "tags": []
          },
          "execution_count": 33
        }
      ]
    },
    {
      "cell_type": "code",
      "metadata": {
        "id": "N_Lo-URFVLAW",
        "colab": {
          "base_uri": "https://localhost:8080/"
        },
        "outputId": "74240358-e8b2-4100-d5e4-eda24c1ad7fe"
      },
      "source": [
        "df.price.value_counts()"
      ],
      "execution_count": null,
      "outputs": [
        {
          "output_type": "execute_result",
          "data": {
            "text/plain": [
              "0.00      2383\n",
              "0.99       317\n",
              "1.99       163\n",
              "2.99       152\n",
              "4.99        72\n",
              "3.99        51\n",
              "9.99        15\n",
              "5.99        14\n",
              "6.99        10\n",
              "7.99         8\n",
              "8.99         5\n",
              "11.99        2\n",
              "19.99        2\n",
              "139.99       1\n",
              "12.99        1\n",
              "Name: price, dtype: int64"
            ]
          },
          "metadata": {
            "tags": []
          },
          "execution_count": 34
        }
      ]
    },
    {
      "cell_type": "markdown",
      "metadata": {
        "id": "ITHQ-BiJWbn-"
      },
      "source": [
        "Badam kolejną kolumnę ze średnią oceną użytkownika average_user_rating\n",
        "\n",
        "\n",
        "\n"
      ]
    },
    {
      "cell_type": "code",
      "metadata": {
        "id": "8vl5s03uWvni",
        "colab": {
          "base_uri": "https://localhost:8080/"
        },
        "outputId": "271dd873-0a48-4c02-d986-d82a37270545"
      },
      "source": [
        "df.average_user_rating"
      ],
      "execution_count": null,
      "outputs": [
        {
          "output_type": "execute_result",
          "data": {
            "text/plain": [
              "ID\n",
              "284921427.0    4.0\n",
              "284926400.0    3.5\n",
              "284946595.0    3.0\n",
              "285755462.0    3.5\n",
              "285831220.0    3.5\n",
              "              ... \n",
              "798515299.0    4.0\n",
              "799266767.0    4.5\n",
              "799455799.0    2.5\n",
              "799471892.0    4.5\n",
              "NaN            NaN\n",
              "Name: average_user_rating, Length: 3197, dtype: float64"
            ]
          },
          "metadata": {
            "tags": []
          },
          "execution_count": 35
        }
      ]
    },
    {
      "cell_type": "code",
      "metadata": {
        "id": "d-Gkl09yXRFu",
        "colab": {
          "base_uri": "https://localhost:8080/"
        },
        "outputId": "e6c68cb9-75e6-4cd1-c2c1-0ae86774ca09"
      },
      "source": [
        "df.average_user_rating.value_counts()"
      ],
      "execution_count": null,
      "outputs": [
        {
          "output_type": "execute_result",
          "data": {
            "text/plain": [
              "4.5    812\n",
              "4.0    684\n",
              "3.5    442\n",
              "3.0    249\n",
              "2.5    132\n",
              "5.0    123\n",
              "2.0     56\n",
              "1.5     13\n",
              "1.0      4\n",
              "Name: average_user_rating, dtype: int64"
            ]
          },
          "metadata": {
            "tags": []
          },
          "execution_count": 36
        }
      ]
    },
    {
      "cell_type": "markdown",
      "metadata": {
        "id": "RdmW2sKDZtZ7"
      },
      "source": [
        "Badam kolejną kolumnę: languages (skróty dodtępnych w aplikacji języków)"
      ]
    },
    {
      "cell_type": "code",
      "metadata": {
        "id": "oXdZYY-6Zzcp",
        "colab": {
          "base_uri": "https://localhost:8080/"
        },
        "outputId": "20ff292b-cf45-4147-fa48-58c9f3ff0566"
      },
      "source": [
        "df.languages"
      ],
      "execution_count": null,
      "outputs": [
        {
          "output_type": "execute_result",
          "data": {
            "text/plain": [
              "ID\n",
              "284921427.0    DA, NL, EN, FI, FR, DE, IT, JA, KO, NB, PL, PT...\n",
              "284926400.0                                                   EN\n",
              "284946595.0                                                   EN\n",
              "285755462.0    DA, NL, EN, FI, FR, DE, IT, JA, KO, NB, PL, PT...\n",
              "285831220.0    DA, NL, EN, FR, DE, EL, IT, JA, KO, NO, PT, RU...\n",
              "                                     ...                        \n",
              "798515299.0                                                   EN\n",
              "799266767.0                                                   EN\n",
              "799455799.0                                               EN, RU\n",
              "799471892.0                           EN, FR, DE, PT, RU, ZH, ES\n",
              "NaN                                                          NaN\n",
              "Name: languages, Length: 3197, dtype: object"
            ]
          },
          "metadata": {
            "tags": []
          },
          "execution_count": 37
        }
      ]
    },
    {
      "cell_type": "code",
      "metadata": {
        "id": "1e1j4Ed3bB-t",
        "colab": {
          "base_uri": "https://localhost:8080/"
        },
        "outputId": "2afd2f97-ba1d-480b-d7c4-4796f851bb51"
      },
      "source": [
        "df.languages.value_counts()"
      ],
      "execution_count": null,
      "outputs": [
        {
          "output_type": "execute_result",
          "data": {
            "text/plain": [
              "EN                        2054\n",
              "EN, ZH                      61\n",
              "EN, DE                      56\n",
              "EN, ZH, ZH                  55\n",
              "EN, JA                      48\n",
              "                          ... \n",
              "EN, RU, ES                   1\n",
              "EN, FR, IT, PT, ES, VI       1\n",
              "EN, FR, DE, IT, VI           1\n",
              "EN, JA, TH                   1\n",
              "DA, ZH, ES, ZH               1\n",
              "Name: languages, Length: 336, dtype: int64"
            ]
          },
          "metadata": {
            "tags": []
          },
          "execution_count": 38
        }
      ]
    },
    {
      "cell_type": "code",
      "metadata": {
        "id": "V4K142nydP5R",
        "colab": {
          "base_uri": "https://localhost:8080/"
        },
        "outputId": "b0121922-bcc0-49f5-edf6-48b818927045"
      },
      "source": [
        "df.languages.str.split(', ')"
      ],
      "execution_count": null,
      "outputs": [
        {
          "output_type": "execute_result",
          "data": {
            "text/plain": [
              "ID\n",
              "284921427.0    [DA, NL, EN, FI, FR, DE, IT, JA, KO, NB, PL, P...\n",
              "284926400.0                                                 [EN]\n",
              "284946595.0                                                 [EN]\n",
              "285755462.0    [DA, NL, EN, FI, FR, DE, IT, JA, KO, NB, PL, P...\n",
              "285831220.0    [DA, NL, EN, FR, DE, EL, IT, JA, KO, NO, PT, R...\n",
              "                                     ...                        \n",
              "798515299.0                                                 [EN]\n",
              "799266767.0                                                 [EN]\n",
              "799455799.0                                             [EN, RU]\n",
              "799471892.0                         [EN, FR, DE, PT, RU, ZH, ES]\n",
              "NaN                                                          NaN\n",
              "Name: languages, Length: 3197, dtype: object"
            ]
          },
          "metadata": {
            "tags": []
          },
          "execution_count": 39
        }
      ]
    },
    {
      "cell_type": "code",
      "metadata": {
        "id": "piI7a7QwddEa",
        "colab": {
          "base_uri": "https://localhost:8080/"
        },
        "outputId": "dd02de24-e7df-4dce-c785-52afdd750581"
      },
      "source": [
        "df.languages.str.split(', ').str.len()"
      ],
      "execution_count": null,
      "outputs": [
        {
          "output_type": "execute_result",
          "data": {
            "text/plain": [
              "ID\n",
              "284921427.0    17.0\n",
              "284926400.0     1.0\n",
              "284946595.0     1.0\n",
              "285755462.0    17.0\n",
              "285831220.0    15.0\n",
              "               ... \n",
              "798515299.0     1.0\n",
              "799266767.0     1.0\n",
              "799455799.0     2.0\n",
              "799471892.0     7.0\n",
              "NaN             NaN\n",
              "Name: languages, Length: 3197, dtype: float64"
            ]
          },
          "metadata": {
            "tags": []
          },
          "execution_count": 40
        }
      ]
    },
    {
      "cell_type": "code",
      "metadata": {
        "id": "9kOkDw_YfFPr",
        "colab": {
          "base_uri": "https://localhost:8080/",
          "height": 578
        },
        "outputId": "6c4cac32-1c99-4dc6-8585-4055b25197c9"
      },
      "source": [
        "df['num_lang'] = df.languages.str.split(', ').str.len()\n",
        "df.head()"
      ],
      "execution_count": null,
      "outputs": [
        {
          "output_type": "execute_result",
          "data": {
            "text/html": [
              "<div>\n",
              "<style scoped>\n",
              "    .dataframe tbody tr th:only-of-type {\n",
              "        vertical-align: middle;\n",
              "    }\n",
              "\n",
              "    .dataframe tbody tr th {\n",
              "        vertical-align: top;\n",
              "    }\n",
              "\n",
              "    .dataframe thead th {\n",
              "        text-align: right;\n",
              "    }\n",
              "</style>\n",
              "<table border=\"1\" class=\"dataframe\">\n",
              "  <thead>\n",
              "    <tr style=\"text-align: right;\">\n",
              "      <th></th>\n",
              "      <th>name</th>\n",
              "      <th>average_user_rating</th>\n",
              "      <th>user_rating_count</th>\n",
              "      <th>price</th>\n",
              "      <th>developer</th>\n",
              "      <th>age_rating</th>\n",
              "      <th>languages</th>\n",
              "      <th>size</th>\n",
              "      <th>primary_genre</th>\n",
              "      <th>genres</th>\n",
              "      <th>original_release_date</th>\n",
              "      <th>current_version_release_date</th>\n",
              "      <th>num_lang</th>\n",
              "    </tr>\n",
              "    <tr>\n",
              "      <th>ID</th>\n",
              "      <th></th>\n",
              "      <th></th>\n",
              "      <th></th>\n",
              "      <th></th>\n",
              "      <th></th>\n",
              "      <th></th>\n",
              "      <th></th>\n",
              "      <th></th>\n",
              "      <th></th>\n",
              "      <th></th>\n",
              "      <th></th>\n",
              "      <th></th>\n",
              "      <th></th>\n",
              "    </tr>\n",
              "  </thead>\n",
              "  <tbody>\n",
              "    <tr>\n",
              "      <th>284921427.0</th>\n",
              "      <td>Sudoku</td>\n",
              "      <td>4.0</td>\n",
              "      <td>3553.0</td>\n",
              "      <td>2.99</td>\n",
              "      <td>Mighty Mighty Good Games</td>\n",
              "      <td>4+</td>\n",
              "      <td>DA, NL, EN, FI, FR, DE, IT, JA, KO, NB, PL, PT...</td>\n",
              "      <td>15853568.0</td>\n",
              "      <td>Games</td>\n",
              "      <td>Games, Strategy, Puzzle</td>\n",
              "      <td>11/07/2008</td>\n",
              "      <td>30/05/2017</td>\n",
              "      <td>17.0</td>\n",
              "    </tr>\n",
              "    <tr>\n",
              "      <th>284926400.0</th>\n",
              "      <td>Reversi</td>\n",
              "      <td>3.5</td>\n",
              "      <td>284.0</td>\n",
              "      <td>1.99</td>\n",
              "      <td>Kiss The Machine</td>\n",
              "      <td>4+</td>\n",
              "      <td>EN</td>\n",
              "      <td>12328960.0</td>\n",
              "      <td>Games</td>\n",
              "      <td>Games, Strategy, Board</td>\n",
              "      <td>11/07/2008</td>\n",
              "      <td>17/05/2018</td>\n",
              "      <td>1.0</td>\n",
              "    </tr>\n",
              "    <tr>\n",
              "      <th>284946595.0</th>\n",
              "      <td>Morocco</td>\n",
              "      <td>3.0</td>\n",
              "      <td>8376.0</td>\n",
              "      <td>0.00</td>\n",
              "      <td>Bayou Games</td>\n",
              "      <td>4+</td>\n",
              "      <td>EN</td>\n",
              "      <td>674816.0</td>\n",
              "      <td>Games</td>\n",
              "      <td>Games, Board, Strategy</td>\n",
              "      <td>11/07/2008</td>\n",
              "      <td>5/09/2017</td>\n",
              "      <td>1.0</td>\n",
              "    </tr>\n",
              "    <tr>\n",
              "      <th>285755462.0</th>\n",
              "      <td>Sudoku (Free)</td>\n",
              "      <td>3.5</td>\n",
              "      <td>190394.0</td>\n",
              "      <td>0.00</td>\n",
              "      <td>Mighty Mighty Good Games</td>\n",
              "      <td>4+</td>\n",
              "      <td>DA, NL, EN, FI, FR, DE, IT, JA, KO, NB, PL, PT...</td>\n",
              "      <td>21552128.0</td>\n",
              "      <td>Games</td>\n",
              "      <td>Games, Strategy, Puzzle</td>\n",
              "      <td>23/07/2008</td>\n",
              "      <td>30/05/2017</td>\n",
              "      <td>17.0</td>\n",
              "    </tr>\n",
              "    <tr>\n",
              "      <th>285831220.0</th>\n",
              "      <td>Senet Deluxe</td>\n",
              "      <td>3.5</td>\n",
              "      <td>28.0</td>\n",
              "      <td>2.99</td>\n",
              "      <td>RoGame Software</td>\n",
              "      <td>4+</td>\n",
              "      <td>DA, NL, EN, FR, DE, EL, IT, JA, KO, NO, PT, RU...</td>\n",
              "      <td>34689024.0</td>\n",
              "      <td>Games</td>\n",
              "      <td>Games, Strategy, Board, Education</td>\n",
              "      <td>18/07/2008</td>\n",
              "      <td>22/07/2018</td>\n",
              "      <td>15.0</td>\n",
              "    </tr>\n",
              "  </tbody>\n",
              "</table>\n",
              "</div>"
            ],
            "text/plain": [
              "                      name  ...  num_lang\n",
              "ID                          ...          \n",
              "284921427.0         Sudoku  ...      17.0\n",
              "284926400.0        Reversi  ...       1.0\n",
              "284946595.0        Morocco  ...       1.0\n",
              "285755462.0  Sudoku (Free)  ...      17.0\n",
              "285831220.0   Senet Deluxe  ...      15.0\n",
              "\n",
              "[5 rows x 13 columns]"
            ]
          },
          "metadata": {
            "tags": []
          },
          "execution_count": 41
        }
      ]
    },
    {
      "cell_type": "code",
      "metadata": {
        "id": "2ma3Z25Tl8hz",
        "colab": {
          "base_uri": "https://localhost:8080/"
        },
        "outputId": "a817affd-670b-474e-d234-b0ca3b156cbf"
      },
      "source": [
        "df.num_lang.value_counts()"
      ],
      "execution_count": null,
      "outputs": [
        {
          "output_type": "execute_result",
          "data": {
            "text/plain": [
              "1.0     2069\n",
              "2.0      277\n",
              "3.0      138\n",
              "4.0      106\n",
              "5.0      102\n",
              "6.0       67\n",
              "8.0       45\n",
              "16.0      40\n",
              "9.0       38\n",
              "11.0      34\n",
              "10.0      32\n",
              "7.0       28\n",
              "25.0      28\n",
              "15.0      20\n",
              "13.0      19\n",
              "22.0      18\n",
              "12.0      18\n",
              "30.0      13\n",
              "17.0      12\n",
              "18.0      10\n",
              "31.0      10\n",
              "14.0      10\n",
              "24.0       8\n",
              "26.0       7\n",
              "33.0       6\n",
              "20.0       5\n",
              "32.0       5\n",
              "19.0       4\n",
              "21.0       4\n",
              "29.0       4\n",
              "65.0       4\n",
              "23.0       3\n",
              "36.0       2\n",
              "48.0       1\n",
              "66.0       1\n",
              "27.0       1\n",
              "Name: num_lang, dtype: int64"
            ]
          },
          "metadata": {
            "tags": []
          },
          "execution_count": 42
        }
      ]
    },
    {
      "cell_type": "markdown",
      "metadata": {
        "id": "r7IxIVgl-vA2"
      },
      "source": [
        "### 5. Sprawdzanie braków danych  zobacz nie wszędzie mamy po 17007 a zatem są braki"
      ]
    },
    {
      "cell_type": "code",
      "metadata": {
        "id": "TkjbOw2yn872",
        "colab": {
          "base_uri": "https://localhost:8080/"
        },
        "outputId": "5b65b5db-8357-44bc-9891-8227f1d0d9ac"
      },
      "source": [
        "df.info()"
      ],
      "execution_count": null,
      "outputs": [
        {
          "output_type": "stream",
          "text": [
            "<class 'pandas.core.frame.DataFrame'>\n",
            "Float64Index: 3197 entries, 284921427.0 to nan\n",
            "Data columns (total 13 columns):\n",
            " #   Column                        Non-Null Count  Dtype  \n",
            "---  ------                        --------------  -----  \n",
            " 0   name                          3196 non-null   object \n",
            " 1   average_user_rating           2515 non-null   float64\n",
            " 2   user_rating_count             2515 non-null   float64\n",
            " 3   price                         3196 non-null   float64\n",
            " 4   developer                     3196 non-null   object \n",
            " 5   age_rating                    3196 non-null   object \n",
            " 6   languages                     3189 non-null   object \n",
            " 7   size                          3196 non-null   float64\n",
            " 8   primary_genre                 3196 non-null   object \n",
            " 9   genres                        3196 non-null   object \n",
            " 10  original_release_date         3196 non-null   object \n",
            " 11  current_version_release_date  3196 non-null   object \n",
            " 12  num_lang                      3189 non-null   float64\n",
            "dtypes: float64(5), object(8)\n",
            "memory usage: 349.7+ KB\n"
          ],
          "name": "stdout"
        }
      ]
    },
    {
      "cell_type": "code",
      "metadata": {
        "id": "t6USihlUpJRN",
        "colab": {
          "base_uri": "https://localhost:8080/"
        },
        "outputId": "cbcfa743-9a0b-4180-9f2c-4c536332d189"
      },
      "source": [
        "df.average_user_rating.value_counts()"
      ],
      "execution_count": null,
      "outputs": [
        {
          "output_type": "execute_result",
          "data": {
            "text/plain": [
              "4.5    812\n",
              "4.0    684\n",
              "3.5    442\n",
              "3.0    249\n",
              "2.5    132\n",
              "5.0    123\n",
              "2.0     56\n",
              "1.5     13\n",
              "1.0      4\n",
              "Name: average_user_rating, dtype: int64"
            ]
          },
          "metadata": {
            "tags": []
          },
          "execution_count": 44
        }
      ]
    },
    {
      "cell_type": "code",
      "metadata": {
        "id": "yoP8yTz7pqfY",
        "colab": {
          "base_uri": "https://localhost:8080/"
        },
        "outputId": "590da641-86e1-4118-d873-0121556ff882"
      },
      "source": [
        "df.average_user_rating.value_counts(dropna=False)"
      ],
      "execution_count": null,
      "outputs": [
        {
          "output_type": "execute_result",
          "data": {
            "text/plain": [
              "4.5    812\n",
              "4.0    684\n",
              "NaN    682\n",
              "3.5    442\n",
              "3.0    249\n",
              "2.5    132\n",
              "5.0    123\n",
              "2.0     56\n",
              "1.5     13\n",
              "1.0      4\n",
              "Name: average_user_rating, dtype: int64"
            ]
          },
          "metadata": {
            "tags": []
          },
          "execution_count": 45
        }
      ]
    },
    {
      "cell_type": "markdown",
      "metadata": {
        "id": "qxMJrai4qnUw"
      },
      "source": [
        "Sprawdam czy moje dane zawierają braki - gdzie jest brak "
      ]
    },
    {
      "cell_type": "code",
      "metadata": {
        "id": "FM2Gr1v4q00G",
        "colab": {
          "base_uri": "https://localhost:8080/",
          "height": 470
        },
        "outputId": "d7baa2db-201b-48a4-dce5-b202331f386c"
      },
      "source": [
        "df.isnull()"
      ],
      "execution_count": null,
      "outputs": [
        {
          "output_type": "execute_result",
          "data": {
            "text/html": [
              "<div>\n",
              "<style scoped>\n",
              "    .dataframe tbody tr th:only-of-type {\n",
              "        vertical-align: middle;\n",
              "    }\n",
              "\n",
              "    .dataframe tbody tr th {\n",
              "        vertical-align: top;\n",
              "    }\n",
              "\n",
              "    .dataframe thead th {\n",
              "        text-align: right;\n",
              "    }\n",
              "</style>\n",
              "<table border=\"1\" class=\"dataframe\">\n",
              "  <thead>\n",
              "    <tr style=\"text-align: right;\">\n",
              "      <th></th>\n",
              "      <th>name</th>\n",
              "      <th>average_user_rating</th>\n",
              "      <th>user_rating_count</th>\n",
              "      <th>price</th>\n",
              "      <th>developer</th>\n",
              "      <th>age_rating</th>\n",
              "      <th>languages</th>\n",
              "      <th>size</th>\n",
              "      <th>primary_genre</th>\n",
              "      <th>genres</th>\n",
              "      <th>original_release_date</th>\n",
              "      <th>current_version_release_date</th>\n",
              "      <th>num_lang</th>\n",
              "    </tr>\n",
              "    <tr>\n",
              "      <th>ID</th>\n",
              "      <th></th>\n",
              "      <th></th>\n",
              "      <th></th>\n",
              "      <th></th>\n",
              "      <th></th>\n",
              "      <th></th>\n",
              "      <th></th>\n",
              "      <th></th>\n",
              "      <th></th>\n",
              "      <th></th>\n",
              "      <th></th>\n",
              "      <th></th>\n",
              "      <th></th>\n",
              "    </tr>\n",
              "  </thead>\n",
              "  <tbody>\n",
              "    <tr>\n",
              "      <th>284921427.0</th>\n",
              "      <td>False</td>\n",
              "      <td>False</td>\n",
              "      <td>False</td>\n",
              "      <td>False</td>\n",
              "      <td>False</td>\n",
              "      <td>False</td>\n",
              "      <td>False</td>\n",
              "      <td>False</td>\n",
              "      <td>False</td>\n",
              "      <td>False</td>\n",
              "      <td>False</td>\n",
              "      <td>False</td>\n",
              "      <td>False</td>\n",
              "    </tr>\n",
              "    <tr>\n",
              "      <th>284926400.0</th>\n",
              "      <td>False</td>\n",
              "      <td>False</td>\n",
              "      <td>False</td>\n",
              "      <td>False</td>\n",
              "      <td>False</td>\n",
              "      <td>False</td>\n",
              "      <td>False</td>\n",
              "      <td>False</td>\n",
              "      <td>False</td>\n",
              "      <td>False</td>\n",
              "      <td>False</td>\n",
              "      <td>False</td>\n",
              "      <td>False</td>\n",
              "    </tr>\n",
              "    <tr>\n",
              "      <th>284946595.0</th>\n",
              "      <td>False</td>\n",
              "      <td>False</td>\n",
              "      <td>False</td>\n",
              "      <td>False</td>\n",
              "      <td>False</td>\n",
              "      <td>False</td>\n",
              "      <td>False</td>\n",
              "      <td>False</td>\n",
              "      <td>False</td>\n",
              "      <td>False</td>\n",
              "      <td>False</td>\n",
              "      <td>False</td>\n",
              "      <td>False</td>\n",
              "    </tr>\n",
              "    <tr>\n",
              "      <th>285755462.0</th>\n",
              "      <td>False</td>\n",
              "      <td>False</td>\n",
              "      <td>False</td>\n",
              "      <td>False</td>\n",
              "      <td>False</td>\n",
              "      <td>False</td>\n",
              "      <td>False</td>\n",
              "      <td>False</td>\n",
              "      <td>False</td>\n",
              "      <td>False</td>\n",
              "      <td>False</td>\n",
              "      <td>False</td>\n",
              "      <td>False</td>\n",
              "    </tr>\n",
              "    <tr>\n",
              "      <th>285831220.0</th>\n",
              "      <td>False</td>\n",
              "      <td>False</td>\n",
              "      <td>False</td>\n",
              "      <td>False</td>\n",
              "      <td>False</td>\n",
              "      <td>False</td>\n",
              "      <td>False</td>\n",
              "      <td>False</td>\n",
              "      <td>False</td>\n",
              "      <td>False</td>\n",
              "      <td>False</td>\n",
              "      <td>False</td>\n",
              "      <td>False</td>\n",
              "    </tr>\n",
              "    <tr>\n",
              "      <th>...</th>\n",
              "      <td>...</td>\n",
              "      <td>...</td>\n",
              "      <td>...</td>\n",
              "      <td>...</td>\n",
              "      <td>...</td>\n",
              "      <td>...</td>\n",
              "      <td>...</td>\n",
              "      <td>...</td>\n",
              "      <td>...</td>\n",
              "      <td>...</td>\n",
              "      <td>...</td>\n",
              "      <td>...</td>\n",
              "      <td>...</td>\n",
              "    </tr>\n",
              "    <tr>\n",
              "      <th>798515299.0</th>\n",
              "      <td>False</td>\n",
              "      <td>False</td>\n",
              "      <td>False</td>\n",
              "      <td>False</td>\n",
              "      <td>False</td>\n",
              "      <td>False</td>\n",
              "      <td>False</td>\n",
              "      <td>False</td>\n",
              "      <td>False</td>\n",
              "      <td>False</td>\n",
              "      <td>False</td>\n",
              "      <td>False</td>\n",
              "      <td>False</td>\n",
              "    </tr>\n",
              "    <tr>\n",
              "      <th>799266767.0</th>\n",
              "      <td>False</td>\n",
              "      <td>False</td>\n",
              "      <td>False</td>\n",
              "      <td>False</td>\n",
              "      <td>False</td>\n",
              "      <td>False</td>\n",
              "      <td>False</td>\n",
              "      <td>False</td>\n",
              "      <td>False</td>\n",
              "      <td>False</td>\n",
              "      <td>False</td>\n",
              "      <td>False</td>\n",
              "      <td>False</td>\n",
              "    </tr>\n",
              "    <tr>\n",
              "      <th>799455799.0</th>\n",
              "      <td>False</td>\n",
              "      <td>False</td>\n",
              "      <td>False</td>\n",
              "      <td>False</td>\n",
              "      <td>False</td>\n",
              "      <td>False</td>\n",
              "      <td>False</td>\n",
              "      <td>False</td>\n",
              "      <td>False</td>\n",
              "      <td>False</td>\n",
              "      <td>False</td>\n",
              "      <td>False</td>\n",
              "      <td>False</td>\n",
              "    </tr>\n",
              "    <tr>\n",
              "      <th>799471892.0</th>\n",
              "      <td>False</td>\n",
              "      <td>False</td>\n",
              "      <td>False</td>\n",
              "      <td>False</td>\n",
              "      <td>False</td>\n",
              "      <td>False</td>\n",
              "      <td>False</td>\n",
              "      <td>False</td>\n",
              "      <td>False</td>\n",
              "      <td>False</td>\n",
              "      <td>False</td>\n",
              "      <td>False</td>\n",
              "      <td>False</td>\n",
              "    </tr>\n",
              "    <tr>\n",
              "      <th>NaN</th>\n",
              "      <td>True</td>\n",
              "      <td>True</td>\n",
              "      <td>True</td>\n",
              "      <td>True</td>\n",
              "      <td>True</td>\n",
              "      <td>True</td>\n",
              "      <td>True</td>\n",
              "      <td>True</td>\n",
              "      <td>True</td>\n",
              "      <td>True</td>\n",
              "      <td>True</td>\n",
              "      <td>True</td>\n",
              "      <td>True</td>\n",
              "    </tr>\n",
              "  </tbody>\n",
              "</table>\n",
              "<p>3197 rows × 13 columns</p>\n",
              "</div>"
            ],
            "text/plain": [
              "              name  average_user_rating  ...  current_version_release_date  num_lang\n",
              "ID                                       ...                                        \n",
              "284921427.0  False                False  ...                         False     False\n",
              "284926400.0  False                False  ...                         False     False\n",
              "284946595.0  False                False  ...                         False     False\n",
              "285755462.0  False                False  ...                         False     False\n",
              "285831220.0  False                False  ...                         False     False\n",
              "...            ...                  ...  ...                           ...       ...\n",
              "798515299.0  False                False  ...                         False     False\n",
              "799266767.0  False                False  ...                         False     False\n",
              "799455799.0  False                False  ...                         False     False\n",
              "799471892.0  False                False  ...                         False     False\n",
              "NaN           True                 True  ...                          True      True\n",
              "\n",
              "[3197 rows x 13 columns]"
            ]
          },
          "metadata": {
            "tags": []
          },
          "execution_count": 46
        }
      ]
    },
    {
      "cell_type": "code",
      "metadata": {
        "id": "9X9W6iq8r3Dr",
        "colab": {
          "base_uri": "https://localhost:8080/"
        },
        "outputId": "a3d9a604-e872-4c19-94ab-15e5b0e03dc0"
      },
      "source": [
        "df.isnull().sum()"
      ],
      "execution_count": null,
      "outputs": [
        {
          "output_type": "execute_result",
          "data": {
            "text/plain": [
              "name                              1\n",
              "average_user_rating             682\n",
              "user_rating_count               682\n",
              "price                             1\n",
              "developer                         1\n",
              "age_rating                        1\n",
              "languages                         8\n",
              "size                              1\n",
              "primary_genre                     1\n",
              "genres                            1\n",
              "original_release_date             1\n",
              "current_version_release_date      1\n",
              "num_lang                          8\n",
              "dtype: int64"
            ]
          },
          "metadata": {
            "tags": []
          },
          "execution_count": 48
        }
      ]
    },
    {
      "cell_type": "code",
      "metadata": {
        "id": "xTjx_naZrKis",
        "colab": {
          "base_uri": "https://localhost:8080/"
        },
        "outputId": "094abe92-bbba-4d8b-bcc7-95d20571f3ca"
      },
      "source": [
        "df = df.dropna()\n",
        "df.isnull().sum()"
      ],
      "execution_count": null,
      "outputs": [
        {
          "output_type": "execute_result",
          "data": {
            "text/plain": [
              "name                            0\n",
              "average_user_rating             0\n",
              "user_rating_count               0\n",
              "price                           0\n",
              "developer                       0\n",
              "age_rating                      0\n",
              "languages                       0\n",
              "size                            0\n",
              "primary_genre                   0\n",
              "genres                          0\n",
              "original_release_date           0\n",
              "current_version_release_date    0\n",
              "num_lang                        0\n",
              "dtype: int64"
            ]
          },
          "metadata": {
            "tags": []
          },
          "execution_count": 49
        }
      ]
    },
    {
      "cell_type": "markdown",
      "metadata": {
        "id": "MtfzITHB_Nel"
      },
      "source": [
        "Tylko tyle kolumn - 2510 - jest kompletnych (bez braków danych)"
      ]
    },
    {
      "cell_type": "code",
      "metadata": {
        "colab": {
          "base_uri": "https://localhost:8080/"
        },
        "id": "Wpp-9ASE9oiv",
        "outputId": "c96d0f3b-a024-473b-ea07-ec382c4991df"
      },
      "source": [
        "df.info()"
      ],
      "execution_count": null,
      "outputs": [
        {
          "output_type": "stream",
          "text": [
            "<class 'pandas.core.frame.DataFrame'>\n",
            "Float64Index: 2510 entries, 284921427.0 to 799471892.0\n",
            "Data columns (total 13 columns):\n",
            " #   Column                        Non-Null Count  Dtype  \n",
            "---  ------                        --------------  -----  \n",
            " 0   name                          2510 non-null   object \n",
            " 1   average_user_rating           2510 non-null   float64\n",
            " 2   user_rating_count             2510 non-null   float64\n",
            " 3   price                         2510 non-null   float64\n",
            " 4   developer                     2510 non-null   object \n",
            " 5   age_rating                    2510 non-null   object \n",
            " 6   languages                     2510 non-null   object \n",
            " 7   size                          2510 non-null   float64\n",
            " 8   primary_genre                 2510 non-null   object \n",
            " 9   genres                        2510 non-null   object \n",
            " 10  original_release_date         2510 non-null   object \n",
            " 11  current_version_release_date  2510 non-null   object \n",
            " 12  num_lang                      2510 non-null   float64\n",
            "dtypes: float64(5), object(8)\n",
            "memory usage: 274.5+ KB\n"
          ],
          "name": "stdout"
        }
      ]
    }
  ]
}